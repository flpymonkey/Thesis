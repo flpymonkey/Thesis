{
 "cells": [
  {
   "cell_type": "code",
   "execution_count": 1,
   "metadata": {},
   "outputs": [],
   "source": [
    "# ## install finrl library\n",
    "# !pip install wrds\n",
    "# !pip install quantstats\n",
    "# !pip install torch_geometric\n",
    "# !pip install swig\n",
    "# !pip install -q condacolab\n",
    "# !pip install shimmy\n",
    "# import condacolab\n",
    "# condacolab.install()\n",
    "# !apt-get update -y -qq && apt-get install -y -qq cmake libopenmpi-dev python3-dev zlib1g-dev libgl1-mesa-glx swig\n",
    "# !pip install git+https://github.com/flpymonkey/FinRL_Online_Portfolio_Benchmarks.git"
   ]
  },
  {
   "cell_type": "code",
   "execution_count": 2,
   "metadata": {},
   "outputs": [],
   "source": [
    "import warnings\n",
    "warnings.filterwarnings(\"ignore\")"
   ]
  },
  {
   "cell_type": "code",
   "execution_count": 3,
   "metadata": {},
   "outputs": [],
   "source": [
    "import pandas as pd\n",
    "import numpy as np\n",
    "import matplotlib\n",
    "import matplotlib.pyplot as plt\n",
    "# matplotlib.use('Agg')\n",
    "import datetime\n",
    "\n",
    "%matplotlib inline\n",
    "\n",
    "# from finrl.agents.portfolio_optimization.architectures import EIIE\n",
    "\n",
    "from finrl.plot import backtest_stats, backtest_plot, get_daily_return, get_baseline\n",
    "\n",
    "from pprint import pprint\n",
    "\n",
    "# import sys\n",
    "# sys.path.append(\"../FinRL-Library\")\n",
    "\n",
    "import itertools"
   ]
  },
  {
   "cell_type": "code",
   "execution_count": 4,
   "metadata": {},
   "outputs": [],
   "source": [
    "import os\n",
    "from finrl.main import check_and_make_directories\n",
    "from finrl.config import (\n",
    "    DATA_SAVE_DIR,\n",
    "    TRAINED_MODEL_DIR,\n",
    "    TENSORBOARD_LOG_DIR,\n",
    "    RESULTS_DIR,\n",
    "    INDICATORS,\n",
    "    TRAIN_START_DATE,\n",
    "    TRAIN_END_DATE,\n",
    "    TEST_START_DATE,\n",
    "    TEST_END_DATE,\n",
    "    TRADE_START_DATE,\n",
    "    TRADE_END_DATE,\n",
    ")\n",
    "\n",
    "check_and_make_directories([DATA_SAVE_DIR, TRAINED_MODEL_DIR, TENSORBOARD_LOG_DIR, RESULTS_DIR])"
   ]
  },
  {
   "cell_type": "code",
   "execution_count": null,
   "metadata": {},
   "outputs": [
    {
     "name": "stderr",
     "output_type": "stream",
     "text": [
      "[*********************100%***********************]  1 of 1 completed\n",
      "[*********************100%***********************]  1 of 1 completed\n",
      "[*********************100%***********************]  1 of 1 completed\n",
      "[*********************100%***********************]  1 of 1 completed\n",
      "[*********************100%***********************]  1 of 1 completed\n",
      "[*********************100%***********************]  1 of 1 completed"
     ]
    },
    {
     "name": "stdout",
     "output_type": "stream",
     "text": [
      "Shape of DataFrame:  (22278, 8)\n"
     ]
    },
    {
     "name": "stderr",
     "output_type": "stream",
     "text": [
      "\n"
     ]
    }
   ],
   "source": [
    "TRAIN_START_DATE = '2009-04-01'\n",
    "TRAIN_END_DATE = '2021-12-31'\n",
    "TEST_START_DATE = '2022-01-01'\n",
    "TEST_END_DATE = '2024-01-01'\n",
    "\n",
    "# TRAIN_START_DATE = '2010-01-01'\n",
    "# TRAIN_END_DATE = '2021-10-01'\n",
    "# TEST_START_DATE = '2021-10-01'\n",
    "# TEST_END_DATE = '2023-03-01'\n",
    "\n",
    "TEST_TICKER = [\n",
    "   \"MSFT\",\n",
    "    \"V\",\n",
    "    \"AAPL\",\n",
    "    \"BA\",\n",
    "    \"INTC\",\n",
    "    \"WMT\",\n",
    "]\n",
    "\n",
    "from finrl.meta.preprocessor.yahoodownloader import YahooDownloader\n",
    "from finrl.meta.env_portfolio_optimization.env_portfolio_optimization import PortfolioOptimizationEnv\n",
    "\n",
    "\n",
    "\n",
    "# No time window needed for PPO\n",
    "# TIME_WINDOW = 25\n",
    "COMMISSION_FEE_PERCENT = 0.001\n",
    "INITIAL_CASH = 1000000\n",
    "\n",
    "\n",
    "raw_df = YahooDownloader(start_date = TRAIN_START_DATE,\n",
    "                     end_date = TEST_END_DATE,\n",
    "                     ticker_list = TEST_TICKER).fetch_data()"
   ]
  },
  {
   "cell_type": "code",
   "execution_count": 6,
   "metadata": {},
   "outputs": [
    {
     "name": "stdout",
     "output_type": "stream",
     "text": [
      "             date        open        high         low       close     volume  \\\n",
      "0      2009-04-01    3.717500    3.892857    3.710357    3.274469  589372000   \n",
      "1      2009-04-01   34.520000   35.599998   34.209999   26.850761    9288800   \n",
      "2      2009-04-01   14.770000   15.320000   14.620000    9.507457   75052800   \n",
      "3      2009-04-01   18.230000   19.360001   18.180000   14.301785   96438900   \n",
      "4      2009-04-01   13.687500   14.000000   13.407500   12.129695   44144400   \n",
      "...           ...         ...         ...         ...         ...        ...   \n",
      "22273  2023-12-29  260.670013  262.220001  259.559998  260.660004    3681900   \n",
      "22274  2023-12-29   50.299999   50.570000   49.770000   49.585903   29266500   \n",
      "22275  2023-12-29  376.000000  377.160004  373.480011  373.248871   18723000   \n",
      "22276  2023-12-29  260.570007  261.459991  259.670013  258.375092    4074600   \n",
      "22277  2023-12-29   52.509998   52.693333   52.386665   52.042637   21948300   \n",
      "\n",
      "        tic  day  \n",
      "0      AAPL    2  \n",
      "1        BA    2  \n",
      "2      INTC    2  \n",
      "3      MSFT    2  \n",
      "4         V    2  \n",
      "...     ...  ...  \n",
      "22273    BA    4  \n",
      "22274  INTC    4  \n",
      "22275  MSFT    4  \n",
      "22276     V    4  \n",
      "22277   WMT    4  \n",
      "\n",
      "[22278 rows x 8 columns]\n"
     ]
    }
   ],
   "source": [
    "print(raw_df)\n",
    "processed = raw_df\n",
    "\n",
    "assert processed.notnull().all().all(), \"DataFrame contains null values\""
   ]
  },
  {
   "cell_type": "code",
   "execution_count": 7,
   "metadata": {},
   "outputs": [
    {
     "data": {
      "text/html": [
       "<div>\n",
       "<style scoped>\n",
       "    .dataframe tbody tr th:only-of-type {\n",
       "        vertical-align: middle;\n",
       "    }\n",
       "\n",
       "    .dataframe tbody tr th {\n",
       "        vertical-align: top;\n",
       "    }\n",
       "\n",
       "    .dataframe thead th {\n",
       "        text-align: right;\n",
       "    }\n",
       "</style>\n",
       "<table border=\"1\" class=\"dataframe\">\n",
       "  <thead>\n",
       "    <tr style=\"text-align: right;\">\n",
       "      <th></th>\n",
       "      <th>date</th>\n",
       "      <th>open</th>\n",
       "      <th>high</th>\n",
       "      <th>low</th>\n",
       "      <th>close</th>\n",
       "      <th>volume</th>\n",
       "      <th>tic</th>\n",
       "      <th>day</th>\n",
       "    </tr>\n",
       "  </thead>\n",
       "  <tbody>\n",
       "    <tr>\n",
       "      <th>0</th>\n",
       "      <td>2009-04-01</td>\n",
       "      <td>0.018773</td>\n",
       "      <td>0.019501</td>\n",
       "      <td>0.018834</td>\n",
       "      <td>0.016610</td>\n",
       "      <td>0.313329</td>\n",
       "      <td>AAPL</td>\n",
       "      <td>0.5</td>\n",
       "    </tr>\n",
       "    <tr>\n",
       "      <th>1</th>\n",
       "      <td>2009-04-01</td>\n",
       "      <td>0.077397</td>\n",
       "      <td>0.079819</td>\n",
       "      <td>0.077716</td>\n",
       "      <td>0.062400</td>\n",
       "      <td>0.089997</td>\n",
       "      <td>BA</td>\n",
       "      <td>0.5</td>\n",
       "    </tr>\n",
       "    <tr>\n",
       "      <th>2</th>\n",
       "      <td>2009-04-01</td>\n",
       "      <td>0.216569</td>\n",
       "      <td>0.221100</td>\n",
       "      <td>0.217204</td>\n",
       "      <td>0.153140</td>\n",
       "      <td>0.377145</td>\n",
       "      <td>INTC</td>\n",
       "      <td>0.5</td>\n",
       "    </tr>\n",
       "    <tr>\n",
       "      <th>3</th>\n",
       "      <td>2009-04-01</td>\n",
       "      <td>0.047504</td>\n",
       "      <td>0.050377</td>\n",
       "      <td>0.048075</td>\n",
       "      <td>0.037650</td>\n",
       "      <td>0.302015</td>\n",
       "      <td>MSFT</td>\n",
       "      <td>0.5</td>\n",
       "    </tr>\n",
       "    <tr>\n",
       "      <th>4</th>\n",
       "      <td>2009-04-01</td>\n",
       "      <td>0.052006</td>\n",
       "      <td>0.053181</td>\n",
       "      <td>0.051633</td>\n",
       "      <td>0.046583</td>\n",
       "      <td>0.130785</td>\n",
       "      <td>V</td>\n",
       "      <td>0.5</td>\n",
       "    </tr>\n",
       "    <tr>\n",
       "      <th>...</th>\n",
       "      <td>...</td>\n",
       "      <td>...</td>\n",
       "      <td>...</td>\n",
       "      <td>...</td>\n",
       "      <td>...</td>\n",
       "      <td>...</td>\n",
       "      <td>...</td>\n",
       "      <td>...</td>\n",
       "    </tr>\n",
       "    <tr>\n",
       "      <th>22273</th>\n",
       "      <td>2023-12-29</td>\n",
       "      <td>0.584449</td>\n",
       "      <td>0.587924</td>\n",
       "      <td>0.589654</td>\n",
       "      <td>0.605763</td>\n",
       "      <td>0.035673</td>\n",
       "      <td>BA</td>\n",
       "      <td>1.0</td>\n",
       "    </tr>\n",
       "    <tr>\n",
       "      <th>22274</th>\n",
       "      <td>2023-12-29</td>\n",
       "      <td>0.737537</td>\n",
       "      <td>0.729831</td>\n",
       "      <td>0.739415</td>\n",
       "      <td>0.798699</td>\n",
       "      <td>0.147066</td>\n",
       "      <td>INTC</td>\n",
       "      <td>1.0</td>\n",
       "    </tr>\n",
       "    <tr>\n",
       "      <th>22275</th>\n",
       "      <td>2023-12-29</td>\n",
       "      <td>0.979779</td>\n",
       "      <td>0.981421</td>\n",
       "      <td>0.987624</td>\n",
       "      <td>0.982597</td>\n",
       "      <td>0.058634</td>\n",
       "      <td>MSFT</td>\n",
       "      <td>1.0</td>\n",
       "    </tr>\n",
       "    <tr>\n",
       "      <th>22276</th>\n",
       "      <td>2023-12-29</td>\n",
       "      <td>0.990045</td>\n",
       "      <td>0.993200</td>\n",
       "      <td>1.000000</td>\n",
       "      <td>0.992263</td>\n",
       "      <td>0.012072</td>\n",
       "      <td>V</td>\n",
       "      <td>1.0</td>\n",
       "    </tr>\n",
       "    <tr>\n",
       "      <th>22277</th>\n",
       "      <td>2023-12-29</td>\n",
       "      <td>0.935562</td>\n",
       "      <td>0.930211</td>\n",
       "      <td>0.938213</td>\n",
       "      <td>0.932003</td>\n",
       "      <td>0.090436</td>\n",
       "      <td>WMT</td>\n",
       "      <td>1.0</td>\n",
       "    </tr>\n",
       "  </tbody>\n",
       "</table>\n",
       "<p>22278 rows × 8 columns</p>\n",
       "</div>"
      ],
      "text/plain": [
       "             date      open      high       low     close    volume   tic  day\n",
       "0      2009-04-01  0.018773  0.019501  0.018834  0.016610  0.313329  AAPL  0.5\n",
       "1      2009-04-01  0.077397  0.079819  0.077716  0.062400  0.089997    BA  0.5\n",
       "2      2009-04-01  0.216569  0.221100  0.217204  0.153140  0.377145  INTC  0.5\n",
       "3      2009-04-01  0.047504  0.050377  0.048075  0.037650  0.302015  MSFT  0.5\n",
       "4      2009-04-01  0.052006  0.053181  0.051633  0.046583  0.130785     V  0.5\n",
       "...           ...       ...       ...       ...       ...       ...   ...  ...\n",
       "22273  2023-12-29  0.584449  0.587924  0.589654  0.605763  0.035673    BA  1.0\n",
       "22274  2023-12-29  0.737537  0.729831  0.739415  0.798699  0.147066  INTC  1.0\n",
       "22275  2023-12-29  0.979779  0.981421  0.987624  0.982597  0.058634  MSFT  1.0\n",
       "22276  2023-12-29  0.990045  0.993200  1.000000  0.992263  0.012072     V  1.0\n",
       "22277  2023-12-29  0.935562  0.930211  0.938213  0.932003  0.090436   WMT  1.0\n",
       "\n",
       "[22278 rows x 8 columns]"
      ]
     },
     "execution_count": 7,
     "metadata": {},
     "output_type": "execute_result"
    }
   ],
   "source": [
    "from sklearn.preprocessing import MaxAbsScaler\n",
    "from finrl.meta.preprocessor.preprocessors import GroupByScaler\n",
    "\n",
    "\n",
    "# TODO - we are using the normalized indicators here, is that okay?\n",
    "\n",
    "\n",
    "portfolio_norm_df = GroupByScaler(by=\"tic\", scaler=MaxAbsScaler).fit_transform(processed)\n",
    "portfolio_norm_df"
   ]
  },
  {
   "cell_type": "code",
   "execution_count": 8,
   "metadata": {},
   "outputs": [
    {
     "data": {
      "text/html": [
       "<div>\n",
       "<style scoped>\n",
       "    .dataframe tbody tr th:only-of-type {\n",
       "        vertical-align: middle;\n",
       "    }\n",
       "\n",
       "    .dataframe tbody tr th {\n",
       "        vertical-align: top;\n",
       "    }\n",
       "\n",
       "    .dataframe thead th {\n",
       "        text-align: right;\n",
       "    }\n",
       "</style>\n",
       "<table border=\"1\" class=\"dataframe\">\n",
       "  <thead>\n",
       "    <tr style=\"text-align: right;\">\n",
       "      <th></th>\n",
       "      <th>date</th>\n",
       "      <th>open</th>\n",
       "      <th>high</th>\n",
       "      <th>low</th>\n",
       "      <th>close</th>\n",
       "      <th>volume</th>\n",
       "      <th>day</th>\n",
       "    </tr>\n",
       "    <tr>\n",
       "      <th>tic</th>\n",
       "      <th></th>\n",
       "      <th></th>\n",
       "      <th></th>\n",
       "      <th></th>\n",
       "      <th></th>\n",
       "      <th></th>\n",
       "      <th></th>\n",
       "    </tr>\n",
       "  </thead>\n",
       "  <tbody>\n",
       "    <tr>\n",
       "      <th>AAPL</th>\n",
       "      <td>3713</td>\n",
       "      <td>3713</td>\n",
       "      <td>3713</td>\n",
       "      <td>3713</td>\n",
       "      <td>3713</td>\n",
       "      <td>3713</td>\n",
       "      <td>3713</td>\n",
       "    </tr>\n",
       "    <tr>\n",
       "      <th>BA</th>\n",
       "      <td>3713</td>\n",
       "      <td>3713</td>\n",
       "      <td>3713</td>\n",
       "      <td>3713</td>\n",
       "      <td>3713</td>\n",
       "      <td>3713</td>\n",
       "      <td>3713</td>\n",
       "    </tr>\n",
       "    <tr>\n",
       "      <th>INTC</th>\n",
       "      <td>3713</td>\n",
       "      <td>3713</td>\n",
       "      <td>3713</td>\n",
       "      <td>3713</td>\n",
       "      <td>3713</td>\n",
       "      <td>3713</td>\n",
       "      <td>3713</td>\n",
       "    </tr>\n",
       "    <tr>\n",
       "      <th>MSFT</th>\n",
       "      <td>3713</td>\n",
       "      <td>3713</td>\n",
       "      <td>3713</td>\n",
       "      <td>3713</td>\n",
       "      <td>3713</td>\n",
       "      <td>3713</td>\n",
       "      <td>3713</td>\n",
       "    </tr>\n",
       "    <tr>\n",
       "      <th>V</th>\n",
       "      <td>3713</td>\n",
       "      <td>3713</td>\n",
       "      <td>3713</td>\n",
       "      <td>3713</td>\n",
       "      <td>3713</td>\n",
       "      <td>3713</td>\n",
       "      <td>3713</td>\n",
       "    </tr>\n",
       "    <tr>\n",
       "      <th>WMT</th>\n",
       "      <td>3713</td>\n",
       "      <td>3713</td>\n",
       "      <td>3713</td>\n",
       "      <td>3713</td>\n",
       "      <td>3713</td>\n",
       "      <td>3713</td>\n",
       "      <td>3713</td>\n",
       "    </tr>\n",
       "  </tbody>\n",
       "</table>\n",
       "</div>"
      ],
      "text/plain": [
       "      date  open  high   low  close  volume   day\n",
       "tic                                              \n",
       "AAPL  3713  3713  3713  3713   3713    3713  3713\n",
       "BA    3713  3713  3713  3713   3713    3713  3713\n",
       "INTC  3713  3713  3713  3713   3713    3713  3713\n",
       "MSFT  3713  3713  3713  3713   3713    3713  3713\n",
       "V     3713  3713  3713  3713   3713    3713  3713\n",
       "WMT   3713  3713  3713  3713   3713    3713  3713"
      ]
     },
     "execution_count": 8,
     "metadata": {},
     "output_type": "execute_result"
    }
   ],
   "source": [
    "portfolio_norm_df.groupby(\"tic\").count()"
   ]
  },
  {
   "cell_type": "code",
   "execution_count": 9,
   "metadata": {},
   "outputs": [
    {
     "name": "stdout",
     "output_type": "stream",
     "text": [
      "Stock Dimension: 6\n"
     ]
    }
   ],
   "source": [
    "stock_dimension = len(portfolio_norm_df.tic.unique())\n",
    "print(f\"Stock Dimension: {stock_dimension}\")"
   ]
  },
  {
   "cell_type": "code",
   "execution_count": null,
   "metadata": {},
   "outputs": [
    {
     "data": {
      "text/html": [
       "<div>\n",
       "<style scoped>\n",
       "    .dataframe tbody tr th:only-of-type {\n",
       "        vertical-align: middle;\n",
       "    }\n",
       "\n",
       "    .dataframe tbody tr th {\n",
       "        vertical-align: top;\n",
       "    }\n",
       "\n",
       "    .dataframe thead th {\n",
       "        text-align: right;\n",
       "    }\n",
       "</style>\n",
       "<table border=\"1\" class=\"dataframe\">\n",
       "  <thead>\n",
       "    <tr style=\"text-align: right;\">\n",
       "      <th></th>\n",
       "      <th>date</th>\n",
       "      <th>open</th>\n",
       "      <th>high</th>\n",
       "      <th>low</th>\n",
       "      <th>close</th>\n",
       "      <th>volume</th>\n",
       "      <th>day</th>\n",
       "    </tr>\n",
       "    <tr>\n",
       "      <th>tic</th>\n",
       "      <th></th>\n",
       "      <th></th>\n",
       "      <th></th>\n",
       "      <th></th>\n",
       "      <th></th>\n",
       "      <th></th>\n",
       "      <th></th>\n",
       "    </tr>\n",
       "  </thead>\n",
       "  <tbody>\n",
       "    <tr>\n",
       "      <th>AAPL</th>\n",
       "      <td>3212</td>\n",
       "      <td>3212</td>\n",
       "      <td>3212</td>\n",
       "      <td>3212</td>\n",
       "      <td>3212</td>\n",
       "      <td>3212</td>\n",
       "      <td>3212</td>\n",
       "    </tr>\n",
       "    <tr>\n",
       "      <th>BA</th>\n",
       "      <td>3212</td>\n",
       "      <td>3212</td>\n",
       "      <td>3212</td>\n",
       "      <td>3212</td>\n",
       "      <td>3212</td>\n",
       "      <td>3212</td>\n",
       "      <td>3212</td>\n",
       "    </tr>\n",
       "    <tr>\n",
       "      <th>INTC</th>\n",
       "      <td>3212</td>\n",
       "      <td>3212</td>\n",
       "      <td>3212</td>\n",
       "      <td>3212</td>\n",
       "      <td>3212</td>\n",
       "      <td>3212</td>\n",
       "      <td>3212</td>\n",
       "    </tr>\n",
       "    <tr>\n",
       "      <th>MSFT</th>\n",
       "      <td>3212</td>\n",
       "      <td>3212</td>\n",
       "      <td>3212</td>\n",
       "      <td>3212</td>\n",
       "      <td>3212</td>\n",
       "      <td>3212</td>\n",
       "      <td>3212</td>\n",
       "    </tr>\n",
       "    <tr>\n",
       "      <th>V</th>\n",
       "      <td>3212</td>\n",
       "      <td>3212</td>\n",
       "      <td>3212</td>\n",
       "      <td>3212</td>\n",
       "      <td>3212</td>\n",
       "      <td>3212</td>\n",
       "      <td>3212</td>\n",
       "    </tr>\n",
       "    <tr>\n",
       "      <th>WMT</th>\n",
       "      <td>3212</td>\n",
       "      <td>3212</td>\n",
       "      <td>3212</td>\n",
       "      <td>3212</td>\n",
       "      <td>3212</td>\n",
       "      <td>3212</td>\n",
       "      <td>3212</td>\n",
       "    </tr>\n",
       "  </tbody>\n",
       "</table>\n",
       "</div>"
      ],
      "text/plain": [
       "      date  open  high   low  close  volume   day\n",
       "tic                                              \n",
       "AAPL  3212  3212  3212  3212   3212    3212  3212\n",
       "BA    3212  3212  3212  3212   3212    3212  3212\n",
       "INTC  3212  3212  3212  3212   3212    3212  3212\n",
       "MSFT  3212  3212  3212  3212   3212    3212  3212\n",
       "V     3212  3212  3212  3212   3212    3212  3212\n",
       "WMT   3212  3212  3212  3212   3212    3212  3212"
      ]
     },
     "execution_count": 10,
     "metadata": {},
     "output_type": "execute_result"
    }
   ],
   "source": [
    "df_train = portfolio_norm_df[(portfolio_norm_df[\"date\"] >= TRAIN_START_DATE) & (portfolio_norm_df[\"date\"] <= TRAIN_END_DATE)]\n",
    "df_2021 = portfolio_norm_df[(portfolio_norm_df[\"date\"] >= TEST_START_DATE) & (portfolio_norm_df[\"date\"] <= \"2021-12-31\")]\n",
    "df_2022 = portfolio_norm_df[(portfolio_norm_df[\"date\"] >= \"2022-01-01\") & (portfolio_norm_df[\"date\"] <= \"2022-12-31\")]\n",
    "df_2023 = portfolio_norm_df[(portfolio_norm_df[\"date\"] >= \"2023-01-01\") & (portfolio_norm_df[\"date\"] < TEST_END_DATE)]\n",
    "\n",
    "df_train.groupby(\"tic\").count()"
   ]
  },
  {
   "cell_type": "code",
   "execution_count": null,
   "metadata": {},
   "outputs": [],
   "source": []
  },
  {
   "cell_type": "markdown",
   "metadata": {},
   "source": []
  },
  {
   "cell_type": "code",
   "execution_count": 11,
   "metadata": {},
   "outputs": [],
   "source": [
    "import torch\n",
    "device = 'cuda:0' if torch.cuda.is_available() else 'cpu'"
   ]
  },
  {
   "cell_type": "code",
   "execution_count": null,
   "metadata": {},
   "outputs": [
    {
     "name": "stdout",
     "output_type": "stream",
     "text": [
      "Logging to results/ppo\n"
     ]
    }
   ],
   "source": [
    "# from finrl.meta.env_portfolio_optimization.env_portfolio_optimization import PortfolioOptimizationEnv\n",
    "\n",
    "from finrl.agents.portfolio_optimization.models_stable import DRLStableAgent\n",
    "\n",
    "\n",
    "\n",
    "from stable_baselines3.common.logger import configure\n",
    "# Try also training a PPO agent on this same environment\n",
    "\n",
    "\n",
    "environment = PortfolioOptimizationEnv(\n",
    "        df_train,\n",
    "        initial_amount=INITIAL_CASH,\n",
    "        comission_fee_pct=COMMISSION_FEE_PERCENT,\n",
    "        # time_window=TIME_WINDOW,\n",
    "        features=[\"close\", \"high\", \"low\"], # USE THE BETA INDICATOR\n",
    "        normalize_df=None,\n",
    "        reward_scaling=1e-4,\n",
    "        no_cash=True\n",
    "    )\n",
    "\n",
    "agent_ppo = DRLStableAgent(env = environment)\n",
    "PPO_PARAMS = {\n",
    "    \"n_steps\": 2048,\n",
    "    \"batch_size\": 64,\n",
    "    # \"ent_coef\": 0.01,\n",
    "    \"learning_rate\": 0.00025, # TODO tried raising the lr which caused vanishing problem\n",
    "    \"clip_range\": 0.2\n",
    "}\n",
    "\n",
    "POLICY_PARAMS = {\n",
    "    \"log_std_init\": 1\n",
    "}\n",
    "\n",
    "# Lower clip_range makes the stocks flatter, very conservative policy\n",
    "\n",
    "# TODO try playing around with the number of epochs? n_epochs\n",
    "# TODO try playing around more with the entropy term, make sure agent does enough exploration during training\n",
    "# TODO try playing around more with the clip param here\n",
    "\n",
    "\n",
    "model_ppo = agent_ppo.get_model(\"ppo\", device, model_kwargs=PPO_PARAMS, policy_kwargs=POLICY_PARAMS)\n",
    "\n",
    "# set up logger\n",
    "tmp_path = RESULTS_DIR + '/ppo'\n",
    "new_logger_ppo = configure(tmp_path, [\"stdout\", \"csv\", \"tensorboard\"])\n",
    "# Set new logger\n",
    "model_ppo.set_logger(new_logger_ppo)"
   ]
  },
  {
   "cell_type": "code",
   "execution_count": null,
   "metadata": {},
   "outputs": [
    {
     "name": "stdout",
     "output_type": "stream",
     "text": [
      "Max number of time steps in an episode:  3212\n",
      "-----------------------------\n",
      "| time/              |      |\n",
      "|    fps             | 119  |\n",
      "|    iterations      | 1    |\n",
      "|    time_elapsed    | 17   |\n",
      "|    total_timesteps | 2048 |\n",
      "-----------------------------\n"
     ]
    },
    {
     "data": {
      "text/html": [
       "<pre style=\"white-space:pre;overflow-x:auto;line-height:normal;font-family:Menlo,'DejaVu Sans Mono',consolas,'Courier New',monospace\">=================================\n",
       "</pre>\n"
      ],
      "text/plain": [
       "=================================\n"
      ]
     },
     "metadata": {},
     "output_type": "display_data"
    },
    {
     "data": {
      "text/html": [
       "<pre style=\"white-space:pre;overflow-x:auto;line-height:normal;font-family:Menlo,'DejaVu Sans Mono',consolas,'Courier New',monospace\">Initial portfolio value:1000000\n",
       "</pre>\n"
      ],
      "text/plain": [
       "Initial portfolio value:1000000\n"
      ]
     },
     "metadata": {},
     "output_type": "display_data"
    },
    {
     "data": {
      "text/html": [
       "<pre style=\"white-space:pre;overflow-x:auto;line-height:normal;font-family:Menlo,'DejaVu Sans Mono',consolas,'Courier New',monospace\">Final portfolio value: 359565.9375\n",
       "</pre>\n"
      ],
      "text/plain": [
       "Final portfolio value: 359565.9375\n"
      ]
     },
     "metadata": {},
     "output_type": "display_data"
    },
    {
     "data": {
      "text/html": [
       "<pre style=\"white-space:pre;overflow-x:auto;line-height:normal;font-family:Menlo,'DejaVu Sans Mono',consolas,'Courier New',monospace\">Final accumulative portfolio value: 0.3595659375\n",
       "</pre>\n"
      ],
      "text/plain": [
       "Final accumulative portfolio value: 0.3595659375\n"
      ]
     },
     "metadata": {},
     "output_type": "display_data"
    },
    {
     "data": {
      "text/html": [
       "<pre style=\"white-space:pre;overflow-x:auto;line-height:normal;font-family:Menlo,'DejaVu Sans Mono',consolas,'Courier New',monospace\">Maximum DrawDown: -0.7597281342589067\n",
       "</pre>\n"
      ],
      "text/plain": [
       "Maximum DrawDown: -0.7597281342589067\n"
      ]
     },
     "metadata": {},
     "output_type": "display_data"
    },
    {
     "data": {
      "text/html": [
       "<pre style=\"white-space:pre;overflow-x:auto;line-height:normal;font-family:Menlo,'DejaVu Sans Mono',consolas,'Courier New',monospace\">Sharpe ratio: -0.2611058958585047\n",
       "</pre>\n"
      ],
      "text/plain": [
       "Sharpe ratio: -0.2611058958585047\n"
      ]
     },
     "metadata": {},
     "output_type": "display_data"
    },
    {
     "data": {
      "text/html": [
       "<pre style=\"white-space:pre;overflow-x:auto;line-height:normal;font-family:Menlo,'DejaVu Sans Mono',consolas,'Courier New',monospace\">=================================\n",
       "</pre>\n"
      ],
      "text/plain": [
       "=================================\n"
      ]
     },
     "metadata": {},
     "output_type": "display_data"
    },
    {
     "name": "stdout",
     "output_type": "stream",
     "text": [
      "------------------------------------------\n",
      "| rollout/                |              |\n",
      "|    ep_len_mean          | 3.21e+03     |\n",
      "|    ep_rew_mean          | -0.000103    |\n",
      "| time/                   |              |\n",
      "|    fps                  | 103          |\n",
      "|    iterations           | 2            |\n",
      "|    time_elapsed         | 39           |\n",
      "|    total_timesteps      | 4096         |\n",
      "| train/                  |              |\n",
      "|    approx_kl            | 0.0011134585 |\n",
      "|    clip_fraction        | 0.0272       |\n",
      "|    clip_range           | 0.1          |\n",
      "|    entropy_loss         | -16.9        |\n",
      "|    explained_variance   | 0.81         |\n",
      "|    learning_rate        | 0.00025      |\n",
      "|    loss                 | -0.00128     |\n",
      "|    n_updates            | 10           |\n",
      "|    policy_gradient_loss | -0.00193     |\n",
      "|    std                  | 2.72         |\n",
      "|    value_loss           | 3.29e-05     |\n",
      "------------------------------------------\n",
      "------------------------------------------\n",
      "| rollout/                |              |\n",
      "|    ep_len_mean          | 3.21e+03     |\n",
      "|    ep_rew_mean          | -0.000103    |\n",
      "| time/                   |              |\n",
      "|    fps                  | 100          |\n",
      "|    iterations           | 3            |\n",
      "|    time_elapsed         | 61           |\n",
      "|    total_timesteps      | 6144         |\n",
      "| train/                  |              |\n",
      "|    approx_kl            | 0.0014041672 |\n",
      "|    clip_fraction        | 0.0472       |\n",
      "|    clip_range           | 0.1          |\n",
      "|    entropy_loss         | -17          |\n",
      "|    explained_variance   | 0.892        |\n",
      "|    learning_rate        | 0.00025      |\n",
      "|    loss                 | -0.00185     |\n",
      "|    n_updates            | 20           |\n",
      "|    policy_gradient_loss | -0.00319     |\n",
      "|    std                  | 2.74         |\n",
      "|    value_loss           | 0.00017      |\n",
      "------------------------------------------\n"
     ]
    },
    {
     "data": {
      "text/html": [
       "<pre style=\"white-space:pre;overflow-x:auto;line-height:normal;font-family:Menlo,'DejaVu Sans Mono',consolas,'Courier New',monospace\">=================================\n",
       "</pre>\n"
      ],
      "text/plain": [
       "=================================\n"
      ]
     },
     "metadata": {},
     "output_type": "display_data"
    },
    {
     "data": {
      "text/html": [
       "<pre style=\"white-space:pre;overflow-x:auto;line-height:normal;font-family:Menlo,'DejaVu Sans Mono',consolas,'Courier New',monospace\">Initial portfolio value:1000000\n",
       "</pre>\n"
      ],
      "text/plain": [
       "Initial portfolio value:1000000\n"
      ]
     },
     "metadata": {},
     "output_type": "display_data"
    },
    {
     "data": {
      "text/html": [
       "<pre style=\"white-space:pre;overflow-x:auto;line-height:normal;font-family:Menlo,'DejaVu Sans Mono',consolas,'Courier New',monospace\">Final portfolio value: 292413.75\n",
       "</pre>\n"
      ],
      "text/plain": [
       "Final portfolio value: 292413.75\n"
      ]
     },
     "metadata": {},
     "output_type": "display_data"
    },
    {
     "data": {
      "text/html": [
       "<pre style=\"white-space:pre;overflow-x:auto;line-height:normal;font-family:Menlo,'DejaVu Sans Mono',consolas,'Courier New',monospace\">Final accumulative portfolio value: 0.29241375\n",
       "</pre>\n"
      ],
      "text/plain": [
       "Final accumulative portfolio value: 0.29241375\n"
      ]
     },
     "metadata": {},
     "output_type": "display_data"
    },
    {
     "data": {
      "text/html": [
       "<pre style=\"white-space:pre;overflow-x:auto;line-height:normal;font-family:Menlo,'DejaVu Sans Mono',consolas,'Courier New',monospace\">Maximum DrawDown: -0.7926995857720474\n",
       "</pre>\n"
      ],
      "text/plain": [
       "Maximum DrawDown: -0.7926995857720474\n"
      ]
     },
     "metadata": {},
     "output_type": "display_data"
    },
    {
     "data": {
      "text/html": [
       "<pre style=\"white-space:pre;overflow-x:auto;line-height:normal;font-family:Menlo,'DejaVu Sans Mono',consolas,'Courier New',monospace\">Sharpe ratio: -0.3317116084200024\n",
       "</pre>\n"
      ],
      "text/plain": [
       "Sharpe ratio: -0.3317116084200024\n"
      ]
     },
     "metadata": {},
     "output_type": "display_data"
    },
    {
     "data": {
      "text/html": [
       "<pre style=\"white-space:pre;overflow-x:auto;line-height:normal;font-family:Menlo,'DejaVu Sans Mono',consolas,'Courier New',monospace\">=================================\n",
       "</pre>\n"
      ],
      "text/plain": [
       "=================================\n"
      ]
     },
     "metadata": {},
     "output_type": "display_data"
    },
    {
     "name": "stdout",
     "output_type": "stream",
     "text": [
      "------------------------------------------\n",
      "| rollout/                |              |\n",
      "|    ep_len_mean          | 3.21e+03     |\n",
      "|    ep_rew_mean          | -0.000113    |\n",
      "| time/                   |              |\n",
      "|    fps                  | 97           |\n",
      "|    iterations           | 4            |\n",
      "|    time_elapsed         | 84           |\n",
      "|    total_timesteps      | 8192         |\n",
      "| train/                  |              |\n",
      "|    approx_kl            | 0.0015275001 |\n",
      "|    clip_fraction        | 0.0426       |\n",
      "|    clip_range           | 0.1          |\n",
      "|    entropy_loss         | -17          |\n",
      "|    explained_variance   | 0.959        |\n",
      "|    learning_rate        | 0.00025      |\n",
      "|    loss                 | -0.00697     |\n",
      "|    n_updates            | 30           |\n",
      "|    policy_gradient_loss | -0.00373     |\n",
      "|    std                  | 2.76         |\n",
      "|    value_loss           | 3.09e-05     |\n",
      "------------------------------------------\n"
     ]
    },
    {
     "data": {
      "text/html": [
       "<pre style=\"white-space:pre;overflow-x:auto;line-height:normal;font-family:Menlo,'DejaVu Sans Mono',consolas,'Courier New',monospace\">=================================\n",
       "</pre>\n"
      ],
      "text/plain": [
       "=================================\n"
      ]
     },
     "metadata": {},
     "output_type": "display_data"
    },
    {
     "data": {
      "text/html": [
       "<pre style=\"white-space:pre;overflow-x:auto;line-height:normal;font-family:Menlo,'DejaVu Sans Mono',consolas,'Courier New',monospace\">Initial portfolio value:1000000\n",
       "</pre>\n"
      ],
      "text/plain": [
       "Initial portfolio value:1000000\n"
      ]
     },
     "metadata": {},
     "output_type": "display_data"
    },
    {
     "data": {
      "text/html": [
       "<pre style=\"white-space:pre;overflow-x:auto;line-height:normal;font-family:Menlo,'DejaVu Sans Mono',consolas,'Courier New',monospace\">Final portfolio value: 237275.3125\n",
       "</pre>\n"
      ],
      "text/plain": [
       "Final portfolio value: 237275.3125\n"
      ]
     },
     "metadata": {},
     "output_type": "display_data"
    },
    {
     "data": {
      "text/html": [
       "<pre style=\"white-space:pre;overflow-x:auto;line-height:normal;font-family:Menlo,'DejaVu Sans Mono',consolas,'Courier New',monospace\">Final accumulative portfolio value: 0.2372753125\n",
       "</pre>\n"
      ],
      "text/plain": [
       "Final accumulative portfolio value: 0.2372753125\n"
      ]
     },
     "metadata": {},
     "output_type": "display_data"
    },
    {
     "data": {
      "text/html": [
       "<pre style=\"white-space:pre;overflow-x:auto;line-height:normal;font-family:Menlo,'DejaVu Sans Mono',consolas,'Courier New',monospace\">Maximum DrawDown: -0.8521009326219735\n",
       "</pre>\n"
      ],
      "text/plain": [
       "Maximum DrawDown: -0.8521009326219735\n"
      ]
     },
     "metadata": {},
     "output_type": "display_data"
    },
    {
     "data": {
      "text/html": [
       "<pre style=\"white-space:pre;overflow-x:auto;line-height:normal;font-family:Menlo,'DejaVu Sans Mono',consolas,'Courier New',monospace\">Sharpe ratio: -0.3963663928965545\n",
       "</pre>\n"
      ],
      "text/plain": [
       "Sharpe ratio: -0.3963663928965545\n"
      ]
     },
     "metadata": {},
     "output_type": "display_data"
    },
    {
     "data": {
      "text/html": [
       "<pre style=\"white-space:pre;overflow-x:auto;line-height:normal;font-family:Menlo,'DejaVu Sans Mono',consolas,'Courier New',monospace\">=================================\n",
       "</pre>\n"
      ],
      "text/plain": [
       "=================================\n"
      ]
     },
     "metadata": {},
     "output_type": "display_data"
    },
    {
     "name": "stdout",
     "output_type": "stream",
     "text": [
      "------------------------------------------\n",
      "| rollout/                |              |\n",
      "|    ep_len_mean          | 3.21e+03     |\n",
      "|    ep_rew_mean          | -0.000124    |\n",
      "| time/                   |              |\n",
      "|    fps                  | 95           |\n",
      "|    iterations           | 5            |\n",
      "|    time_elapsed         | 107          |\n",
      "|    total_timesteps      | 10240        |\n",
      "| train/                  |              |\n",
      "|    approx_kl            | 0.0016522184 |\n",
      "|    clip_fraction        | 0.0364       |\n",
      "|    clip_range           | 0.1          |\n",
      "|    entropy_loss         | -17          |\n",
      "|    explained_variance   | 0.882        |\n",
      "|    learning_rate        | 0.00025      |\n",
      "|    loss                 | 0.00124      |\n",
      "|    n_updates            | 40           |\n",
      "|    policy_gradient_loss | -0.00228     |\n",
      "|    std                  | 2.76         |\n",
      "|    value_loss           | 3.92e-05     |\n",
      "------------------------------------------\n",
      "------------------------------------------\n",
      "| rollout/                |              |\n",
      "|    ep_len_mean          | 3.21e+03     |\n",
      "|    ep_rew_mean          | -0.000124    |\n",
      "| time/                   |              |\n",
      "|    fps                  | 97           |\n",
      "|    iterations           | 6            |\n",
      "|    time_elapsed         | 126          |\n",
      "|    total_timesteps      | 12288        |\n",
      "| train/                  |              |\n",
      "|    approx_kl            | 0.0014016429 |\n",
      "|    clip_fraction        | 0.0441       |\n",
      "|    clip_range           | 0.1          |\n",
      "|    entropy_loss         | -17.1        |\n",
      "|    explained_variance   | 0.925        |\n",
      "|    learning_rate        | 0.00025      |\n",
      "|    loss                 | 0.000691     |\n",
      "|    n_updates            | 50           |\n",
      "|    policy_gradient_loss | -0.00311     |\n",
      "|    std                  | 2.77         |\n",
      "|    value_loss           | 3.42e-05     |\n",
      "------------------------------------------\n"
     ]
    },
    {
     "data": {
      "text/html": [
       "<pre style=\"white-space:pre;overflow-x:auto;line-height:normal;font-family:Menlo,'DejaVu Sans Mono',consolas,'Courier New',monospace\">=================================\n",
       "</pre>\n"
      ],
      "text/plain": [
       "=================================\n"
      ]
     },
     "metadata": {},
     "output_type": "display_data"
    },
    {
     "data": {
      "text/html": [
       "<pre style=\"white-space:pre;overflow-x:auto;line-height:normal;font-family:Menlo,'DejaVu Sans Mono',consolas,'Courier New',monospace\">Initial portfolio value:1000000\n",
       "</pre>\n"
      ],
      "text/plain": [
       "Initial portfolio value:1000000\n"
      ]
     },
     "metadata": {},
     "output_type": "display_data"
    },
    {
     "data": {
      "text/html": [
       "<pre style=\"white-space:pre;overflow-x:auto;line-height:normal;font-family:Menlo,'DejaVu Sans Mono',consolas,'Courier New',monospace\">Final portfolio value: 159180.09375\n",
       "</pre>\n"
      ],
      "text/plain": [
       "Final portfolio value: 159180.09375\n"
      ]
     },
     "metadata": {},
     "output_type": "display_data"
    },
    {
     "data": {
      "text/html": [
       "<pre style=\"white-space:pre;overflow-x:auto;line-height:normal;font-family:Menlo,'DejaVu Sans Mono',consolas,'Courier New',monospace\">Final accumulative portfolio value: 0.15918009375\n",
       "</pre>\n"
      ],
      "text/plain": [
       "Final accumulative portfolio value: 0.15918009375\n"
      ]
     },
     "metadata": {},
     "output_type": "display_data"
    },
    {
     "data": {
      "text/html": [
       "<pre style=\"white-space:pre;overflow-x:auto;line-height:normal;font-family:Menlo,'DejaVu Sans Mono',consolas,'Courier New',monospace\">Maximum DrawDown: -0.8968686402892585\n",
       "</pre>\n"
      ],
      "text/plain": [
       "Maximum DrawDown: -0.8968686402892585\n"
      ]
     },
     "metadata": {},
     "output_type": "display_data"
    },
    {
     "data": {
      "text/html": [
       "<pre style=\"white-space:pre;overflow-x:auto;line-height:normal;font-family:Menlo,'DejaVu Sans Mono',consolas,'Courier New',monospace\">Sharpe ratio: -0.5493945635863503\n",
       "</pre>\n"
      ],
      "text/plain": [
       "Sharpe ratio: -0.5493945635863503\n"
      ]
     },
     "metadata": {},
     "output_type": "display_data"
    },
    {
     "data": {
      "text/html": [
       "<pre style=\"white-space:pre;overflow-x:auto;line-height:normal;font-family:Menlo,'DejaVu Sans Mono',consolas,'Courier New',monospace\">=================================\n",
       "</pre>\n"
      ],
      "text/plain": [
       "=================================\n"
      ]
     },
     "metadata": {},
     "output_type": "display_data"
    },
    {
     "name": "stdout",
     "output_type": "stream",
     "text": [
      "------------------------------------------\n",
      "| rollout/                |              |\n",
      "|    ep_len_mean          | 3.21e+03     |\n",
      "|    ep_rew_mean          | -0.000139    |\n",
      "| time/                   |              |\n",
      "|    fps                  | 96           |\n",
      "|    iterations           | 7            |\n",
      "|    time_elapsed         | 147          |\n",
      "|    total_timesteps      | 14336        |\n",
      "| train/                  |              |\n",
      "|    approx_kl            | 0.0014161419 |\n",
      "|    clip_fraction        | 0.0302       |\n",
      "|    clip_range           | 0.1          |\n",
      "|    entropy_loss         | -17.1        |\n",
      "|    explained_variance   | 0.939        |\n",
      "|    learning_rate        | 0.00025      |\n",
      "|    loss                 | -0.00886     |\n",
      "|    n_updates            | 60           |\n",
      "|    policy_gradient_loss | -0.00204     |\n",
      "|    std                  | 2.76         |\n",
      "|    value_loss           | 7.61e-06     |\n",
      "------------------------------------------\n"
     ]
    },
    {
     "data": {
      "text/html": [
       "<pre style=\"white-space:pre;overflow-x:auto;line-height:normal;font-family:Menlo,'DejaVu Sans Mono',consolas,'Courier New',monospace\">=================================\n",
       "</pre>\n"
      ],
      "text/plain": [
       "=================================\n"
      ]
     },
     "metadata": {},
     "output_type": "display_data"
    },
    {
     "data": {
      "text/html": [
       "<pre style=\"white-space:pre;overflow-x:auto;line-height:normal;font-family:Menlo,'DejaVu Sans Mono',consolas,'Courier New',monospace\">Initial portfolio value:1000000\n",
       "</pre>\n"
      ],
      "text/plain": [
       "Initial portfolio value:1000000\n"
      ]
     },
     "metadata": {},
     "output_type": "display_data"
    },
    {
     "data": {
      "text/html": [
       "<pre style=\"white-space:pre;overflow-x:auto;line-height:normal;font-family:Menlo,'DejaVu Sans Mono',consolas,'Courier New',monospace\">Final portfolio value: 194719.96875\n",
       "</pre>\n"
      ],
      "text/plain": [
       "Final portfolio value: 194719.96875\n"
      ]
     },
     "metadata": {},
     "output_type": "display_data"
    },
    {
     "data": {
      "text/html": [
       "<pre style=\"white-space:pre;overflow-x:auto;line-height:normal;font-family:Menlo,'DejaVu Sans Mono',consolas,'Courier New',monospace\">Final accumulative portfolio value: 0.19471996875\n",
       "</pre>\n"
      ],
      "text/plain": [
       "Final accumulative portfolio value: 0.19471996875\n"
      ]
     },
     "metadata": {},
     "output_type": "display_data"
    },
    {
     "data": {
      "text/html": [
       "<pre style=\"white-space:pre;overflow-x:auto;line-height:normal;font-family:Menlo,'DejaVu Sans Mono',consolas,'Courier New',monospace\">Maximum DrawDown: -0.8769620734499068\n",
       "</pre>\n"
      ],
      "text/plain": [
       "Maximum DrawDown: -0.8769620734499068\n"
      ]
     },
     "metadata": {},
     "output_type": "display_data"
    },
    {
     "data": {
      "text/html": [
       "<pre style=\"white-space:pre;overflow-x:auto;line-height:normal;font-family:Menlo,'DejaVu Sans Mono',consolas,'Courier New',monospace\">Sharpe ratio: -0.4874902463298576\n",
       "</pre>\n"
      ],
      "text/plain": [
       "Sharpe ratio: -0.4874902463298576\n"
      ]
     },
     "metadata": {},
     "output_type": "display_data"
    },
    {
     "data": {
      "text/html": [
       "<pre style=\"white-space:pre;overflow-x:auto;line-height:normal;font-family:Menlo,'DejaVu Sans Mono',consolas,'Courier New',monospace\">=================================\n",
       "</pre>\n"
      ],
      "text/plain": [
       "=================================\n"
      ]
     },
     "metadata": {},
     "output_type": "display_data"
    },
    {
     "name": "stdout",
     "output_type": "stream",
     "text": [
      "------------------------------------------\n",
      "| rollout/                |              |\n",
      "|    ep_len_mean          | 3.21e+03     |\n",
      "|    ep_rew_mean          | -0.000144    |\n",
      "| time/                   |              |\n",
      "|    fps                  | 97           |\n",
      "|    iterations           | 8            |\n",
      "|    time_elapsed         | 168          |\n",
      "|    total_timesteps      | 16384        |\n",
      "| train/                  |              |\n",
      "|    approx_kl            | 0.0013480287 |\n",
      "|    clip_fraction        | 0.0362       |\n",
      "|    clip_range           | 0.1          |\n",
      "|    entropy_loss         | -17.1        |\n",
      "|    explained_variance   | 0.93         |\n",
      "|    learning_rate        | 0.00025      |\n",
      "|    loss                 | 0.005        |\n",
      "|    n_updates            | 70           |\n",
      "|    policy_gradient_loss | -0.00162     |\n",
      "|    std                  | 2.77         |\n",
      "|    value_loss           | 1.29e-05     |\n",
      "------------------------------------------\n"
     ]
    },
    {
     "data": {
      "text/html": [
       "<pre style=\"white-space:pre;overflow-x:auto;line-height:normal;font-family:Menlo,'DejaVu Sans Mono',consolas,'Courier New',monospace\"></pre>\n"
      ],
      "text/plain": []
     },
     "metadata": {},
     "output_type": "display_data"
    }
   ],
   "source": [
    "# Once optimal policy is learned it shouldnt be stochastic, giventhe state\n",
    "\n",
    "model_ppo = DRLStableAgent.train_model(model_ppo, env=environment, episodes=5)\n",
    "\n",
    "from finrl.config import TRAINED_MODEL_DIR\n",
    "\n",
    "model_ppo.save(TRAINED_MODEL_DIR + \"/agent_opt_ppo_update\")"
   ]
  },
  {
   "cell_type": "code",
   "execution_count": null,
   "metadata": {},
   "outputs": [],
   "source": []
  },
  {
   "cell_type": "code",
   "execution_count": 14,
   "metadata": {},
   "outputs": [
    {
     "name": "stdout",
     "output_type": "stream",
     "text": [
      "-1\n",
      "Empty DataFrame\n",
      "Columns: [date, open, high, low, close, volume, tic, day]\n",
      "Index: []\n"
     ]
    }
   ],
   "source": [
    "print(len(df_2021.index.unique()) - 1)\n",
    "print(df_2021)"
   ]
  },
  {
   "cell_type": "code",
   "execution_count": 15,
   "metadata": {},
   "outputs": [
    {
     "ename": "IndexError",
     "evalue": "list index out of range",
     "output_type": "error",
     "traceback": [
      "\u001b[1;31m---------------------------------------------------------------------------\u001b[0m",
      "\u001b[1;31mIndexError\u001b[0m                                Traceback (most recent call last)",
      "Cell \u001b[1;32mIn[15], line 10\u001b[0m\n\u001b[0;32m      1\u001b[0m PPO_results \u001b[38;5;241m=\u001b[39m {\n\u001b[0;32m      2\u001b[0m     \u001b[38;5;124m\"\u001b[39m\u001b[38;5;124mdate\u001b[39m\u001b[38;5;124m\"\u001b[39m: environment\u001b[38;5;241m.\u001b[39m_terminal_date_memory,\n\u001b[0;32m      3\u001b[0m     \u001b[38;5;124m\"\u001b[39m\u001b[38;5;124mtraining\u001b[39m\u001b[38;5;124m\"\u001b[39m: environment\u001b[38;5;241m.\u001b[39m_terminal_asset_memory[\u001b[38;5;124m\"\u001b[39m\u001b[38;5;124mfinal\u001b[39m\u001b[38;5;124m\"\u001b[39m],\n\u001b[1;32m   (...)\u001b[0m\n\u001b[0;32m      6\u001b[0m     \u001b[38;5;124m\"\u001b[39m\u001b[38;5;124m2023\u001b[39m\u001b[38;5;124m\"\u001b[39m: {}\n\u001b[0;32m      7\u001b[0m }\n\u001b[1;32m---> 10\u001b[0m environment_2021 \u001b[38;5;241m=\u001b[39m \u001b[43mPortfolioOptimizationEnv\u001b[49m\u001b[43m(\u001b[49m\n\u001b[0;32m     11\u001b[0m \u001b[43m    \u001b[49m\u001b[43mdf_2021\u001b[49m\u001b[43m,\u001b[49m\n\u001b[0;32m     12\u001b[0m \u001b[43m    \u001b[49m\u001b[43minitial_amount\u001b[49m\u001b[38;5;241;43m=\u001b[39;49m\u001b[43mINITIAL_CASH\u001b[49m\u001b[43m,\u001b[49m\n\u001b[0;32m     13\u001b[0m \u001b[43m    \u001b[49m\u001b[43mcomission_fee_pct\u001b[49m\u001b[38;5;241;43m=\u001b[39;49m\u001b[43mCOMMISSION_FEE_PERCENT\u001b[49m\u001b[43m,\u001b[49m\n\u001b[0;32m     14\u001b[0m \u001b[43m    \u001b[49m\u001b[38;5;66;43;03m# time_window=TIME_WINDOW,\u001b[39;49;00m\n\u001b[0;32m     15\u001b[0m \u001b[43m    \u001b[49m\u001b[43mfeatures\u001b[49m\u001b[38;5;241;43m=\u001b[39;49m\u001b[43m[\u001b[49m\u001b[38;5;124;43m\"\u001b[39;49m\u001b[38;5;124;43mclose\u001b[39;49m\u001b[38;5;124;43m\"\u001b[39;49m\u001b[43m,\u001b[49m\u001b[43m \u001b[49m\u001b[38;5;124;43m\"\u001b[39;49m\u001b[38;5;124;43mhigh\u001b[39;49m\u001b[38;5;124;43m\"\u001b[39;49m\u001b[43m,\u001b[49m\u001b[43m \u001b[49m\u001b[38;5;124;43m\"\u001b[39;49m\u001b[38;5;124;43mlow\u001b[39;49m\u001b[38;5;124;43m\"\u001b[39;49m\u001b[43m]\u001b[49m\u001b[43m,\u001b[49m\n\u001b[0;32m     16\u001b[0m \u001b[43m    \u001b[49m\u001b[43mnormalize_df\u001b[49m\u001b[38;5;241;43m=\u001b[39;49m\u001b[38;5;28;43;01mNone\u001b[39;49;00m\u001b[43m,\u001b[49m\n\u001b[0;32m     17\u001b[0m \u001b[43m        \u001b[49m\u001b[43mreward_scaling\u001b[49m\u001b[38;5;241;43m=\u001b[39;49m\u001b[38;5;241;43m1e-4\u001b[39;49m\u001b[43m,\u001b[49m\n\u001b[0;32m     18\u001b[0m \u001b[43m    \u001b[49m\u001b[43mno_cash\u001b[49m\u001b[38;5;241;43m=\u001b[39;49m\u001b[38;5;28;43;01mTrue\u001b[39;49;00m\n\u001b[0;32m     19\u001b[0m \u001b[43m)\u001b[49m\n\u001b[0;32m     22\u001b[0m environment_2022 \u001b[38;5;241m=\u001b[39m PortfolioOptimizationEnv(\n\u001b[0;32m     23\u001b[0m     df_2022,\n\u001b[0;32m     24\u001b[0m     initial_amount\u001b[38;5;241m=\u001b[39mINITIAL_CASH,\n\u001b[1;32m   (...)\u001b[0m\n\u001b[0;32m     30\u001b[0m     no_cash\u001b[38;5;241m=\u001b[39m\u001b[38;5;28;01mTrue\u001b[39;00m\n\u001b[0;32m     31\u001b[0m )\n\u001b[0;32m     33\u001b[0m environment_2023 \u001b[38;5;241m=\u001b[39m PortfolioOptimizationEnv(\n\u001b[0;32m     34\u001b[0m     df_2023,\n\u001b[0;32m     35\u001b[0m     initial_amount\u001b[38;5;241m=\u001b[39mINITIAL_CASH,\n\u001b[1;32m   (...)\u001b[0m\n\u001b[0;32m     41\u001b[0m     no_cash\u001b[38;5;241m=\u001b[39m\u001b[38;5;28;01mTrue\u001b[39;00m\n\u001b[0;32m     42\u001b[0m )\n",
      "File \u001b[1;32mc:\\Users\\bencj\\Desktop\\Econ4\\Thesis\\.venv\\lib\\site-packages\\finrl\\meta\\env_portfolio_optimization\\env_portfolio_optimization.py:198\u001b[0m, in \u001b[0;36mPortfolioOptimizationEnv.__init__\u001b[1;34m(self, df, initial_amount, order_df, return_last_action, normalize_df, reward_scaling, comission_fee_model, comission_fee_pct, features, valuation_feature, time_column, time_format, tic_column, tics_in_portfolio, time_window, cwd, new_gym_api, no_cash)\u001b[0m\n\u001b[0;32m    189\u001b[0m \u001b[38;5;28;01melse\u001b[39;00m:\n\u001b[0;32m    190\u001b[0m     \u001b[38;5;66;03m# if information about last action is not relevant,\u001b[39;00m\n\u001b[0;32m    191\u001b[0m     \u001b[38;5;66;03m# a 3D observation space is defined\u001b[39;00m\n\u001b[0;32m    192\u001b[0m     \u001b[38;5;28mself\u001b[39m\u001b[38;5;241m.\u001b[39mobservation_space \u001b[38;5;241m=\u001b[39m spaces\u001b[38;5;241m.\u001b[39mBox(\n\u001b[0;32m    193\u001b[0m         low\u001b[38;5;241m=\u001b[39m\u001b[38;5;241m-\u001b[39mnp\u001b[38;5;241m.\u001b[39minf,\n\u001b[0;32m    194\u001b[0m         high\u001b[38;5;241m=\u001b[39mnp\u001b[38;5;241m.\u001b[39minf,\n\u001b[0;32m    195\u001b[0m         shape\u001b[38;5;241m=\u001b[39m(\u001b[38;5;28mlen\u001b[39m(\u001b[38;5;28mself\u001b[39m\u001b[38;5;241m.\u001b[39m_features), \u001b[38;5;28mlen\u001b[39m(\u001b[38;5;28mself\u001b[39m\u001b[38;5;241m.\u001b[39m_tic_list), \u001b[38;5;28mself\u001b[39m\u001b[38;5;241m.\u001b[39m_time_window),\n\u001b[0;32m    196\u001b[0m     )\n\u001b[1;32m--> 198\u001b[0m \u001b[38;5;28;43mself\u001b[39;49m\u001b[38;5;241;43m.\u001b[39;49m\u001b[43m_reset_memory\u001b[49m\u001b[43m(\u001b[49m\u001b[43m)\u001b[49m\n\u001b[0;32m    200\u001b[0m \u001b[38;5;28mself\u001b[39m\u001b[38;5;241m.\u001b[39m_portfolio_value \u001b[38;5;241m=\u001b[39m \u001b[38;5;28mself\u001b[39m\u001b[38;5;241m.\u001b[39m_initial_amount\n\u001b[0;32m    201\u001b[0m \u001b[38;5;28mself\u001b[39m\u001b[38;5;241m.\u001b[39m_terminal \u001b[38;5;241m=\u001b[39m \u001b[38;5;28;01mFalse\u001b[39;00m\n",
      "File \u001b[1;32mc:\\Users\\bencj\\Desktop\\Econ4\\Thesis\\.venv\\lib\\site-packages\\finrl\\meta\\env_portfolio_optimization\\env_portfolio_optimization.py:564\u001b[0m, in \u001b[0;36mPortfolioOptimizationEnv._reset_memory\u001b[1;34m(self)\u001b[0m\n\u001b[0;32m    562\u001b[0m \u001b[38;5;28;01mdef\u001b[39;00m \u001b[38;5;21m_reset_memory\u001b[39m(\u001b[38;5;28mself\u001b[39m):\n\u001b[0;32m    563\u001b[0m \u001b[38;5;250m    \u001b[39m\u001b[38;5;124;03m\"\"\"Resets the environment's memory.\"\"\"\u001b[39;00m\n\u001b[1;32m--> 564\u001b[0m     date_time \u001b[38;5;241m=\u001b[39m \u001b[38;5;28;43mself\u001b[39;49m\u001b[38;5;241;43m.\u001b[39;49m\u001b[43m_sorted_times\u001b[49m\u001b[43m[\u001b[49m\u001b[38;5;28;43mself\u001b[39;49m\u001b[38;5;241;43m.\u001b[39;49m\u001b[43m_time_index\u001b[49m\u001b[43m]\u001b[49m\n\u001b[0;32m    565\u001b[0m     \u001b[38;5;66;03m# memorize portfolio value each step\u001b[39;00m\n\u001b[0;32m    566\u001b[0m     \u001b[38;5;28mself\u001b[39m\u001b[38;5;241m.\u001b[39m_asset_memory \u001b[38;5;241m=\u001b[39m {\n\u001b[0;32m    567\u001b[0m         \u001b[38;5;124m\"\u001b[39m\u001b[38;5;124minitial\u001b[39m\u001b[38;5;124m\"\u001b[39m: [\u001b[38;5;28mself\u001b[39m\u001b[38;5;241m.\u001b[39m_initial_amount],\n\u001b[0;32m    568\u001b[0m         \u001b[38;5;124m\"\u001b[39m\u001b[38;5;124mfinal\u001b[39m\u001b[38;5;124m\"\u001b[39m: [\u001b[38;5;28mself\u001b[39m\u001b[38;5;241m.\u001b[39m_initial_amount],\n\u001b[0;32m    569\u001b[0m     }\n",
      "\u001b[1;31mIndexError\u001b[0m: list index out of range"
     ]
    }
   ],
   "source": [
    "PPO_results = {\n",
    "    \"date\": environment._terminal_date_memory,\n",
    "    \"training\": environment._terminal_asset_memory[\"final\"],\n",
    "    \"2021\": {},\n",
    "    \"2022\": {},\n",
    "    \"2023\": {}\n",
    "}\n",
    "\n",
    "\n",
    "environment_2021 = PortfolioOptimizationEnv(\n",
    "    df_2021,\n",
    "    initial_amount=INITIAL_CASH,\n",
    "    comission_fee_pct=COMMISSION_FEE_PERCENT,\n",
    "    # time_window=TIME_WINDOW,\n",
    "    features=[\"close\", \"high\", \"low\"],\n",
    "    normalize_df=None,\n",
    "        reward_scaling=1e-4,\n",
    "    no_cash=True\n",
    ")\n",
    "\n",
    "\n",
    "environment_2022 = PortfolioOptimizationEnv(\n",
    "    df_2022,\n",
    "    initial_amount=INITIAL_CASH,\n",
    "    comission_fee_pct=COMMISSION_FEE_PERCENT,\n",
    "    # time_window=TIME_WINDOW,\n",
    "    features=[\"close\", \"high\", \"low\"],\n",
    "    normalize_df=None,\n",
    "        reward_scaling=1e-4,\n",
    "    no_cash=True\n",
    ")\n",
    "\n",
    "environment_2023 = PortfolioOptimizationEnv(\n",
    "    df_2023,\n",
    "    initial_amount=INITIAL_CASH,\n",
    "    comission_fee_pct=COMMISSION_FEE_PERCENT,\n",
    "    # time_window=TIME_WINDOW,\n",
    "    features=[\"close\", \"high\", \"low\"],\n",
    "    normalize_df=None,\n",
    "        reward_scaling=1e-4,\n",
    "    no_cash=True\n",
    ")\n",
    "\n",
    "\n",
    "print(model_ppo._num_timesteps_at_start)\n",
    "\n",
    "# 2021\n",
    "values, dates = DRLStableAgent.DRL_prediction(model_ppo, environment_2021)\n",
    "PPO_results[\"2021\"][\"value\"] = environment_2021._terminal_asset_memory[\"final\"]\n",
    "PPO_results[\"2021\"][\"date\"] = environment_2021._terminal_date_memory\n",
    "\n",
    "\n",
    "# 2022\n",
    "values, dates = DRLStableAgent.DRL_prediction(model_ppo, environment_2022)\n",
    "PPO_results[\"2022\"][\"value\"] = environment_2022._terminal_asset_memory[\"final\"]\n",
    "PPO_results[\"2022\"][\"date\"] = environment_2022._terminal_date_memory\n",
    "\n",
    "# # 2023\n",
    "# DRLStableAgent.DRL_prediction(model_ppo, environment_2023)\n",
    "# PPO_results[\"2023\"][\"value\"] = environment_2023._asset_memory[\"final\"]\n",
    "# PPO_results[\"2023\"][\"date\"] = environment_2023._date_memory"
   ]
  },
  {
   "cell_type": "code",
   "execution_count": null,
   "metadata": {},
   "outputs": [],
   "source": [
    "print(len(df_2021['date'].unique()) - 1)\n",
    "\n",
    "print(len(PPO_results['date']))"
   ]
  },
  {
   "cell_type": "code",
   "execution_count": null,
   "metadata": {},
   "outputs": [],
   "source": [
    "import matplotlib.pyplot as plt\n",
    "%matplotlib inline \n",
    "\n",
    "plt.plot(PPO_results[\"date\"], PPO_results[\"training\"], label=\"PPO\")\n",
    "\n",
    "plt.xlabel(\"Days\")\n",
    "plt.ylabel(\"Portfolio Value\")\n",
    "plt.title(\"Performance in training period\")\n",
    "plt.legend()\n",
    "\n",
    "plt.show()"
   ]
  },
  {
   "cell_type": "code",
   "execution_count": null,
   "metadata": {},
   "outputs": [],
   "source": [
    "UBAH_results = {\n",
    "    \"train\": {},\n",
    "    \"2021\": {},\n",
    "    \"2022\": {},\n",
    "    \"2023\": {},\n",
    "}\n",
    "\n",
    "PORTFOLIO_SIZE = len(TEST_TICKER)\n",
    "\n",
    "\n",
    "\n",
    "# This is the CRP strategy NOT Buy and hold \n",
    "# train period\n",
    "terminated = False\n",
    "environment.reset()\n",
    "while not terminated:\n",
    "    action = [0] + [1/PORTFOLIO_SIZE] * PORTFOLIO_SIZE\n",
    "    _, _, terminated, _ = environment.step(action)\n",
    "UBAH_results[\"train\"][\"value\"] = environment._terminal_asset_memory[\"final\"]\n",
    "UBAH_results[\"train\"][\"date\"] = environment._terminal_date_memory\n",
    "\n",
    "# 2021\n",
    "terminated = False\n",
    "environment_2021.reset()\n",
    "while not terminated:\n",
    "    action = [0] + [1/PORTFOLIO_SIZE] * PORTFOLIO_SIZE\n",
    "    _, _, terminated, _ = environment_2021.step(action)\n",
    "UBAH_results[\"2021\"][\"value\"] = environment_2021._terminal_asset_memory[\"final\"]\n",
    "UBAH_results[\"2021\"][\"date\"] = environment_2021._terminal_date_memory\n",
    "\n",
    "# 2022\n",
    "terminated = False\n",
    "environment_2022.reset()\n",
    "while not terminated:\n",
    "    action = [0] + [1/PORTFOLIO_SIZE] * PORTFOLIO_SIZE\n",
    "    _, _, terminated, _ = environment_2022.step(action)\n",
    "UBAH_results[\"2022\"][\"value\"] = environment_2022._terminal_asset_memory[\"final\"]\n",
    "UBAH_results[\"2022\"][\"date\"] = environment_2022._terminal_date_memory\n",
    "\n",
    "# # 2023\n",
    "# terminated = False\n",
    "# environment_2023.reset()\n",
    "# while not terminated:\n",
    "#     action = [0] + [1/PORTFOLIO_SIZE] * PORTFOLIO_SIZE\n",
    "#     _, _, terminated, _ = environment_2023.step(action)\n",
    "# UBAH_results[\"2023\"][\"value\"] = environment_2023._terminal_asset_memory[\"final\"]\n",
    "# UBAH_results[\"2023\"][\"date\"] = environment_2023._terminal_date_memory"
   ]
  },
  {
   "cell_type": "code",
   "execution_count": null,
   "metadata": {},
   "outputs": [],
   "source": [
    "import matplotlib.pyplot as plt\n",
    "%matplotlib inline \n",
    "\n",
    "plt.plot(UBAH_results[\"train\"][\"date\"], UBAH_results[\"train\"][\"value\"], label=\"Buy and Hold\")\n",
    "plt.plot(PPO_results[\"date\"], PPO_results[\"training\"], label=\"PPO\")\n",
    "\n",
    "plt.xlabel(\"Days\")\n",
    "plt.ylabel(\"Portfolio Value\")\n",
    "plt.title(\"Performance in training period\")\n",
    "plt.legend()\n",
    "\n",
    "plt.show()"
   ]
  },
  {
   "cell_type": "code",
   "execution_count": null,
   "metadata": {},
   "outputs": [],
   "source": [
    "plt.plot(UBAH_results[\"2021\"][\"date\"], UBAH_results[\"2021\"][\"value\"], label=\"Buy and Hold\")\n",
    "plt.plot(PPO_results[\"2021\"][\"date\"], PPO_results[\"2021\"][\"value\"], label=\"PPO\")\n",
    "\n",
    "plt.xlabel(\"Days\")\n",
    "plt.ylabel(\"Portfolio Value\")\n",
    "plt.title(\"Performance in 2021\")\n",
    "plt.legend()\n",
    "\n",
    "plt.show()"
   ]
  },
  {
   "cell_type": "code",
   "execution_count": null,
   "metadata": {},
   "outputs": [],
   "source": [
    "plt.plot(UBAH_results[\"2022\"][\"date\"], UBAH_results[\"2022\"][\"value\"], label=\"Buy and Hold\")\n",
    "plt.plot(PPO_results[\"2022\"][\"date\"], PPO_results[\"2022\"][\"value\"], label=\"PPO\")\n",
    "\n",
    "plt.xlabel(\"Days\")\n",
    "plt.ylabel(\"Portfolio Value\")\n",
    "plt.title(\"Performance in 2022\")\n",
    "plt.legend()\n",
    "\n",
    "plt.show()"
   ]
  },
  {
   "cell_type": "code",
   "execution_count": null,
   "metadata": {},
   "outputs": [],
   "source": [
    "# plt.plot(UBAH_results[\"2023\"][\"date\"], UBAH_results[\"2023\"][\"value\"], label=\"Buy and Hold\")\n",
    "# plt.plot(PPO_results[\"2023\"][\"date\"], PPO_results[\"2023\"][\"value\"], label=\"PPO\")\n",
    "\n",
    "# plt.xlabel(\"Days\")\n",
    "# plt.ylabel(\"Portfolio Value\")\n",
    "# plt.title(\"Performance in 2023\")\n",
    "# plt.legend()\n",
    "\n",
    "# plt.show()"
   ]
  },
  {
   "cell_type": "code",
   "execution_count": null,
   "metadata": {},
   "outputs": [],
   "source": [
    "# import shutil\n",
    "# shutil.make_archive('train', 'zip', '../content')\n",
    "\n",
    "# from google.colab import files\n",
    "# files.download(\"train.zip\")"
   ]
  }
 ],
 "metadata": {
  "kernelspec": {
   "display_name": ".venv",
   "language": "python",
   "name": "python3"
  },
  "language_info": {
   "codemirror_mode": {
    "name": "ipython",
    "version": 3
   },
   "file_extension": ".py",
   "mimetype": "text/x-python",
   "name": "python",
   "nbconvert_exporter": "python",
   "pygments_lexer": "ipython3",
   "version": "3.10.0"
  }
 },
 "nbformat": 4,
 "nbformat_minor": 4
}
