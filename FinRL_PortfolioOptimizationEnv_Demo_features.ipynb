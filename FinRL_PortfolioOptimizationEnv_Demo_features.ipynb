{
 "cells": [
  {
   "cell_type": "markdown",
   "metadata": {
    "id": "3xt6fIDownZs"
   },
   "source": [
    "# A guide Portfolio Optimization Environment\n",
    "\n",
    "This notebook aims to provide an example of using PortfolioOptimizationEnv (or POE) to train a reinforcement learning model that learns to solve the portfolio optimization problem.\n",
    "\n",
    "In this document, we will reproduce a famous architecture called EIIE (ensemble of identical independent evaluators), introduced in the following paper:\n",
    "\n",
    "- Zhengyao Jiang, Dixing Xu, & Jinjun Liang. (2017). A Deep Reinforcement Learning Framework for the Financial Portfolio Management Problem. https://doi.org/10.48550/arXiv.1706.10059.\n",
    "\n",
    "It's advisable to read it to understand the algorithm implemented in this notebook.\n",
    "\n",
    "### Note\n",
    "If you're using this environment, consider citing the following paper (in adittion to FinRL references):\n",
    "\n",
    "- Caio Costa, & Anna Costa (2023). POE: A General Portfolio Optimization Environment for FinRL. In *Anais do II Brazilian Workshop on Artificial Intelligence in Finance* (pp. 132–143). SBC. https://doi.org/10.5753/bwaif.2023.231144.\n",
    "\n",
    "```\n",
    "@inproceedings{bwaif,\n",
    " author = {Caio Costa and Anna Costa},\n",
    " title = {POE: A General Portfolio Optimization Environment for FinRL},\n",
    " booktitle = {Anais do II Brazilian Workshop on Artificial Intelligence in Finance},\n",
    " location = {João Pessoa/PB},\n",
    " year = {2023},\n",
    " keywords = {},\n",
    " issn = {0000-0000},\n",
    " pages = {132--143},\n",
    " publisher = {SBC},\n",
    " address = {Porto Alegre, RS, Brasil},\n",
    " doi = {10.5753/bwaif.2023.231144},\n",
    " url = {https://sol.sbc.org.br/index.php/bwaif/article/view/24959}\n",
    "}\n",
    "\n",
    "```"
   ]
  },
  {
   "cell_type": "markdown",
   "metadata": {
    "id": "Q0L7FZeWMUHp"
   },
   "source": [
    "## Installation and imports\n",
    "\n",
    "To run this notebook in google colab, uncomment the cells below."
   ]
  },
  {
   "cell_type": "code",
   "execution_count": 1,
   "metadata": {
    "colab": {
     "base_uri": "https://localhost:8080/"
    },
    "id": "XGHfTt1HMVQw",
    "outputId": "e5226807-a740-4f22-a279-f466886518ba"
   },
   "outputs": [],
   "source": [
    "## install finrl library\n",
    "# !pip install wrds\n",
    "# !pip install quantstats\n",
    "# !pip install torch_geometric\n",
    "# !pip install swig\n",
    "# !pip install -q condacolab\n",
    "# !pip install shimmy\n",
    "# import condacolab\n",
    "# condacolab.install()\n",
    "# !apt-get update -y -qq && apt-get install -y -qq cmake libopenmpi-dev python3-dev zlib1g-dev libgl1-mesa-glx swig\n",
    "# !pip install git+https://github.com/flpymonkey/FinRL_Online_Portfolio_Benchmarks.git"
   ]
  },
  {
   "cell_type": "code",
   "execution_count": 2,
   "metadata": {
    "id": "6RqrzokqoanP"
   },
   "outputs": [],
   "source": [
    "## Hide matplotlib warnings\n",
    "# import warnings\n",
    "# warnings.filterwarnings('ignore')\n",
    "\n",
    "import logging\n",
    "logging.getLogger('matplotlib.font_manager').disabled = True"
   ]
  },
  {
   "cell_type": "markdown",
   "metadata": {
    "id": "Cz8DLleGz_TF"
   },
   "source": [
    "#### Import the necessary code libraries"
   ]
  },
  {
   "cell_type": "code",
   "execution_count": 3,
   "metadata": {
    "colab": {
     "base_uri": "https://localhost:8080/"
    },
    "id": "cP5t6U7-nYoc",
    "outputId": "fd138d3e-222a-4ec5-e008-03a28b89dae9"
   },
   "outputs": [],
   "source": [
    "import torch\n",
    "\n",
    "import numpy as np\n",
    "\n",
    "from sklearn.preprocessing import MaxAbsScaler\n",
    "\n",
    "from finrl.meta.preprocessor.yahoodownloader import YahooDownloader\n",
    "from finrl.meta.preprocessor.preprocessors import GroupByScaler\n",
    "from finrl.meta.env_portfolio_optimization.env_portfolio_optimization import PortfolioOptimizationEnv\n",
    "from finrl.agents.portfolio_optimization.models import DRLAgent\n",
    "from finrl.agents.portfolio_optimization.architectures import EIIE\n",
    "\n",
    "device = 'cuda:0' if torch.cuda.is_available() else 'cpu'"
   ]
  },
  {
   "cell_type": "markdown",
   "metadata": {
    "id": "TY2yhvpASEyo"
   },
   "source": [
    "## Fetch data\n",
    "\n",
    "In his paper, *Jiang et al* creates a portfolio composed by the top-11 cryptocurrencies based on 30-days volume. Since it's not specified when this classification was done, it's difficult to reproduce, so we will use a similar approach in the Brazillian stock market:\n",
    "\n",
    "- We select top-10 stocks from Brazillian stock market;\n",
    "- For simplicity, we disconsider stocks that have missing data for the days in period 2011-01-01 to 2019-12-31 (9 years);"
   ]
  },
  {
   "cell_type": "code",
   "execution_count": 4,
   "metadata": {
    "colab": {
     "base_uri": "https://localhost:8080/"
    },
    "id": "H11UjCstSFwm",
    "outputId": "3d27b983-d1e0-41af-b20a-421be40e469f"
   },
   "outputs": [],
   "source": [
    "TEST_TICKER = [\n",
    "   \"MSFT\",\n",
    "    \"V\",\n",
    "    \"AAPL\",\n",
    "    \"BA\",\n",
    "    \"INTC\",\n",
    "    \"WMT\",\n",
    "]\n",
    "\n",
    "\n",
    "TRAIN_START_DATE = '2009-04-01'\n",
    "TEST_END_DATE = '2024-10-01'\n",
    "\n",
    "TRAIN_DATES = ['2018-12-31']\n"
   ]
  },
  {
   "cell_type": "code",
   "execution_count": 5,
   "metadata": {
    "colab": {
     "base_uri": "https://localhost:8080/",
     "height": 623
    },
    "id": "Bkm96aNsSIji",
    "outputId": "e3a20095-841e-4c89-c08e-24b9575cfb02"
   },
   "outputs": [
    {
     "name": "stdout",
     "output_type": "stream",
     "text": [
      "6\n"
     ]
    },
    {
     "name": "stderr",
     "output_type": "stream",
     "text": [
      "[*********************100%***********************]  1 of 1 completed\n",
      "[*********************100%***********************]  1 of 1 completed\n",
      "[*********************100%***********************]  1 of 1 completed\n",
      "[*********************100%***********************]  1 of 1 completed\n",
      "[*********************100%***********************]  1 of 1 completed\n",
      "[*********************100%***********************]  1 of 1 completed\n"
     ]
    },
    {
     "name": "stdout",
     "output_type": "stream",
     "text": [
      "Shape of DataFrame:  (23406, 8)\n"
     ]
    },
    {
     "data": {
      "text/html": [
       "<div>\n",
       "<style scoped>\n",
       "    .dataframe tbody tr th:only-of-type {\n",
       "        vertical-align: middle;\n",
       "    }\n",
       "\n",
       "    .dataframe tbody tr th {\n",
       "        vertical-align: top;\n",
       "    }\n",
       "\n",
       "    .dataframe thead th {\n",
       "        text-align: right;\n",
       "    }\n",
       "</style>\n",
       "<table border=\"1\" class=\"dataframe\">\n",
       "  <thead>\n",
       "    <tr style=\"text-align: right;\">\n",
       "      <th></th>\n",
       "      <th>date</th>\n",
       "      <th>open</th>\n",
       "      <th>high</th>\n",
       "      <th>low</th>\n",
       "      <th>close</th>\n",
       "      <th>volume</th>\n",
       "      <th>tic</th>\n",
       "      <th>day</th>\n",
       "    </tr>\n",
       "  </thead>\n",
       "  <tbody>\n",
       "    <tr>\n",
       "      <th>0</th>\n",
       "      <td>2009-04-01</td>\n",
       "      <td>3.717500</td>\n",
       "      <td>3.892857</td>\n",
       "      <td>3.710357</td>\n",
       "      <td>3.274470</td>\n",
       "      <td>589372000</td>\n",
       "      <td>AAPL</td>\n",
       "      <td>2</td>\n",
       "    </tr>\n",
       "    <tr>\n",
       "      <th>1</th>\n",
       "      <td>2009-04-01</td>\n",
       "      <td>34.520000</td>\n",
       "      <td>35.599998</td>\n",
       "      <td>34.209999</td>\n",
       "      <td>26.850760</td>\n",
       "      <td>9288800</td>\n",
       "      <td>BA</td>\n",
       "      <td>2</td>\n",
       "    </tr>\n",
       "    <tr>\n",
       "      <th>2</th>\n",
       "      <td>2009-04-01</td>\n",
       "      <td>14.770000</td>\n",
       "      <td>15.320000</td>\n",
       "      <td>14.620000</td>\n",
       "      <td>9.507452</td>\n",
       "      <td>75052800</td>\n",
       "      <td>INTC</td>\n",
       "      <td>2</td>\n",
       "    </tr>\n",
       "    <tr>\n",
       "      <th>3</th>\n",
       "      <td>2009-04-01</td>\n",
       "      <td>18.230000</td>\n",
       "      <td>19.360001</td>\n",
       "      <td>18.180000</td>\n",
       "      <td>14.301789</td>\n",
       "      <td>96438900</td>\n",
       "      <td>MSFT</td>\n",
       "      <td>2</td>\n",
       "    </tr>\n",
       "    <tr>\n",
       "      <th>4</th>\n",
       "      <td>2009-04-01</td>\n",
       "      <td>13.687500</td>\n",
       "      <td>14.000000</td>\n",
       "      <td>13.407500</td>\n",
       "      <td>12.129696</td>\n",
       "      <td>44144400</td>\n",
       "      <td>V</td>\n",
       "      <td>2</td>\n",
       "    </tr>\n",
       "    <tr>\n",
       "      <th>...</th>\n",
       "      <td>...</td>\n",
       "      <td>...</td>\n",
       "      <td>...</td>\n",
       "      <td>...</td>\n",
       "      <td>...</td>\n",
       "      <td>...</td>\n",
       "      <td>...</td>\n",
       "      <td>...</td>\n",
       "    </tr>\n",
       "    <tr>\n",
       "      <th>23401</th>\n",
       "      <td>2024-09-30</td>\n",
       "      <td>154.789993</td>\n",
       "      <td>155.300003</td>\n",
       "      <td>151.240005</td>\n",
       "      <td>152.039993</td>\n",
       "      <td>10902200</td>\n",
       "      <td>BA</td>\n",
       "      <td>0</td>\n",
       "    </tr>\n",
       "    <tr>\n",
       "      <th>23402</th>\n",
       "      <td>2024-09-30</td>\n",
       "      <td>23.740000</td>\n",
       "      <td>23.950001</td>\n",
       "      <td>23.090000</td>\n",
       "      <td>23.459999</td>\n",
       "      <td>66308200</td>\n",
       "      <td>INTC</td>\n",
       "      <td>0</td>\n",
       "    </tr>\n",
       "    <tr>\n",
       "      <th>23403</th>\n",
       "      <td>2024-09-30</td>\n",
       "      <td>428.209991</td>\n",
       "      <td>430.420013</td>\n",
       "      <td>425.369995</td>\n",
       "      <td>429.440399</td>\n",
       "      <td>16807300</td>\n",
       "      <td>MSFT</td>\n",
       "      <td>0</td>\n",
       "    </tr>\n",
       "    <tr>\n",
       "      <th>23404</th>\n",
       "      <td>2024-09-30</td>\n",
       "      <td>275.000000</td>\n",
       "      <td>275.690002</td>\n",
       "      <td>273.200012</td>\n",
       "      <td>274.428284</td>\n",
       "      <td>5969900</td>\n",
       "      <td>V</td>\n",
       "      <td>0</td>\n",
       "    </tr>\n",
       "    <tr>\n",
       "      <th>23405</th>\n",
       "      <td>2024-09-30</td>\n",
       "      <td>79.889999</td>\n",
       "      <td>80.940002</td>\n",
       "      <td>79.860001</td>\n",
       "      <td>80.750000</td>\n",
       "      <td>18997000</td>\n",
       "      <td>WMT</td>\n",
       "      <td>0</td>\n",
       "    </tr>\n",
       "  </tbody>\n",
       "</table>\n",
       "<p>23406 rows × 8 columns</p>\n",
       "</div>"
      ],
      "text/plain": [
       "             date        open        high         low       close     volume  \\\n",
       "0      2009-04-01    3.717500    3.892857    3.710357    3.274470  589372000   \n",
       "1      2009-04-01   34.520000   35.599998   34.209999   26.850760    9288800   \n",
       "2      2009-04-01   14.770000   15.320000   14.620000    9.507452   75052800   \n",
       "3      2009-04-01   18.230000   19.360001   18.180000   14.301789   96438900   \n",
       "4      2009-04-01   13.687500   14.000000   13.407500   12.129696   44144400   \n",
       "...           ...         ...         ...         ...         ...        ...   \n",
       "23401  2024-09-30  154.789993  155.300003  151.240005  152.039993   10902200   \n",
       "23402  2024-09-30   23.740000   23.950001   23.090000   23.459999   66308200   \n",
       "23403  2024-09-30  428.209991  430.420013  425.369995  429.440399   16807300   \n",
       "23404  2024-09-30  275.000000  275.690002  273.200012  274.428284    5969900   \n",
       "23405  2024-09-30   79.889999   80.940002   79.860001   80.750000   18997000   \n",
       "\n",
       "        tic  day  \n",
       "0      AAPL    2  \n",
       "1        BA    2  \n",
       "2      INTC    2  \n",
       "3      MSFT    2  \n",
       "4         V    2  \n",
       "...     ...  ...  \n",
       "23401    BA    0  \n",
       "23402  INTC    0  \n",
       "23403  MSFT    0  \n",
       "23404     V    0  \n",
       "23405   WMT    0  \n",
       "\n",
       "[23406 rows x 8 columns]"
      ]
     },
     "execution_count": 5,
     "metadata": {},
     "output_type": "execute_result"
    }
   ],
   "source": [
    "print(len(TEST_TICKER))\n",
    "\n",
    "portfolio_raw_df = YahooDownloader(start_date = TRAIN_START_DATE,\n",
    "                                end_date = TEST_END_DATE,\n",
    "                                ticker_list = TEST_TICKER).fetch_data()\n",
    "portfolio_raw_df"
   ]
  },
  {
   "cell_type": "code",
   "execution_count": 6,
   "metadata": {
    "colab": {
     "base_uri": "https://localhost:8080/",
     "height": 444
    },
    "id": "2UqpIXsuSKfO",
    "outputId": "436605d5-bc9e-4038-e3d7-7bdf140033d8"
   },
   "outputs": [
    {
     "data": {
      "text/html": [
       "<div>\n",
       "<style scoped>\n",
       "    .dataframe tbody tr th:only-of-type {\n",
       "        vertical-align: middle;\n",
       "    }\n",
       "\n",
       "    .dataframe tbody tr th {\n",
       "        vertical-align: top;\n",
       "    }\n",
       "\n",
       "    .dataframe thead th {\n",
       "        text-align: right;\n",
       "    }\n",
       "</style>\n",
       "<table border=\"1\" class=\"dataframe\">\n",
       "  <thead>\n",
       "    <tr style=\"text-align: right;\">\n",
       "      <th></th>\n",
       "      <th>date</th>\n",
       "      <th>open</th>\n",
       "      <th>high</th>\n",
       "      <th>low</th>\n",
       "      <th>close</th>\n",
       "      <th>volume</th>\n",
       "      <th>day</th>\n",
       "    </tr>\n",
       "    <tr>\n",
       "      <th>tic</th>\n",
       "      <th></th>\n",
       "      <th></th>\n",
       "      <th></th>\n",
       "      <th></th>\n",
       "      <th></th>\n",
       "      <th></th>\n",
       "      <th></th>\n",
       "    </tr>\n",
       "  </thead>\n",
       "  <tbody>\n",
       "    <tr>\n",
       "      <th>AAPL</th>\n",
       "      <td>3901</td>\n",
       "      <td>3901</td>\n",
       "      <td>3901</td>\n",
       "      <td>3901</td>\n",
       "      <td>3901</td>\n",
       "      <td>3901</td>\n",
       "      <td>3901</td>\n",
       "    </tr>\n",
       "    <tr>\n",
       "      <th>BA</th>\n",
       "      <td>3901</td>\n",
       "      <td>3901</td>\n",
       "      <td>3901</td>\n",
       "      <td>3901</td>\n",
       "      <td>3901</td>\n",
       "      <td>3901</td>\n",
       "      <td>3901</td>\n",
       "    </tr>\n",
       "    <tr>\n",
       "      <th>INTC</th>\n",
       "      <td>3901</td>\n",
       "      <td>3901</td>\n",
       "      <td>3901</td>\n",
       "      <td>3901</td>\n",
       "      <td>3901</td>\n",
       "      <td>3901</td>\n",
       "      <td>3901</td>\n",
       "    </tr>\n",
       "    <tr>\n",
       "      <th>MSFT</th>\n",
       "      <td>3901</td>\n",
       "      <td>3901</td>\n",
       "      <td>3901</td>\n",
       "      <td>3901</td>\n",
       "      <td>3901</td>\n",
       "      <td>3901</td>\n",
       "      <td>3901</td>\n",
       "    </tr>\n",
       "    <tr>\n",
       "      <th>V</th>\n",
       "      <td>3901</td>\n",
       "      <td>3901</td>\n",
       "      <td>3901</td>\n",
       "      <td>3901</td>\n",
       "      <td>3901</td>\n",
       "      <td>3901</td>\n",
       "      <td>3901</td>\n",
       "    </tr>\n",
       "    <tr>\n",
       "      <th>WMT</th>\n",
       "      <td>3901</td>\n",
       "      <td>3901</td>\n",
       "      <td>3901</td>\n",
       "      <td>3901</td>\n",
       "      <td>3901</td>\n",
       "      <td>3901</td>\n",
       "      <td>3901</td>\n",
       "    </tr>\n",
       "  </tbody>\n",
       "</table>\n",
       "</div>"
      ],
      "text/plain": [
       "      date  open  high   low  close  volume   day\n",
       "tic                                              \n",
       "AAPL  3901  3901  3901  3901   3901    3901  3901\n",
       "BA    3901  3901  3901  3901   3901    3901  3901\n",
       "INTC  3901  3901  3901  3901   3901    3901  3901\n",
       "MSFT  3901  3901  3901  3901   3901    3901  3901\n",
       "V     3901  3901  3901  3901   3901    3901  3901\n",
       "WMT   3901  3901  3901  3901   3901    3901  3901"
      ]
     },
     "execution_count": 6,
     "metadata": {},
     "output_type": "execute_result"
    }
   ],
   "source": [
    "portfolio_raw_df.groupby(\"tic\").count()"
   ]
  },
  {
   "cell_type": "code",
   "execution_count": 7,
   "metadata": {},
   "outputs": [
    {
     "name": "stdout",
     "output_type": "stream",
     "text": [
      "Successfully added technical indicators\n",
      "Successfully added turbulence index\n",
      "             date        open        high         low       close     volume  \\\n",
      "0      2009-04-01    3.717500    3.892857    3.710357    3.274470  589372000   \n",
      "1      2009-04-01   34.520000   35.599998   34.209999   26.850760    9288800   \n",
      "2      2009-04-01   14.770000   15.320000   14.620000    9.507452   75052800   \n",
      "3      2009-04-01   18.230000   19.360001   18.180000   14.301789   96438900   \n",
      "4      2009-04-01   13.687500   14.000000   13.407500   12.129696   44144400   \n",
      "...           ...         ...         ...         ...         ...        ...   \n",
      "23401  2024-09-30  154.789993  155.300003  151.240005  152.039993   10902200   \n",
      "23402  2024-09-30   23.740000   23.950001   23.090000   23.459999   66308200   \n",
      "23403  2024-09-30  428.209991  430.420013  425.369995  429.440399   16807300   \n",
      "23404  2024-09-30  275.000000  275.690002  273.200012  274.428284    5969900   \n",
      "23405  2024-09-30   79.889999   80.940002   79.860001   80.750000   18997000   \n",
      "\n",
      "        tic  day      macd      rsi_30      cci_30       dx_30  turbulence  \n",
      "0      AAPL    2  0.000000  100.000000   66.666667  100.000000     0.00000  \n",
      "1        BA    2  0.000000  100.000000   66.666667  100.000000     0.00000  \n",
      "2      INTC    2  0.000000  100.000000   66.666667  100.000000     0.00000  \n",
      "3      MSFT    2  0.000000  100.000000   66.666667  100.000000     0.00000  \n",
      "4         V    2  0.000000  100.000000   66.666667  100.000000     0.00000  \n",
      "...     ...  ...       ...         ...         ...         ...         ...  \n",
      "23401    BA    0 -4.319624   40.653404  -96.691456   38.360743     6.90674  \n",
      "23402  INTC    0  0.453731   48.903240  140.111059   24.687499     6.90674  \n",
      "23403  MSFT    0  3.642012   52.585344   51.229516    5.722795     6.90674  \n",
      "23404     V    0  0.713461   50.527176  -30.653682   10.599313     6.90674  \n",
      "23405   WMT    0  1.653520   66.345268   99.695518   26.821368     6.90674  \n",
      "\n",
      "[23406 rows x 13 columns]\n"
     ]
    }
   ],
   "source": [
    "INDICATORS = ['macd',\n",
    "            'rsi_30',\n",
    "            'cci_30',\n",
    "            'dx_30']\n",
    "\n",
    "from finrl.meta.preprocessor.preprocessors import FeatureEngineer\n",
    "\n",
    "fe = FeatureEngineer(use_technical_indicator=True,\n",
    "                     tech_indicator_list = INDICATORS,\n",
    "                     use_turbulence=True,\n",
    "                     user_defined_feature = False)\n",
    "\n",
    "processed = fe.preprocess_data(portfolio_raw_df)\n",
    "processed = processed.copy()\n",
    "processed = processed.fillna(0)\n",
    "processed = processed.replace(np.inf,0)\n",
    "\n",
    "# # here you can see the engineered features are added to each stock day\n",
    "print(processed)"
   ]
  },
  {
   "cell_type": "markdown",
   "metadata": {},
   "source": [
    "### Normalize Data"
   ]
  },
  {
   "cell_type": "markdown",
   "metadata": {},
   "source": [
    "We normalize the data dividing the time series of each stock by its maximum value, so that the dataframe contains values between 0 and 1."
   ]
  },
  {
   "cell_type": "code",
   "execution_count": 8,
   "metadata": {},
   "outputs": [
    {
     "name": "stderr",
     "output_type": "stream",
     "text": [
      "c:\\Users\\bencj\\Desktop\\Econ4\\Thesis\\.venv\\lib\\site-packages\\finrl\\meta\\preprocessor\\preprocessors.py:101: FutureWarning: Setting an item of incompatible dtype is deprecated and will raise an error in a future version of pandas. Value '[0.31332941 0.43188074 0.33824661 ... 0.01947727 0.01808933 0.02899626]' has dtype incompatible with int64, please explicitly cast to a compatible dtype first.\n",
      "  X.loc[select_mask, self.columns] = self.scalers[value].transform(\n",
      "c:\\Users\\bencj\\Desktop\\Econ4\\Thesis\\.venv\\lib\\site-packages\\finrl\\meta\\preprocessor\\preprocessors.py:101: FutureWarning: Setting an item of incompatible dtype is deprecated and will raise an error in a future version of pandas. Value '[0.5  0.75 1.   ... 0.75 1.   0.  ]' has dtype incompatible with int32, please explicitly cast to a compatible dtype first.\n",
      "  X.loc[select_mask, self.columns] = self.scalers[value].transform(\n"
     ]
    },
    {
     "data": {
      "text/html": [
       "<div>\n",
       "<style scoped>\n",
       "    .dataframe tbody tr th:only-of-type {\n",
       "        vertical-align: middle;\n",
       "    }\n",
       "\n",
       "    .dataframe tbody tr th {\n",
       "        vertical-align: top;\n",
       "    }\n",
       "\n",
       "    .dataframe thead th {\n",
       "        text-align: right;\n",
       "    }\n",
       "</style>\n",
       "<table border=\"1\" class=\"dataframe\">\n",
       "  <thead>\n",
       "    <tr style=\"text-align: right;\">\n",
       "      <th></th>\n",
       "      <th>date</th>\n",
       "      <th>open</th>\n",
       "      <th>high</th>\n",
       "      <th>low</th>\n",
       "      <th>close</th>\n",
       "      <th>volume</th>\n",
       "      <th>tic</th>\n",
       "      <th>day</th>\n",
       "      <th>macd</th>\n",
       "      <th>rsi_30</th>\n",
       "      <th>cci_30</th>\n",
       "      <th>dx_30</th>\n",
       "      <th>turbulence</th>\n",
       "    </tr>\n",
       "  </thead>\n",
       "  <tbody>\n",
       "    <tr>\n",
       "      <th>0</th>\n",
       "      <td>2009-04-01</td>\n",
       "      <td>0.015720</td>\n",
       "      <td>0.016410</td>\n",
       "      <td>0.015918</td>\n",
       "      <td>0.013976</td>\n",
       "      <td>0.313329</td>\n",
       "      <td>AAPL</td>\n",
       "      <td>0.5</td>\n",
       "      <td>0.000000</td>\n",
       "      <td>1.000000</td>\n",
       "      <td>0.168245</td>\n",
       "      <td>1.000000</td>\n",
       "      <td>0.000000</td>\n",
       "    </tr>\n",
       "    <tr>\n",
       "      <th>1</th>\n",
       "      <td>2009-04-01</td>\n",
       "      <td>0.077397</td>\n",
       "      <td>0.079819</td>\n",
       "      <td>0.077716</td>\n",
       "      <td>0.062400</td>\n",
       "      <td>0.089997</td>\n",
       "      <td>BA</td>\n",
       "      <td>0.5</td>\n",
       "      <td>0.000000</td>\n",
       "      <td>1.000000</td>\n",
       "      <td>0.150477</td>\n",
       "      <td>1.000000</td>\n",
       "      <td>0.000000</td>\n",
       "    </tr>\n",
       "    <tr>\n",
       "      <th>2</th>\n",
       "      <td>2009-04-01</td>\n",
       "      <td>0.216569</td>\n",
       "      <td>0.221100</td>\n",
       "      <td>0.217204</td>\n",
       "      <td>0.153140</td>\n",
       "      <td>0.249431</td>\n",
       "      <td>INTC</td>\n",
       "      <td>0.5</td>\n",
       "      <td>0.000000</td>\n",
       "      <td>1.000000</td>\n",
       "      <td>0.120880</td>\n",
       "      <td>1.000000</td>\n",
       "      <td>0.000000</td>\n",
       "    </tr>\n",
       "    <tr>\n",
       "      <th>3</th>\n",
       "      <td>2009-04-01</td>\n",
       "      <td>0.039036</td>\n",
       "      <td>0.041337</td>\n",
       "      <td>0.039142</td>\n",
       "      <td>0.030705</td>\n",
       "      <td>0.302015</td>\n",
       "      <td>MSFT</td>\n",
       "      <td>0.5</td>\n",
       "      <td>0.000000</td>\n",
       "      <td>1.000000</td>\n",
       "      <td>0.148421</td>\n",
       "      <td>1.000000</td>\n",
       "      <td>0.000000</td>\n",
       "    </tr>\n",
       "    <tr>\n",
       "      <th>4</th>\n",
       "      <td>2009-04-01</td>\n",
       "      <td>0.046901</td>\n",
       "      <td>0.047770</td>\n",
       "      <td>0.046220</td>\n",
       "      <td>0.041682</td>\n",
       "      <td>0.130785</td>\n",
       "      <td>V</td>\n",
       "      <td>0.5</td>\n",
       "      <td>0.000000</td>\n",
       "      <td>1.000000</td>\n",
       "      <td>0.164371</td>\n",
       "      <td>1.000000</td>\n",
       "      <td>0.000000</td>\n",
       "    </tr>\n",
       "    <tr>\n",
       "      <th>...</th>\n",
       "      <td>...</td>\n",
       "      <td>...</td>\n",
       "      <td>...</td>\n",
       "      <td>...</td>\n",
       "      <td>...</td>\n",
       "      <td>...</td>\n",
       "      <td>...</td>\n",
       "      <td>...</td>\n",
       "      <td>...</td>\n",
       "      <td>...</td>\n",
       "      <td>...</td>\n",
       "      <td>...</td>\n",
       "      <td>...</td>\n",
       "    </tr>\n",
       "    <tr>\n",
       "      <th>23401</th>\n",
       "      <td>2024-09-30</td>\n",
       "      <td>0.347055</td>\n",
       "      <td>0.348198</td>\n",
       "      <td>0.343579</td>\n",
       "      <td>0.353335</td>\n",
       "      <td>0.105628</td>\n",
       "      <td>BA</td>\n",
       "      <td>0.0</td>\n",
       "      <td>-0.075790</td>\n",
       "      <td>0.406534</td>\n",
       "      <td>-0.218247</td>\n",
       "      <td>0.383607</td>\n",
       "      <td>0.046359</td>\n",
       "    </tr>\n",
       "    <tr>\n",
       "      <th>23402</th>\n",
       "      <td>2024-09-30</td>\n",
       "      <td>0.348094</td>\n",
       "      <td>0.345649</td>\n",
       "      <td>0.343040</td>\n",
       "      <td>0.377879</td>\n",
       "      <td>0.220369</td>\n",
       "      <td>INTC</td>\n",
       "      <td>0.0</td>\n",
       "      <td>0.123309</td>\n",
       "      <td>0.489032</td>\n",
       "      <td>0.254049</td>\n",
       "      <td>0.246875</td>\n",
       "      <td>0.046359</td>\n",
       "    </tr>\n",
       "    <tr>\n",
       "      <th>23403</th>\n",
       "      <td>2024-09-30</td>\n",
       "      <td>0.916938</td>\n",
       "      <td>0.919014</td>\n",
       "      <td>0.915838</td>\n",
       "      <td>0.921968</td>\n",
       "      <td>0.052635</td>\n",
       "      <td>MSFT</td>\n",
       "      <td>0.0</td>\n",
       "      <td>0.309170</td>\n",
       "      <td>0.525853</td>\n",
       "      <td>0.114053</td>\n",
       "      <td>0.057228</td>\n",
       "      <td>0.046359</td>\n",
       "    </tr>\n",
       "    <tr>\n",
       "      <th>23404</th>\n",
       "      <td>2024-09-30</td>\n",
       "      <td>0.942297</td>\n",
       "      <td>0.940697</td>\n",
       "      <td>0.941809</td>\n",
       "      <td>0.943031</td>\n",
       "      <td>0.017687</td>\n",
       "      <td>V</td>\n",
       "      <td>0.0</td>\n",
       "      <td>0.053418</td>\n",
       "      <td>0.505272</td>\n",
       "      <td>-0.075579</td>\n",
       "      <td>0.105993</td>\n",
       "      <td>0.046359</td>\n",
       "    </tr>\n",
       "    <tr>\n",
       "      <th>23405</th>\n",
       "      <td>2024-09-30</td>\n",
       "      <td>0.985809</td>\n",
       "      <td>0.991912</td>\n",
       "      <td>0.989836</td>\n",
       "      <td>0.992015</td>\n",
       "      <td>0.078275</td>\n",
       "      <td>WMT</td>\n",
       "      <td>0.0</td>\n",
       "      <td>0.646232</td>\n",
       "      <td>0.663453</td>\n",
       "      <td>0.188832</td>\n",
       "      <td>0.268214</td>\n",
       "      <td>0.046359</td>\n",
       "    </tr>\n",
       "  </tbody>\n",
       "</table>\n",
       "<p>23406 rows × 13 columns</p>\n",
       "</div>"
      ],
      "text/plain": [
       "             date      open      high       low     close    volume   tic  \\\n",
       "0      2009-04-01  0.015720  0.016410  0.015918  0.013976  0.313329  AAPL   \n",
       "1      2009-04-01  0.077397  0.079819  0.077716  0.062400  0.089997    BA   \n",
       "2      2009-04-01  0.216569  0.221100  0.217204  0.153140  0.249431  INTC   \n",
       "3      2009-04-01  0.039036  0.041337  0.039142  0.030705  0.302015  MSFT   \n",
       "4      2009-04-01  0.046901  0.047770  0.046220  0.041682  0.130785     V   \n",
       "...           ...       ...       ...       ...       ...       ...   ...   \n",
       "23401  2024-09-30  0.347055  0.348198  0.343579  0.353335  0.105628    BA   \n",
       "23402  2024-09-30  0.348094  0.345649  0.343040  0.377879  0.220369  INTC   \n",
       "23403  2024-09-30  0.916938  0.919014  0.915838  0.921968  0.052635  MSFT   \n",
       "23404  2024-09-30  0.942297  0.940697  0.941809  0.943031  0.017687     V   \n",
       "23405  2024-09-30  0.985809  0.991912  0.989836  0.992015  0.078275   WMT   \n",
       "\n",
       "       day      macd    rsi_30    cci_30     dx_30  turbulence  \n",
       "0      0.5  0.000000  1.000000  0.168245  1.000000    0.000000  \n",
       "1      0.5  0.000000  1.000000  0.150477  1.000000    0.000000  \n",
       "2      0.5  0.000000  1.000000  0.120880  1.000000    0.000000  \n",
       "3      0.5  0.000000  1.000000  0.148421  1.000000    0.000000  \n",
       "4      0.5  0.000000  1.000000  0.164371  1.000000    0.000000  \n",
       "...    ...       ...       ...       ...       ...         ...  \n",
       "23401  0.0 -0.075790  0.406534 -0.218247  0.383607    0.046359  \n",
       "23402  0.0  0.123309  0.489032  0.254049  0.246875    0.046359  \n",
       "23403  0.0  0.309170  0.525853  0.114053  0.057228    0.046359  \n",
       "23404  0.0  0.053418  0.505272 -0.075579  0.105993    0.046359  \n",
       "23405  0.0  0.646232  0.663453  0.188832  0.268214    0.046359  \n",
       "\n",
       "[23406 rows x 13 columns]"
      ]
     },
     "execution_count": 8,
     "metadata": {},
     "output_type": "execute_result"
    }
   ],
   "source": [
    "portfolio_norm_df = GroupByScaler(by=\"tic\", scaler=MaxAbsScaler).fit_transform(processed)\n",
    "portfolio_norm_df"
   ]
  },
  {
   "cell_type": "code",
   "execution_count": null,
   "metadata": {},
   "outputs": [],
   "source": []
  },
  {
   "cell_type": "markdown",
   "metadata": {
    "id": "pM829994GWo3"
   },
   "source": [
    "### Instantiate Environment\n",
    "\n",
    "Using the `PortfolioOptimizationEnv`, it's easy to instantiate a portfolio optimization environment for reinforcement learning agents. In the example below, we use the dataframe created before to start an environment."
   ]
  },
  {
   "cell_type": "code",
   "execution_count": null,
   "metadata": {},
   "outputs": [],
   "source": []
  },
  {
   "cell_type": "markdown",
   "metadata": {},
   "source": [
    "### Instantiate Model\n",
    "\n",
    "Now, we can instantiate the model using FinRL API. In this example, we are going to use the EIIE architecture introduced by Jiang et. al.\n",
    "\n",
    ":exclamation: **Note:** Remember to set the architecture's `time_window` parameter with the same value of the environment's `time_window`."
   ]
  },
  {
   "cell_type": "code",
   "execution_count": 9,
   "metadata": {
    "colab": {
     "base_uri": "https://localhost:8080/",
     "height": 1000,
     "referenced_widgets": [
      "750b2ea28d2a439db3fc5034927dbce2",
      "c172e120fc5e4f9ab13bf8599d868b5f",
      "4b2aa7128c5d4d15bb794eb76faccd6a",
      "317393fb13c0449abfff29a4949553a0",
      "8cb75a82e5374c51b1f47a6e15783177",
      "9cb3d937be5d4f7cac192b392218ef37",
      "b27b9cc333ac44a5bb2cec60d02f16c0",
      "6a1187acb99d44c68e27cd5aad879ff1",
      "6a5c9dbaddc441d390d4827c170cbe9c",
      "1f84695a1caf4c80b29eb5eea90bb29a",
      "a7a6884bfdb642b9b342f7cda49d7d67"
     ]
    },
    "id": "wr82W3E0uQSo",
    "outputId": "61dcf1f5-7cf0-40b2-85bd-3f7dd943ddc6",
    "scrolled": true
   },
   "outputs": [
    {
     "name": "stdout",
     "output_type": "stream",
     "text": [
      "=================\n",
      "2018-12-31\n",
      "0\n"
     ]
    },
    {
     "name": "stderr",
     "output_type": "stream",
     "text": [
      "  0%|          | 0/40 [00:00<?, ?it/s]"
     ]
    },
    {
     "name": "stdout",
     "output_type": "stream",
     "text": [
      "=================================\n",
      "Initial portfolio value:100000\n",
      "Final portfolio value: 510441.3125\n",
      "Final accumulative portfolio value: 5.104413125\n",
      "Maximum DrawDown: -0.2229776370713329\n",
      "Sharpe ratio: 1.2102972323360868\n",
      "Total commission cost: 16618.113236064644\n",
      "=================================\n"
     ]
    },
    {
     "name": "stderr",
     "output_type": "stream",
     "text": [
      "  2%|▎         | 1/40 [00:22<14:52, 22.89s/it]"
     ]
    },
    {
     "name": "stdout",
     "output_type": "stream",
     "text": [
      "=================================\n",
      "Initial portfolio value:100000\n",
      "Final portfolio value: 585990.3125\n",
      "Final accumulative portfolio value: 5.859903125\n",
      "Maximum DrawDown: -0.22656560232214218\n",
      "Sharpe ratio: 1.1775749641858582\n",
      "Total commission cost: 62283.343335080746\n",
      "=================================\n"
     ]
    },
    {
     "name": "stderr",
     "output_type": "stream",
     "text": [
      "  5%|▌         | 2/40 [00:54<17:49, 28.15s/it]"
     ]
    },
    {
     "name": "stdout",
     "output_type": "stream",
     "text": [
      "=================================\n",
      "Initial portfolio value:100000\n",
      "Final portfolio value: 573499.0625\n",
      "Final accumulative portfolio value: 5.734990625\n",
      "Maximum DrawDown: -0.22956780713516511\n",
      "Sharpe ratio: 1.1221235036159374\n",
      "Total commission cost: 167198.0590552654\n",
      "=================================\n"
     ]
    },
    {
     "name": "stderr",
     "output_type": "stream",
     "text": [
      "  8%|▊         | 3/40 [01:30<19:36, 31.79s/it]"
     ]
    },
    {
     "name": "stdout",
     "output_type": "stream",
     "text": [
      "=================================\n",
      "Initial portfolio value:100000\n",
      "Final portfolio value: 584341.5\n",
      "Final accumulative portfolio value: 5.843415\n",
      "Maximum DrawDown: -0.23613553692350275\n",
      "Sharpe ratio: 1.0506362787034553\n",
      "Total commission cost: 401583.36029569217\n",
      "=================================\n"
     ]
    },
    {
     "name": "stderr",
     "output_type": "stream",
     "text": [
      " 10%|█         | 4/40 [02:22<23:47, 39.65s/it]"
     ]
    },
    {
     "name": "stdout",
     "output_type": "stream",
     "text": [
      "=================================\n",
      "Initial portfolio value:100000\n",
      "Final portfolio value: 528034.3125\n",
      "Final accumulative portfolio value: 5.280343125\n",
      "Maximum DrawDown: -0.2326864564368334\n",
      "Sharpe ratio: 0.9728082657178343\n",
      "Total commission cost: 764373.4053159624\n",
      "=================================\n"
     ]
    },
    {
     "name": "stderr",
     "output_type": "stream",
     "text": [
      " 12%|█▎        | 5/40 [03:00<22:47, 39.06s/it]"
     ]
    },
    {
     "name": "stdout",
     "output_type": "stream",
     "text": [
      "=================================\n",
      "Initial portfolio value:100000\n",
      "Final portfolio value: 476696.09375\n",
      "Final accumulative portfolio value: 4.7669609375\n",
      "Maximum DrawDown: -0.24087513759046109\n",
      "Sharpe ratio: 0.9002356131232273\n",
      "Total commission cost: 1174067.3404066516\n",
      "=================================\n"
     ]
    },
    {
     "name": "stderr",
     "output_type": "stream",
     "text": [
      " 15%|█▌        | 6/40 [03:37<21:48, 38.48s/it]"
     ]
    },
    {
     "name": "stdout",
     "output_type": "stream",
     "text": [
      "=================================\n",
      "Initial portfolio value:100000\n",
      "Final portfolio value: 582620.6875\n",
      "Final accumulative portfolio value: 5.826206875\n",
      "Maximum DrawDown: -0.25122536811310214\n",
      "Sharpe ratio: 0.9615601037758654\n",
      "Total commission cost: 1641643.272209982\n",
      "=================================\n"
     ]
    },
    {
     "name": "stderr",
     "output_type": "stream",
     "text": [
      " 18%|█▊        | 7/40 [04:13<20:34, 37.41s/it]"
     ]
    },
    {
     "name": "stdout",
     "output_type": "stream",
     "text": [
      "=================================\n",
      "Initial portfolio value:100000\n",
      "Final portfolio value: 686531.625\n",
      "Final accumulative portfolio value: 6.86531625\n",
      "Maximum DrawDown: -0.26088161501532126\n",
      "Sharpe ratio: 1.0367040198318445\n",
      "Total commission cost: 2294685.731531906\n",
      "=================================\n"
     ]
    },
    {
     "name": "stderr",
     "output_type": "stream",
     "text": [
      " 20%|██        | 8/40 [04:49<19:42, 36.95s/it]"
     ]
    },
    {
     "name": "stdout",
     "output_type": "stream",
     "text": [
      "=================================\n",
      "Initial portfolio value:100000\n",
      "Final portfolio value: 659376.9375\n",
      "Final accumulative portfolio value: 6.593769375\n",
      "Maximum DrawDown: -0.2778566963810697\n",
      "Sharpe ratio: 0.9965492264984753\n",
      "Total commission cost: 2865161.862917943\n",
      "=================================\n"
     ]
    },
    {
     "name": "stderr",
     "output_type": "stream",
     "text": [
      " 22%|██▎       | 9/40 [05:21<18:22, 35.56s/it]"
     ]
    },
    {
     "name": "stdout",
     "output_type": "stream",
     "text": [
      "=================================\n",
      "Initial portfolio value:100000\n",
      "Final portfolio value: 782504.625\n",
      "Final accumulative portfolio value: 7.82504625\n",
      "Maximum DrawDown: -0.28804171778504517\n",
      "Sharpe ratio: 1.0880808142935758\n",
      "Total commission cost: 3695384.051464682\n",
      "=================================\n"
     ]
    },
    {
     "name": "stderr",
     "output_type": "stream",
     "text": [
      " 25%|██▌       | 10/40 [05:50<16:45, 33.50s/it]"
     ]
    },
    {
     "name": "stdout",
     "output_type": "stream",
     "text": [
      "=================================\n",
      "Initial portfolio value:100000\n",
      "Final portfolio value: 684940.5\n",
      "Final accumulative portfolio value: 6.849405\n",
      "Maximum DrawDown: -0.23521242936545805\n",
      "Sharpe ratio: 1.0255665180667217\n",
      "Total commission cost: 4416621.764666723\n",
      "=================================\n"
     ]
    },
    {
     "name": "stderr",
     "output_type": "stream",
     "text": [
      " 28%|██▊       | 11/40 [06:17<15:16, 31.61s/it]"
     ]
    },
    {
     "name": "stdout",
     "output_type": "stream",
     "text": [
      "=================================\n",
      "Initial portfolio value:100000\n",
      "Final portfolio value: 749945.625\n",
      "Final accumulative portfolio value: 7.49945625\n",
      "Maximum DrawDown: -0.2301455892857105\n",
      "Sharpe ratio: 1.0634411616818311\n",
      "Total commission cost: 5194402.114442913\n",
      "=================================\n"
     ]
    },
    {
     "name": "stderr",
     "output_type": "stream",
     "text": [
      " 30%|███       | 12/40 [07:01<16:27, 35.28s/it]"
     ]
    },
    {
     "name": "stdout",
     "output_type": "stream",
     "text": [
      "=================================\n",
      "Initial portfolio value:100000\n",
      "Final portfolio value: 836453.25\n",
      "Final accumulative portfolio value: 8.3645325\n",
      "Maximum DrawDown: -0.23692803744704838\n",
      "Sharpe ratio: 1.1048193058092488\n",
      "Total commission cost: 6056382.813766336\n",
      "=================================\n"
     ]
    },
    {
     "name": "stderr",
     "output_type": "stream",
     "text": [
      " 32%|███▎      | 13/40 [07:49<17:35, 39.10s/it]"
     ]
    },
    {
     "name": "stdout",
     "output_type": "stream",
     "text": [
      "=================================\n",
      "Initial portfolio value:100000\n",
      "Final portfolio value: 753076.9375\n",
      "Final accumulative portfolio value: 7.530769375\n",
      "Maximum DrawDown: -0.26443156094113307\n",
      "Sharpe ratio: 1.054552128328758\n",
      "Total commission cost: 6804392.230789218\n",
      "=================================\n"
     ]
    },
    {
     "name": "stderr",
     "output_type": "stream",
     "text": [
      " 35%|███▌      | 14/40 [08:37<18:03, 41.68s/it]"
     ]
    },
    {
     "name": "stdout",
     "output_type": "stream",
     "text": [
      "=================================\n",
      "Initial portfolio value:100000\n",
      "Final portfolio value: 962324.5625\n",
      "Final accumulative portfolio value: 9.623245625\n",
      "Maximum DrawDown: -0.24853679984415378\n",
      "Sharpe ratio: 1.1621735437307896\n",
      "Total commission cost: 7729627.48415437\n",
      "=================================\n"
     ]
    },
    {
     "name": "stderr",
     "output_type": "stream",
     "text": [
      " 38%|███▊      | 15/40 [09:23<17:59, 43.17s/it]"
     ]
    },
    {
     "name": "stdout",
     "output_type": "stream",
     "text": [
      "=================================\n",
      "Initial portfolio value:100000\n",
      "Final portfolio value: 962440.125\n",
      "Final accumulative portfolio value: 9.62440125\n",
      "Maximum DrawDown: -0.2378353925778347\n",
      "Sharpe ratio: 1.1633463183844506\n",
      "Total commission cost: 8651205.655063245\n",
      "=================================\n"
     ]
    },
    {
     "name": "stderr",
     "output_type": "stream",
     "text": [
      " 40%|████      | 16/40 [10:10<17:44, 44.34s/it]"
     ]
    },
    {
     "name": "stdout",
     "output_type": "stream",
     "text": [
      "=================================\n",
      "Initial portfolio value:100000\n",
      "Final portfolio value: 1113482.625\n",
      "Final accumulative portfolio value: 11.13482625\n",
      "Maximum DrawDown: -0.2378307968947393\n",
      "Sharpe ratio: 1.2261115053123424\n",
      "Total commission cost: 9679489.287755912\n",
      "=================================\n"
     ]
    },
    {
     "name": "stderr",
     "output_type": "stream",
     "text": [
      " 42%|████▎     | 17/40 [10:40<15:20, 40.02s/it]"
     ]
    },
    {
     "name": "stdout",
     "output_type": "stream",
     "text": [
      "=================================\n",
      "Initial portfolio value:100000\n",
      "Final portfolio value: 1249493.375\n",
      "Final accumulative portfolio value: 12.49493375\n",
      "Maximum DrawDown: -0.23090984494430578\n",
      "Sharpe ratio: 1.2748516569775539\n",
      "Total commission cost: 10776931.665059173\n",
      "=================================\n"
     ]
    },
    {
     "name": "stderr",
     "output_type": "stream",
     "text": [
      " 45%|████▌     | 18/40 [11:08<13:19, 36.36s/it]"
     ]
    },
    {
     "name": "stdout",
     "output_type": "stream",
     "text": [
      "=================================\n",
      "Initial portfolio value:100000\n",
      "Final portfolio value: 1359339.5\n",
      "Final accumulative portfolio value: 13.593395\n",
      "Maximum DrawDown: -0.22542464208565383\n",
      "Sharpe ratio: 1.3106180679189436\n",
      "Total commission cost: 11927063.488513716\n",
      "=================================\n"
     ]
    },
    {
     "name": "stderr",
     "output_type": "stream",
     "text": [
      " 48%|████▊     | 19/40 [11:37<11:58, 34.24s/it]"
     ]
    },
    {
     "name": "stdout",
     "output_type": "stream",
     "text": [
      "=================================\n",
      "Initial portfolio value:100000\n",
      "Final portfolio value: 1436806.625\n",
      "Final accumulative portfolio value: 14.36806625\n",
      "Maximum DrawDown: -0.21939458084809704\n",
      "Sharpe ratio: 1.3335901386724898\n",
      "Total commission cost: 13129008.7648025\n",
      "=================================\n"
     ]
    },
    {
     "name": "stderr",
     "output_type": "stream",
     "text": [
      " 50%|█████     | 20/40 [12:05<10:43, 32.20s/it]"
     ]
    },
    {
     "name": "stdout",
     "output_type": "stream",
     "text": [
      "=================================\n",
      "Initial portfolio value:100000\n",
      "Final portfolio value: 1502221.125\n",
      "Final accumulative portfolio value: 15.02221125\n",
      "Maximum DrawDown: -0.21648459911242646\n",
      "Sharpe ratio: 1.3524722699179779\n",
      "Total commission cost: 14378895.165752396\n",
      "=================================\n"
     ]
    },
    {
     "name": "stderr",
     "output_type": "stream",
     "text": [
      " 52%|█████▎    | 21/40 [12:29<09:28, 29.92s/it]"
     ]
    },
    {
     "name": "stdout",
     "output_type": "stream",
     "text": [
      "=================================\n",
      "Initial portfolio value:100000\n",
      "Final portfolio value: 1525842.625\n",
      "Final accumulative portfolio value: 15.25842625\n",
      "Maximum DrawDown: -0.22173583704606836\n",
      "Sharpe ratio: 1.357051734277469\n",
      "Total commission cost: 15619447.694326367\n",
      "=================================\n"
     ]
    },
    {
     "name": "stderr",
     "output_type": "stream",
     "text": [
      " 55%|█████▌    | 22/40 [12:54<08:31, 28.41s/it]"
     ]
    },
    {
     "name": "stdout",
     "output_type": "stream",
     "text": [
      "=================================\n",
      "Initial portfolio value:100000\n",
      "Final portfolio value: 1553575.0\n",
      "Final accumulative portfolio value: 15.53575\n",
      "Maximum DrawDown: -0.22341198959213737\n",
      "Sharpe ratio: 1.3625685228454483\n",
      "Total commission cost: 16863012.99448834\n",
      "=================================\n"
     ]
    },
    {
     "name": "stderr",
     "output_type": "stream",
     "text": [
      " 57%|█████▊    | 23/40 [13:33<08:57, 31.60s/it]"
     ]
    },
    {
     "name": "stdout",
     "output_type": "stream",
     "text": [
      "=================================\n",
      "Initial portfolio value:100000\n",
      "Final portfolio value: 1587098.75\n",
      "Final accumulative portfolio value: 15.8709875\n",
      "Maximum DrawDown: -0.2224732628667988\n",
      "Sharpe ratio: 1.3717452089342945\n",
      "Total commission cost: 18137279.734163426\n",
      "=================================\n"
     ]
    },
    {
     "name": "stderr",
     "output_type": "stream",
     "text": [
      " 60%|██████    | 24/40 [14:13<09:05, 34.07s/it]"
     ]
    },
    {
     "name": "stdout",
     "output_type": "stream",
     "text": [
      "=================================\n",
      "Initial portfolio value:100000\n",
      "Final portfolio value: 1428467.375\n",
      "Final accumulative portfolio value: 14.28467375\n",
      "Maximum DrawDown: -0.21758430619674052\n",
      "Sharpe ratio: 1.331861034115242\n",
      "Total commission cost: 19498193.664553724\n",
      "=================================\n"
     ]
    },
    {
     "name": "stderr",
     "output_type": "stream",
     "text": [
      " 62%|██████▎   | 25/40 [14:53<08:56, 35.74s/it]"
     ]
    },
    {
     "name": "stdout",
     "output_type": "stream",
     "text": [
      "=================================\n",
      "Initial portfolio value:100000\n",
      "Final portfolio value: 1122179.125\n",
      "Final accumulative portfolio value: 11.22179125\n",
      "Maximum DrawDown: -0.2299864685784313\n",
      "Sharpe ratio: 1.207196039773646\n",
      "Total commission cost: 20417718.98252923\n",
      "=================================\n"
     ]
    },
    {
     "name": "stderr",
     "output_type": "stream",
     "text": [
      " 65%|██████▌   | 26/40 [15:33<08:40, 37.21s/it]"
     ]
    },
    {
     "name": "stdout",
     "output_type": "stream",
     "text": [
      "=================================\n",
      "Initial portfolio value:100000\n",
      "Final portfolio value: 1482822.25\n",
      "Final accumulative portfolio value: 14.8282225\n",
      "Maximum DrawDown: -0.22221092974418122\n",
      "Sharpe ratio: 1.3448585403581896\n",
      "Total commission cost: 21729794.310389373\n",
      "=================================\n"
     ]
    },
    {
     "name": "stderr",
     "output_type": "stream",
     "text": [
      " 68%|██████▊   | 27/40 [16:14<08:15, 38.10s/it]"
     ]
    },
    {
     "name": "stdout",
     "output_type": "stream",
     "text": [
      "=================================\n",
      "Initial portfolio value:100000\n",
      "Final portfolio value: 1700515.625\n",
      "Final accumulative portfolio value: 17.00515625\n",
      "Maximum DrawDown: -0.21720775519932023\n",
      "Sharpe ratio: 1.3976560585002564\n",
      "Total commission cost: 23251752.019446507\n",
      "=================================\n"
     ]
    },
    {
     "name": "stderr",
     "output_type": "stream",
     "text": [
      " 70%|███████   | 28/40 [16:53<07:43, 38.65s/it]"
     ]
    },
    {
     "name": "stdout",
     "output_type": "stream",
     "text": [
      "=================================\n",
      "Initial portfolio value:100000\n",
      "Final portfolio value: 1312798.0\n",
      "Final accumulative portfolio value: 13.12798\n",
      "Maximum DrawDown: -0.2364260810605887\n",
      "Sharpe ratio: 1.280856663085076\n",
      "Total commission cost: 24306935.586654756\n",
      "=================================\n"
     ]
    },
    {
     "name": "stderr",
     "output_type": "stream",
     "text": [
      " 72%|███████▎  | 29/40 [17:34<07:11, 39.24s/it]"
     ]
    },
    {
     "name": "stdout",
     "output_type": "stream",
     "text": [
      "=================================\n",
      "Initial portfolio value:100000\n",
      "Final portfolio value: 1468675.25\n",
      "Final accumulative portfolio value: 14.6867525\n",
      "Maximum DrawDown: -0.22737687485977032\n",
      "Sharpe ratio: 1.3418355824006276\n",
      "Total commission cost: 25703549.9150326\n",
      "=================================\n"
     ]
    },
    {
     "name": "stderr",
     "output_type": "stream",
     "text": [
      " 75%|███████▌  | 30/40 [18:22<06:59, 41.99s/it]"
     ]
    },
    {
     "name": "stdout",
     "output_type": "stream",
     "text": [
      "=================================\n",
      "Initial portfolio value:100000\n",
      "Final portfolio value: 993896.875\n",
      "Final accumulative portfolio value: 9.93896875\n",
      "Maximum DrawDown: -0.23696365705215894\n",
      "Sharpe ratio: 1.1513672995780593\n",
      "Total commission cost: 26576712.674565643\n",
      "=================================\n"
     ]
    },
    {
     "name": "stderr",
     "output_type": "stream",
     "text": [
      " 78%|███████▊  | 31/40 [19:02<06:12, 41.38s/it]"
     ]
    },
    {
     "name": "stdout",
     "output_type": "stream",
     "text": [
      "=================================\n",
      "Initial portfolio value:100000\n",
      "Final portfolio value: 830269.9375\n",
      "Final accumulative portfolio value: 8.302699375\n",
      "Maximum DrawDown: -0.298928677186741\n",
      "Sharpe ratio: 1.0775299060724701\n",
      "Total commission cost: 27691615.092820473\n",
      "=================================\n"
     ]
    },
    {
     "name": "stderr",
     "output_type": "stream",
     "text": [
      " 80%|████████  | 32/40 [19:42<05:27, 40.94s/it]"
     ]
    },
    {
     "name": "stdout",
     "output_type": "stream",
     "text": [
      "=================================\n",
      "Initial portfolio value:100000\n",
      "Final portfolio value: 611743.1875\n",
      "Final accumulative portfolio value: 6.117431875\n",
      "Maximum DrawDown: -0.3350485358818972\n",
      "Sharpe ratio: 0.9532696073458794\n",
      "Total commission cost: 28410507.86264137\n",
      "=================================\n"
     ]
    },
    {
     "name": "stderr",
     "output_type": "stream",
     "text": [
      " 82%|████████▎ | 33/40 [20:22<04:44, 40.65s/it]"
     ]
    },
    {
     "name": "stdout",
     "output_type": "stream",
     "text": [
      "=================================\n",
      "Initial portfolio value:100000\n",
      "Final portfolio value: 1045291.5\n",
      "Final accumulative portfolio value: 10.452915\n",
      "Maximum DrawDown: -0.2931977222380545\n",
      "Sharpe ratio: 1.1885604422250604\n",
      "Total commission cost: 29401101.340546895\n",
      "=================================\n"
     ]
    },
    {
     "name": "stderr",
     "output_type": "stream",
     "text": [
      " 85%|████████▌ | 34/40 [21:02<04:02, 40.40s/it]"
     ]
    },
    {
     "name": "stdout",
     "output_type": "stream",
     "text": [
      "=================================\n",
      "Initial portfolio value:100000\n",
      "Final portfolio value: 1484267.375\n",
      "Final accumulative portfolio value: 14.84267375\n",
      "Maximum DrawDown: -0.23650032068545745\n",
      "Sharpe ratio: 1.3255118092511367\n",
      "Total commission cost: 30706474.705983624\n",
      "=================================\n"
     ]
    },
    {
     "name": "stderr",
     "output_type": "stream",
     "text": [
      " 88%|████████▊ | 35/40 [21:43<03:23, 40.65s/it]"
     ]
    },
    {
     "name": "stdout",
     "output_type": "stream",
     "text": [
      "=================================\n",
      "Initial portfolio value:100000\n",
      "Final portfolio value: 1559379.75\n",
      "Final accumulative portfolio value: 15.5937975\n",
      "Maximum DrawDown: -0.24152762167033892\n",
      "Sharpe ratio: 1.3501345688077289\n",
      "Total commission cost: 32013188.135965392\n",
      "=================================\n"
     ]
    },
    {
     "name": "stderr",
     "output_type": "stream",
     "text": [
      " 90%|█████████ | 36/40 [22:33<02:52, 43.20s/it]"
     ]
    },
    {
     "name": "stdout",
     "output_type": "stream",
     "text": [
      "=================================\n",
      "Initial portfolio value:100000\n",
      "Final portfolio value: 1729583.375\n",
      "Final accumulative portfolio value: 17.29583375\n",
      "Maximum DrawDown: -0.23830836012486023\n",
      "Sharpe ratio: 1.4037376721065513\n",
      "Total commission cost: 33466047.54539127\n",
      "=================================\n"
     ]
    },
    {
     "name": "stderr",
     "output_type": "stream",
     "text": [
      " 92%|█████████▎| 37/40 [23:13<02:06, 42.29s/it]"
     ]
    },
    {
     "name": "stdout",
     "output_type": "stream",
     "text": [
      "=================================\n",
      "Initial portfolio value:100000\n",
      "Final portfolio value: 1663868.5\n",
      "Final accumulative portfolio value: 16.638685\n",
      "Maximum DrawDown: -0.27902529775742846\n",
      "Sharpe ratio: 1.3782686517182343\n",
      "Total commission cost: 34875748.78934503\n",
      "=================================\n"
     ]
    },
    {
     "name": "stderr",
     "output_type": "stream",
     "text": [
      " 95%|█████████▌| 38/40 [23:53<01:23, 41.66s/it]"
     ]
    },
    {
     "name": "stdout",
     "output_type": "stream",
     "text": [
      "=================================\n",
      "Initial portfolio value:100000\n",
      "Final portfolio value: 1742100.25\n",
      "Final accumulative portfolio value: 17.4210025\n",
      "Maximum DrawDown: -0.23217005419654735\n",
      "Sharpe ratio: 1.3980555228292526\n",
      "Total commission cost: 36414091.76879405\n",
      "=================================\n"
     ]
    },
    {
     "name": "stderr",
     "output_type": "stream",
     "text": [
      " 98%|█████████▊| 39/40 [24:32<00:41, 41.01s/it]"
     ]
    },
    {
     "name": "stdout",
     "output_type": "stream",
     "text": [
      "=================================\n",
      "Initial portfolio value:100000\n",
      "Final portfolio value: 1882288.125\n",
      "Final accumulative portfolio value: 18.82288125\n",
      "Maximum DrawDown: -0.24274994427015772\n",
      "Sharpe ratio: 1.4332021995641389\n",
      "Total commission cost: 37924122.226142764\n",
      "=================================\n"
     ]
    },
    {
     "name": "stderr",
     "output_type": "stream",
     "text": [
      "100%|██████████| 40/40 [25:13<00:00, 37.83s/it]\n",
      "C:\\Users\\bencj\\AppData\\Local\\Temp\\ipykernel_17764\\684045350.py:80: FutureWarning: You are using `torch.load` with `weights_only=False` (the current default value), which uses the default pickle module implicitly. It is possible to construct malicious pickle data which will execute arbitrary code during unpickling (See https://github.com/pytorch/pytorch/blob/main/SECURITY.md#untrusted-models for more details). In a future release, the default value for `weights_only` will be flipped to `True`. This limits the functions that could be executed during unpickling. Arbitrary objects will no longer be allowed to be loaded via this mode unless they are explicitly allowlisted by the user via `torch.serialization.add_safe_globals`. We recommend you start setting `weights_only=True` for any use case where you don't have full control of the loaded file. Please open an issue on GitHub for any issues related to this experimental feature.\n",
      "  policy.load_state_dict(torch.load(\"policy_EIIE.pt\"))\n"
     ]
    },
    {
     "name": "stdout",
     "output_type": "stream",
     "text": [
      "=================================\n",
      "Initial portfolio value:100000\n",
      "Final portfolio value: 847836.25\n",
      "Final accumulative portfolio value: 8.4783625\n",
      "Maximum DrawDown: -0.2431986218961053\n",
      "Sharpe ratio: 1.0535480136942883\n",
      "Total commission cost: 38626235.63480333\n",
      "=================================\n",
      "=================================\n",
      "Initial portfolio value:100000\n",
      "Final portfolio value: 141333.328125\n",
      "Final accumulative portfolio value: 1.41333328125\n",
      "Maximum DrawDown: -0.520571528469334\n",
      "Sharpe ratio: 0.35619335778860634\n",
      "Total commission cost: 112480.01939086782\n",
      "=================================\n",
      "=================================\n",
      "Initial portfolio value:100000\n",
      "Final portfolio value: 609601.5\n",
      "Final accumulative portfolio value: 6.096015\n",
      "Maximum DrawDown: -0.19634906256780216\n",
      "Sharpe ratio: 1.2459439075492202\n",
      "Total commission cost: 38639104.98082158\n",
      "=================================\n",
      "=================================\n",
      "Initial portfolio value:100000\n",
      "Final portfolio value: 191031.375\n",
      "Final accumulative portfolio value: 1.91031375\n",
      "Maximum DrawDown: -0.3565455283117823\n",
      "Sharpe ratio: 0.6013091183397643\n",
      "Total commission cost: 117753.25485284263\n",
      "=================================\n",
      "=================\n",
      "2018-12-31\n",
      "1\n"
     ]
    },
    {
     "name": "stderr",
     "output_type": "stream",
     "text": [
      "  0%|          | 0/40 [00:00<?, ?it/s]"
     ]
    },
    {
     "name": "stdout",
     "output_type": "stream",
     "text": [
      "=================================\n",
      "Initial portfolio value:100000\n",
      "Final portfolio value: 497277.40625\n",
      "Final accumulative portfolio value: 4.9727740625\n",
      "Maximum DrawDown: -0.18110707067431053\n",
      "Sharpe ratio: 1.2410746123221534\n",
      "Total commission cost: 13831.10796670588\n",
      "=================================\n"
     ]
    },
    {
     "name": "stderr",
     "output_type": "stream",
     "text": [
      "  2%|▎         | 1/40 [00:27<17:42, 27.23s/it]"
     ]
    },
    {
     "name": "stdout",
     "output_type": "stream",
     "text": [
      "=================================\n",
      "Initial portfolio value:100000\n",
      "Final portfolio value: 544887.0625\n",
      "Final accumulative portfolio value: 5.448870625\n",
      "Maximum DrawDown: -0.18767499713655755\n",
      "Sharpe ratio: 1.2443418512248938\n",
      "Total commission cost: 25041.149284802115\n",
      "=================================\n"
     ]
    },
    {
     "name": "stderr",
     "output_type": "stream",
     "text": [
      "  5%|▌         | 2/40 [00:56<18:04, 28.54s/it]"
     ]
    },
    {
     "name": "stdout",
     "output_type": "stream",
     "text": [
      "=================================\n",
      "Initial portfolio value:100000\n",
      "Final portfolio value: 579452.8125\n",
      "Final accumulative portfolio value: 5.794528125\n",
      "Maximum DrawDown: -0.19278758296546994\n",
      "Sharpe ratio: 1.2452001106573174\n",
      "Total commission cost: 37129.37304636475\n",
      "=================================\n"
     ]
    },
    {
     "name": "stderr",
     "output_type": "stream",
     "text": [
      "  8%|▊         | 3/40 [01:24<17:16, 28.02s/it]"
     ]
    },
    {
     "name": "stdout",
     "output_type": "stream",
     "text": [
      "=================================\n",
      "Initial portfolio value:100000\n",
      "Final portfolio value: 596692.75\n",
      "Final accumulative portfolio value: 5.9669275\n",
      "Maximum DrawDown: -0.19476505453647652\n",
      "Sharpe ratio: 1.2455015498303112\n",
      "Total commission cost: 49678.87333670765\n",
      "=================================\n"
     ]
    },
    {
     "name": "stderr",
     "output_type": "stream",
     "text": [
      " 10%|█         | 4/40 [01:50<16:26, 27.40s/it]"
     ]
    },
    {
     "name": "stdout",
     "output_type": "stream",
     "text": [
      "=================================\n",
      "Initial portfolio value:100000\n",
      "Final portfolio value: 603625.125\n",
      "Final accumulative portfolio value: 6.03625125\n",
      "Maximum DrawDown: -0.19548424646266682\n",
      "Sharpe ratio: 1.246209908895083\n",
      "Total commission cost: 62396.632500970125\n",
      "=================================\n"
     ]
    },
    {
     "name": "stderr",
     "output_type": "stream",
     "text": [
      " 12%|█▎        | 5/40 [02:19<16:20, 28.02s/it]"
     ]
    },
    {
     "name": "stdout",
     "output_type": "stream",
     "text": [
      "=================================\n",
      "Initial portfolio value:100000\n",
      "Final portfolio value: 598621.9375\n",
      "Final accumulative portfolio value: 5.986219375\n",
      "Maximum DrawDown: -0.1958009469304709\n",
      "Sharpe ratio: 1.2383345765426925\n",
      "Total commission cost: 77329.963012483\n",
      "=================================\n"
     ]
    },
    {
     "name": "stderr",
     "output_type": "stream",
     "text": [
      " 15%|█▌        | 6/40 [02:55<17:17, 30.51s/it]"
     ]
    },
    {
     "name": "stdout",
     "output_type": "stream",
     "text": [
      "=================================\n",
      "Initial portfolio value:100000\n",
      "Final portfolio value: 608642.375\n",
      "Final accumulative portfolio value: 6.08642375\n",
      "Maximum DrawDown: -0.19597176986150955\n",
      "Sharpe ratio: 1.2476034900556083\n",
      "Total commission cost: 90196.45392778033\n",
      "=================================\n"
     ]
    },
    {
     "name": "stderr",
     "output_type": "stream",
     "text": [
      " 18%|█▊        | 7/40 [03:36<18:47, 34.16s/it]"
     ]
    },
    {
     "name": "stdout",
     "output_type": "stream",
     "text": [
      "=================================\n",
      "Initial portfolio value:100000\n",
      "Final portfolio value: 611374.375\n",
      "Final accumulative portfolio value: 6.11374375\n",
      "Maximum DrawDown: -0.19608132614972884\n",
      "Sharpe ratio: 1.2497479979321136\n",
      "Total commission cost: 103167.67323237691\n",
      "=================================\n"
     ]
    },
    {
     "name": "stderr",
     "output_type": "stream",
     "text": [
      " 20%|██        | 8/40 [04:09<17:59, 33.73s/it]"
     ]
    },
    {
     "name": "stdout",
     "output_type": "stream",
     "text": [
      "=================================\n",
      "Initial portfolio value:100000\n",
      "Final portfolio value: 612565.1875\n",
      "Final accumulative portfolio value: 6.125651875\n",
      "Maximum DrawDown: -0.19616263287169433\n",
      "Sharpe ratio: 1.2498185852726318\n",
      "Total commission cost: 117881.85513758399\n",
      "=================================\n"
     ]
    },
    {
     "name": "stderr",
     "output_type": "stream",
     "text": [
      " 22%|██▎       | 9/40 [04:43<17:24, 33.70s/it]"
     ]
    },
    {
     "name": "stdout",
     "output_type": "stream",
     "text": [
      "=================================\n",
      "Initial portfolio value:100000\n",
      "Final portfolio value: 507613.75\n",
      "Final accumulative portfolio value: 5.0761375\n",
      "Maximum DrawDown: -0.19622000690378716\n",
      "Sharpe ratio: 1.1257025400699345\n",
      "Total commission cost: 179170.62814992704\n",
      "=================================\n"
     ]
    },
    {
     "name": "stderr",
     "output_type": "stream",
     "text": [
      " 25%|██▌       | 10/40 [05:13<16:20, 32.68s/it]"
     ]
    },
    {
     "name": "stdout",
     "output_type": "stream",
     "text": [
      "=================================\n",
      "Initial portfolio value:100000\n",
      "Final portfolio value: 141301.46875\n",
      "Final accumulative portfolio value: 1.4130146875\n",
      "Maximum DrawDown: -0.5480813059548614\n",
      "Sharpe ratio: 0.2881671404422395\n",
      "Total commission cost: 531769.6496026425\n",
      "=================================\n"
     ]
    },
    {
     "name": "stderr",
     "output_type": "stream",
     "text": [
      " 28%|██▊       | 11/40 [05:42<15:18, 31.68s/it]"
     ]
    },
    {
     "name": "stdout",
     "output_type": "stream",
     "text": [
      "=================================\n",
      "Initial portfolio value:100000\n",
      "Final portfolio value: 110029.6953125\n",
      "Final accumulative portfolio value: 1.100296953125\n",
      "Maximum DrawDown: -0.348489067257269\n",
      "Sharpe ratio: 0.1594109553685072\n",
      "Total commission cost: 764895.7608291032\n",
      "=================================\n"
     ]
    },
    {
     "name": "stderr",
     "output_type": "stream",
     "text": [
      " 30%|███       | 12/40 [06:12<14:32, 31.17s/it]"
     ]
    },
    {
     "name": "stdout",
     "output_type": "stream",
     "text": [
      "=================================\n",
      "Initial portfolio value:100000\n",
      "Final portfolio value: 318183.34375\n",
      "Final accumulative portfolio value: 3.1818334375\n",
      "Maximum DrawDown: -0.28383908559080284\n",
      "Sharpe ratio: 0.6328418846727426\n",
      "Total commission cost: 1174458.6442085716\n",
      "=================================\n"
     ]
    },
    {
     "name": "stderr",
     "output_type": "stream",
     "text": [
      " 32%|███▎      | 13/40 [06:43<13:58, 31.05s/it]"
     ]
    },
    {
     "name": "stdout",
     "output_type": "stream",
     "text": [
      "=================================\n",
      "Initial portfolio value:100000\n",
      "Final portfolio value: 365310.5625\n",
      "Final accumulative portfolio value: 3.653105625\n",
      "Maximum DrawDown: -0.31058594746069434\n",
      "Sharpe ratio: 0.685660099439856\n",
      "Total commission cost: 1856639.1228757\n",
      "=================================\n"
     ]
    },
    {
     "name": "stderr",
     "output_type": "stream",
     "text": [
      " 35%|███▌      | 14/40 [07:14<13:27, 31.06s/it]"
     ]
    },
    {
     "name": "stdout",
     "output_type": "stream",
     "text": [
      "=================================\n",
      "Initial portfolio value:100000\n",
      "Final portfolio value: 419572.4375\n",
      "Final accumulative portfolio value: 4.195724375\n",
      "Maximum DrawDown: -0.31676694409150397\n",
      "Sharpe ratio: 0.7517852417581803\n",
      "Total commission cost: 2518216.923800351\n",
      "=================================\n"
     ]
    },
    {
     "name": "stderr",
     "output_type": "stream",
     "text": [
      " 38%|███▊      | 15/40 [07:44<12:42, 30.51s/it]"
     ]
    },
    {
     "name": "stdout",
     "output_type": "stream",
     "text": [
      "=================================\n",
      "Initial portfolio value:100000\n",
      "Final portfolio value: 656414.0\n",
      "Final accumulative portfolio value: 6.56414\n",
      "Maximum DrawDown: -0.3080120812367987\n",
      "Sharpe ratio: 0.9350440573364546\n",
      "Total commission cost: 3423723.0998169202\n",
      "=================================\n"
     ]
    },
    {
     "name": "stderr",
     "output_type": "stream",
     "text": [
      " 40%|████      | 16/40 [08:14<12:12, 30.50s/it]"
     ]
    },
    {
     "name": "stdout",
     "output_type": "stream",
     "text": [
      "=================================\n",
      "Initial portfolio value:100000\n",
      "Final portfolio value: 297986.75\n",
      "Final accumulative portfolio value: 2.9798675\n",
      "Maximum DrawDown: -0.39669030761774327\n",
      "Sharpe ratio: 0.5956142994325172\n",
      "Total commission cost: 4230302.163065434\n",
      "=================================\n"
     ]
    },
    {
     "name": "stderr",
     "output_type": "stream",
     "text": [
      " 42%|████▎     | 17/40 [08:47<11:56, 31.14s/it]"
     ]
    },
    {
     "name": "stdout",
     "output_type": "stream",
     "text": [
      "=================================\n",
      "Initial portfolio value:100000\n",
      "Final portfolio value: 31336.44921875\n",
      "Final accumulative portfolio value: 0.3133644921875\n",
      "Maximum DrawDown: -0.7571453508559671\n",
      "Sharpe ratio: -0.45607188452378966\n",
      "Total commission cost: 4472299.5639012195\n",
      "=================================\n"
     ]
    },
    {
     "name": "stderr",
     "output_type": "stream",
     "text": [
      " 45%|████▌     | 18/40 [09:24<12:06, 33.03s/it]"
     ]
    },
    {
     "name": "stdout",
     "output_type": "stream",
     "text": [
      "=================================\n",
      "Initial portfolio value:100000\n",
      "Final portfolio value: 107006.9609375\n",
      "Final accumulative portfolio value: 1.070069609375\n",
      "Maximum DrawDown: -0.45477958348009206\n",
      "Sharpe ratio: 0.14707136395059933\n",
      "Total commission cost: 4862996.45387077\n",
      "=================================\n"
     ]
    },
    {
     "name": "stderr",
     "output_type": "stream",
     "text": [
      " 48%|████▊     | 19/40 [09:59<11:46, 33.63s/it]"
     ]
    },
    {
     "name": "stdout",
     "output_type": "stream",
     "text": [
      "=================================\n",
      "Initial portfolio value:100000\n",
      "Final portfolio value: 325012.9375\n",
      "Final accumulative portfolio value: 3.250129375\n",
      "Maximum DrawDown: -0.35371978905042134\n",
      "Sharpe ratio: 0.6296227815527653\n",
      "Total commission cost: 5634590.030198123\n",
      "=================================\n"
     ]
    },
    {
     "name": "stderr",
     "output_type": "stream",
     "text": [
      " 50%|█████     | 20/40 [10:33<11:11, 33.59s/it]"
     ]
    },
    {
     "name": "stdout",
     "output_type": "stream",
     "text": [
      "=================================\n",
      "Initial portfolio value:100000\n",
      "Final portfolio value: 295088.09375\n",
      "Final accumulative portfolio value: 2.9508809375\n",
      "Maximum DrawDown: -0.3064139301234021\n",
      "Sharpe ratio: 0.6073610737759456\n",
      "Total commission cost: 6377960.565282666\n",
      "=================================\n"
     ]
    },
    {
     "name": "stderr",
     "output_type": "stream",
     "text": [
      " 52%|█████▎    | 21/40 [11:02<10:12, 32.26s/it]"
     ]
    },
    {
     "name": "stdout",
     "output_type": "stream",
     "text": [
      "=================================\n",
      "Initial portfolio value:100000\n",
      "Final portfolio value: 206837.96875\n",
      "Final accumulative portfolio value: 2.0683796875\n",
      "Maximum DrawDown: -0.4421925805454796\n",
      "Sharpe ratio: 0.4476021932642312\n",
      "Total commission cost: 7059331.115593614\n",
      "=================================\n"
     ]
    },
    {
     "name": "stderr",
     "output_type": "stream",
     "text": [
      " 55%|█████▌    | 22/40 [11:31<09:23, 31.29s/it]"
     ]
    },
    {
     "name": "stdout",
     "output_type": "stream",
     "text": [
      "=================================\n",
      "Initial portfolio value:100000\n",
      "Final portfolio value: 309620.5625\n",
      "Final accumulative portfolio value: 3.096205625\n",
      "Maximum DrawDown: -0.4155626314499541\n",
      "Sharpe ratio: 0.6323649917764992\n",
      "Total commission cost: 7853035.625777937\n",
      "=================================\n"
     ]
    },
    {
     "name": "stderr",
     "output_type": "stream",
     "text": [
      " 57%|█████▊    | 23/40 [11:57<08:23, 29.63s/it]"
     ]
    },
    {
     "name": "stdout",
     "output_type": "stream",
     "text": [
      "=================================\n",
      "Initial portfolio value:100000\n",
      "Final portfolio value: 520266.09375\n",
      "Final accumulative portfolio value: 5.2026609375\n",
      "Maximum DrawDown: -0.3028430752719208\n",
      "Sharpe ratio: 0.8360773150602283\n",
      "Total commission cost: 8846583.434374291\n",
      "=================================\n"
     ]
    },
    {
     "name": "stderr",
     "output_type": "stream",
     "text": [
      " 60%|██████    | 24/40 [12:24<07:41, 28.84s/it]"
     ]
    },
    {
     "name": "stdout",
     "output_type": "stream",
     "text": [
      "=================================\n",
      "Initial portfolio value:100000\n",
      "Final portfolio value: 423200.875\n",
      "Final accumulative portfolio value: 4.23200875\n",
      "Maximum DrawDown: -0.39004557495984105\n",
      "Sharpe ratio: 0.7782805427166012\n",
      "Total commission cost: 9746449.915049376\n",
      "=================================\n"
     ]
    },
    {
     "name": "stderr",
     "output_type": "stream",
     "text": [
      " 62%|██████▎   | 25/40 [12:48<06:54, 27.63s/it]"
     ]
    },
    {
     "name": "stdout",
     "output_type": "stream",
     "text": [
      "=================================\n",
      "Initial portfolio value:100000\n",
      "Final portfolio value: 778165.25\n",
      "Final accumulative portfolio value: 7.7816525\n",
      "Maximum DrawDown: -0.29653402529420725\n",
      "Sharpe ratio: 1.0100875517763204\n",
      "Total commission cost: 11079491.096368369\n",
      "=================================\n"
     ]
    },
    {
     "name": "stderr",
     "output_type": "stream",
     "text": [
      " 65%|██████▌   | 26/40 [13:14<06:19, 27.10s/it]"
     ]
    },
    {
     "name": "stdout",
     "output_type": "stream",
     "text": [
      "=================================\n",
      "Initial portfolio value:100000\n",
      "Final portfolio value: 420970.46875\n",
      "Final accumulative portfolio value: 4.2097046875\n",
      "Maximum DrawDown: -0.33572841709030343\n",
      "Sharpe ratio: 0.7724776990889587\n",
      "Total commission cost: 11935758.970821843\n",
      "=================================\n"
     ]
    },
    {
     "name": "stderr",
     "output_type": "stream",
     "text": [
      " 68%|██████▊   | 27/40 [13:40<05:47, 26.73s/it]"
     ]
    },
    {
     "name": "stdout",
     "output_type": "stream",
     "text": [
      "=================================\n",
      "Initial portfolio value:100000\n",
      "Final portfolio value: 721891.5625\n",
      "Final accumulative portfolio value: 7.218915625\n",
      "Maximum DrawDown: -0.3101016540102218\n",
      "Sharpe ratio: 0.9742572751274237\n",
      "Total commission cost: 13365911.671801083\n",
      "=================================\n"
     ]
    },
    {
     "name": "stderr",
     "output_type": "stream",
     "text": [
      " 70%|███████   | 28/40 [14:08<05:24, 27.05s/it]"
     ]
    },
    {
     "name": "stdout",
     "output_type": "stream",
     "text": [
      "=================================\n",
      "Initial portfolio value:100000\n",
      "Final portfolio value: 690572.875\n",
      "Final accumulative portfolio value: 6.90572875\n",
      "Maximum DrawDown: -0.2772479372020644\n",
      "Sharpe ratio: 0.9863362862772941\n",
      "Total commission cost: 14442626.374484152\n",
      "=================================\n"
     ]
    },
    {
     "name": "stderr",
     "output_type": "stream",
     "text": [
      " 72%|███████▎  | 29/40 [14:33<04:52, 26.58s/it]"
     ]
    },
    {
     "name": "stdout",
     "output_type": "stream",
     "text": [
      "=================================\n",
      "Initial portfolio value:100000\n",
      "Final portfolio value: 608143.75\n",
      "Final accumulative portfolio value: 6.0814375\n",
      "Maximum DrawDown: -0.3684634241015463\n",
      "Sharpe ratio: 0.9217835063541155\n",
      "Total commission cost: 15633579.260938248\n",
      "=================================\n"
     ]
    },
    {
     "name": "stderr",
     "output_type": "stream",
     "text": [
      " 75%|███████▌  | 30/40 [14:58<04:18, 25.87s/it]"
     ]
    },
    {
     "name": "stdout",
     "output_type": "stream",
     "text": [
      "=================================\n",
      "Initial portfolio value:100000\n",
      "Final portfolio value: 877924.25\n",
      "Final accumulative portfolio value: 8.7792425\n",
      "Maximum DrawDown: -0.29347499271244926\n",
      "Sharpe ratio: 1.0707427175773512\n",
      "Total commission cost: 16944409.64014215\n",
      "=================================\n"
     ]
    },
    {
     "name": "stderr",
     "output_type": "stream",
     "text": [
      " 78%|███████▊  | 31/40 [15:22<03:49, 25.48s/it]"
     ]
    },
    {
     "name": "stdout",
     "output_type": "stream",
     "text": [
      "=================================\n",
      "Initial portfolio value:100000\n",
      "Final portfolio value: 692328.0\n",
      "Final accumulative portfolio value: 6.92328\n",
      "Maximum DrawDown: -0.29721923481233903\n",
      "Sharpe ratio: 0.9776015592958639\n",
      "Total commission cost: 18159849.339300882\n",
      "=================================\n"
     ]
    },
    {
     "name": "stderr",
     "output_type": "stream",
     "text": [
      " 80%|████████  | 32/40 [15:48<03:25, 25.74s/it]"
     ]
    },
    {
     "name": "stdout",
     "output_type": "stream",
     "text": [
      "=================================\n",
      "Initial portfolio value:100000\n",
      "Final portfolio value: 774884.8125\n",
      "Final accumulative portfolio value: 7.748848125\n",
      "Maximum DrawDown: -0.32490308179835525\n",
      "Sharpe ratio: 1.0284534218548298\n",
      "Total commission cost: 19672653.629757714\n",
      "=================================\n"
     ]
    },
    {
     "name": "stderr",
     "output_type": "stream",
     "text": [
      " 82%|████████▎ | 33/40 [16:15<03:02, 26.11s/it]"
     ]
    },
    {
     "name": "stdout",
     "output_type": "stream",
     "text": [
      "=================================\n",
      "Initial portfolio value:100000\n",
      "Final portfolio value: 342801.9375\n",
      "Final accumulative portfolio value: 3.428019375\n",
      "Maximum DrawDown: -0.3300454104716023\n",
      "Sharpe ratio: 0.666411287491599\n",
      "Total commission cost: 20458208.39334492\n",
      "=================================\n"
     ]
    },
    {
     "name": "stderr",
     "output_type": "stream",
     "text": [
      " 85%|████████▌ | 34/40 [16:39<02:32, 25.47s/it]"
     ]
    },
    {
     "name": "stdout",
     "output_type": "stream",
     "text": [
      "=================================\n",
      "Initial portfolio value:100000\n",
      "Final portfolio value: 814492.3125\n",
      "Final accumulative portfolio value: 8.144923125\n",
      "Maximum DrawDown: -0.3618849658843264\n",
      "Sharpe ratio: 1.0126042680129164\n",
      "Total commission cost: 21925010.452423584\n",
      "=================================\n"
     ]
    },
    {
     "name": "stderr",
     "output_type": "stream",
     "text": [
      " 88%|████████▊ | 35/40 [17:04<02:05, 25.10s/it]"
     ]
    },
    {
     "name": "stdout",
     "output_type": "stream",
     "text": [
      "=================================\n",
      "Initial portfolio value:100000\n",
      "Final portfolio value: 485014.84375\n",
      "Final accumulative portfolio value: 4.8501484375\n",
      "Maximum DrawDown: -0.38334860575413277\n",
      "Sharpe ratio: 0.8111015648955483\n",
      "Total commission cost: 23081416.520627573\n",
      "=================================\n"
     ]
    },
    {
     "name": "stderr",
     "output_type": "stream",
     "text": [
      " 90%|█████████ | 36/40 [17:28<01:39, 24.78s/it]"
     ]
    },
    {
     "name": "stdout",
     "output_type": "stream",
     "text": [
      "=================================\n",
      "Initial portfolio value:100000\n",
      "Final portfolio value: 551048.3125\n",
      "Final accumulative portfolio value: 5.510483125\n",
      "Maximum DrawDown: -0.31822199660010897\n",
      "Sharpe ratio: 0.8634755040689074\n",
      "Total commission cost: 24235595.3645693\n",
      "=================================\n"
     ]
    },
    {
     "name": "stderr",
     "output_type": "stream",
     "text": [
      " 92%|█████████▎| 37/40 [17:53<01:14, 24.81s/it]"
     ]
    },
    {
     "name": "stdout",
     "output_type": "stream",
     "text": [
      "=================================\n",
      "Initial portfolio value:100000\n",
      "Final portfolio value: 294405.375\n",
      "Final accumulative portfolio value: 2.94405375\n",
      "Maximum DrawDown: -0.5235379364315986\n",
      "Sharpe ratio: 0.5753823045280566\n",
      "Total commission cost: 25419193.138450146\n",
      "=================================\n"
     ]
    },
    {
     "name": "stderr",
     "output_type": "stream",
     "text": [
      " 95%|█████████▌| 38/40 [18:18<00:49, 24.89s/it]"
     ]
    },
    {
     "name": "stdout",
     "output_type": "stream",
     "text": [
      "=================================\n",
      "Initial portfolio value:100000\n",
      "Final portfolio value: 87303.078125\n",
      "Final accumulative portfolio value: 0.87303078125\n",
      "Maximum DrawDown: -0.5270670563835917\n",
      "Sharpe ratio: 0.05138914308779443\n",
      "Total commission cost: 25913969.563613817\n",
      "=================================\n"
     ]
    },
    {
     "name": "stderr",
     "output_type": "stream",
     "text": [
      " 98%|█████████▊| 39/40 [18:44<00:25, 25.26s/it]"
     ]
    },
    {
     "name": "stdout",
     "output_type": "stream",
     "text": [
      "=================================\n",
      "Initial portfolio value:100000\n",
      "Final portfolio value: 256306.609375\n",
      "Final accumulative portfolio value: 2.56306609375\n",
      "Maximum DrawDown: -0.4263698236581116\n",
      "Sharpe ratio: 0.5421836746120147\n",
      "Total commission cost: 26643994.055961315\n",
      "=================================\n"
     ]
    },
    {
     "name": "stderr",
     "output_type": "stream",
     "text": [
      "100%|██████████| 40/40 [19:09<00:00, 28.74s/it]\n",
      "C:\\Users\\bencj\\AppData\\Local\\Temp\\ipykernel_17764\\684045350.py:80: FutureWarning: You are using `torch.load` with `weights_only=False` (the current default value), which uses the default pickle module implicitly. It is possible to construct malicious pickle data which will execute arbitrary code during unpickling (See https://github.com/pytorch/pytorch/blob/main/SECURITY.md#untrusted-models for more details). In a future release, the default value for `weights_only` will be flipped to `True`. This limits the functions that could be executed during unpickling. Arbitrary objects will no longer be allowed to be loaded via this mode unless they are explicitly allowlisted by the user via `torch.serialization.add_safe_globals`. We recommend you start setting `weights_only=True` for any use case where you don't have full control of the loaded file. Please open an issue on GitHub for any issues related to this experimental feature.\n",
      "  policy.load_state_dict(torch.load(\"policy_EIIE.pt\"))\n"
     ]
    },
    {
     "name": "stdout",
     "output_type": "stream",
     "text": [
      "=================================\n",
      "Initial portfolio value:100000\n",
      "Final portfolio value: 186088.3125\n",
      "Final accumulative portfolio value: 1.860883125\n",
      "Maximum DrawDown: -0.4145603136540962\n",
      "Sharpe ratio: 0.39991278748640496\n",
      "Total commission cost: 27286718.819094364\n",
      "=================================\n",
      "=================================\n",
      "Initial portfolio value:100000\n",
      "Final portfolio value: 50622.83984375\n",
      "Final accumulative portfolio value: 0.5062283984375\n",
      "Maximum DrawDown: -0.5974269622259611\n",
      "Sharpe ratio: -0.4252358738972353\n",
      "Total commission cost: 72853.3370784535\n",
      "=================================\n",
      "=================================\n",
      "Initial portfolio value:100000\n",
      "Final portfolio value: 609601.5\n",
      "Final accumulative portfolio value: 6.096015\n",
      "Maximum DrawDown: -0.19634906256780216\n",
      "Sharpe ratio: 1.2459439075492202\n",
      "Total commission cost: 27299588.165112674\n",
      "=================================\n",
      "=================================\n",
      "Initial portfolio value:100000\n",
      "Final portfolio value: 191031.375\n",
      "Final accumulative portfolio value: 1.91031375\n",
      "Maximum DrawDown: -0.3565455283117823\n",
      "Sharpe ratio: 0.6013091183397643\n",
      "Total commission cost: 78126.57254042831\n",
      "=================================\n",
      "=================\n",
      "2018-12-31\n",
      "2\n"
     ]
    },
    {
     "name": "stderr",
     "output_type": "stream",
     "text": [
      "  0%|          | 0/40 [00:00<?, ?it/s]"
     ]
    },
    {
     "name": "stdout",
     "output_type": "stream",
     "text": [
      "=================================\n",
      "Initial portfolio value:100000\n",
      "Final portfolio value: 469378.875\n",
      "Final accumulative portfolio value: 4.69378875\n",
      "Maximum DrawDown: -0.1792292382090951\n",
      "Sharpe ratio: 1.2158674373838392\n",
      "Total commission cost: 14020.093596688952\n",
      "=================================\n"
     ]
    },
    {
     "name": "stderr",
     "output_type": "stream",
     "text": [
      "  2%|▎         | 1/40 [00:21<14:06, 21.72s/it]"
     ]
    },
    {
     "name": "stdout",
     "output_type": "stream",
     "text": [
      "=================================\n",
      "Initial portfolio value:100000\n",
      "Final portfolio value: 520415.84375\n",
      "Final accumulative portfolio value: 5.2041584375\n",
      "Maximum DrawDown: -0.2282407775776052\n",
      "Sharpe ratio: 1.1628074091874412\n",
      "Total commission cost: 101411.69966496863\n",
      "=================================\n"
     ]
    },
    {
     "name": "stderr",
     "output_type": "stream",
     "text": [
      "  5%|▌         | 2/40 [00:46<14:56, 23.60s/it]"
     ]
    },
    {
     "name": "stdout",
     "output_type": "stream",
     "text": [
      "=================================\n",
      "Initial portfolio value:100000\n",
      "Final portfolio value: 833660.875\n",
      "Final accumulative portfolio value: 8.33660875\n",
      "Maximum DrawDown: -0.2473397819288391\n",
      "Sharpe ratio: 1.2313566994077716\n",
      "Total commission cost: 389793.50123260025\n",
      "=================================\n"
     ]
    },
    {
     "name": "stderr",
     "output_type": "stream",
     "text": [
      "  8%|▊         | 3/40 [01:11<14:57, 24.27s/it]"
     ]
    },
    {
     "name": "stdout",
     "output_type": "stream",
     "text": [
      "=================================\n",
      "Initial portfolio value:100000\n",
      "Final portfolio value: 876298.3125\n",
      "Final accumulative portfolio value: 8.762983125\n",
      "Maximum DrawDown: -0.2292809648756634\n",
      "Sharpe ratio: 1.203605672231605\n",
      "Total commission cost: 767660.0538234409\n",
      "=================================\n"
     ]
    },
    {
     "name": "stderr",
     "output_type": "stream",
     "text": [
      " 10%|█         | 4/40 [01:38<15:03, 25.08s/it]"
     ]
    },
    {
     "name": "stdout",
     "output_type": "stream",
     "text": [
      "=================================\n",
      "Initial portfolio value:100000\n",
      "Final portfolio value: 891125.9375\n",
      "Final accumulative portfolio value: 8.911259375\n",
      "Maximum DrawDown: -0.23321343982900944\n",
      "Sharpe ratio: 1.1870193858587985\n",
      "Total commission cost: 1248092.1416778627\n",
      "=================================\n"
     ]
    },
    {
     "name": "stderr",
     "output_type": "stream",
     "text": [
      " 12%|█▎        | 5/40 [02:04<14:54, 25.56s/it]"
     ]
    },
    {
     "name": "stdout",
     "output_type": "stream",
     "text": [
      "=================================\n",
      "Initial portfolio value:100000\n",
      "Final portfolio value: 718096.25\n",
      "Final accumulative portfolio value: 7.1809625\n",
      "Maximum DrawDown: -0.2905351656933808\n",
      "Sharpe ratio: 1.0840653893070529\n",
      "Total commission cost: 1793764.7932031604\n",
      "=================================\n"
     ]
    },
    {
     "name": "stderr",
     "output_type": "stream",
     "text": [
      " 15%|█▌        | 6/40 [02:30<14:35, 25.75s/it]"
     ]
    },
    {
     "name": "stdout",
     "output_type": "stream",
     "text": [
      "=================================\n",
      "Initial portfolio value:100000\n",
      "Final portfolio value: 805990.5\n",
      "Final accumulative portfolio value: 8.059905\n",
      "Maximum DrawDown: -0.2706129153492165\n",
      "Sharpe ratio: 1.161476799792864\n",
      "Total commission cost: 2401829.126046105\n",
      "=================================\n"
     ]
    },
    {
     "name": "stderr",
     "output_type": "stream",
     "text": [
      " 18%|█▊        | 7/40 [02:56<14:15, 25.92s/it]"
     ]
    },
    {
     "name": "stdout",
     "output_type": "stream",
     "text": [
      "=================================\n",
      "Initial portfolio value:100000\n",
      "Final portfolio value: 990328.75\n",
      "Final accumulative portfolio value: 9.9032875\n",
      "Maximum DrawDown: -0.2743132459120988\n",
      "Sharpe ratio: 1.2458957746740509\n",
      "Total commission cost: 3187330.1505496455\n",
      "=================================\n"
     ]
    },
    {
     "name": "stderr",
     "output_type": "stream",
     "text": [
      " 20%|██        | 8/40 [03:23<13:54, 26.07s/it]"
     ]
    },
    {
     "name": "stdout",
     "output_type": "stream",
     "text": [
      "=================================\n",
      "Initial portfolio value:100000\n",
      "Final portfolio value: 996245.8125\n",
      "Final accumulative portfolio value: 9.962458125\n",
      "Maximum DrawDown: -0.24827412727352138\n",
      "Sharpe ratio: 1.2317869295948527\n",
      "Total commission cost: 4024801.166189974\n",
      "=================================\n"
     ]
    },
    {
     "name": "stderr",
     "output_type": "stream",
     "text": [
      " 22%|██▎       | 9/40 [03:49<13:25, 25.98s/it]"
     ]
    },
    {
     "name": "stdout",
     "output_type": "stream",
     "text": [
      "=================================\n",
      "Initial portfolio value:100000\n",
      "Final portfolio value: 1093449.375\n",
      "Final accumulative portfolio value: 10.93449375\n",
      "Maximum DrawDown: -0.24417669177251744\n",
      "Sharpe ratio: 1.261334061044585\n",
      "Total commission cost: 4876738.888426264\n",
      "=================================\n"
     ]
    },
    {
     "name": "stderr",
     "output_type": "stream",
     "text": [
      " 25%|██▌       | 10/40 [04:14<12:55, 25.86s/it]"
     ]
    },
    {
     "name": "stdout",
     "output_type": "stream",
     "text": [
      "=================================\n",
      "Initial portfolio value:100000\n",
      "Final portfolio value: 1234600.375\n",
      "Final accumulative portfolio value: 12.34600375\n",
      "Maximum DrawDown: -0.225803689086704\n",
      "Sharpe ratio: 1.3059707501060276\n",
      "Total commission cost: 5884348.322793817\n",
      "=================================\n"
     ]
    },
    {
     "name": "stderr",
     "output_type": "stream",
     "text": [
      " 28%|██▊       | 11/40 [04:42<12:44, 26.37s/it]"
     ]
    },
    {
     "name": "stdout",
     "output_type": "stream",
     "text": [
      "=================================\n",
      "Initial portfolio value:100000\n",
      "Final portfolio value: 1224861.0\n",
      "Final accumulative portfolio value: 12.24861\n",
      "Maximum DrawDown: -0.2236400709715477\n",
      "Sharpe ratio: 1.302693490443018\n",
      "Total commission cost: 6810055.71040302\n",
      "=================================\n"
     ]
    },
    {
     "name": "stderr",
     "output_type": "stream",
     "text": [
      " 30%|███       | 12/40 [05:09<12:24, 26.58s/it]"
     ]
    },
    {
     "name": "stdout",
     "output_type": "stream",
     "text": [
      "=================================\n",
      "Initial portfolio value:100000\n",
      "Final portfolio value: 1242553.5\n",
      "Final accumulative portfolio value: 12.425535\n",
      "Maximum DrawDown: -0.22185624048578068\n",
      "Sharpe ratio: 1.293195326439035\n",
      "Total commission cost: 7808816.475402869\n",
      "=================================\n"
     ]
    },
    {
     "name": "stderr",
     "output_type": "stream",
     "text": [
      " 32%|███▎      | 13/40 [05:34<11:48, 26.23s/it]"
     ]
    },
    {
     "name": "stdout",
     "output_type": "stream",
     "text": [
      "=================================\n",
      "Initial portfolio value:100000\n",
      "Final portfolio value: 1337627.375\n",
      "Final accumulative portfolio value: 13.37627375\n",
      "Maximum DrawDown: -0.25153282596109694\n",
      "Sharpe ratio: 1.320696408734826\n",
      "Total commission cost: 8897122.857142834\n",
      "=================================\n"
     ]
    },
    {
     "name": "stderr",
     "output_type": "stream",
     "text": [
      " 35%|███▌      | 14/40 [06:02<11:32, 26.62s/it]"
     ]
    },
    {
     "name": "stdout",
     "output_type": "stream",
     "text": [
      "=================================\n",
      "Initial portfolio value:100000\n",
      "Final portfolio value: 443735.25\n",
      "Final accumulative portfolio value: 4.4373525\n",
      "Maximum DrawDown: -0.35926961675291935\n",
      "Sharpe ratio: 0.8272157396065527\n",
      "Total commission cost: 9513463.959124247\n",
      "=================================\n"
     ]
    },
    {
     "name": "stderr",
     "output_type": "stream",
     "text": [
      " 38%|███▊      | 15/40 [06:27<10:56, 26.26s/it]"
     ]
    },
    {
     "name": "stdout",
     "output_type": "stream",
     "text": [
      "=================================\n",
      "Initial portfolio value:100000\n",
      "Final portfolio value: 976383.25\n",
      "Final accumulative portfolio value: 9.7638325\n",
      "Maximum DrawDown: -0.2585207077540833\n",
      "Sharpe ratio: 1.1984442551736447\n",
      "Total commission cost: 10484975.695959192\n",
      "=================================\n"
     ]
    },
    {
     "name": "stderr",
     "output_type": "stream",
     "text": [
      " 40%|████      | 16/40 [06:53<10:30, 26.28s/it]"
     ]
    },
    {
     "name": "stdout",
     "output_type": "stream",
     "text": [
      "=================================\n",
      "Initial portfolio value:100000\n",
      "Final portfolio value: 938325.875\n",
      "Final accumulative portfolio value: 9.38325875\n",
      "Maximum DrawDown: -0.2762681786301223\n",
      "Sharpe ratio: 1.1768398742097557\n",
      "Total commission cost: 11534723.502908163\n",
      "=================================\n"
     ]
    },
    {
     "name": "stderr",
     "output_type": "stream",
     "text": [
      " 42%|████▎     | 17/40 [07:19<10:02, 26.22s/it]"
     ]
    },
    {
     "name": "stdout",
     "output_type": "stream",
     "text": [
      "=================================\n",
      "Initial portfolio value:100000\n",
      "Final portfolio value: 904088.375\n",
      "Final accumulative portfolio value: 9.04088375\n",
      "Maximum DrawDown: -0.24062437114890178\n",
      "Sharpe ratio: 1.1434894834296583\n",
      "Total commission cost: 12633058.872390714\n",
      "=================================\n"
     ]
    },
    {
     "name": "stderr",
     "output_type": "stream",
     "text": [
      " 45%|████▌     | 18/40 [07:47<09:47, 26.72s/it]"
     ]
    },
    {
     "name": "stdout",
     "output_type": "stream",
     "text": [
      "=================================\n",
      "Initial portfolio value:100000\n",
      "Final portfolio value: 1214324.25\n",
      "Final accumulative portfolio value: 12.1432425\n",
      "Maximum DrawDown: -0.23330667193947763\n",
      "Sharpe ratio: 1.3004807963935843\n",
      "Total commission cost: 13702555.445240425\n",
      "=================================\n"
     ]
    },
    {
     "name": "stderr",
     "output_type": "stream",
     "text": [
      " 48%|████▊     | 19/40 [08:15<09:26, 26.96s/it]"
     ]
    },
    {
     "name": "stdout",
     "output_type": "stream",
     "text": [
      "=================================\n",
      "Initial portfolio value:100000\n",
      "Final portfolio value: 1400853.375\n",
      "Final accumulative portfolio value: 14.00853375\n",
      "Maximum DrawDown: -0.22900821468709975\n",
      "Sharpe ratio: 1.3648268711529572\n",
      "Total commission cost: 14896741.25994077\n",
      "=================================\n"
     ]
    },
    {
     "name": "stderr",
     "output_type": "stream",
     "text": [
      " 50%|█████     | 20/40 [08:54<08:54, 26.74s/it]\n"
     ]
    },
    {
     "ename": "KeyboardInterrupt",
     "evalue": "",
     "output_type": "error",
     "traceback": [
      "\u001b[1;31m---------------------------------------------------------------------------\u001b[0m",
      "\u001b[1;31mKeyboardInterrupt\u001b[0m                         Traceback (most recent call last)",
      "Cell \u001b[1;32mIn[9], line 49\u001b[0m\n\u001b[0;32m     41\u001b[0m policy_kwargs \u001b[38;5;241m=\u001b[39m {\n\u001b[0;32m     42\u001b[0m     \u001b[38;5;124m\"\u001b[39m\u001b[38;5;124mk_size\u001b[39m\u001b[38;5;124m\"\u001b[39m: \u001b[38;5;241m3\u001b[39m,\n\u001b[0;32m     43\u001b[0m     \u001b[38;5;124m\"\u001b[39m\u001b[38;5;124minitial_features\u001b[39m\u001b[38;5;124m\"\u001b[39m:\u001b[38;5;241m7\u001b[39m,\n\u001b[0;32m     44\u001b[0m     \u001b[38;5;124m\"\u001b[39m\u001b[38;5;124mtime_window\u001b[39m\u001b[38;5;124m\"\u001b[39m: \u001b[38;5;241m50\u001b[39m,\n\u001b[0;32m     45\u001b[0m }\n\u001b[0;32m     47\u001b[0m model \u001b[38;5;241m=\u001b[39m DRLAgent(environment)\u001b[38;5;241m.\u001b[39mget_model(\u001b[38;5;124m\"\u001b[39m\u001b[38;5;124mpg\u001b[39m\u001b[38;5;124m\"\u001b[39m, device, model_kwargs, policy_kwargs)\n\u001b[1;32m---> 49\u001b[0m \u001b[43mDRLAgent\u001b[49m\u001b[38;5;241;43m.\u001b[39;49m\u001b[43mtrain_model\u001b[49m\u001b[43m(\u001b[49m\u001b[43mmodel\u001b[49m\u001b[43m,\u001b[49m\u001b[43m \u001b[49m\u001b[43mepisodes\u001b[49m\u001b[38;5;241;43m=\u001b[39;49m\u001b[38;5;241;43m40\u001b[39;49m\u001b[43m)\u001b[49m\n\u001b[0;32m     51\u001b[0m current_timestamp \u001b[38;5;241m=\u001b[39m datetime\u001b[38;5;241m.\u001b[39mnow()\n\u001b[0;32m     52\u001b[0m timestamp_string \u001b[38;5;241m=\u001b[39m current_timestamp\u001b[38;5;241m.\u001b[39mstrftime(\u001b[38;5;124m\"\u001b[39m\u001b[38;5;124m%\u001b[39m\u001b[38;5;124mY-\u001b[39m\u001b[38;5;124m%\u001b[39m\u001b[38;5;124mm-\u001b[39m\u001b[38;5;132;01m%d\u001b[39;00m\u001b[38;5;124m \u001b[39m\u001b[38;5;124m%\u001b[39m\u001b[38;5;124mH:\u001b[39m\u001b[38;5;124m%\u001b[39m\u001b[38;5;124mM:\u001b[39m\u001b[38;5;124m%\u001b[39m\u001b[38;5;124mS\u001b[39m\u001b[38;5;124m\"\u001b[39m)\n",
      "File \u001b[1;32mc:\\Users\\bencj\\Desktop\\Econ4\\Thesis\\.venv\\lib\\site-packages\\finrl\\agents\\portfolio_optimization\\models.py:80\u001b[0m, in \u001b[0;36mDRLAgent.train_model\u001b[1;34m(model, episodes)\u001b[0m\n\u001b[0;32m     69\u001b[0m \u001b[38;5;129m@staticmethod\u001b[39m\n\u001b[0;32m     70\u001b[0m \u001b[38;5;28;01mdef\u001b[39;00m \u001b[38;5;21mtrain_model\u001b[39m(model, episodes\u001b[38;5;241m=\u001b[39m\u001b[38;5;241m100\u001b[39m):\n\u001b[0;32m     71\u001b[0m \u001b[38;5;250m    \u001b[39m\u001b[38;5;124;03m\"\"\"Trains portfolio optimization model.\u001b[39;00m\n\u001b[0;32m     72\u001b[0m \n\u001b[0;32m     73\u001b[0m \u001b[38;5;124;03m    Args:\u001b[39;00m\n\u001b[1;32m   (...)\u001b[0m\n\u001b[0;32m     78\u001b[0m \u001b[38;5;124;03m        An instance of the trained model.\u001b[39;00m\n\u001b[0;32m     79\u001b[0m \u001b[38;5;124;03m    \"\"\"\u001b[39;00m\n\u001b[1;32m---> 80\u001b[0m     \u001b[43mmodel\u001b[49m\u001b[38;5;241;43m.\u001b[39;49m\u001b[43mtrain\u001b[49m\u001b[43m(\u001b[49m\u001b[43mepisodes\u001b[49m\u001b[43m)\u001b[49m\n\u001b[0;32m     81\u001b[0m     \u001b[38;5;28;01mreturn\u001b[39;00m model\n",
      "File \u001b[1;32mc:\\Users\\bencj\\Desktop\\Econ4\\Thesis\\.venv\\lib\\site-packages\\finrl\\agents\\portfolio_optimization\\algorithms.py:120\u001b[0m, in \u001b[0;36mPolicyGradient.train\u001b[1;34m(self, episodes)\u001b[0m\n\u001b[0;32m    117\u001b[0m \u001b[38;5;28mself\u001b[39m\u001b[38;5;241m.\u001b[39mtrain_pvm\u001b[38;5;241m.\u001b[39madd(action)\n\u001b[0;32m    119\u001b[0m \u001b[38;5;66;03m# run simulation step\u001b[39;00m\n\u001b[1;32m--> 120\u001b[0m next_obs, reward, done, info \u001b[38;5;241m=\u001b[39m \u001b[38;5;28;43mself\u001b[39;49m\u001b[38;5;241;43m.\u001b[39;49m\u001b[43mtrain_env\u001b[49m\u001b[38;5;241;43m.\u001b[39;49m\u001b[43mstep\u001b[49m\u001b[43m(\u001b[49m\u001b[43maction\u001b[49m\u001b[43m)\u001b[49m\n\u001b[0;32m    122\u001b[0m \u001b[38;5;66;03m# add experience to replay buffer\u001b[39;00m\n\u001b[0;32m    123\u001b[0m exp \u001b[38;5;241m=\u001b[39m (obs, last_action, info[\u001b[38;5;124m\"\u001b[39m\u001b[38;5;124mprice_variation\u001b[39m\u001b[38;5;124m\"\u001b[39m], info[\u001b[38;5;124m\"\u001b[39m\u001b[38;5;124mtrf_mu\u001b[39m\u001b[38;5;124m\"\u001b[39m])\n",
      "File \u001b[1;32mc:\\Users\\bencj\\Desktop\\Econ4\\Thesis\\.venv\\lib\\site-packages\\finrl\\meta\\env_portfolio_optimization\\env_portfolio_optimization.py:321\u001b[0m, in \u001b[0;36mPortfolioOptimizationEnv.step\u001b[1;34m(self, actions)\u001b[0m\n\u001b[0;32m    319\u001b[0m \u001b[38;5;66;03m# load next state\u001b[39;00m\n\u001b[0;32m    320\u001b[0m \u001b[38;5;28mself\u001b[39m\u001b[38;5;241m.\u001b[39m_time_index \u001b[38;5;241m+\u001b[39m\u001b[38;5;241m=\u001b[39m \u001b[38;5;241m1\u001b[39m\n\u001b[1;32m--> 321\u001b[0m \u001b[38;5;28mself\u001b[39m\u001b[38;5;241m.\u001b[39m_state, \u001b[38;5;28mself\u001b[39m\u001b[38;5;241m.\u001b[39m_info \u001b[38;5;241m=\u001b[39m \u001b[38;5;28;43mself\u001b[39;49m\u001b[38;5;241;43m.\u001b[39;49m\u001b[43m_get_state_and_info_from_time_index\u001b[49m\u001b[43m(\u001b[49m\n\u001b[0;32m    322\u001b[0m \u001b[43m    \u001b[49m\u001b[38;5;28;43mself\u001b[39;49m\u001b[38;5;241;43m.\u001b[39;49m\u001b[43m_time_index\u001b[49m\n\u001b[0;32m    323\u001b[0m \u001b[43m\u001b[49m\u001b[43m)\u001b[49m\n\u001b[0;32m    325\u001b[0m \u001b[38;5;66;03m# if using weights vector modifier, we need to modify weights vector\u001b[39;00m\n\u001b[0;32m    326\u001b[0m \u001b[38;5;28;01mif\u001b[39;00m \u001b[38;5;28mself\u001b[39m\u001b[38;5;241m.\u001b[39m_comission_fee_model \u001b[38;5;241m==\u001b[39m \u001b[38;5;124m\"\u001b[39m\u001b[38;5;124mwvm\u001b[39m\u001b[38;5;124m\"\u001b[39m:\n",
      "File \u001b[1;32mc:\\Users\\bencj\\Desktop\\Econ4\\Thesis\\.venv\\lib\\site-packages\\finrl\\meta\\env_portfolio_optimization\\env_portfolio_optimization.py:479\u001b[0m, in \u001b[0;36mPortfolioOptimizationEnv._get_state_and_info_from_time_index\u001b[1;34m(self, time_index)\u001b[0m\n\u001b[0;32m    477\u001b[0m     tic_data \u001b[38;5;241m=\u001b[39m tic_data[\u001b[38;5;28mself\u001b[39m\u001b[38;5;241m.\u001b[39m_features]\u001b[38;5;241m.\u001b[39mto_numpy()\u001b[38;5;241m.\u001b[39mT\n\u001b[0;32m    478\u001b[0m     tic_data \u001b[38;5;241m=\u001b[39m tic_data[\u001b[38;5;241m.\u001b[39m\u001b[38;5;241m.\u001b[39m\u001b[38;5;241m.\u001b[39m, np\u001b[38;5;241m.\u001b[39mnewaxis]\n\u001b[1;32m--> 479\u001b[0m     state \u001b[38;5;241m=\u001b[39m tic_data \u001b[38;5;28;01mif\u001b[39;00m state \u001b[38;5;129;01mis\u001b[39;00m \u001b[38;5;28;01mNone\u001b[39;00m \u001b[38;5;28;01melse\u001b[39;00m \u001b[43mnp\u001b[49m\u001b[38;5;241;43m.\u001b[39;49m\u001b[43mappend\u001b[49m\u001b[43m(\u001b[49m\u001b[43mstate\u001b[49m\u001b[43m,\u001b[49m\u001b[43m \u001b[49m\u001b[43mtic_data\u001b[49m\u001b[43m,\u001b[49m\u001b[43m \u001b[49m\u001b[43maxis\u001b[49m\u001b[38;5;241;43m=\u001b[39;49m\u001b[38;5;241;43m2\u001b[39;49m\u001b[43m)\u001b[49m\n\u001b[0;32m    480\u001b[0m state \u001b[38;5;241m=\u001b[39m state\u001b[38;5;241m.\u001b[39mtranspose((\u001b[38;5;241m0\u001b[39m, \u001b[38;5;241m2\u001b[39m, \u001b[38;5;241m1\u001b[39m))\n\u001b[0;32m    481\u001b[0m info \u001b[38;5;241m=\u001b[39m {\n\u001b[0;32m    482\u001b[0m     \u001b[38;5;124m\"\u001b[39m\u001b[38;5;124mtics\u001b[39m\u001b[38;5;124m\"\u001b[39m: \u001b[38;5;28mself\u001b[39m\u001b[38;5;241m.\u001b[39m_tic_list,\n\u001b[0;32m    483\u001b[0m     \u001b[38;5;124m\"\u001b[39m\u001b[38;5;124mstart_time\u001b[39m\u001b[38;5;124m\"\u001b[39m: start_time,\n\u001b[1;32m   (...)\u001b[0m\n\u001b[0;32m    488\u001b[0m     \u001b[38;5;124m\"\u001b[39m\u001b[38;5;124mprice_variation\u001b[39m\u001b[38;5;124m\"\u001b[39m: \u001b[38;5;28mself\u001b[39m\u001b[38;5;241m.\u001b[39m_price_variation,\n\u001b[0;32m    489\u001b[0m }\n",
      "File \u001b[1;32mc:\\Users\\bencj\\Desktop\\Econ4\\Thesis\\.venv\\lib\\site-packages\\numpy\\lib\\function_base.py:5618\u001b[0m, in \u001b[0;36mappend\u001b[1;34m(arr, values, axis)\u001b[0m\n\u001b[0;32m   5616\u001b[0m     values \u001b[38;5;241m=\u001b[39m ravel(values)\n\u001b[0;32m   5617\u001b[0m     axis \u001b[38;5;241m=\u001b[39m arr\u001b[38;5;241m.\u001b[39mndim\u001b[38;5;241m-\u001b[39m\u001b[38;5;241m1\u001b[39m\n\u001b[1;32m-> 5618\u001b[0m \u001b[38;5;28;01mreturn\u001b[39;00m \u001b[43mconcatenate\u001b[49m\u001b[43m(\u001b[49m\u001b[43m(\u001b[49m\u001b[43marr\u001b[49m\u001b[43m,\u001b[49m\u001b[43m \u001b[49m\u001b[43mvalues\u001b[49m\u001b[43m)\u001b[49m\u001b[43m,\u001b[49m\u001b[43m \u001b[49m\u001b[43maxis\u001b[49m\u001b[38;5;241;43m=\u001b[39;49m\u001b[43maxis\u001b[49m\u001b[43m)\u001b[49m\n",
      "\u001b[1;31mKeyboardInterrupt\u001b[0m: "
     ]
    }
   ],
   "source": [
    "df_portfolio = portfolio_norm_df[[\"date\", \"tic\", \"close\", \"high\", \"low\", 'macd',\n",
    "            'rsi_30',\n",
    "            'cci_30',\n",
    "            'dx_30']]\n",
    "\n",
    "from datetime import datetime\n",
    "\n",
    "NUM_MODELS = 5\n",
    "\n",
    "\n",
    "for split_date in TRAIN_DATES:\n",
    "    df_portfolio_train = df_portfolio[(df_portfolio[\"date\"] >= TRAIN_START_DATE) & (df_portfolio[\"date\"] < split_date)]\n",
    "\n",
    "    df_portfolio_test = df_portfolio[(df_portfolio[\"date\"] > split_date) & (df_portfolio[\"date\"] < TEST_END_DATE)]\n",
    "\n",
    "    for i in range(0, NUM_MODELS):\n",
    "\n",
    "        print(\"=================\")\n",
    "        print(split_date)\n",
    "        print(i)\n",
    "\n",
    "        environment = PortfolioOptimizationEnv(\n",
    "                df_portfolio_train,\n",
    "                initial_amount=100000,\n",
    "                comission_fee_pct=0.0025,\n",
    "                time_window=50,\n",
    "                features=[\"close\", \"high\", \"low\", 'macd',\n",
    "                    'rsi_30',\n",
    "                    'cci_30',\n",
    "                    'dx_30'],\n",
    "                normalize_df=None\n",
    "            )\n",
    "\n",
    "        # set PolicyGradient parameters\n",
    "        model_kwargs = {\n",
    "            \"lr\": 0.01,\n",
    "            \"policy\": EIIE,\n",
    "        }\n",
    "\n",
    "        # here, we can set EIIE's parameters\n",
    "        policy_kwargs = {\n",
    "            \"k_size\": 3,\n",
    "            \"initial_features\":7,\n",
    "            \"time_window\": 50,\n",
    "        }\n",
    "\n",
    "        model = DRLAgent(environment).get_model(\"pg\", device, model_kwargs, policy_kwargs)\n",
    "\n",
    "        DRLAgent.train_model(model, episodes=40)\n",
    "\n",
    "        current_timestamp = datetime.now()\n",
    "        timestamp_string = current_timestamp.strftime(\"%Y-%m-%d %H:%M:%S\")\n",
    "\n",
    "        # FILE = f\"policy_EIIE_{split_date}_{str(i)}_{timestamp_string}.pt\"\n",
    "\n",
    "        torch.save(model.train_policy.state_dict(), \"policy_EIIE.pt\")\n",
    "\n",
    "        environment_test = PortfolioOptimizationEnv(\n",
    "            df_portfolio_test,\n",
    "            initial_amount=100000,\n",
    "            comission_fee_pct=0.0025,\n",
    "            time_window=50,\n",
    "            features=[\"close\", \"high\", \"low\", 'macd',\n",
    "            'rsi_30',\n",
    "            'cci_30',\n",
    "            'dx_30'],\n",
    "            normalize_df=None\n",
    "        )\n",
    "\n",
    "        EIIE_results = {\n",
    "            \"training\": environment._asset_memory[\"final\"],\n",
    "            \"test\": {},\n",
    "        }\n",
    "\n",
    "        # instantiate an architecture with the same arguments used in training\n",
    "        # and load with load_state_dict.\n",
    "        policy = EIIE(time_window=50, device=device, initial_features=7, k_size=3)\n",
    "        # policy.load_state_dict(torch.load(FILE))\n",
    "        \n",
    "        policy.load_state_dict(torch.load(\"policy_EIIE.pt\"))\n",
    "\n",
    "        environment.reset()\n",
    "        DRLAgent.DRL_validation(model, environment, policy=policy)\n",
    "        EIIE_results[\"training\"] = environment._asset_memory[\"final\"]\n",
    "\n",
    "\n",
    "        # 2020\n",
    "        DRLAgent.DRL_validation(model, environment_test, policy=policy)\n",
    "        EIIE_results[\"test\"][\"value\"] = environment_test._asset_memory[\"final\"]\n",
    "\n",
    "        UBAH_results = {\n",
    "            \"train\": {},\n",
    "            \"test\": {},\n",
    "        }\n",
    "\n",
    "        PORTFOLIO_SIZE = len(TEST_TICKER)\n",
    "\n",
    "        # train period\n",
    "        terminated = False\n",
    "        environment.reset()\n",
    "        while not terminated:\n",
    "            action = [0] + [1/PORTFOLIO_SIZE] * PORTFOLIO_SIZE\n",
    "            _, _, terminated, _ = environment.step(action)\n",
    "        UBAH_results[\"train\"][\"value\"] = environment._asset_memory[\"final\"]\n",
    "\n",
    "        # 2020\n",
    "        terminated = False\n",
    "        environment_test.reset()\n",
    "        while not terminated:\n",
    "            action = [0] + [1/PORTFOLIO_SIZE] * PORTFOLIO_SIZE\n",
    "            _, _, terminated, _ = environment_test.step(action)\n",
    "        UBAH_results[\"test\"][\"value\"] = environment_test._asset_memory[\"final\"]\n"
   ]
  },
  {
   "cell_type": "markdown",
   "metadata": {},
   "source": [
    "### Train Model"
   ]
  },
  {
   "cell_type": "code",
   "execution_count": null,
   "metadata": {},
   "outputs": [
    {
     "name": "stderr",
     "output_type": "stream",
     "text": [
      "  0%|          | 0/40 [00:00<?, ?it/s]"
     ]
    },
    {
     "name": "stdout",
     "output_type": "stream",
     "text": [
      "=================================\n",
      "Initial portfolio value:100000\n",
      "Final portfolio value: 1958396.5\n",
      "Final accumulative portfolio value: 19.583965\n",
      "Maximum DrawDown: -0.30520120295900544\n",
      "Sharpe ratio: 1.1565652909453532\n",
      "=================================\n"
     ]
    },
    {
     "name": "stderr",
     "output_type": "stream",
     "text": [
      "  2%|▎         | 1/40 [00:37<24:26, 37.59s/it]"
     ]
    },
    {
     "name": "stdout",
     "output_type": "stream",
     "text": [
      "=================================\n",
      "Initial portfolio value:100000\n",
      "Final portfolio value: 2673373.5\n",
      "Final accumulative portfolio value: 26.733735\n",
      "Maximum DrawDown: -0.3001341818144375\n",
      "Sharpe ratio: 1.1769115049119097\n",
      "=================================\n"
     ]
    },
    {
     "name": "stderr",
     "output_type": "stream",
     "text": [
      "  5%|▌         | 2/40 [01:23<27:03, 42.72s/it]"
     ]
    },
    {
     "name": "stdout",
     "output_type": "stream",
     "text": [
      "=================================\n",
      "Initial portfolio value:100000\n",
      "Final portfolio value: 3104070.0\n",
      "Final accumulative portfolio value: 31.0407\n",
      "Maximum DrawDown: -0.30769359388857154\n",
      "Sharpe ratio: 1.1594700277159495\n",
      "=================================\n"
     ]
    },
    {
     "name": "stderr",
     "output_type": "stream",
     "text": [
      "  8%|▊         | 3/40 [02:09<27:04, 43.92s/it]"
     ]
    },
    {
     "name": "stdout",
     "output_type": "stream",
     "text": [
      "=================================\n",
      "Initial portfolio value:100000\n",
      "Final portfolio value: 3257473.5\n",
      "Final accumulative portfolio value: 32.574735\n",
      "Maximum DrawDown: -0.3188991033785997\n",
      "Sharpe ratio: 1.1540243918383162\n",
      "=================================\n"
     ]
    },
    {
     "name": "stderr",
     "output_type": "stream",
     "text": [
      " 10%|█         | 4/40 [02:49<25:33, 42.59s/it]"
     ]
    },
    {
     "name": "stdout",
     "output_type": "stream",
     "text": [
      "=================================\n",
      "Initial portfolio value:100000\n",
      "Final portfolio value: 2503919.0\n",
      "Final accumulative portfolio value: 25.03919\n",
      "Maximum DrawDown: -0.33090874695781514\n",
      "Sharpe ratio: 1.2719800005494837\n",
      "=================================\n"
     ]
    },
    {
     "name": "stderr",
     "output_type": "stream",
     "text": [
      " 12%|█▎        | 5/40 [03:28<24:01, 41.19s/it]"
     ]
    },
    {
     "name": "stdout",
     "output_type": "stream",
     "text": [
      "=================================\n",
      "Initial portfolio value:100000\n",
      "Final portfolio value: 2824975.0\n",
      "Final accumulative portfolio value: 28.24975\n",
      "Maximum DrawDown: -0.3468525801464468\n",
      "Sharpe ratio: 1.3028201279984415\n",
      "=================================\n"
     ]
    },
    {
     "name": "stderr",
     "output_type": "stream",
     "text": [
      " 15%|█▌        | 6/40 [04:10<23:35, 41.62s/it]"
     ]
    },
    {
     "name": "stdout",
     "output_type": "stream",
     "text": [
      "=================================\n",
      "Initial portfolio value:100000\n",
      "Final portfolio value: 3128960.75\n",
      "Final accumulative portfolio value: 31.2896075\n",
      "Maximum DrawDown: -0.3524105610161633\n",
      "Sharpe ratio: 1.3128877504348149\n",
      "=================================\n"
     ]
    },
    {
     "name": "stderr",
     "output_type": "stream",
     "text": [
      " 18%|█▊        | 7/40 [04:47<21:54, 39.83s/it]"
     ]
    },
    {
     "name": "stdout",
     "output_type": "stream",
     "text": [
      "=================================\n",
      "Initial portfolio value:100000\n",
      "Final portfolio value: 3250123.0\n",
      "Final accumulative portfolio value: 32.50123\n",
      "Maximum DrawDown: -0.35392634911743326\n",
      "Sharpe ratio: 1.3169987955103746\n",
      "=================================\n"
     ]
    },
    {
     "name": "stderr",
     "output_type": "stream",
     "text": [
      " 20%|██        | 8/40 [05:29<21:40, 40.63s/it]"
     ]
    },
    {
     "name": "stdout",
     "output_type": "stream",
     "text": [
      "=================================\n",
      "Initial portfolio value:100000\n",
      "Final portfolio value: 3510849.25\n",
      "Final accumulative portfolio value: 35.1084925\n",
      "Maximum DrawDown: -0.35457902690108023\n",
      "Sharpe ratio: 1.3071059322743788\n",
      "=================================\n"
     ]
    },
    {
     "name": "stderr",
     "output_type": "stream",
     "text": [
      " 22%|██▎       | 9/40 [06:10<21:06, 40.85s/it]"
     ]
    },
    {
     "name": "stdout",
     "output_type": "stream",
     "text": [
      "=================================\n",
      "Initial portfolio value:100000\n",
      "Final portfolio value: 5532465.0\n",
      "Final accumulative portfolio value: 55.32465\n",
      "Maximum DrawDown: -0.37187194693191683\n",
      "Sharpe ratio: 1.2847834014896786\n",
      "=================================\n"
     ]
    },
    {
     "name": "stderr",
     "output_type": "stream",
     "text": [
      " 25%|██▌       | 10/40 [06:52<20:36, 41.20s/it]"
     ]
    },
    {
     "name": "stdout",
     "output_type": "stream",
     "text": [
      "=================================\n",
      "Initial portfolio value:100000\n",
      "Final portfolio value: 3439077.25\n",
      "Final accumulative portfolio value: 34.3907725\n",
      "Maximum DrawDown: -0.35511904510742687\n",
      "Sharpe ratio: 1.3246386336373621\n",
      "=================================\n"
     ]
    },
    {
     "name": "stderr",
     "output_type": "stream",
     "text": [
      " 28%|██▊       | 11/40 [07:27<19:01, 39.36s/it]"
     ]
    },
    {
     "name": "stdout",
     "output_type": "stream",
     "text": [
      "=================================\n",
      "Initial portfolio value:100000\n",
      "Final portfolio value: 3911968.0\n",
      "Final accumulative portfolio value: 39.11968\n",
      "Maximum DrawDown: -0.3554210262186409\n",
      "Sharpe ratio: 1.3167660848931673\n",
      "=================================\n"
     ]
    },
    {
     "name": "stderr",
     "output_type": "stream",
     "text": [
      " 30%|███       | 12/40 [08:01<17:32, 37.57s/it]"
     ]
    },
    {
     "name": "stdout",
     "output_type": "stream",
     "text": [
      "=================================\n",
      "Initial portfolio value:100000\n",
      "Final portfolio value: 5154100.5\n",
      "Final accumulative portfolio value: 51.541005\n",
      "Maximum DrawDown: -0.3745649415810328\n",
      "Sharpe ratio: 1.2279484990623395\n",
      "=================================\n"
     ]
    },
    {
     "name": "stderr",
     "output_type": "stream",
     "text": [
      " 32%|███▎      | 13/40 [08:36<16:31, 36.71s/it]"
     ]
    },
    {
     "name": "stdout",
     "output_type": "stream",
     "text": [
      "=================================\n",
      "Initial portfolio value:100000\n",
      "Final portfolio value: 5323997.0\n",
      "Final accumulative portfolio value: 53.23997\n",
      "Maximum DrawDown: -0.37473742731821647\n",
      "Sharpe ratio: 1.236810978513806\n",
      "=================================\n"
     ]
    },
    {
     "name": "stderr",
     "output_type": "stream",
     "text": [
      " 35%|███▌      | 14/40 [09:14<16:04, 37.10s/it]"
     ]
    },
    {
     "name": "stdout",
     "output_type": "stream",
     "text": [
      "=================================\n",
      "Initial portfolio value:100000\n",
      "Final portfolio value: 3308452.0\n",
      "Final accumulative portfolio value: 33.08452\n",
      "Maximum DrawDown: -0.35570409528098157\n",
      "Sharpe ratio: 1.267991276598877\n",
      "=================================\n"
     ]
    },
    {
     "name": "stderr",
     "output_type": "stream",
     "text": [
      " 38%|███▊      | 15/40 [09:58<16:21, 39.26s/it]"
     ]
    },
    {
     "name": "stdout",
     "output_type": "stream",
     "text": [
      "=================================\n",
      "Initial portfolio value:100000\n",
      "Final portfolio value: 3417761.5\n",
      "Final accumulative portfolio value: 34.177615\n",
      "Maximum DrawDown: -0.3557730766829933\n",
      "Sharpe ratio: 1.318638297074427\n",
      "=================================\n"
     ]
    },
    {
     "name": "stderr",
     "output_type": "stream",
     "text": [
      " 40%|████      | 16/40 [10:40<15:59, 39.99s/it]"
     ]
    },
    {
     "name": "stdout",
     "output_type": "stream",
     "text": [
      "=================================\n",
      "Initial portfolio value:100000\n",
      "Final portfolio value: 3497765.75\n",
      "Final accumulative portfolio value: 34.9776575\n",
      "Maximum DrawDown: -0.3559284590936215\n",
      "Sharpe ratio: 1.327648331890976\n",
      "=================================\n"
     ]
    },
    {
     "name": "stderr",
     "output_type": "stream",
     "text": [
      " 42%|████▎     | 17/40 [11:22<15:33, 40.60s/it]"
     ]
    },
    {
     "name": "stdout",
     "output_type": "stream",
     "text": [
      "=================================\n",
      "Initial portfolio value:100000\n",
      "Final portfolio value: 3513002.5\n",
      "Final accumulative portfolio value: 35.130025\n",
      "Maximum DrawDown: -0.35605538954551763\n",
      "Sharpe ratio: 1.3277559242076482\n",
      "=================================\n"
     ]
    },
    {
     "name": "stderr",
     "output_type": "stream",
     "text": [
      " 45%|████▌     | 18/40 [12:02<14:54, 40.67s/it]"
     ]
    },
    {
     "name": "stdout",
     "output_type": "stream",
     "text": [
      "=================================\n",
      "Initial portfolio value:100000\n",
      "Final portfolio value: 3521169.5\n",
      "Final accumulative portfolio value: 35.211695\n",
      "Maximum DrawDown: -0.35614092809736375\n",
      "Sharpe ratio: 1.328958125275801\n",
      "=================================\n"
     ]
    },
    {
     "name": "stderr",
     "output_type": "stream",
     "text": [
      " 48%|████▊     | 19/40 [12:45<14:24, 41.16s/it]"
     ]
    },
    {
     "name": "stdout",
     "output_type": "stream",
     "text": [
      "=================================\n",
      "Initial portfolio value:100000\n",
      "Final portfolio value: 3544196.5\n",
      "Final accumulative portfolio value: 35.441965\n",
      "Maximum DrawDown: -0.3562072789380354\n",
      "Sharpe ratio: 1.329809042159697\n",
      "=================================\n"
     ]
    },
    {
     "name": "stderr",
     "output_type": "stream",
     "text": [
      " 50%|█████     | 20/40 [13:26<13:43, 41.17s/it]"
     ]
    },
    {
     "name": "stdout",
     "output_type": "stream",
     "text": [
      "=================================\n",
      "Initial portfolio value:100000\n",
      "Final portfolio value: 3550096.5\n",
      "Final accumulative portfolio value: 35.500965\n",
      "Maximum DrawDown: -0.35625963156843665\n",
      "Sharpe ratio: 1.3307800467313944\n",
      "=================================\n"
     ]
    },
    {
     "name": "stderr",
     "output_type": "stream",
     "text": [
      " 52%|█████▎    | 21/40 [14:07<13:02, 41.16s/it]"
     ]
    },
    {
     "name": "stdout",
     "output_type": "stream",
     "text": [
      "=================================\n",
      "Initial portfolio value:100000\n",
      "Final portfolio value: 3576087.0\n",
      "Final accumulative portfolio value: 35.76087\n",
      "Maximum DrawDown: -0.35630015332318643\n",
      "Sharpe ratio: 1.3322572280403382\n",
      "=================================\n"
     ]
    },
    {
     "name": "stderr",
     "output_type": "stream",
     "text": [
      " 55%|█████▌    | 22/40 [14:47<12:13, 40.77s/it]"
     ]
    },
    {
     "name": "stdout",
     "output_type": "stream",
     "text": [
      "=================================\n",
      "Initial portfolio value:100000\n",
      "Final portfolio value: 3591728.0\n",
      "Final accumulative portfolio value: 35.91728\n",
      "Maximum DrawDown: -0.35633478674045993\n",
      "Sharpe ratio: 1.3333116305516008\n",
      "=================================\n"
     ]
    },
    {
     "name": "stderr",
     "output_type": "stream",
     "text": [
      " 57%|█████▊    | 23/40 [15:27<11:30, 40.61s/it]"
     ]
    },
    {
     "name": "stdout",
     "output_type": "stream",
     "text": [
      "=================================\n",
      "Initial portfolio value:100000\n",
      "Final portfolio value: 3608139.0\n",
      "Final accumulative portfolio value: 36.08139\n",
      "Maximum DrawDown: -0.3563636789331881\n",
      "Sharpe ratio: 1.3346508606314595\n",
      "=================================\n"
     ]
    },
    {
     "name": "stderr",
     "output_type": "stream",
     "text": [
      " 60%|██████    | 24/40 [16:08<10:50, 40.64s/it]"
     ]
    },
    {
     "name": "stdout",
     "output_type": "stream",
     "text": [
      "=================================\n",
      "Initial portfolio value:100000\n",
      "Final portfolio value: 3623134.5\n",
      "Final accumulative portfolio value: 36.231345\n",
      "Maximum DrawDown: -0.35638714647250824\n",
      "Sharpe ratio: 1.3354170235531333\n",
      "=================================\n"
     ]
    },
    {
     "name": "stderr",
     "output_type": "stream",
     "text": [
      " 62%|██████▎   | 25/40 [16:52<10:23, 41.55s/it]"
     ]
    },
    {
     "name": "stdout",
     "output_type": "stream",
     "text": [
      "=================================\n",
      "Initial portfolio value:100000\n",
      "Final portfolio value: 3630157.5\n",
      "Final accumulative portfolio value: 36.301575\n",
      "Maximum DrawDown: -0.35640768211970764\n",
      "Sharpe ratio: 1.3369499118376469\n",
      "=================================\n"
     ]
    },
    {
     "name": "stderr",
     "output_type": "stream",
     "text": [
      " 65%|██████▌   | 26/40 [17:36<09:54, 42.45s/it]"
     ]
    },
    {
     "name": "stdout",
     "output_type": "stream",
     "text": [
      "=================================\n",
      "Initial portfolio value:100000\n",
      "Final portfolio value: 3660747.25\n",
      "Final accumulative portfolio value: 36.6074725\n",
      "Maximum DrawDown: -0.35642537499431604\n",
      "Sharpe ratio: 1.3385252434943187\n",
      "=================================\n"
     ]
    },
    {
     "name": "stderr",
     "output_type": "stream",
     "text": [
      " 68%|██████▊   | 27/40 [18:21<09:19, 43.06s/it]"
     ]
    },
    {
     "name": "stdout",
     "output_type": "stream",
     "text": [
      "=================================\n",
      "Initial portfolio value:100000\n",
      "Final portfolio value: 3669604.5\n",
      "Final accumulative portfolio value: 36.696045\n",
      "Maximum DrawDown: -0.35644141307642685\n",
      "Sharpe ratio: 1.340503285487601\n",
      "=================================\n"
     ]
    },
    {
     "name": "stderr",
     "output_type": "stream",
     "text": [
      " 70%|███████   | 28/40 [19:03<08:35, 42.95s/it]"
     ]
    },
    {
     "name": "stdout",
     "output_type": "stream",
     "text": [
      "=================================\n",
      "Initial portfolio value:100000\n",
      "Final portfolio value: 3700970.5\n",
      "Final accumulative portfolio value: 37.009705\n",
      "Maximum DrawDown: -0.3564556101372539\n",
      "Sharpe ratio: 1.3419810818543871\n",
      "=================================\n"
     ]
    },
    {
     "name": "stderr",
     "output_type": "stream",
     "text": [
      " 72%|███████▎  | 29/40 [19:50<08:06, 44.18s/it]"
     ]
    },
    {
     "name": "stdout",
     "output_type": "stream",
     "text": [
      "=================================\n",
      "Initial portfolio value:100000\n",
      "Final portfolio value: 3706175.75\n",
      "Final accumulative portfolio value: 37.0617575\n",
      "Maximum DrawDown: -0.35646694129053635\n",
      "Sharpe ratio: 1.3443131056267335\n",
      "=================================\n"
     ]
    },
    {
     "name": "stderr",
     "output_type": "stream",
     "text": [
      " 75%|███████▌  | 30/40 [20:33<07:18, 43.82s/it]"
     ]
    },
    {
     "name": "stdout",
     "output_type": "stream",
     "text": [
      "=================================\n",
      "Initial portfolio value:100000\n",
      "Final portfolio value: 3765160.5\n",
      "Final accumulative portfolio value: 37.651605\n",
      "Maximum DrawDown: -0.3564786813018046\n",
      "Sharpe ratio: 1.3481864444968992\n",
      "=================================\n"
     ]
    },
    {
     "name": "stderr",
     "output_type": "stream",
     "text": [
      " 78%|███████▊  | 31/40 [21:17<06:34, 43.79s/it]"
     ]
    },
    {
     "name": "stdout",
     "output_type": "stream",
     "text": [
      "=================================\n",
      "Initial portfolio value:100000\n",
      "Final portfolio value: 3797120.5\n",
      "Final accumulative portfolio value: 37.971205\n",
      "Maximum DrawDown: -0.35649166016756795\n",
      "Sharpe ratio: 1.3510651139356495\n",
      "=================================\n"
     ]
    },
    {
     "name": "stderr",
     "output_type": "stream",
     "text": [
      " 80%|████████  | 32/40 [21:59<05:45, 43.24s/it]"
     ]
    },
    {
     "name": "stdout",
     "output_type": "stream",
     "text": [
      "=================================\n",
      "Initial portfolio value:100000\n",
      "Final portfolio value: 3813483.0\n",
      "Final accumulative portfolio value: 38.13483\n",
      "Maximum DrawDown: -0.35649774742895923\n",
      "Sharpe ratio: 1.3537278751193325\n",
      "=================================\n"
     ]
    },
    {
     "name": "stderr",
     "output_type": "stream",
     "text": [
      " 82%|████████▎ | 33/40 [22:40<04:57, 42.49s/it]"
     ]
    },
    {
     "name": "stdout",
     "output_type": "stream",
     "text": [
      "=================================\n",
      "Initial portfolio value:100000\n",
      "Final portfolio value: 3794414.25\n",
      "Final accumulative portfolio value: 37.9441425\n",
      "Maximum DrawDown: -0.3565050600193611\n",
      "Sharpe ratio: 1.3503244522884725\n",
      "=================================\n"
     ]
    },
    {
     "name": "stderr",
     "output_type": "stream",
     "text": [
      " 85%|████████▌ | 34/40 [23:22<04:14, 42.49s/it]"
     ]
    },
    {
     "name": "stdout",
     "output_type": "stream",
     "text": [
      "=================================\n",
      "Initial portfolio value:100000\n",
      "Final portfolio value: 3807726.0\n",
      "Final accumulative portfolio value: 38.07726\n",
      "Maximum DrawDown: -0.3565128201841168\n",
      "Sharpe ratio: 1.3550185522386886\n",
      "=================================\n"
     ]
    },
    {
     "name": "stderr",
     "output_type": "stream",
     "text": [
      " 88%|████████▊ | 35/40 [24:06<03:34, 42.83s/it]"
     ]
    },
    {
     "name": "stdout",
     "output_type": "stream",
     "text": [
      "=================================\n",
      "Initial portfolio value:100000\n",
      "Final portfolio value: 3938381.0\n",
      "Final accumulative portfolio value: 39.38381\n",
      "Maximum DrawDown: -0.3565198969145309\n",
      "Sharpe ratio: 1.3649170108690671\n",
      "=================================\n"
     ]
    },
    {
     "name": "stderr",
     "output_type": "stream",
     "text": [
      " 90%|█████████ | 36/40 [24:50<02:52, 43.23s/it]"
     ]
    },
    {
     "name": "stdout",
     "output_type": "stream",
     "text": [
      "=================================\n",
      "Initial portfolio value:100000\n",
      "Final portfolio value: 3979621.25\n",
      "Final accumulative portfolio value: 39.7962125\n",
      "Maximum DrawDown: -0.3565255802576264\n",
      "Sharpe ratio: 1.3668256543630617\n",
      "=================================\n"
     ]
    },
    {
     "name": "stderr",
     "output_type": "stream",
     "text": [
      " 92%|█████████▎| 37/40 [25:32<02:08, 42.94s/it]"
     ]
    },
    {
     "name": "stdout",
     "output_type": "stream",
     "text": [
      "=================================\n",
      "Initial portfolio value:100000\n",
      "Final portfolio value: 4106552.75\n",
      "Final accumulative portfolio value: 41.0655275\n",
      "Maximum DrawDown: -0.35652908851816056\n",
      "Sharpe ratio: 1.3610999571303466\n",
      "=================================\n"
     ]
    },
    {
     "name": "stderr",
     "output_type": "stream",
     "text": [
      " 95%|█████████▌| 38/40 [26:16<01:26, 43.18s/it]"
     ]
    },
    {
     "name": "stdout",
     "output_type": "stream",
     "text": [
      "=================================\n",
      "Initial portfolio value:100000\n",
      "Final portfolio value: 4087476.5\n",
      "Final accumulative portfolio value: 40.874765\n",
      "Maximum DrawDown: -0.3565325258093377\n",
      "Sharpe ratio: 1.3730398519367388\n",
      "=================================\n"
     ]
    },
    {
     "name": "stderr",
     "output_type": "stream",
     "text": [
      " 98%|█████████▊| 39/40 [26:54<00:41, 41.61s/it]"
     ]
    },
    {
     "name": "stdout",
     "output_type": "stream",
     "text": [
      "=================================\n",
      "Initial portfolio value:100000\n",
      "Final portfolio value: 3881257.5\n",
      "Final accumulative portfolio value: 38.812575\n",
      "Maximum DrawDown: -0.35653697422205255\n",
      "Sharpe ratio: 1.3609118883892033\n",
      "=================================\n"
     ]
    },
    {
     "name": "stderr",
     "output_type": "stream",
     "text": [
      "100%|██████████| 40/40 [27:29<00:00, 41.24s/it]\n"
     ]
    },
    {
     "data": {
      "text/plain": [
       "<finrl.agents.portfolio_optimization.algorithms.PolicyGradient at 0x1cb8f2267d0>"
      ]
     },
     "execution_count": 123,
     "metadata": {},
     "output_type": "execute_result"
    }
   ],
   "source": []
  },
  {
   "cell_type": "markdown",
   "metadata": {
    "id": "JE7X3qEeXOr4"
   },
   "source": [
    "### Save Model"
   ]
  },
  {
   "cell_type": "markdown",
   "metadata": {
    "id": "7FRK9A98XVck"
   },
   "source": [
    "## Test Model"
   ]
  },
  {
   "cell_type": "markdown",
   "metadata": {
    "id": "IFYB9iGwAPSh"
   },
   "source": [
    "### Instantiate different environments\n",
    "\n",
    "Since we have three different periods of time, we need three different environments instantiated to simulate them."
   ]
  },
  {
   "cell_type": "markdown",
   "metadata": {
    "id": "Y4RuS2pRAa4H"
   },
   "source": [
    "### Test EIIE architecture\n",
    "Now, we can test the EIIE architecture in the three different test periods. It's important no note that, in this code, we load the saved policy even though it's not necessary just to show how to save and load your model."
   ]
  },
  {
   "cell_type": "markdown",
   "metadata": {
    "id": "LZc5PpbaBU-J"
   },
   "source": [
    "### Test Uniform Buy and Hold\n",
    "For comparison, we will also test the performance of a uniform buy and hold strategy. In this strategy, the portfolio has no remaining cash and the same percentage of money is allocated in each asset."
   ]
  },
  {
   "cell_type": "markdown",
   "metadata": {
    "id": "kBMM7hAHC6rq"
   },
   "source": [
    "### Plot graphics"
   ]
  },
  {
   "cell_type": "markdown",
   "metadata": {},
   "source": [
    "We can see that the agent is able to learn a good policy but its performance is worse the more the test period advances into the future. To get a better performance in 2022, for example, the agent should probably be trained again using more recent data."
   ]
  }
 ],
 "metadata": {
  "accelerator": "GPU",
  "colab": {
   "gpuType": "T4",
   "provenance": []
  },
  "kernelspec": {
   "display_name": ".venv",
   "language": "python",
   "name": "python3"
  },
  "language_info": {
   "codemirror_mode": {
    "name": "ipython",
    "version": 3
   },
   "file_extension": ".py",
   "mimetype": "text/x-python",
   "name": "python",
   "nbconvert_exporter": "python",
   "pygments_lexer": "ipython3",
   "version": "3.10.0"
  },
  "widgets": {
   "application/vnd.jupyter.widget-state+json": {
    "1f84695a1caf4c80b29eb5eea90bb29a": {
     "model_module": "@jupyter-widgets/base",
     "model_module_version": "1.2.0",
     "model_name": "LayoutModel",
     "state": {
      "_model_module": "@jupyter-widgets/base",
      "_model_module_version": "1.2.0",
      "_model_name": "LayoutModel",
      "_view_count": null,
      "_view_module": "@jupyter-widgets/base",
      "_view_module_version": "1.2.0",
      "_view_name": "LayoutView",
      "align_content": null,
      "align_items": null,
      "align_self": null,
      "border": null,
      "bottom": null,
      "display": null,
      "flex": null,
      "flex_flow": null,
      "grid_area": null,
      "grid_auto_columns": null,
      "grid_auto_flow": null,
      "grid_auto_rows": null,
      "grid_column": null,
      "grid_gap": null,
      "grid_row": null,
      "grid_template_areas": null,
      "grid_template_columns": null,
      "grid_template_rows": null,
      "height": null,
      "justify_content": null,
      "justify_items": null,
      "left": null,
      "margin": null,
      "max_height": null,
      "max_width": null,
      "min_height": null,
      "min_width": null,
      "object_fit": null,
      "object_position": null,
      "order": null,
      "overflow": null,
      "overflow_x": null,
      "overflow_y": null,
      "padding": null,
      "right": null,
      "top": null,
      "visibility": null,
      "width": null
     }
    },
    "317393fb13c0449abfff29a4949553a0": {
     "model_module": "@jupyter-widgets/controls",
     "model_module_version": "1.5.0",
     "model_name": "HTMLModel",
     "state": {
      "_dom_classes": [],
      "_model_module": "@jupyter-widgets/controls",
      "_model_module_version": "1.5.0",
      "_model_name": "HTMLModel",
      "_view_count": null,
      "_view_module": "@jupyter-widgets/controls",
      "_view_module_version": "1.5.0",
      "_view_name": "HTMLView",
      "description": "",
      "description_tooltip": null,
      "layout": "IPY_MODEL_1f84695a1caf4c80b29eb5eea90bb29a",
      "placeholder": "​",
      "style": "IPY_MODEL_a7a6884bfdb642b9b342f7cda49d7d67",
      "value": " 10/250 [05:53&lt;2:10:07, 32.53s/it]"
     }
    },
    "4b2aa7128c5d4d15bb794eb76faccd6a": {
     "model_module": "@jupyter-widgets/controls",
     "model_module_version": "1.5.0",
     "model_name": "FloatProgressModel",
     "state": {
      "_dom_classes": [],
      "_model_module": "@jupyter-widgets/controls",
      "_model_module_version": "1.5.0",
      "_model_name": "FloatProgressModel",
      "_view_count": null,
      "_view_module": "@jupyter-widgets/controls",
      "_view_module_version": "1.5.0",
      "_view_name": "ProgressView",
      "bar_style": "danger",
      "description": "",
      "description_tooltip": null,
      "layout": "IPY_MODEL_6a1187acb99d44c68e27cd5aad879ff1",
      "max": 250,
      "min": 0,
      "orientation": "horizontal",
      "style": "IPY_MODEL_6a5c9dbaddc441d390d4827c170cbe9c",
      "value": 10
     }
    },
    "6a1187acb99d44c68e27cd5aad879ff1": {
     "model_module": "@jupyter-widgets/base",
     "model_module_version": "1.2.0",
     "model_name": "LayoutModel",
     "state": {
      "_model_module": "@jupyter-widgets/base",
      "_model_module_version": "1.2.0",
      "_model_name": "LayoutModel",
      "_view_count": null,
      "_view_module": "@jupyter-widgets/base",
      "_view_module_version": "1.2.0",
      "_view_name": "LayoutView",
      "align_content": null,
      "align_items": null,
      "align_self": null,
      "border": null,
      "bottom": null,
      "display": null,
      "flex": null,
      "flex_flow": null,
      "grid_area": null,
      "grid_auto_columns": null,
      "grid_auto_flow": null,
      "grid_auto_rows": null,
      "grid_column": null,
      "grid_gap": null,
      "grid_row": null,
      "grid_template_areas": null,
      "grid_template_columns": null,
      "grid_template_rows": null,
      "height": null,
      "justify_content": null,
      "justify_items": null,
      "left": null,
      "margin": null,
      "max_height": null,
      "max_width": null,
      "min_height": null,
      "min_width": null,
      "object_fit": null,
      "object_position": null,
      "order": null,
      "overflow": null,
      "overflow_x": null,
      "overflow_y": null,
      "padding": null,
      "right": null,
      "top": null,
      "visibility": null,
      "width": null
     }
    },
    "6a5c9dbaddc441d390d4827c170cbe9c": {
     "model_module": "@jupyter-widgets/controls",
     "model_module_version": "1.5.0",
     "model_name": "ProgressStyleModel",
     "state": {
      "_model_module": "@jupyter-widgets/controls",
      "_model_module_version": "1.5.0",
      "_model_name": "ProgressStyleModel",
      "_view_count": null,
      "_view_module": "@jupyter-widgets/base",
      "_view_module_version": "1.2.0",
      "_view_name": "StyleView",
      "bar_color": null,
      "description_width": ""
     }
    },
    "750b2ea28d2a439db3fc5034927dbce2": {
     "model_module": "@jupyter-widgets/controls",
     "model_module_version": "1.5.0",
     "model_name": "HBoxModel",
     "state": {
      "_dom_classes": [],
      "_model_module": "@jupyter-widgets/controls",
      "_model_module_version": "1.5.0",
      "_model_name": "HBoxModel",
      "_view_count": null,
      "_view_module": "@jupyter-widgets/controls",
      "_view_module_version": "1.5.0",
      "_view_name": "HBoxView",
      "box_style": "",
      "children": [
       "IPY_MODEL_c172e120fc5e4f9ab13bf8599d868b5f",
       "IPY_MODEL_4b2aa7128c5d4d15bb794eb76faccd6a",
       "IPY_MODEL_317393fb13c0449abfff29a4949553a0"
      ],
      "layout": "IPY_MODEL_8cb75a82e5374c51b1f47a6e15783177"
     }
    },
    "8cb75a82e5374c51b1f47a6e15783177": {
     "model_module": "@jupyter-widgets/base",
     "model_module_version": "1.2.0",
     "model_name": "LayoutModel",
     "state": {
      "_model_module": "@jupyter-widgets/base",
      "_model_module_version": "1.2.0",
      "_model_name": "LayoutModel",
      "_view_count": null,
      "_view_module": "@jupyter-widgets/base",
      "_view_module_version": "1.2.0",
      "_view_name": "LayoutView",
      "align_content": null,
      "align_items": null,
      "align_self": null,
      "border": null,
      "bottom": null,
      "display": null,
      "flex": null,
      "flex_flow": null,
      "grid_area": null,
      "grid_auto_columns": null,
      "grid_auto_flow": null,
      "grid_auto_rows": null,
      "grid_column": null,
      "grid_gap": null,
      "grid_row": null,
      "grid_template_areas": null,
      "grid_template_columns": null,
      "grid_template_rows": null,
      "height": null,
      "justify_content": null,
      "justify_items": null,
      "left": null,
      "margin": null,
      "max_height": null,
      "max_width": null,
      "min_height": null,
      "min_width": null,
      "object_fit": null,
      "object_position": null,
      "order": null,
      "overflow": null,
      "overflow_x": null,
      "overflow_y": null,
      "padding": null,
      "right": null,
      "top": null,
      "visibility": null,
      "width": null
     }
    },
    "9cb3d937be5d4f7cac192b392218ef37": {
     "model_module": "@jupyter-widgets/base",
     "model_module_version": "1.2.0",
     "model_name": "LayoutModel",
     "state": {
      "_model_module": "@jupyter-widgets/base",
      "_model_module_version": "1.2.0",
      "_model_name": "LayoutModel",
      "_view_count": null,
      "_view_module": "@jupyter-widgets/base",
      "_view_module_version": "1.2.0",
      "_view_name": "LayoutView",
      "align_content": null,
      "align_items": null,
      "align_self": null,
      "border": null,
      "bottom": null,
      "display": null,
      "flex": null,
      "flex_flow": null,
      "grid_area": null,
      "grid_auto_columns": null,
      "grid_auto_flow": null,
      "grid_auto_rows": null,
      "grid_column": null,
      "grid_gap": null,
      "grid_row": null,
      "grid_template_areas": null,
      "grid_template_columns": null,
      "grid_template_rows": null,
      "height": null,
      "justify_content": null,
      "justify_items": null,
      "left": null,
      "margin": null,
      "max_height": null,
      "max_width": null,
      "min_height": null,
      "min_width": null,
      "object_fit": null,
      "object_position": null,
      "order": null,
      "overflow": null,
      "overflow_x": null,
      "overflow_y": null,
      "padding": null,
      "right": null,
      "top": null,
      "visibility": null,
      "width": null
     }
    },
    "a7a6884bfdb642b9b342f7cda49d7d67": {
     "model_module": "@jupyter-widgets/controls",
     "model_module_version": "1.5.0",
     "model_name": "DescriptionStyleModel",
     "state": {
      "_model_module": "@jupyter-widgets/controls",
      "_model_module_version": "1.5.0",
      "_model_name": "DescriptionStyleModel",
      "_view_count": null,
      "_view_module": "@jupyter-widgets/base",
      "_view_module_version": "1.2.0",
      "_view_name": "StyleView",
      "description_width": ""
     }
    },
    "b27b9cc333ac44a5bb2cec60d02f16c0": {
     "model_module": "@jupyter-widgets/controls",
     "model_module_version": "1.5.0",
     "model_name": "DescriptionStyleModel",
     "state": {
      "_model_module": "@jupyter-widgets/controls",
      "_model_module_version": "1.5.0",
      "_model_name": "DescriptionStyleModel",
      "_view_count": null,
      "_view_module": "@jupyter-widgets/base",
      "_view_module_version": "1.2.0",
      "_view_name": "StyleView",
      "description_width": ""
     }
    },
    "c172e120fc5e4f9ab13bf8599d868b5f": {
     "model_module": "@jupyter-widgets/controls",
     "model_module_version": "1.5.0",
     "model_name": "HTMLModel",
     "state": {
      "_dom_classes": [],
      "_model_module": "@jupyter-widgets/controls",
      "_model_module_version": "1.5.0",
      "_model_name": "HTMLModel",
      "_view_count": null,
      "_view_module": "@jupyter-widgets/controls",
      "_view_module_version": "1.5.0",
      "_view_name": "HTMLView",
      "description": "",
      "description_tooltip": null,
      "layout": "IPY_MODEL_9cb3d937be5d4f7cac192b392218ef37",
      "placeholder": "​",
      "style": "IPY_MODEL_b27b9cc333ac44a5bb2cec60d02f16c0",
      "value": "  4%"
     }
    }
   }
  }
 },
 "nbformat": 4,
 "nbformat_minor": 1
}
