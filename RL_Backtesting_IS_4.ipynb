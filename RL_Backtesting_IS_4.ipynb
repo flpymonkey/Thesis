{
 "cells": [
  {
   "cell_type": "code",
   "execution_count": null,
   "metadata": {},
   "outputs": [
    {
     "name": "stderr",
     "output_type": "stream",
     "text": [
      "[*********************100%***********************]  1 of 1 completed\n",
      "[*********************100%***********************]  1 of 1 completed\n",
      "[*********************100%***********************]  1 of 1 completed\n",
      "[*********************100%***********************]  1 of 1 completed"
     ]
    },
    {
     "name": "stdout",
     "output_type": "stream",
     "text": [
      "Shape of DataFrame:  (12844, 8)\n"
     ]
    },
    {
     "name": "stderr",
     "output_type": "stream",
     "text": [
      "\n"
     ]
    }
   ],
   "source": [
    "import pandas as pd\n",
    "from stable_baselines3.common.logger import configure\n",
    "\n",
    "from finrl.agents.stablebaselines3.models import DRLAgent as StockDRLAgent\n",
    "from finrl.agents.portfolio_optimization.models import DRLAgent as OptDRLAgent\n",
    "\n",
    "from finrl.config import TRAINED_MODEL_DIR, RESULTS_DIR\n",
    "from finrl.main import check_and_make_directories\n",
    "from finrl.meta.env_stock_trading.env_stocktrading import StockTradingEnv\n",
    "\n",
    "import numpy as np\n",
    "\n",
    "\n",
    "TIME_WINDOW = 25\n",
    "COMMISSION_FEE_PERCENT = 0.001\n",
    "INITIAL_CASH = 1000000\n",
    "\n",
    "\n",
    "TRAIN_START_DATE = '2009-04-01'\n",
    "TRAIN_END_DATE = '2021-12-31'\n",
    "\n",
    "TEST_TICKER = [\n",
    "   \"AXP\",\n",
    "    \"AMGN\",\n",
    "    \"AAPL\",\n",
    "    \"BA\",\n",
    "]\n",
    "\n",
    "TRAINED_PPO = \"/agent_opt_ppo_update_4_1116_2020\"\n",
    "\n",
    "GRAPH_TITLE = \"PPO Trained 2009-2021, Portfolio Size Four\"\n",
    "\n",
    "\n",
    "# Backtest the results\n",
    "\n",
    "\n",
    "from finrl.meta.preprocessor.yahoodownloader import YahooDownloader\n",
    "\n",
    "\n",
    "\n",
    "df = YahooDownloader(start_date = TRAIN_START_DATE,\n",
    "                     end_date = TRAIN_END_DATE,\n",
    "                     ticker_list = TEST_TICKER).fetch_data()\n",
    "\n",
    "processed = df.copy()\n",
    "processed = processed.fillna(0)\n",
    "processed_test = processed.replace(np.inf,0)"
   ]
  },
  {
   "cell_type": "code",
   "execution_count": 2,
   "metadata": {},
   "outputs": [
    {
     "name": "stderr",
     "output_type": "stream",
     "text": [
      "c:\\Users\\bencj\\Desktop\\Econ4\\Thesis\\.venv\\lib\\site-packages\\finrl\\meta\\preprocessor\\preprocessors.py:101: FutureWarning: Setting an item of incompatible dtype is deprecated and will raise an error in a future version of pandas. Value '[0.31332941 0.43188074 0.33824661 ... 0.0420757  0.03314671 0.03177728]' has dtype incompatible with int64, please explicitly cast to a compatible dtype first.\n",
      "  X.loc[select_mask, self.columns] = self.scalers[value].transform(\n",
      "c:\\Users\\bencj\\Desktop\\Econ4\\Thesis\\.venv\\lib\\site-packages\\finrl\\meta\\preprocessor\\preprocessors.py:101: FutureWarning: Setting an item of incompatible dtype is deprecated and will raise an error in a future version of pandas. Value '[0.5  0.75 1.   ... 0.25 0.5  0.75]' has dtype incompatible with int32, please explicitly cast to a compatible dtype first.\n",
      "  X.loc[select_mask, self.columns] = self.scalers[value].transform(\n"
     ]
    },
    {
     "data": {
      "text/html": [
       "<div>\n",
       "<style scoped>\n",
       "    .dataframe tbody tr th:only-of-type {\n",
       "        vertical-align: middle;\n",
       "    }\n",
       "\n",
       "    .dataframe tbody tr th {\n",
       "        vertical-align: top;\n",
       "    }\n",
       "\n",
       "    .dataframe thead th {\n",
       "        text-align: right;\n",
       "    }\n",
       "</style>\n",
       "<table border=\"1\" class=\"dataframe\">\n",
       "  <thead>\n",
       "    <tr style=\"text-align: right;\">\n",
       "      <th></th>\n",
       "      <th>date</th>\n",
       "      <th>open</th>\n",
       "      <th>high</th>\n",
       "      <th>low</th>\n",
       "      <th>close</th>\n",
       "      <th>volume</th>\n",
       "      <th>tic</th>\n",
       "      <th>day</th>\n",
       "    </tr>\n",
       "  </thead>\n",
       "  <tbody>\n",
       "    <tr>\n",
       "      <th>0</th>\n",
       "      <td>2009-04-01</td>\n",
       "      <td>0.020525</td>\n",
       "      <td>0.021374</td>\n",
       "      <td>0.020783</td>\n",
       "      <td>0.018456</td>\n",
       "      <td>0.313329</td>\n",
       "      <td>AAPL</td>\n",
       "      <td>0.50</td>\n",
       "    </tr>\n",
       "    <tr>\n",
       "      <th>1</th>\n",
       "      <td>2009-04-01</td>\n",
       "      <td>0.187320</td>\n",
       "      <td>0.176841</td>\n",
       "      <td>0.182332</td>\n",
       "      <td>0.147583</td>\n",
       "      <td>0.216841</td>\n",
       "      <td>AMGN</td>\n",
       "      <td>0.50</td>\n",
       "    </tr>\n",
       "    <tr>\n",
       "      <th>2</th>\n",
       "      <td>2009-04-01</td>\n",
       "      <td>0.071440</td>\n",
       "      <td>0.077448</td>\n",
       "      <td>0.071789</td>\n",
       "      <td>0.063745</td>\n",
       "      <td>0.306650</td>\n",
       "      <td>AXP</td>\n",
       "      <td>0.50</td>\n",
       "    </tr>\n",
       "    <tr>\n",
       "      <th>3</th>\n",
       "      <td>2009-04-01</td>\n",
       "      <td>0.077397</td>\n",
       "      <td>0.079819</td>\n",
       "      <td>0.077716</td>\n",
       "      <td>0.062400</td>\n",
       "      <td>0.089997</td>\n",
       "      <td>BA</td>\n",
       "      <td>0.50</td>\n",
       "    </tr>\n",
       "    <tr>\n",
       "      <th>4</th>\n",
       "      <td>2009-04-02</td>\n",
       "      <td>0.021718</td>\n",
       "      <td>0.022502</td>\n",
       "      <td>0.021961</td>\n",
       "      <td>0.019138</td>\n",
       "      <td>0.431881</td>\n",
       "      <td>AAPL</td>\n",
       "      <td>0.75</td>\n",
       "    </tr>\n",
       "    <tr>\n",
       "      <th>...</th>\n",
       "      <td>...</td>\n",
       "      <td>...</td>\n",
       "      <td>...</td>\n",
       "      <td>...</td>\n",
       "      <td>...</td>\n",
       "      <td>...</td>\n",
       "      <td>...</td>\n",
       "      <td>...</td>\n",
       "    </tr>\n",
       "    <tr>\n",
       "      <th>12839</th>\n",
       "      <td>2021-12-29</td>\n",
       "      <td>0.460438</td>\n",
       "      <td>0.460550</td>\n",
       "      <td>0.460256</td>\n",
       "      <td>0.473298</td>\n",
       "      <td>0.059285</td>\n",
       "      <td>BA</td>\n",
       "      <td>0.50</td>\n",
       "    </tr>\n",
       "    <tr>\n",
       "      <th>12840</th>\n",
       "      <td>2021-12-30</td>\n",
       "      <td>0.990890</td>\n",
       "      <td>0.991435</td>\n",
       "      <td>0.997535</td>\n",
       "      <td>0.988188</td>\n",
       "      <td>0.031777</td>\n",
       "      <td>AAPL</td>\n",
       "      <td>0.75</td>\n",
       "    </tr>\n",
       "    <tr>\n",
       "      <th>12841</th>\n",
       "      <td>2021-12-30</td>\n",
       "      <td>0.874006</td>\n",
       "      <td>0.829629</td>\n",
       "      <td>0.875426</td>\n",
       "      <td>0.894316</td>\n",
       "      <td>0.030126</td>\n",
       "      <td>AMGN</td>\n",
       "      <td>0.75</td>\n",
       "    </tr>\n",
       "    <tr>\n",
       "      <th>12842</th>\n",
       "      <td>2021-12-30</td>\n",
       "      <td>0.881594</td>\n",
       "      <td>0.877109</td>\n",
       "      <td>0.900110</td>\n",
       "      <td>0.877486</td>\n",
       "      <td>0.018076</td>\n",
       "      <td>AXP</td>\n",
       "      <td>0.75</td>\n",
       "    </tr>\n",
       "    <tr>\n",
       "      <th>12843</th>\n",
       "      <td>2021-12-30</td>\n",
       "      <td>0.455147</td>\n",
       "      <td>0.461873</td>\n",
       "      <td>0.460256</td>\n",
       "      <td>0.471090</td>\n",
       "      <td>0.067943</td>\n",
       "      <td>BA</td>\n",
       "      <td>0.75</td>\n",
       "    </tr>\n",
       "  </tbody>\n",
       "</table>\n",
       "<p>12844 rows × 8 columns</p>\n",
       "</div>"
      ],
      "text/plain": [
       "             date      open      high       low     close    volume   tic  \\\n",
       "0      2009-04-01  0.020525  0.021374  0.020783  0.018456  0.313329  AAPL   \n",
       "1      2009-04-01  0.187320  0.176841  0.182332  0.147583  0.216841  AMGN   \n",
       "2      2009-04-01  0.071440  0.077448  0.071789  0.063745  0.306650   AXP   \n",
       "3      2009-04-01  0.077397  0.079819  0.077716  0.062400  0.089997    BA   \n",
       "4      2009-04-02  0.021718  0.022502  0.021961  0.019138  0.431881  AAPL   \n",
       "...           ...       ...       ...       ...       ...       ...   ...   \n",
       "12839  2021-12-29  0.460438  0.460550  0.460256  0.473298  0.059285    BA   \n",
       "12840  2021-12-30  0.990890  0.991435  0.997535  0.988188  0.031777  AAPL   \n",
       "12841  2021-12-30  0.874006  0.829629  0.875426  0.894316  0.030126  AMGN   \n",
       "12842  2021-12-30  0.881594  0.877109  0.900110  0.877486  0.018076   AXP   \n",
       "12843  2021-12-30  0.455147  0.461873  0.460256  0.471090  0.067943    BA   \n",
       "\n",
       "        day  \n",
       "0      0.50  \n",
       "1      0.50  \n",
       "2      0.50  \n",
       "3      0.50  \n",
       "4      0.75  \n",
       "...     ...  \n",
       "12839  0.50  \n",
       "12840  0.75  \n",
       "12841  0.75  \n",
       "12842  0.75  \n",
       "12843  0.75  \n",
       "\n",
       "[12844 rows x 8 columns]"
      ]
     },
     "execution_count": 2,
     "metadata": {},
     "output_type": "execute_result"
    }
   ],
   "source": [
    "from sklearn.preprocessing import MaxAbsScaler\n",
    "from finrl.meta.preprocessor.preprocessors import GroupByScaler\n",
    "\n",
    "portfolio_norm_df = GroupByScaler(by=\"tic\", scaler=MaxAbsScaler).fit_transform(processed_test)\n",
    "portfolio_norm_df"
   ]
  },
  {
   "cell_type": "markdown",
   "metadata": {},
   "source": [
    "# Portfolio Optimization Algorithm"
   ]
  },
  {
   "cell_type": "code",
   "execution_count": 3,
   "metadata": {},
   "outputs": [],
   "source": [
    "from finrl.meta.env_portfolio_optimization.env_portfolio_optimization import PortfolioOptimizationEnv\n",
    "\n",
    "\n",
    "# Fit for the portfolio optimization model\n",
    "\n",
    "from sklearn.preprocessing import MaxAbsScaler\n",
    "from finrl.meta.preprocessor.preprocessors import GroupByScaler\n",
    "\n",
    "\n",
    "environment = PortfolioOptimizationEnv(\n",
    "    portfolio_norm_df,\n",
    "    initial_amount=INITIAL_CASH,\n",
    "    comission_fee_pct=COMMISSION_FEE_PERCENT,\n",
    "    time_window=TIME_WINDOW,\n",
    "    features=[\"close\", \"high\", \"low\"],\n",
    "    normalize_df=None\n",
    ")"
   ]
  },
  {
   "cell_type": "code",
   "execution_count": 4,
   "metadata": {},
   "outputs": [
    {
     "name": "stderr",
     "output_type": "stream",
     "text": [
      "C:\\Users\\bencj\\AppData\\Local\\Temp\\ipykernel_24848\\3962532677.py:22: FutureWarning: You are using `torch.load` with `weights_only=False` (the current default value), which uses the default pickle module implicitly. It is possible to construct malicious pickle data which will execute arbitrary code during unpickling (See https://github.com/pytorch/pytorch/blob/main/SECURITY.md#untrusted-models for more details). In a future release, the default value for `weights_only` will be flipped to `True`. This limits the functions that could be executed during unpickling. Arbitrary objects will no longer be allowed to be loaded via this mode unless they are explicitly allowlisted by the user via `torch.serialization.add_safe_globals`. We recommend you start setting `weights_only=True` for any use case where you don't have full control of the loaded file. Please open an issue on GitHub for any issues related to this experimental feature.\n",
      "  policy.load_state_dict(torch.load(\"policy_EIIE.pt\"))\n"
     ]
    },
    {
     "data": {
      "text/plain": [
       "<All keys matched successfully>"
      ]
     },
     "execution_count": 4,
     "metadata": {},
     "output_type": "execute_result"
    }
   ],
   "source": [
    "import torch\n",
    "from finrl.agents.portfolio_optimization.architectures import EIIE\n",
    "\n",
    "device = 'cuda:0' if torch.cuda.is_available() else 'cpu'\n",
    "\n",
    "# set PolicyGradient parameters\n",
    "model_kwargs = {\n",
    "    \"lr\": 0.01,\n",
    "    \"policy\": EIIE,\n",
    "}\n",
    "\n",
    "# here, we can set EIIE's parameters\n",
    "policy_kwargs = {\n",
    "    \"k_size\": 3,\n",
    "    \"time_window\": TIME_WINDOW,\n",
    "}\n",
    "\n",
    "\n",
    "# instantiate an architecture with the same arguments used in training\n",
    "# and load with load_state_dict.\n",
    "policy = EIIE(time_window=TIME_WINDOW, device=device)\n",
    "policy.load_state_dict(torch.load(\"policy_EIIE.pt\"))"
   ]
  },
  {
   "cell_type": "code",
   "execution_count": 5,
   "metadata": {},
   "outputs": [
    {
     "name": "stdout",
     "output_type": "stream",
     "text": [
      "=================================\n",
      "Initial portfolio value:1000000\n",
      "Final portfolio value: 13070994.0\n",
      "Final accumulative portfolio value: 13.070994\n",
      "Maximum DrawDown: -0.44583185395351244\n",
      "Sharpe ratio: 1.0331242403249281\n",
      "=================================\n"
     ]
    }
   ],
   "source": [
    "EIIE_results = {\n",
    "    \"train\": {},\n",
    "}\n",
    "\n",
    "# 2021 - 2024\n",
    "# Initialize the model\n",
    "model = OptDRLAgent(environment).get_model(\"pg\", device, model_kwargs, policy_kwargs)\n",
    "OptDRLAgent.DRL_validation(model, environment, policy=policy)\n",
    "EIIE_results[\"train\"][\"value\"] = environment._asset_memory[\"final\"]\n",
    "EIIE_results[\"train\"][\"date\"] = environment._date_memory\n",
    "\n",
    "\n",
    "\n",
    "# Write this out to a csv file, with date and net worth\n",
    "df_opt = pd.DataFrame(EIIE_results[\"train\"][\"value\"], columns=['opt_net_worth'])\n",
    "df_date = pd.DataFrame(EIIE_results[\"train\"][\"date\"], columns=['Date'])\n",
    "if len(df_opt) == len(df_date):\n",
    "    df_opt['Date'] = df_date['Date']\n",
    "else:\n",
    "    raise ValueError(\"DataFrames do not have the same number of rows.\")\n",
    "\n",
    "\n",
    "# The optimization algoirhtm has a shorter window than the full df, so shorted this for the follow algorithm\n",
    "opt_start = df_opt.loc[0,'Date']\n"
   ]
  },
  {
   "cell_type": "code",
   "execution_count": 6,
   "metadata": {},
   "outputs": [
    {
     "name": "stdout",
     "output_type": "stream",
     "text": [
      "      opt_net_worth       Date\n",
      "0      1.000000e+06 2009-05-06\n",
      "1      9.760582e+05 2009-05-07\n",
      "2      1.012636e+06 2009-05-08\n",
      "3      9.900426e+05 2009-05-11\n",
      "4      9.726854e+05 2009-05-12\n",
      "...             ...        ...\n",
      "3182   1.302047e+07 2021-12-23\n",
      "3183   1.310252e+07 2021-12-27\n",
      "3184   1.314037e+07 2021-12-28\n",
      "3185   1.311762e+07 2021-12-29\n",
      "3186   1.307099e+07 2021-12-30\n",
      "\n",
      "[3187 rows x 2 columns]\n"
     ]
    }
   ],
   "source": [
    "print(df_opt)"
   ]
  },
  {
   "cell_type": "code",
   "execution_count": 7,
   "metadata": {},
   "outputs": [
    {
     "name": "stdout",
     "output_type": "stream",
     "text": [
      "2009-05-06 00:00:00\n",
      "2021-12-30 00:00:00\n"
     ]
    }
   ],
   "source": [
    "opt_end = df_opt.loc[len(df_date)-1,'Date']\n",
    "\n",
    "print(opt_start)\n",
    "opt_start = opt_start.strftime('%Y-%m-%d %H:%M:%S')\n",
    "\n",
    "\n",
    "print(opt_end)\n",
    "opt_end = opt_end.strftime('%Y-%m-%d %H:%M:%S')"
   ]
  },
  {
   "cell_type": "markdown",
   "metadata": {},
   "source": [
    "# PPO On portfolio Opt"
   ]
  },
  {
   "cell_type": "code",
<<<<<<< HEAD
   "execution_count": null,
=======
   "execution_count": 8,
>>>>>>> 69662de904b139f29de6df94557a895b058951dd
   "metadata": {},
   "outputs": [
    {
     "name": "stdout",
     "output_type": "stream",
     "text": [
      "2009-05-06 00:00:00\n"
     ]
    }
   ],
   "source": [
    "\n",
    "# Fit for the portfolio optimization model\n",
    "\n",
    "from sklearn.preprocessing import MaxAbsScaler\n",
    "from finrl.meta.preprocessor.preprocessors import GroupByScaler\n",
    "\n",
    "from finrl.meta.preprocessor.preprocessors import data_split\n",
    "\n",
    "from datetime import datetime, timedelta\n",
<<<<<<< HEAD
=======
    "# Make sure dates line up, TODO fix this for real dates\n",
>>>>>>> 69662de904b139f29de6df94557a895b058951dd
    "# Make sure we only test on the same data as the portfolio optimization algorithm\n",
    "# Convert to datetime\n",
    "opt_start_date = datetime.strptime(opt_start, '%Y-%m-%d %H:%M:%S')\n",
    "\n",
    "print(opt_start_date)\n",
    "\n",
    "# Subtract one day\n",
    "new_opt_start_date = opt_start_date - timedelta(days=1)\n",
    "\n",
    "# Convert back to string\n",
    "new_opt_start_str = new_opt_start_date.strftime('%Y-%m-%d %H:%M:%S')\n",
    "\n",
    "train = data_split(portfolio_norm_df, new_opt_start_str,opt_end)\n",
    "\n",
    "environment_ppo = PortfolioOptimizationEnv(\n",
    "    train,\n",
    "    initial_amount=INITIAL_CASH,\n",
    "    comission_fee_pct=COMMISSION_FEE_PERCENT,\n",
    "    # time_window=TIME_WINDOW,\n",
    "    features=[\"close\", \"high\", \"low\"],\n",
    "    normalize_df=None\n",
    ")"
   ]
  },
  {
   "cell_type": "code",
   "execution_count": 9,
   "metadata": {},
   "outputs": [],
   "source": [
    "from stable_baselines3 import PPO\n",
    "from finrl.config import TRAINED_MODEL_DIR\n",
    "\n",
    "\n",
    "# Load the trained models\n",
    "# trained_ppo_opt = PPO.load(TRAINED_MODEL_DIR + \"/agent_opt_ppo_10_27\") \n",
    "\n",
    "\n",
    "trained_ppo_opt = PPO.load(TRAINED_MODEL_DIR + TRAINED_PPO) "
   ]
  },
  {
   "cell_type": "code",
   "execution_count": 10,
   "metadata": {},
   "outputs": [
    {
     "name": "stderr",
     "output_type": "stream",
     "text": [
      "c:\\Users\\bencj\\Desktop\\Econ4\\Thesis\\.venv\\lib\\site-packages\\stable_baselines3\\common\\vec_env\\patch_gym.py:49: UserWarning: You provided an OpenAI Gym environment. We strongly recommend transitioning to Gymnasium environments. Stable-Baselines3 is automatically wrapping your environments in a compatibility layer, which could potentially cause issues.\n",
      "  warnings.warn(\n",
      "c:\\Users\\bencj\\Desktop\\Econ4\\Thesis\\.venv\\lib\\site-packages\\finrl\\meta\\env_portfolio_optimization\\env_portfolio_optimization.py:308: RuntimeWarning: invalid value encountered in divide\n",
      "  weights = actions / action_sum\n",
      "c:\\Users\\bencj\\Desktop\\Econ4\\Thesis\\.venv\\lib\\site-packages\\finrl\\meta\\env_portfolio_optimization\\env_portfolio_optimization.py:308: RuntimeWarning: invalid value encountered in divide\n",
      "  weights = actions / action_sum\n",
      "c:\\Users\\bencj\\Desktop\\Econ4\\Thesis\\.venv\\lib\\site-packages\\finrl\\meta\\env_portfolio_optimization\\env_portfolio_optimization.py:308: RuntimeWarning: invalid value encountered in divide\n",
      "  weights = actions / action_sum\n",
      "c:\\Users\\bencj\\Desktop\\Econ4\\Thesis\\.venv\\lib\\site-packages\\finrl\\meta\\env_portfolio_optimization\\env_portfolio_optimization.py:308: RuntimeWarning: invalid value encountered in divide\n",
      "  weights = actions / action_sum\n",
      "c:\\Users\\bencj\\Desktop\\Econ4\\Thesis\\.venv\\lib\\site-packages\\finrl\\meta\\env_portfolio_optimization\\env_portfolio_optimization.py:308: RuntimeWarning: invalid value encountered in divide\n",
      "  weights = actions / action_sum\n",
      "c:\\Users\\bencj\\Desktop\\Econ4\\Thesis\\.venv\\lib\\site-packages\\finrl\\meta\\env_portfolio_optimization\\env_portfolio_optimization.py:308: RuntimeWarning: invalid value encountered in divide\n",
      "  weights = actions / action_sum\n",
      "c:\\Users\\bencj\\Desktop\\Econ4\\Thesis\\.venv\\lib\\site-packages\\finrl\\meta\\env_portfolio_optimization\\env_portfolio_optimization.py:308: RuntimeWarning: invalid value encountered in divide\n",
      "  weights = actions / action_sum\n",
      "c:\\Users\\bencj\\Desktop\\Econ4\\Thesis\\.venv\\lib\\site-packages\\finrl\\meta\\env_portfolio_optimization\\env_portfolio_optimization.py:308: RuntimeWarning: invalid value encountered in divide\n",
      "  weights = actions / action_sum\n",
      "c:\\Users\\bencj\\Desktop\\Econ4\\Thesis\\.venv\\lib\\site-packages\\finrl\\meta\\env_portfolio_optimization\\env_portfolio_optimization.py:308: RuntimeWarning: invalid value encountered in divide\n",
      "  weights = actions / action_sum\n",
      "c:\\Users\\bencj\\Desktop\\Econ4\\Thesis\\.venv\\lib\\site-packages\\finrl\\meta\\env_portfolio_optimization\\env_portfolio_optimization.py:308: RuntimeWarning: invalid value encountered in divide\n",
      "  weights = actions / action_sum\n",
      "c:\\Users\\bencj\\Desktop\\Econ4\\Thesis\\.venv\\lib\\site-packages\\finrl\\meta\\env_portfolio_optimization\\env_portfolio_optimization.py:308: RuntimeWarning: invalid value encountered in divide\n",
      "  weights = actions / action_sum\n",
      "c:\\Users\\bencj\\Desktop\\Econ4\\Thesis\\.venv\\lib\\site-packages\\finrl\\meta\\env_portfolio_optimization\\env_portfolio_optimization.py:308: RuntimeWarning: invalid value encountered in divide\n",
      "  weights = actions / action_sum\n",
      "c:\\Users\\bencj\\Desktop\\Econ4\\Thesis\\.venv\\lib\\site-packages\\finrl\\meta\\env_portfolio_optimization\\env_portfolio_optimization.py:308: RuntimeWarning: invalid value encountered in divide\n",
      "  weights = actions / action_sum\n",
      "c:\\Users\\bencj\\Desktop\\Econ4\\Thesis\\.venv\\lib\\site-packages\\finrl\\meta\\env_portfolio_optimization\\env_portfolio_optimization.py:308: RuntimeWarning: invalid value encountered in divide\n",
      "  weights = actions / action_sum\n",
      "c:\\Users\\bencj\\Desktop\\Econ4\\Thesis\\.venv\\lib\\site-packages\\finrl\\meta\\env_portfolio_optimization\\env_portfolio_optimization.py:308: RuntimeWarning: invalid value encountered in divide\n",
      "  weights = actions / action_sum\n",
      "c:\\Users\\bencj\\Desktop\\Econ4\\Thesis\\.venv\\lib\\site-packages\\finrl\\meta\\env_portfolio_optimization\\env_portfolio_optimization.py:308: RuntimeWarning: invalid value encountered in divide\n",
      "  weights = actions / action_sum\n",
      "c:\\Users\\bencj\\Desktop\\Econ4\\Thesis\\.venv\\lib\\site-packages\\finrl\\meta\\env_portfolio_optimization\\env_portfolio_optimization.py:308: RuntimeWarning: invalid value encountered in divide\n",
      "  weights = actions / action_sum\n",
      "c:\\Users\\bencj\\Desktop\\Econ4\\Thesis\\.venv\\lib\\site-packages\\finrl\\meta\\env_portfolio_optimization\\env_portfolio_optimization.py:308: RuntimeWarning: invalid value encountered in divide\n",
      "  weights = actions / action_sum\n",
      "c:\\Users\\bencj\\Desktop\\Econ4\\Thesis\\.venv\\lib\\site-packages\\finrl\\meta\\env_portfolio_optimization\\env_portfolio_optimization.py:308: RuntimeWarning: invalid value encountered in divide\n",
      "  weights = actions / action_sum\n",
      "c:\\Users\\bencj\\Desktop\\Econ4\\Thesis\\.venv\\lib\\site-packages\\finrl\\meta\\env_portfolio_optimization\\env_portfolio_optimization.py:308: RuntimeWarning: invalid value encountered in divide\n",
      "  weights = actions / action_sum\n",
      "c:\\Users\\bencj\\Desktop\\Econ4\\Thesis\\.venv\\lib\\site-packages\\finrl\\meta\\env_portfolio_optimization\\env_portfolio_optimization.py:308: RuntimeWarning: invalid value encountered in divide\n",
      "  weights = actions / action_sum\n",
      "c:\\Users\\bencj\\Desktop\\Econ4\\Thesis\\.venv\\lib\\site-packages\\finrl\\meta\\env_portfolio_optimization\\env_portfolio_optimization.py:308: RuntimeWarning: invalid value encountered in divide\n",
      "  weights = actions / action_sum\n",
      "c:\\Users\\bencj\\Desktop\\Econ4\\Thesis\\.venv\\lib\\site-packages\\finrl\\meta\\env_portfolio_optimization\\env_portfolio_optimization.py:308: RuntimeWarning: invalid value encountered in divide\n",
      "  weights = actions / action_sum\n",
      "c:\\Users\\bencj\\Desktop\\Econ4\\Thesis\\.venv\\lib\\site-packages\\finrl\\meta\\env_portfolio_optimization\\env_portfolio_optimization.py:308: RuntimeWarning: invalid value encountered in divide\n",
      "  weights = actions / action_sum\n",
      "c:\\Users\\bencj\\Desktop\\Econ4\\Thesis\\.venv\\lib\\site-packages\\finrl\\meta\\env_portfolio_optimization\\env_portfolio_optimization.py:308: RuntimeWarning: invalid value encountered in divide\n",
      "  weights = actions / action_sum\n",
      "c:\\Users\\bencj\\Desktop\\Econ4\\Thesis\\.venv\\lib\\site-packages\\finrl\\meta\\env_portfolio_optimization\\env_portfolio_optimization.py:308: RuntimeWarning: invalid value encountered in divide\n",
      "  weights = actions / action_sum\n",
      "c:\\Users\\bencj\\Desktop\\Econ4\\Thesis\\.venv\\lib\\site-packages\\finrl\\meta\\env_portfolio_optimization\\env_portfolio_optimization.py:308: RuntimeWarning: invalid value encountered in divide\n",
      "  weights = actions / action_sum\n",
      "c:\\Users\\bencj\\Desktop\\Econ4\\Thesis\\.venv\\lib\\site-packages\\finrl\\meta\\env_portfolio_optimization\\env_portfolio_optimization.py:308: RuntimeWarning: invalid value encountered in divide\n",
      "  weights = actions / action_sum\n",
      "c:\\Users\\bencj\\Desktop\\Econ4\\Thesis\\.venv\\lib\\site-packages\\finrl\\meta\\env_portfolio_optimization\\env_portfolio_optimization.py:308: RuntimeWarning: invalid value encountered in divide\n",
      "  weights = actions / action_sum\n",
      "c:\\Users\\bencj\\Desktop\\Econ4\\Thesis\\.venv\\lib\\site-packages\\finrl\\meta\\env_portfolio_optimization\\env_portfolio_optimization.py:308: RuntimeWarning: invalid value encountered in divide\n",
      "  weights = actions / action_sum\n",
      "c:\\Users\\bencj\\Desktop\\Econ4\\Thesis\\.venv\\lib\\site-packages\\finrl\\meta\\env_portfolio_optimization\\env_portfolio_optimization.py:308: RuntimeWarning: invalid value encountered in divide\n",
      "  weights = actions / action_sum\n",
      "c:\\Users\\bencj\\Desktop\\Econ4\\Thesis\\.venv\\lib\\site-packages\\finrl\\meta\\env_portfolio_optimization\\env_portfolio_optimization.py:308: RuntimeWarning: invalid value encountered in divide\n",
      "  weights = actions / action_sum\n",
      "c:\\Users\\bencj\\Desktop\\Econ4\\Thesis\\.venv\\lib\\site-packages\\finrl\\meta\\env_portfolio_optimization\\env_portfolio_optimization.py:308: RuntimeWarning: invalid value encountered in divide\n",
      "  weights = actions / action_sum\n",
      "c:\\Users\\bencj\\Desktop\\Econ4\\Thesis\\.venv\\lib\\site-packages\\finrl\\meta\\env_portfolio_optimization\\env_portfolio_optimization.py:308: RuntimeWarning: invalid value encountered in divide\n",
      "  weights = actions / action_sum\n",
      "c:\\Users\\bencj\\Desktop\\Econ4\\Thesis\\.venv\\lib\\site-packages\\finrl\\meta\\env_portfolio_optimization\\env_portfolio_optimization.py:308: RuntimeWarning: invalid value encountered in divide\n",
      "  weights = actions / action_sum\n",
      "c:\\Users\\bencj\\Desktop\\Econ4\\Thesis\\.venv\\lib\\site-packages\\finrl\\meta\\env_portfolio_optimization\\env_portfolio_optimization.py:308: RuntimeWarning: invalid value encountered in divide\n",
      "  weights = actions / action_sum\n"
     ]
    },
    {
     "name": "stdout",
     "output_type": "stream",
     "text": [
      "=================================\n",
      "Initial portfolio value:1000000\n",
      "Final portfolio value: 5154539.0\n",
      "Final accumulative portfolio value: 5.154539\n",
      "Maximum DrawDown: -0.5618078465536248\n",
      "Sharpe ratio: 0.6194474029347493\n",
      "=================================\n",
      "hit end!\n",
      "      ppo_opt_net_worth       Date\n",
      "0          1.000000e+06 2009-05-06\n",
      "1          9.848412e+05 2009-05-07\n",
      "2          1.036877e+06 2009-05-08\n",
      "3          1.011765e+06 2009-05-11\n",
      "4          9.977372e+05 2009-05-12\n",
      "...                 ...        ...\n",
      "3182       5.173510e+06 2021-12-23\n",
      "3183       5.160178e+06 2021-12-27\n",
      "3184       5.197768e+06 2021-12-28\n",
      "3185       5.166589e+06 2021-12-29\n",
      "3186       5.154539e+06 2021-12-30\n",
      "\n",
      "[3187 rows x 2 columns]\n",
      "2009-05-06 00:00:00\n",
      "2009-05-06 00:00:00\n"
     ]
    }
   ],
   "source": [
    "from finrl.agents.portfolio_optimization.models_stable import DRLStableAgent\n",
    "\n",
    "\n",
    "PPO_results = {\n",
    "    \"train\": {},\n",
    "}\n",
    "\n",
    "values, dates = DRLStableAgent.DRL_prediction(trained_ppo_opt, environment_ppo)\n",
    "PPO_results[\"train\"][\"value\"] = environment_ppo._terminal_asset_memory[\"final\"]\n",
    "PPO_results[\"train\"][\"date\"] = environment_ppo._terminal_date_memory\n",
    "\n",
    "\n",
    "# Write this out to a csv file, with date and net worth\n",
    "df_ppo_opt = pd.DataFrame(PPO_results[\"train\"][\"value\"], columns=['ppo_opt_net_worth'])\n",
    "df_ppo_date = pd.DataFrame(PPO_results[\"train\"][\"date\"], columns=['Date'])\n",
    "if len(df_ppo_opt) == len(df_ppo_date):\n",
    "    df_ppo_opt['Date'] = df_ppo_date['Date']\n",
    "else:\n",
    "    raise ValueError(\"DataFrames do not have the same number of rows.\")\n",
    "\n",
    "print(df_ppo_opt)\n",
    "\n",
    "\n",
    "print(df_opt.loc[0,'Date'])\n",
    "print(df_ppo_opt.loc[0, 'Date'])\n",
    "\n",
    "# assert the dates line up\n",
    "assert df_opt.loc[0,'Date'] == df_ppo_opt.loc[0, 'Date']\n",
    "assert df_opt.loc[len(df_date)-1,'Date'] == df_ppo_opt.loc[len(df_ppo_opt)-1,'Date']"
   ]
  },
  {
   "cell_type": "code",
   "execution_count": 11,
   "metadata": {},
   "outputs": [
    {
     "data": {
      "text/plain": [
       "Timestamp('2009-05-06 00:00:00')"
      ]
     },
     "execution_count": 11,
     "metadata": {},
     "output_type": "execute_result"
    }
   ],
   "source": [
    "df_ppo_opt.loc[0, 'Date']"
   ]
  },
  {
   "cell_type": "code",
   "execution_count": 12,
   "metadata": {},
   "outputs": [
    {
     "data": {
      "text/plain": [
       "Timestamp('2009-05-06 00:00:00')"
      ]
     },
     "execution_count": 12,
     "metadata": {},
     "output_type": "execute_result"
    }
   ],
   "source": [
    "df_opt.loc[0,'Date']"
   ]
  },
  {
   "cell_type": "markdown",
   "metadata": {},
   "source": [
    "# Porfolio Baselines"
   ]
  },
  {
   "cell_type": "code",
   "execution_count": 13,
   "metadata": {},
   "outputs": [
    {
     "name": "stderr",
     "output_type": "stream",
     "text": [
      "c:\\Users\\bencj\\Desktop\\Econ4\\Thesis\\.venv\\lib\\site-packages\\stable_baselines3\\common\\vec_env\\patch_gym.py:49: UserWarning: You provided an OpenAI Gym environment. We strongly recommend transitioning to Gymnasium environments. Stable-Baselines3 is automatically wrapping your environments in a compatibility layer, which could potentially cause issues.\n",
      "  warnings.warn(\n"
     ]
    },
    {
     "name": "stdout",
     "output_type": "stream",
     "text": [
      "=================================\n",
      "Initial portfolio value:1000000\n",
      "Final portfolio value: 13071702.0\n",
      "Final accumulative portfolio value: 13.071702\n",
      "Maximum DrawDown: -0.4458332809442286\n",
      "Sharpe ratio: 1.0331315962542935\n",
      "=================================\n",
      "hit end!\n",
      "      crp_opt_net_worth       Date\n",
      "0          1.000000e+06 2009-05-06\n",
      "1          9.760552e+05 2009-05-07\n",
      "2          1.012637e+06 2009-05-08\n",
      "3          9.900409e+05 2009-05-11\n",
      "4          9.726819e+05 2009-05-12\n",
      "...                 ...        ...\n",
      "3182       1.302118e+07 2021-12-23\n",
      "3183       1.310323e+07 2021-12-27\n",
      "3184       1.314108e+07 2021-12-28\n",
      "3185       1.311833e+07 2021-12-29\n",
      "3186       1.307170e+07 2021-12-30\n",
      "\n",
      "[3187 rows x 2 columns]\n"
     ]
    }
   ],
   "source": [
    "# CRP \n",
    "\n",
    "CRP_results = {\n",
    "    \"train\": {},\n",
    "}\n",
    "\n",
    "environment_ppo.reset()\n",
    "agent_crp = DRLStableAgent(env = environment_ppo)\n",
    "model_crp = agent_crp.get_model(\"crp\", None, None)\n",
    "\n",
    "values, dates = DRLStableAgent.DRL_prediction(model_crp, environment_ppo)\n",
    "CRP_results[\"train\"][\"value\"] = environment_ppo._terminal_asset_memory[\"final\"]\n",
    "CRP_results[\"train\"][\"date\"] = environment_ppo._terminal_date_memory\n",
    "\n",
    "df_crp_opt = pd.DataFrame(CRP_results[\"train\"][\"value\"], columns=['crp_opt_net_worth'])\n",
    "df_crp_date = pd.DataFrame(CRP_results[\"train\"][\"date\"], columns=['Date'])\n",
    "if len(df_crp_opt) == len(df_crp_date):\n",
    "    df_crp_opt['Date'] = df_crp_date['Date']\n",
    "else:\n",
    "    raise ValueError(\"DataFrames do not have the same number of rows.\")\n",
    "\n",
    "print(df_crp_opt)\n",
    "\n",
    "\n",
    "# assert the dates line up\n",
    "assert df_opt.loc[0,'Date'] == df_crp_opt.loc[0, 'Date']\n",
    "assert df_opt.loc[len(df_date)-1,'Date'] == df_crp_opt.loc[len(df_crp_opt)-1,'Date']"
   ]
  },
  {
   "cell_type": "code",
   "execution_count": 14,
   "metadata": {},
   "outputs": [
    {
     "name": "stderr",
     "output_type": "stream",
     "text": [
      "c:\\Users\\bencj\\Desktop\\Econ4\\Thesis\\.venv\\lib\\site-packages\\stable_baselines3\\common\\vec_env\\patch_gym.py:49: UserWarning: You provided an OpenAI Gym environment. We strongly recommend transitioning to Gymnasium environments. Stable-Baselines3 is automatically wrapping your environments in a compatibility layer, which could potentially cause issues.\n",
      "  warnings.warn(\n"
     ]
    },
    {
     "name": "stdout",
     "output_type": "stream",
     "text": [
      "=================================\n",
      "Initial portfolio value:1000000\n",
      "Final portfolio value: 15847346.0\n",
      "Final accumulative portfolio value: 15.847346\n",
      "Maximum DrawDown: -0.4111900435832344\n",
      "Sharpe ratio: 1.1020281254837871\n",
      "=================================\n",
      "hit end!\n",
      "      bah_opt_net_worth       Date\n",
      "0          1.000000e+06 2009-05-06\n",
      "1          9.760552e+05 2009-05-07\n",
      "2          1.012324e+06 2009-05-08\n",
      "3          9.888022e+05 2009-05-11\n",
      "4          9.717182e+05 2009-05-12\n",
      "...                 ...        ...\n",
      "3182       1.572234e+07 2021-12-23\n",
      "3183       1.597574e+07 2021-12-27\n",
      "3184       1.593783e+07 2021-12-28\n",
      "3185       1.593107e+07 2021-12-29\n",
      "3186       1.584735e+07 2021-12-30\n",
      "\n",
      "[3187 rows x 2 columns]\n"
     ]
    }
   ],
   "source": [
    "# BAH\n",
    "\n",
    "BAH_results = {\n",
    "    \"train\": {},\n",
    "}\n",
    "\n",
    "environment_ppo.reset()\n",
    "agent_bah = DRLStableAgent(env = environment_ppo)\n",
    "model_bah = agent_bah.get_model(\"bah\", None, None)\n",
    "\n",
    "values, dates = DRLStableAgent.DRL_prediction(model_bah, environment_ppo)\n",
    "BAH_results[\"train\"][\"value\"] = environment_ppo._terminal_asset_memory[\"final\"]\n",
    "BAH_results[\"train\"][\"date\"] = environment_ppo._terminal_date_memory\n",
    "\n",
    "df_bah_opt = pd.DataFrame(BAH_results[\"train\"][\"value\"], columns=['bah_opt_net_worth'])\n",
    "df_bah_date = pd.DataFrame(BAH_results[\"train\"][\"date\"], columns=['Date'])\n",
    "if len(df_bah_opt) == len(df_bah_date):\n",
    "    df_bah_opt['Date'] = df_bah_date['Date']\n",
    "else:\n",
    "    raise ValueError(\"DataFrames do not have the same number of rows.\")\n",
    "\n",
    "print(df_bah_opt)\n",
    "\n",
    "\n",
    "# assert the dates line up\n",
    "assert df_opt.loc[0,'Date'] == df_bah_opt.loc[0, 'Date']\n",
    "assert df_opt.loc[len(df_date)-1,'Date'] == df_bah_opt.loc[len(df_bah_opt)-1,'Date']"
   ]
  },
  {
   "cell_type": "code",
   "execution_count": 15,
   "metadata": {},
   "outputs": [
    {
     "name": "stderr",
     "output_type": "stream",
     "text": [
      "c:\\Users\\bencj\\Desktop\\Econ4\\Thesis\\.venv\\lib\\site-packages\\stable_baselines3\\common\\vec_env\\patch_gym.py:49: UserWarning: You provided an OpenAI Gym environment. We strongly recommend transitioning to Gymnasium environments. Stable-Baselines3 is automatically wrapping your environments in a compatibility layer, which could potentially cause issues.\n",
      "  warnings.warn(\n"
     ]
    },
    {
     "name": "stdout",
     "output_type": "stream",
     "text": [
      "=================================\n",
      "Initial portfolio value:1000000\n",
      "Final portfolio value: 5733844.5\n",
      "Final accumulative portfolio value: 5.7338445\n",
      "Maximum DrawDown: -0.7445606029191978\n",
      "Sharpe ratio: 0.5756534215166903\n",
      "=================================\n",
      "hit end!\n",
      "      olmar_opt_net_worth       Date\n",
      "0            1.000000e+06 2009-05-06\n",
      "1            9.760552e+05 2009-05-07\n",
      "2            9.770826e+05 2009-05-08\n",
      "3            8.940976e+05 2009-05-11\n",
      "4            8.799389e+05 2009-05-12\n",
      "...                   ...        ...\n",
      "3182         5.776556e+06 2021-12-23\n",
      "3183         5.746856e+06 2021-12-27\n",
      "3184         5.830582e+06 2021-12-28\n",
      "3185         5.760716e+06 2021-12-29\n",
      "3186         5.733844e+06 2021-12-30\n",
      "\n",
      "[3187 rows x 2 columns]\n"
     ]
    }
   ],
   "source": [
    "# OLMAR\n",
    "\n",
    "OLMAR_results = {\n",
    "    \"train\": {},\n",
    "}\n",
    "\n",
    "OLMAR_model_kwargs = {\n",
    "    \"eps\": 60,\n",
    "    \"window\": 100\n",
    "}\n",
    "\n",
    "\n",
    "\n",
    "environment_ppo.reset()\n",
    "agent_olmar = DRLStableAgent(env = environment_ppo)\n",
    "model_olmar = agent_olmar.get_model(\"olmar\", model_kwargs=OLMAR_model_kwargs)\n",
    "\n",
    "values, dates = DRLStableAgent.DRL_prediction(model_olmar, environment_ppo)\n",
    "OLMAR_results[\"train\"][\"value\"] = environment_ppo._terminal_asset_memory[\"final\"]\n",
    "OLMAR_results[\"train\"][\"date\"] = environment_ppo._terminal_date_memory\n",
    "\n",
    "df_olmar_opt = pd.DataFrame(OLMAR_results[\"train\"][\"value\"], columns=['olmar_opt_net_worth'])\n",
    "df_olmar_date = pd.DataFrame(OLMAR_results[\"train\"][\"date\"], columns=['Date'])\n",
    "if len(df_olmar_opt) == len(df_olmar_date):\n",
    "    df_olmar_opt['Date'] = df_olmar_date['Date']\n",
    "else:\n",
    "    raise ValueError(\"DataFrames do not have the same number of rows.\")\n",
    "\n",
    "print(df_olmar_opt)\n",
    "\n",
    "\n",
    "# assert the dates line up\n",
    "assert df_opt.loc[0,'Date'] == df_olmar_opt.loc[0, 'Date']\n",
    "assert df_opt.loc[len(df_date)-1,'Date'] == df_olmar_opt.loc[len(df_olmar_opt)-1,'Date']"
   ]
  },
  {
   "cell_type": "code",
   "execution_count": 16,
   "metadata": {},
   "outputs": [
    {
     "name": "stderr",
     "output_type": "stream",
     "text": [
      "c:\\Users\\bencj\\Desktop\\Econ4\\Thesis\\.venv\\lib\\site-packages\\stable_baselines3\\common\\vec_env\\patch_gym.py:49: UserWarning: You provided an OpenAI Gym environment. We strongly recommend transitioning to Gymnasium environments. Stable-Baselines3 is automatically wrapping your environments in a compatibility layer, which could potentially cause issues.\n",
      "  warnings.warn(\n"
     ]
    },
    {
     "name": "stdout",
     "output_type": "stream",
     "text": [
      "=================================\n",
      "Initial portfolio value:1000000\n",
      "Final portfolio value: 33556440.0\n",
      "Final accumulative portfolio value: 33.55644\n",
      "Maximum DrawDown: -0.4379718645221323\n",
      "Sharpe ratio: 1.123951967123011\n",
      "=================================\n",
      "hit end!\n",
      "      rmr_opt_net_worth       Date\n",
      "0          1.000000e+06 2009-05-06\n",
      "1          9.760552e+05 2009-05-07\n",
      "2          9.770826e+05 2009-05-08\n",
      "3          8.940976e+05 2009-05-11\n",
      "4          8.799389e+05 2009-05-12\n",
      "...                 ...        ...\n",
      "3182       3.319489e+07 2021-12-23\n",
      "3183       3.395754e+07 2021-12-27\n",
      "3184       3.376170e+07 2021-12-28\n",
      "3185       3.377865e+07 2021-12-29\n",
      "3186       3.355644e+07 2021-12-30\n",
      "\n",
      "[3187 rows x 2 columns]\n"
     ]
    }
   ],
   "source": [
    "# RMR \n",
    "\n",
    "RMR_results = {\n",
    "    \"train\": {},\n",
    "}\n",
    "\n",
    "RMR_model_kwargs = {\n",
    "    \"eps\": 60,\n",
    "    \"window\": 100\n",
    "}\n",
    "\n",
    "environment_ppo.reset()\n",
    "agent_rmr = DRLStableAgent(env = environment_ppo)\n",
    "model_rmr = agent_rmr.get_model(\"rmr\", model_kwargs=RMR_model_kwargs)\n",
    "\n",
    "values, dates = DRLStableAgent.DRL_prediction(model_rmr, environment_ppo)\n",
    "RMR_results[\"train\"][\"value\"] = environment_ppo._terminal_asset_memory[\"final\"]\n",
    "RMR_results[\"train\"][\"date\"] = environment_ppo._terminal_date_memory\n",
    "\n",
    "df_rmr_opt = pd.DataFrame(RMR_results[\"train\"][\"value\"], columns=['rmr_opt_net_worth'])\n",
    "df_rmr_date = pd.DataFrame(RMR_results[\"train\"][\"date\"], columns=['Date'])\n",
    "if len(df_rmr_opt) == len(df_rmr_date):\n",
    "    df_rmr_opt['Date'] = df_rmr_date['Date']\n",
    "else:\n",
    "    raise ValueError(\"DataFrames do not have the same number of rows.\")\n",
    "\n",
    "print(df_rmr_opt)\n",
    "\n",
    "\n",
    "# assert the dates line up\n",
    "assert df_opt.loc[0,'Date'] == df_rmr_opt.loc[0, 'Date']\n",
    "assert df_opt.loc[len(df_date)-1,'Date'] == df_rmr_opt.loc[len(df_rmr_opt)-1,'Date']"
   ]
  },
  {
   "cell_type": "code",
   "execution_count": 17,
   "metadata": {},
   "outputs": [
    {
     "name": "stderr",
     "output_type": "stream",
     "text": [
      "c:\\Users\\bencj\\Desktop\\Econ4\\Thesis\\.venv\\lib\\site-packages\\stable_baselines3\\common\\vec_env\\patch_gym.py:49: UserWarning: You provided an OpenAI Gym environment. We strongly recommend transitioning to Gymnasium environments. Stable-Baselines3 is automatically wrapping your environments in a compatibility layer, which could potentially cause issues.\n",
      "  warnings.warn(\n"
     ]
    },
    {
     "name": "stdout",
     "output_type": "stream",
     "text": [
      "=================================\n",
      "Initial portfolio value:1000000\n",
      "Final portfolio value: 25096974.0\n",
      "Final accumulative portfolio value: 25.096974\n",
      "Maximum DrawDown: -0.4379718404632976\n",
      "Sharpe ratio: 1.0430711016370897\n",
      "=================================\n",
      "hit end!\n",
      "      bnn_opt_net_worth       Date\n",
      "0             1000000.0 2009-05-06\n",
      "1             1000000.0 2009-05-07\n",
      "2             1000000.0 2009-05-08\n",
      "3             1000000.0 2009-05-11\n",
      "4             1000000.0 2009-05-12\n",
      "...                 ...        ...\n",
      "3182         24826572.0 2021-12-23\n",
      "3183         25396958.0 2021-12-27\n",
      "3184         25250488.0 2021-12-28\n",
      "3185         25263166.0 2021-12-29\n",
      "3186         25096974.0 2021-12-30\n",
      "\n",
      "[3187 rows x 2 columns]\n"
     ]
    }
   ],
   "source": [
    "# BNN\n",
    "\n",
    "BNN_results = {\n",
    "    \"train\": {},\n",
    "}\n",
    "\n",
    "# RMR_model_kwargs = {\n",
    "#     \"eps\": 60,\n",
    "#     \"window\": 100\n",
    "# }\n",
    "\n",
    "environment_ppo.reset()\n",
    "agent_bnn = DRLStableAgent(env = environment_ppo)\n",
    "model_bnn = agent_bnn.get_model(\"bnn\", model_kwargs=None)\n",
    "\n",
    "values, dates = DRLStableAgent.DRL_prediction(model_bnn, environment_ppo)\n",
    "BNN_results[\"train\"][\"value\"] = environment_ppo._terminal_asset_memory[\"final\"]\n",
    "BNN_results[\"train\"][\"date\"] = environment_ppo._terminal_date_memory\n",
    "\n",
    "df_bnn_opt = pd.DataFrame(BNN_results[\"train\"][\"value\"], columns=['bnn_opt_net_worth'])\n",
    "df_bnn_date = pd.DataFrame(BNN_results[\"train\"][\"date\"], columns=['Date'])\n",
    "if len(df_bnn_opt) == len(df_bnn_date):\n",
    "    df_bnn_opt['Date'] = df_bnn_date['Date']\n",
    "else:\n",
    "    raise ValueError(\"DataFrames do not have the same number of rows.\")\n",
    "\n",
    "print(df_bnn_opt)\n",
    "\n",
    "\n",
    "# assert the dates line up\n",
    "assert df_opt.loc[0,'Date'] == df_bnn_opt.loc[0, 'Date']\n",
    "assert df_opt.loc[len(df_date)-1,'Date'] == df_bnn_opt.loc[len(df_bnn_opt)-1,'Date']"
   ]
  },
  {
   "cell_type": "code",
   "execution_count": 18,
   "metadata": {},
   "outputs": [
    {
     "name": "stderr",
     "output_type": "stream",
     "text": [
      "c:\\Users\\bencj\\Desktop\\Econ4\\Thesis\\.venv\\lib\\site-packages\\stable_baselines3\\common\\vec_env\\patch_gym.py:49: UserWarning: You provided an OpenAI Gym environment. We strongly recommend transitioning to Gymnasium environments. Stable-Baselines3 is automatically wrapping your environments in a compatibility layer, which could potentially cause issues.\n",
      "  warnings.warn(\n"
     ]
    },
    {
     "name": "stdout",
     "output_type": "stream",
     "text": [
      "=================================\n",
      "Initial portfolio value:1000000\n",
      "Final portfolio value: 23277438.0\n",
      "Final accumulative portfolio value: 23.277438\n",
      "Maximum DrawDown: -0.43797171333303075\n",
      "Sharpe ratio: 1.0219445375425629\n",
      "=================================\n",
      "hit end!\n",
      "      scrp_opt_net_worth       Date\n",
      "0           1.000000e+06 2009-05-06\n",
      "1           9.760552e+05 2009-05-07\n",
      "2           9.770826e+05 2009-05-08\n",
      "3           9.515123e+05 2009-05-11\n",
      "4           9.383201e+05 2009-05-12\n",
      "...                  ...        ...\n",
      "3182        2.302664e+07 2021-12-23\n",
      "3183        2.355567e+07 2021-12-27\n",
      "3184        2.341982e+07 2021-12-28\n",
      "3185        2.343158e+07 2021-12-29\n",
      "3186        2.327744e+07 2021-12-30\n",
      "\n",
      "[3187 rows x 2 columns]\n"
     ]
    }
   ],
   "source": [
    "# SCRP\n",
    "\n",
    "\n",
    "SCRP_results = {\n",
    "    \"train\": {},\n",
    "}\n",
    "\n",
    "\n",
    "# now make the predictions with the historical price data, but in the test period only\n",
    "SCRP_model_kwargs = {\n",
    "    \"price_history\": None\n",
    "}\n",
    "\n",
    "environment_ppo.reset()\n",
    "agent_scrp = DRLStableAgent(env = environment_ppo)\n",
    "model_scrp = agent_scrp.get_model(\"scrp\", model_kwargs=SCRP_model_kwargs)\n",
    "\n",
    "values, dates = DRLStableAgent.DRL_prediction(model_scrp, environment_ppo)\n",
    "SCRP_results[\"train\"][\"value\"] = environment_ppo._terminal_asset_memory[\"final\"]\n",
    "SCRP_results[\"train\"][\"date\"] = environment_ppo._terminal_date_memory\n",
    "\n",
    "df_scrp_opt = pd.DataFrame(SCRP_results[\"train\"][\"value\"], columns=['scrp_opt_net_worth'])\n",
    "df_scrp_date = pd.DataFrame(SCRP_results[\"train\"][\"date\"], columns=['Date'])\n",
    "if len(df_scrp_opt) == len(df_scrp_date):\n",
    "    df_scrp_opt['Date'] = df_scrp_date['Date']\n",
    "else:\n",
    "    raise ValueError(\"DataFrames do not have the same number of rows.\")\n",
    "\n",
    "print(df_scrp_opt)\n",
    "\n",
    "\n",
    "# assert the dates line up\n",
    "assert df_opt.loc[0,'Date'] == df_scrp_opt.loc[0, 'Date']\n",
    "assert df_opt.loc[len(df_date)-1,'Date'] == df_scrp_opt.loc[len(df_scrp_opt)-1,'Date']"
   ]
  },
  {
   "cell_type": "markdown",
   "metadata": {},
   "source": [
    "# Try BCRP extreme, which is the absolute best portfolio over the period with hindsight\n"
   ]
  },
  {
   "cell_type": "code",
   "execution_count": 19,
   "metadata": {},
   "outputs": [
    {
     "name": "stderr",
     "output_type": "stream",
     "text": [
      "c:\\Users\\bencj\\Desktop\\Econ4\\Thesis\\.venv\\lib\\site-packages\\stable_baselines3\\common\\vec_env\\patch_gym.py:49: UserWarning: You provided an OpenAI Gym environment. We strongly recommend transitioning to Gymnasium environments. Stable-Baselines3 is automatically wrapping your environments in a compatibility layer, which could potentially cause issues.\n",
      "  warnings.warn(\n"
     ]
    },
    {
     "name": "stdout",
     "output_type": "stream",
     "text": [
      "=================================\n",
      "Initial portfolio value:1000000\n",
      "Final portfolio value: 43922080.0\n",
      "Final accumulative portfolio value: 43.92208\n",
      "Maximum DrawDown: -0.43797157893925853\n",
      "Sharpe ratio: 1.2087260381843796\n",
      "=================================\n",
      "hit end!\n",
      "      bcrp_opt_net_worth       Date\n",
      "0           1.000000e+06 2009-05-06\n",
      "1           9.740373e+05 2009-05-07\n",
      "2           9.750189e+05 2009-05-08\n",
      "3           9.778864e+05 2009-05-11\n",
      "4           9.390182e+05 2009-05-12\n",
      "...                  ...        ...\n",
      "3182        4.344885e+07 2021-12-23\n",
      "3183        4.444708e+07 2021-12-27\n",
      "3184        4.419074e+07 2021-12-28\n",
      "3185        4.421293e+07 2021-12-29\n",
      "3186        4.392208e+07 2021-12-30\n",
      "\n",
      "[3187 rows x 2 columns]\n"
     ]
    }
   ],
   "source": [
    "# bcrp\n",
    "\n",
    "BCRP_results = {\n",
    "    \"train\": {},\n",
    "}\n",
    "\n",
    "environment_ppo.reset()\n",
    "agent_bcrp= DRLStableAgent(env = environment_ppo)\n",
    "model_bcrp= agent_bcrp.get_model(\"bcrp\", None, None)\n",
    "\n",
    "values, dates = DRLStableAgent.DRL_prediction(model_bcrp, environment_ppo)\n",
    "BCRP_results[\"train\"][\"value\"] = environment_ppo._terminal_asset_memory[\"final\"]\n",
    "BCRP_results[\"train\"][\"date\"] = environment_ppo._terminal_date_memory\n",
    "\n",
    "df_bcrp_opt = pd.DataFrame(BCRP_results[\"train\"][\"value\"], columns=['bcrp_opt_net_worth'])\n",
    "df_bcrp_date = pd.DataFrame(BCRP_results[\"train\"][\"date\"], columns=['Date'])\n",
    "if len(df_bcrp_opt) == len(df_bcrp_date):\n",
    "    df_bcrp_opt['Date'] = df_bcrp_date['Date']\n",
    "else:\n",
    "    raise ValueError(\"DataFrames do not have the same number of rows.\")\n",
    "\n",
    "print(df_bcrp_opt)\n",
    "\n",
    "\n",
    "# assert the dates line up\n",
    "assert df_opt.loc[0,'Date'] == df_bcrp_opt.loc[0, 'Date']\n",
    "assert df_opt.loc[len(df_date)-1,'Date'] == df_bcrp_opt.loc[len(df_bcrp_opt)-1,'Date']"
   ]
  },
  {
   "cell_type": "markdown",
   "metadata": {},
   "source": [
    "# Stock environment optimization algorithm"
   ]
  },
  {
   "cell_type": "code",
   "execution_count": 20,
   "metadata": {},
   "outputs": [],
   "source": [
    "from finrl.meta.preprocessor.preprocessors import data_split\n",
    "\n",
    "# Make sure we only test on the same data as the portfolio optimization algorithm\n",
    "# test = data_split(test, opt_start,opt_end)\n"
   ]
  },
  {
   "cell_type": "code",
   "execution_count": 21,
   "metadata": {},
   "outputs": [
    {
     "name": "stderr",
     "output_type": "stream",
     "text": [
      "c:\\Users\\bencj\\Desktop\\Econ4\\Thesis\\.venv\\lib\\site-packages\\pyfolio\\pos.py:26: UserWarning: Module \"zipline.assets\" not found; mutltipliers will not be applied to position notionals.\n",
      "  warnings.warn(\n",
      "[*********************100%***********************]  1 of 1 completed\n"
     ]
    },
    {
     "name": "stdout",
     "output_type": "stream",
     "text": [
      "Shape of DataFrame:  (3186, 8)\n",
      "Annual return          0.122012\n",
      "Cumulative returns     3.286587\n",
      "Annual volatility      0.170256\n",
      "Sharpe ratio           0.762055\n",
      "Calmar ratio           0.328996\n",
      "Stability              0.971208\n",
      "Max drawdown          -0.370862\n",
      "Omega ratio            1.161853\n",
      "Sortino ratio          1.065189\n",
      "Skew                        NaN\n",
      "Kurtosis                    NaN\n",
      "Tail ratio             0.947005\n",
      "Daily value at risk   -0.020935\n",
      "dtype: float64\n",
      "df_dji:             date           dji\n",
      "0    2009-05-06  1.000000e+06\n",
      "1    2009-05-07  9.879667e+05\n",
      "2    2009-05-08  1.007327e+06\n",
      "3    2009-05-11  9.890146e+05\n",
      "4    2009-05-12  9.949285e+05\n",
      "...         ...           ...\n",
      "3182 2021-12-23  4.223376e+06\n",
      "3183 2021-12-27  4.264707e+06\n",
      "3184 2021-12-28  4.275965e+06\n",
      "3185 2021-12-29  4.286587e+06\n",
      "3186 2021-12-30           NaN\n",
      "\n",
      "[3187 rows x 2 columns]\n",
      "df_dji:                       dji\n",
      "date                    \n",
      "2009-05-06  1.000000e+06\n",
      "2009-05-07  9.879667e+05\n",
      "2009-05-08  1.007327e+06\n",
      "2009-05-11  9.890146e+05\n",
      "2009-05-12  9.949285e+05\n",
      "...                  ...\n",
      "2021-12-23  4.223376e+06\n",
      "2021-12-27  4.264707e+06\n",
      "2021-12-28  4.275965e+06\n",
      "2021-12-29  4.286587e+06\n",
      "2021-12-30           NaN\n",
      "\n",
      "[3187 rows x 1 columns]\n"
     ]
    }
   ],
   "source": [
    "# Pull the DJI results\n",
    "\n",
    "from finrl.plot import backtest_stats, backtest_plot, get_daily_return, get_baseline\n",
    "\n",
    "\n",
    "df_dji_ = get_baseline(\n",
    "        ticker=\"^DJI\",\n",
    "        start = df_date.loc[0,'Date'],\n",
    "        end = df_date.loc[len(df_date)-1,'Date'])\n",
    "\n",
    "stats = backtest_stats(df_dji_, value_col_name = 'close')\n",
    "\n",
    "df_dji = pd.DataFrame()\n",
    "df_dji['date'] = df_date['Date']\n",
    "df_dji['dji'] = df_dji_['close'] / df_dji_['close'][0] * INITIAL_CASH\n",
    "print(\"df_dji: \", df_dji)\n",
    "df_dji.to_csv(\"df_dji.csv\")\n",
    "df_dji = df_dji.set_index(df_dji.columns[0])\n",
    "print(\"df_dji: \", df_dji)\n"
   ]
  },
  {
   "cell_type": "markdown",
   "metadata": {},
   "source": [
    "# Compare all results"
   ]
  },
  {
   "cell_type": "code",
   "execution_count": 22,
   "metadata": {},
   "outputs": [
    {
     "name": "stdout",
     "output_type": "stream",
     "text": [
      "                     dji\n",
      "date                    \n",
      "2009-05-06  1.000000e+06\n",
      "2009-05-07  9.879667e+05\n",
      "2009-05-08  1.007327e+06\n",
      "2009-05-11  9.890146e+05\n",
      "2009-05-12  9.949285e+05\n",
      "...                  ...\n",
      "2021-12-23  4.223376e+06\n",
      "2021-12-27  4.264707e+06\n",
      "2021-12-28  4.275965e+06\n",
      "2021-12-29  4.286587e+06\n",
      "2021-12-30           NaN\n",
      "\n",
      "[3187 rows x 1 columns]\n",
      "      crp_opt_net_worth       Date  bcrp_opt_net_worth  bah_opt_net_worth  \\\n",
      "0          1.000000e+06 2009-05-06        1.000000e+06       1.000000e+06   \n",
      "1          9.760552e+05 2009-05-07        9.740373e+05       9.760552e+05   \n",
      "2          1.012637e+06 2009-05-08        9.750189e+05       1.012324e+06   \n",
      "3          9.900409e+05 2009-05-11        9.778864e+05       9.888022e+05   \n",
      "4          9.726819e+05 2009-05-12        9.390182e+05       9.717182e+05   \n",
      "...                 ...        ...                 ...                ...   \n",
      "3182       1.302118e+07 2021-12-23        4.344885e+07       1.572234e+07   \n",
      "3183       1.310323e+07 2021-12-27        4.444708e+07       1.597574e+07   \n",
      "3184       1.314108e+07 2021-12-28        4.419074e+07       1.593783e+07   \n",
      "3185       1.311833e+07 2021-12-29        4.421293e+07       1.593107e+07   \n",
      "3186       1.307170e+07 2021-12-30        4.392208e+07       1.584735e+07   \n",
      "\n",
      "      olmar_opt_net_worth  rmr_opt_net_worth  bnn_opt_net_worth  \\\n",
      "0            1.000000e+06       1.000000e+06          1000000.0   \n",
      "1            9.760552e+05       9.760552e+05          1000000.0   \n",
      "2            9.770826e+05       9.770826e+05          1000000.0   \n",
      "3            8.940976e+05       8.940976e+05          1000000.0   \n",
      "4            8.799389e+05       8.799389e+05          1000000.0   \n",
      "...                   ...                ...                ...   \n",
      "3182         5.776556e+06       3.319489e+07         24826572.0   \n",
      "3183         5.746856e+06       3.395754e+07         25396958.0   \n",
      "3184         5.830582e+06       3.376170e+07         25250488.0   \n",
      "3185         5.760716e+06       3.377865e+07         25263166.0   \n",
      "3186         5.733844e+06       3.355644e+07         25096974.0   \n",
      "\n",
      "      scrp_opt_net_worth  opt_net_worth  ppo_opt_net_worth           dji  \n",
      "0           1.000000e+06   1.000000e+06       1.000000e+06  1.000000e+06  \n",
      "1           9.760552e+05   9.760582e+05       9.848412e+05  9.879667e+05  \n",
      "2           9.770826e+05   1.012636e+06       1.036877e+06  1.007327e+06  \n",
      "3           9.515123e+05   9.900426e+05       1.011765e+06  9.890146e+05  \n",
      "4           9.383201e+05   9.726854e+05       9.977372e+05  9.949285e+05  \n",
      "...                  ...            ...                ...           ...  \n",
      "3182        2.302664e+07   1.302047e+07       5.173510e+06  4.223376e+06  \n",
      "3183        2.355567e+07   1.310252e+07       5.160178e+06  4.264707e+06  \n",
      "3184        2.341982e+07   1.314037e+07       5.197768e+06  4.275965e+06  \n",
      "3185        2.343158e+07   1.311762e+07       5.166589e+06  4.286587e+06  \n",
      "3186        2.327744e+07   1.307099e+07       5.154539e+06           NaN  \n",
      "\n",
      "[3187 rows x 11 columns]\n"
     ]
    }
   ],
   "source": [
    "# Join the online algorithms\n",
    "\n",
    "# bcrp = pd.read_csv('BCRP_net_worth.csv')\n",
    "# crp = pd.read_csv('CRP_net_worth.csv')\n",
    "# olmar = pd.read_csv('OLMAR_net_worth.csv')\n",
    "\n",
    "\n",
    "\n",
    "# merged_df = olmar\n",
    "# merged_df = pd.merge(merged_df, olmar, on='Date')\n",
    "\n",
    "# Merge the baseline CRP algorithm\n",
    "df_crp_opt['Date'] = pd.to_datetime(df_crp_opt['Date'])\n",
    "merged_df = df_crp_opt\n",
    "\n",
    "# Merge the baseline BCRP algorithm\n",
    "df_bcrp_opt['Date'] = pd.to_datetime(df_bcrp_opt['Date'])\n",
    "merged_df = pd.merge(merged_df, df_bcrp_opt, on='Date')\n",
    "\n",
    "# Merge the baseline BAH algorithm\n",
    "df_bah_opt['Date'] = pd.to_datetime(df_bah_opt['Date'])\n",
    "merged_df = pd.merge(merged_df, df_bah_opt, on='Date')\n",
    "\n",
    "# Merge the baseline OLMAR algorithm\n",
    "df_olmar_opt['Date'] = pd.to_datetime(df_olmar_opt['Date'])\n",
    "merged_df = pd.merge(merged_df, df_olmar_opt, on='Date')\n",
    "\n",
    "# Merge the baseline RMR algorithm\n",
    "df_rmr_opt['Date'] = pd.to_datetime(df_rmr_opt['Date'])\n",
    "merged_df = pd.merge(merged_df, df_rmr_opt, on='Date')\n",
    "\n",
    "# Merge the baseline BNN algorithm\n",
    "df_bnn_opt['Date'] = pd.to_datetime(df_bnn_opt['Date'])\n",
    "merged_df = pd.merge(merged_df, df_bnn_opt, on='Date')\n",
    "\n",
    "# Merge the baseline SCRP algorithm\n",
    "df_scrp_opt['Date'] = pd.to_datetime(df_scrp_opt['Date'])\n",
    "merged_df = pd.merge(merged_df, df_scrp_opt, on='Date')\n",
    "\n",
    "# Merge the opt algorithm\n",
    "df_opt['Date'] = pd.to_datetime(df_opt['Date'])\n",
    "merged_df = pd.merge(merged_df, df_opt, on='Date')\n",
    "\n",
    "# Merge the PPO opt algorithm\n",
    "df_ppo_opt['Date'] = pd.to_datetime(df_ppo_opt['Date'])\n",
    "merged_df = pd.merge(merged_df, df_ppo_opt, on='Date')\n",
    "\n",
    "\n",
    "print(df_dji)\n",
    "df_dji = df_dji.reset_index()\n",
    "df_dji.rename(columns={'date': 'Date'}, inplace=True)\n",
    "merged_df = pd.merge(merged_df, df_dji, on='Date')\n",
    "\n",
    "\n",
    "print(merged_df)\n"
   ]
  },
  {
   "cell_type": "markdown",
   "metadata": {},
   "source": [
    "# Baseline CRP in the environment"
   ]
  },
  {
   "cell_type": "code",
   "execution_count": null,
   "metadata": {},
   "outputs": [],
   "source": []
  },
  {
   "cell_type": "code",
   "execution_count": 23,
   "metadata": {},
   "outputs": [
    {
     "data": {
      "image/png": "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",
      "text/plain": [
       "<Figure size 1400x700 with 1 Axes>"
      ]
     },
     "metadata": {},
     "output_type": "display_data"
    }
   ],
   "source": [
    "# Use the correct backend for Jupyter\n",
    "%matplotlib inline\n",
    "import matplotlib.pyplot as plt\n",
    "\n",
    "color_map = {\n",
    "    'CRP Net Worth': 'blue',\n",
    "    'BAH Net Worth': 'green',\n",
    "    'PPO Net Worth': 'red',\n",
    "    'DJI Value': 'purple',\n",
    "    'SCRP Net Worth': 'orange',\n",
    "    'OLMAR Net Worth': 'cyan',\n",
    "    'RMR Net Worth': 'magenta',\n",
    "    'BNN Net Worth': 'brown'\n",
    "}\n",
    "\n",
    "plt.figure(figsize=(14, 7))\n",
    "plt.plot(merged_df['Date'], merged_df['crp_opt_net_worth'], label='CRP Net Worth', color=color_map['CRP Net Worth'])\n",
    "plt.plot(merged_df['Date'], merged_df['scrp_opt_net_worth'], label='SCRP Net Worth', color=color_map['SCRP Net Worth'])\n",
    "plt.plot(merged_df['Date'], merged_df['bah_opt_net_worth'], label='BAH Net Worth', color=color_map['BAH Net Worth'])\n",
    "plt.plot(merged_df['Date'], merged_df['olmar_opt_net_worth'], label='OLMAR Net Worth', color=color_map['OLMAR Net Worth'])\n",
    "plt.plot(merged_df['Date'], merged_df['rmr_opt_net_worth'], label='RMR Net Worth', color=color_map['RMR Net Worth'])\n",
    "plt.plot(merged_df['Date'], merged_df['bnn_opt_net_worth'], label='BNN Net Worth', color=color_map['BNN Net Worth'])\n",
    "plt.plot(merged_df['Date'], merged_df['ppo_opt_net_worth'], label='PPO Net Worth', color=color_map['PPO Net Worth'])\n",
    "plt.plot(merged_df['Date'], merged_df['dji'], label='DJI Value', color=color_map['DJI Value'])\n",
    "plt.xlabel('Date')\n",
    "plt.ylabel('Net Worth')\n",
    "plt.title('Portfolio Performance Over Time IS: ' + GRAPH_TITLE)\n",
    "plt.legend()\n",
    "plt.xticks(rotation=45)\n",
    "plt.grid(True)\n",
    "plt.tight_layout()\n",
    "plt.show()"
   ]
  },
  {
   "cell_type": "code",
   "execution_count": 24,
   "metadata": {},
   "outputs": [
    {
     "name": "stdout",
     "output_type": "stream",
     "text": [
      "{'BAH': 15847346.0,\n",
      " 'BCRP': 43922080.0,\n",
      " 'BNN': 25096974.0,\n",
      " 'CRP': 13071702.0,\n",
      " 'OLMAR': 5733844.5,\n",
      " 'PPO': 5154539.0,\n",
      " 'RMR': 33556440.0,\n",
      " 'SCRP': 23277438.0}\n"
     ]
    }
   ],
   "source": [
    "# Final returns\n",
    "\n",
    "import pprint\n",
    "\n",
    "final_returns = {\n",
    "   'BCRP': merged_df['bcrp_opt_net_worth'].iloc[-1],\n",
    "   'CRP': merged_df['crp_opt_net_worth'].iloc[-1],\n",
    "   'SCRP': merged_df['scrp_opt_net_worth'].iloc[-1],\n",
    "   'BAH': merged_df['bah_opt_net_worth'].iloc[-1],\n",
    "   'OLMAR': merged_df['olmar_opt_net_worth'].iloc[-1],\n",
    "   'RMR': merged_df['rmr_opt_net_worth'].iloc[-1],\n",
    "   'BNN': merged_df['bnn_opt_net_worth'].iloc[-1],\n",
    "   'PPO': merged_df['ppo_opt_net_worth'].iloc[-1]\n",
    "}\n",
    "\n",
    "pprint.pprint(final_returns)"
   ]
  },
  {
   "cell_type": "code",
<<<<<<< HEAD
   "execution_count": null,
=======
   "execution_count": 25,
>>>>>>> 69662de904b139f29de6df94557a895b058951dd
   "metadata": {},
   "outputs": [
    {
     "name": "stdout",
     "output_type": "stream",
     "text": [
      "{'BAH': 1.0114875450534397,\n",
      " 'BCRP': 1.1375093755204606,\n",
      " 'BNN': 0.9725126589653799,\n",
      " 'CRP': 0.9425343939251983,\n",
      " 'OLMAR': 0.5171293989363847,\n",
      " 'PPO': 0.544757344933956,\n",
      " 'RMR': 1.053438878150652,\n",
      " 'SCRP': 0.951383660721947}\n"
     ]
    }
   ],
   "source": [
    "import numpy as np\n",
    "\n",
    "# Calculate the returns each day\n",
    "\n",
    "# merged_df['BCRP_daily_return'] = merged_df['BCRP_net_worth'].pct_change()\n",
    "# merged_df['CRP_daily_return'] = merged_df['CRP_net_worth'].pct_change()\n",
    "merged_df['BCRP_opt_daily_return'] = merged_df['bcrp_opt_net_worth'].pct_change()\n",
    "merged_df['CRP_opt_daily_return'] = merged_df['crp_opt_net_worth'].pct_change()\n",
    "merged_df['SCRP_opt_daily_return'] = merged_df['scrp_opt_net_worth'].pct_change()\n",
    "\n",
    "merged_df['BAH_opt_daily_return'] = merged_df['bah_opt_net_worth'].pct_change()\n",
    "merged_df['OLMAR_opt_daily_return'] = merged_df['olmar_opt_net_worth'].pct_change()\n",
    "merged_df['RMR_opt_daily_return'] = merged_df['rmr_opt_net_worth'].pct_change()\n",
    "merged_df['BNN_opt_daily_return'] = merged_df['bnn_opt_net_worth'].pct_change()\n",
    "\n",
    "merged_df['opt_daily_return'] = merged_df['opt_net_worth'].pct_change()\n",
    "merged_df['ppo_opt_daily_return'] = merged_df['ppo_opt_net_worth'].pct_change()\n",
    "# merged_df['ppo_daily_return'] = merged_df['ppo_value'].pct_change()\n",
    "# merged_df['td3_daily_return'] = merged_df['td3_value'].pct_change()\n",
    "\n",
<<<<<<< HEAD
=======
    "# TODO need to put in the fama french\n",
>>>>>>> 69662de904b139f29de6df94557a895b058951dd
    "\n",
    "# Define the risk-free rate (annual, for example, 2%)\n",
    "risk_free_rate = 0.02 / 252  # Convert annual risk-free rate to daily\n",
    "\n",
    "# Define a function to calculate Sharpe ratio adjusted for the risk-free rate\n",
    "def calculate_sharpe_ratio(returns, risk_free_rate):\n",
    "    excess_return = returns - risk_free_rate\n",
    "    mean_excess_return = excess_return.mean()\n",
    "    std_excess_return = excess_return.std()\n",
    "    annual_factor = np.sqrt(252)  # Assuming 252 trading days in a year\n",
    "    sharpe_ratio = annual_factor * mean_excess_return / std_excess_return\n",
    "    return sharpe_ratio\n",
    "\n",
    "# Calculate the Sharpe ratio for each daily return column\n",
    "sharpe_ratios = {\n",
    "    # 'BCRP': calculate_sharpe_ratio(merged_df['BCRP_daily_return'], risk_free_rate),\n",
    "    # 'CRP': calculate_sharpe_ratio(merged_df['CRP_daily_return'], risk_free_rate),\n",
    "    'BCRP': calculate_sharpe_ratio(merged_df['BCRP_opt_daily_return'], risk_free_rate),\n",
    "    'CRP': calculate_sharpe_ratio(merged_df['CRP_opt_daily_return'], risk_free_rate),\n",
    "    'SCRP': calculate_sharpe_ratio(merged_df['SCRP_opt_daily_return'], risk_free_rate),\n",
    "    'BAH': calculate_sharpe_ratio(merged_df['BAH_opt_daily_return'], risk_free_rate),\n",
    "    'OLMAR': calculate_sharpe_ratio(merged_df['OLMAR_opt_daily_return'], risk_free_rate),\n",
    "    'RMR': calculate_sharpe_ratio(merged_df['RMR_opt_daily_return'], risk_free_rate),\n",
    "    'BNN': calculate_sharpe_ratio(merged_df['BNN_opt_daily_return'], risk_free_rate),\n",
    "    # 'Opt': calculate_sharpe_ratio(merged_df['opt_daily_return'], risk_free_rate),\n",
    "    'PPO': calculate_sharpe_ratio(merged_df['ppo_opt_daily_return'], risk_free_rate),\n",
    "    # 'PPO': calculate_sharpe_ratio(merged_df['ppo_daily_return'], risk_free_rate),\n",
    "    # 'TD3': calculate_sharpe_ratio(merged_df['td3_daily_return'], risk_free_rate)\n",
    "}\n",
    "\n",
    "pprint.pprint(sharpe_ratios)"
   ]
  },
  {
   "cell_type": "code",
   "execution_count": 26,
   "metadata": {},
   "outputs": [
    {
     "name": "stdout",
     "output_type": "stream",
     "text": [
      "{'BAH': -0.4111900435832344,\n",
      " 'BCRP': -0.43797157893925853,\n",
      " 'BNN': -0.4379718404632976,\n",
      " 'CRP': -0.4458332809442286,\n",
      " 'OLMAR': -0.7445606029191978,\n",
      " 'PPO': -0.5618078465536248,\n",
      " 'RMR': -0.4379718645221323,\n",
      " 'SCRP': -0.43797171333303075}\n"
     ]
    }
   ],
   "source": [
    "import pandas as pd\n",
    "import numpy as np\n",
    "\n",
    "# Assuming merged_df is your DataFrame\n",
    "# Calculate the max drawdown for each specified column\n",
    "def max_drawdown(series):\n",
    "    cumulative_returns = series.cummax()\n",
    "    drawdowns = series / cumulative_returns - 1\n",
    "    max_drawdown_value = drawdowns.min()\n",
    "    return max_drawdown_value\n",
    "\n",
    "max_drawdowns = {\n",
    "    # 'BCRP': max_drawdown(merged_df['BCRP_net_worth']),\n",
    "    # 'CRP': max_drawdown(merged_df['CRP_net_worth']),\n",
    "    'BCRP': max_drawdown(merged_df['bcrp_opt_net_worth']),\n",
    "    'CRP': max_drawdown(merged_df['crp_opt_net_worth']),\n",
    "    'SCRP': max_drawdown(merged_df['scrp_opt_net_worth']),\n",
    "    'BAH': max_drawdown(merged_df['bah_opt_net_worth']),\n",
    "    'OLMAR': max_drawdown(merged_df['olmar_opt_net_worth']),\n",
    "    'RMR': max_drawdown(merged_df['rmr_opt_net_worth']),\n",
    "    'BNN': max_drawdown(merged_df['bnn_opt_net_worth']),\n",
    "    # 'Opt': max_drawdown(merged_df['opt_net_worth']),\n",
    "    'PPO': max_drawdown(merged_df['ppo_opt_net_worth']),\n",
    "    # 'PPO': max_drawdown(merged_df['ppo_value']),\n",
    "    # 'TD3': max_drawdown(merged_df['td3_value'])\n",
    "}\n",
    "\n",
    "pprint.pprint(max_drawdowns)\n"
   ]
  },
  {
   "cell_type": "code",
   "execution_count": 27,
   "metadata": {},
   "outputs": [
    {
     "name": "stdout",
     "output_type": "stream",
     "text": [
      "             sum_sq       df         F    PR(>F)\n",
      "Portfolio  0.000770      3.0  1.047019  0.370423\n",
      "Residual   3.123452  12740.0       NaN       NaN\n"
     ]
    }
   ],
   "source": [
    "import pandas as pd\n",
    "import numpy as np\n",
    "import statsmodels.api as sm\n",
    "from statsmodels.formula.api import ols\n",
    "\n",
    "\n",
    "# TODO can we do a statisitical significance test with anova here?\n",
    "ANOVA_cols = ['ppo_opt_daily_return', 'CRP_opt_daily_return', 'BCRP_opt_daily_return', 'BAH_opt_daily_return']\n",
    "cols = ['Date',] + ANOVA_cols\n",
    "\n",
    "\n",
    "df_selected = merged_df[cols]\n",
    "\n",
    "# Assuming merged_df is your DataFrame and daily returns have already been calculated\n",
    "# Combine all return columns into one DataFrame for ANOVA\n",
    "returns_long = df_selected.melt(\n",
    "    id_vars=['Date'], \n",
    "    value_vars=ANOVA_cols,\n",
    "    var_name='Portfolio', \n",
    "    value_name='Daily_Return'\n",
    ")\n",
    "\n",
    "# Remove any NaN values created by pct_change()\n",
    "returns_long.dropna(inplace=True)\n",
    "\n",
    "# Perform ANOVA\n",
    "model = ols('Daily_Return ~ Portfolio', data=returns_long).fit()\n",
    "anova_result = sm.stats.anova_lm(model, typ=2)\n",
    "\n",
    "# Display the summary of the ANOVA\n",
    "pprint.pprint(anova_result)\n",
    "\n",
    "# The results do seem to be statisitcally significant\n"
   ]
  }
 ],
 "metadata": {
  "kernelspec": {
   "display_name": ".venv",
   "language": "python",
   "name": "python3"
  },
  "language_info": {
   "codemirror_mode": {
    "name": "ipython",
    "version": 3
   },
   "file_extension": ".py",
   "mimetype": "text/x-python",
   "name": "python",
   "nbconvert_exporter": "python",
   "pygments_lexer": "ipython3",
   "version": "3.10.0"
  }
 },
 "nbformat": 4,
 "nbformat_minor": 2
}
