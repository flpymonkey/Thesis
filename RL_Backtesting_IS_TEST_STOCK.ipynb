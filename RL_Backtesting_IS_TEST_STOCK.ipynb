{
 "cells": [
  {
   "cell_type": "code",
   "execution_count": 103,
   "metadata": {},
   "outputs": [
    {
     "name": "stderr",
     "output_type": "stream",
     "text": [
      "[*********************100%***********************]  1 of 1 completed\n",
      "[*********************100%***********************]  1 of 1 completed\n",
      "[*********************100%***********************]  1 of 1 completed\n",
      "[*********************100%***********************]  1 of 1 completed\n"
     ]
    },
    {
     "name": "stdout",
     "output_type": "stream",
     "text": [
      "Shape of DataFrame:  (11836, 8)\n"
     ]
    }
   ],
   "source": [
    "import pandas as pd\n",
    "from stable_baselines3.common.logger import configure\n",
    "\n",
    "from finrl.agents.stablebaselines3.models import DRLAgent as StockDRLAgent\n",
    "from finrl.agents.portfolio_optimization.models import DRLAgent as OptDRLAgent\n",
    "\n",
    "from finrl.config import TRAINED_MODEL_DIR, RESULTS_DIR\n",
    "from finrl.main import check_and_make_directories\n",
    "from finrl.meta.env_stock_trading.env_stocktrading import StockTradingEnv\n",
    "\n",
    "import numpy as np\n",
    "\n",
    "\n",
    "TIME_WINDOW = 25\n",
    "COMMISSION_FEE_PERCENT = 0.001\n",
    "INITIAL_CASH = 1000000\n",
    "\n",
    "\n",
    "# TRAIN_START_DATE = '2009-04-01'\n",
    "# TRAIN_END_DATE = '2020-12-31'\n",
    "\n",
    "\n",
    "TRAIN_START_DATE = '2009-04-01'\n",
    "TRAIN_END_DATE = '2020-12-31'\n",
    "\n",
    "\n",
    "\n",
    "\n",
    "# Backtest the results\n",
    "\n",
    "\n",
    "\n",
    "# Add additional technical indicators TODO add indicators\n",
    "# INDICATORS = ['macd',\n",
    "#             'rsi_30',\n",
    "#             'cci_30',\n",
    "#             'dx_30']\n",
    "\n",
    "\n",
    "# FEATURES = [\"close\", \"high\", \"low\", \"volume\"].extend(INDICATORS)\n",
    "\n",
    "from finrl.meta.preprocessor.yahoodownloader import YahooDownloader\n",
    "from finrl.config_tickers import TEST_TICKER\n",
    "\n",
    "\n",
    "\n",
    "df = YahooDownloader(start_date = TRAIN_START_DATE,\n",
    "                     end_date = TRAIN_END_DATE,\n",
    "                     ticker_list = TEST_TICKER).fetch_data()\n",
    "\n",
    "processed = df.copy()\n",
    "processed = processed.fillna(0)\n",
    "processed_test = processed.replace(np.inf,0)"
   ]
  },
  {
   "cell_type": "code",
   "execution_count": 104,
   "metadata": {},
   "outputs": [
    {
     "name": "stderr",
     "output_type": "stream",
     "text": [
      "c:\\Users\\bencj\\Desktop\\Econ4\\Thesis\\.venv\\lib\\site-packages\\finrl\\meta\\preprocessor\\preprocessors.py:101: FutureWarning: Setting an item of incompatible dtype is deprecated and will raise an error in a future version of pandas. Value '[0.31332941 0.43188074 0.33824661 ... 0.06618093 0.0643527  0.05127709]' has dtype incompatible with int64, please explicitly cast to a compatible dtype first.\n",
      "  X.loc[select_mask, self.columns] = self.scalers[value].transform(\n",
      "c:\\Users\\bencj\\Desktop\\Econ4\\Thesis\\.venv\\lib\\site-packages\\finrl\\meta\\preprocessor\\preprocessors.py:101: FutureWarning: Setting an item of incompatible dtype is deprecated and will raise an error in a future version of pandas. Value '[0.5  0.75 1.   ... 0.   0.25 0.5 ]' has dtype incompatible with int32, please explicitly cast to a compatible dtype first.\n",
      "  X.loc[select_mask, self.columns] = self.scalers[value].transform(\n"
     ]
    },
    {
     "data": {
      "text/html": [
       "<div>\n",
       "<style scoped>\n",
       "    .dataframe tbody tr th:only-of-type {\n",
       "        vertical-align: middle;\n",
       "    }\n",
       "\n",
       "    .dataframe tbody tr th {\n",
       "        vertical-align: top;\n",
       "    }\n",
       "\n",
       "    .dataframe thead th {\n",
       "        text-align: right;\n",
       "    }\n",
       "</style>\n",
       "<table border=\"1\" class=\"dataframe\">\n",
       "  <thead>\n",
       "    <tr style=\"text-align: right;\">\n",
       "      <th></th>\n",
       "      <th>date</th>\n",
       "      <th>open</th>\n",
       "      <th>high</th>\n",
       "      <th>low</th>\n",
       "      <th>close</th>\n",
       "      <th>volume</th>\n",
       "      <th>tic</th>\n",
       "      <th>day</th>\n",
       "    </tr>\n",
       "  </thead>\n",
       "  <tbody>\n",
       "    <tr>\n",
       "      <th>0</th>\n",
       "      <td>2009-04-01</td>\n",
       "      <td>0.026929</td>\n",
       "      <td>0.028049</td>\n",
       "      <td>0.027619</td>\n",
       "      <td>0.024498</td>\n",
       "      <td>0.313329</td>\n",
       "      <td>AAPL</td>\n",
       "      <td>0.50</td>\n",
       "    </tr>\n",
       "    <tr>\n",
       "      <th>1</th>\n",
       "      <td>2009-04-01</td>\n",
       "      <td>0.187558</td>\n",
       "      <td>0.184662</td>\n",
       "      <td>0.182332</td>\n",
       "      <td>0.149647</td>\n",
       "      <td>0.216841</td>\n",
       "      <td>AMGN</td>\n",
       "      <td>0.50</td>\n",
       "    </tr>\n",
       "    <tr>\n",
       "      <th>2</th>\n",
       "      <td>2009-04-01</td>\n",
       "      <td>0.097793</td>\n",
       "      <td>0.105987</td>\n",
       "      <td>0.096092</td>\n",
       "      <td>0.089370</td>\n",
       "      <td>0.306650</td>\n",
       "      <td>AXP</td>\n",
       "      <td>0.50</td>\n",
       "    </tr>\n",
       "    <tr>\n",
       "      <th>3</th>\n",
       "      <td>2009-04-01</td>\n",
       "      <td>0.077397</td>\n",
       "      <td>0.079819</td>\n",
       "      <td>0.077716</td>\n",
       "      <td>0.062400</td>\n",
       "      <td>0.089997</td>\n",
       "      <td>BA</td>\n",
       "      <td>0.50</td>\n",
       "    </tr>\n",
       "    <tr>\n",
       "      <th>4</th>\n",
       "      <td>2009-04-02</td>\n",
       "      <td>0.028494</td>\n",
       "      <td>0.029528</td>\n",
       "      <td>0.029185</td>\n",
       "      <td>0.025404</td>\n",
       "      <td>0.431881</td>\n",
       "      <td>AAPL</td>\n",
       "      <td>0.75</td>\n",
       "    </tr>\n",
       "    <tr>\n",
       "      <th>...</th>\n",
       "      <td>...</td>\n",
       "      <td>...</td>\n",
       "      <td>...</td>\n",
       "      <td>...</td>\n",
       "      <td>...</td>\n",
       "      <td>...</td>\n",
       "      <td>...</td>\n",
       "      <td>...</td>\n",
       "    </tr>\n",
       "    <tr>\n",
       "      <th>11831</th>\n",
       "      <td>2020-12-29</td>\n",
       "      <td>0.489451</td>\n",
       "      <td>0.497029</td>\n",
       "      <td>0.489334</td>\n",
       "      <td>0.502556</td>\n",
       "      <td>0.141395</td>\n",
       "      <td>BA</td>\n",
       "      <td>0.25</td>\n",
       "    </tr>\n",
       "    <tr>\n",
       "      <th>11832</th>\n",
       "      <td>2020-12-30</td>\n",
       "      <td>0.982108</td>\n",
       "      <td>0.979826</td>\n",
       "      <td>0.993003</td>\n",
       "      <td>0.978272</td>\n",
       "      <td>0.051277</td>\n",
       "      <td>AAPL</td>\n",
       "      <td>0.50</td>\n",
       "    </tr>\n",
       "    <tr>\n",
       "      <th>11833</th>\n",
       "      <td>2020-12-30</td>\n",
       "      <td>0.876576</td>\n",
       "      <td>0.864362</td>\n",
       "      <td>0.877129</td>\n",
       "      <td>0.882335</td>\n",
       "      <td>0.037800</td>\n",
       "      <td>AMGN</td>\n",
       "      <td>0.50</td>\n",
       "    </tr>\n",
       "    <tr>\n",
       "      <th>11834</th>\n",
       "      <td>2020-12-30</td>\n",
       "      <td>0.866872</td>\n",
       "      <td>0.868385</td>\n",
       "      <td>0.867984</td>\n",
       "      <td>0.884702</td>\n",
       "      <td>0.021632</td>\n",
       "      <td>AXP</td>\n",
       "      <td>0.50</td>\n",
       "    </tr>\n",
       "    <tr>\n",
       "      <th>11835</th>\n",
       "      <td>2020-12-30</td>\n",
       "      <td>0.485101</td>\n",
       "      <td>0.490011</td>\n",
       "      <td>0.486994</td>\n",
       "      <td>0.503532</td>\n",
       "      <td>0.104760</td>\n",
       "      <td>BA</td>\n",
       "      <td>0.50</td>\n",
       "    </tr>\n",
       "  </tbody>\n",
       "</table>\n",
       "<p>11836 rows × 8 columns</p>\n",
       "</div>"
      ],
      "text/plain": [
       "             date      open      high       low     close    volume   tic  \\\n",
       "0      2009-04-01  0.026929  0.028049  0.027619  0.024498  0.313329  AAPL   \n",
       "1      2009-04-01  0.187558  0.184662  0.182332  0.149647  0.216841  AMGN   \n",
       "2      2009-04-01  0.097793  0.105987  0.096092  0.089370  0.306650   AXP   \n",
       "3      2009-04-01  0.077397  0.079819  0.077716  0.062400  0.089997    BA   \n",
       "4      2009-04-02  0.028494  0.029528  0.029185  0.025404  0.431881  AAPL   \n",
       "...           ...       ...       ...       ...       ...       ...   ...   \n",
       "11831  2020-12-29  0.489451  0.497029  0.489334  0.502556  0.141395    BA   \n",
       "11832  2020-12-30  0.982108  0.979826  0.993003  0.978272  0.051277  AAPL   \n",
       "11833  2020-12-30  0.876576  0.864362  0.877129  0.882335  0.037800  AMGN   \n",
       "11834  2020-12-30  0.866872  0.868385  0.867984  0.884702  0.021632   AXP   \n",
       "11835  2020-12-30  0.485101  0.490011  0.486994  0.503532  0.104760    BA   \n",
       "\n",
       "        day  \n",
       "0      0.50  \n",
       "1      0.50  \n",
       "2      0.50  \n",
       "3      0.50  \n",
       "4      0.75  \n",
       "...     ...  \n",
       "11831  0.25  \n",
       "11832  0.50  \n",
       "11833  0.50  \n",
       "11834  0.50  \n",
       "11835  0.50  \n",
       "\n",
       "[11836 rows x 8 columns]"
      ]
     },
     "execution_count": 104,
     "metadata": {},
     "output_type": "execute_result"
    }
   ],
   "source": [
    "from sklearn.preprocessing import MaxAbsScaler\n",
    "from finrl.meta.preprocessor.preprocessors import GroupByScaler\n",
    "\n",
    "portfolio_norm_df = GroupByScaler(by=\"tic\", scaler=MaxAbsScaler).fit_transform(processed_test)\n",
    "portfolio_norm_df"
   ]
  },
  {
   "cell_type": "markdown",
   "metadata": {},
   "source": [
    "# Portfolio Optimization Algorithm"
   ]
  },
  {
   "cell_type": "code",
   "execution_count": 105,
   "metadata": {},
   "outputs": [],
   "source": [
    "from finrl.meta.env_portfolio_optimization.env_portfolio_optimization import PortfolioOptimizationEnv\n",
    "\n",
    "\n",
    "# Fit for the portfolio optimization model\n",
    "\n",
    "from sklearn.preprocessing import MaxAbsScaler\n",
    "from finrl.meta.preprocessor.preprocessors import GroupByScaler\n",
    "\n",
    "\n",
    "environment = PortfolioOptimizationEnv(\n",
    "    portfolio_norm_df,\n",
    "    initial_amount=INITIAL_CASH,\n",
    "    comission_fee_pct=COMMISSION_FEE_PERCENT,\n",
    "    time_window=TIME_WINDOW,\n",
    "    features=[\"close\", \"high\", \"low\"],\n",
    "    normalize_df=None\n",
    ")"
   ]
  },
  {
   "cell_type": "code",
   "execution_count": 106,
   "metadata": {},
   "outputs": [
    {
     "name": "stderr",
     "output_type": "stream",
     "text": [
      "C:\\Users\\bencj\\AppData\\Local\\Temp\\ipykernel_23768\\3962532677.py:22: FutureWarning: You are using `torch.load` with `weights_only=False` (the current default value), which uses the default pickle module implicitly. It is possible to construct malicious pickle data which will execute arbitrary code during unpickling (See https://github.com/pytorch/pytorch/blob/main/SECURITY.md#untrusted-models for more details). In a future release, the default value for `weights_only` will be flipped to `True`. This limits the functions that could be executed during unpickling. Arbitrary objects will no longer be allowed to be loaded via this mode unless they are explicitly allowlisted by the user via `torch.serialization.add_safe_globals`. We recommend you start setting `weights_only=True` for any use case where you don't have full control of the loaded file. Please open an issue on GitHub for any issues related to this experimental feature.\n",
      "  policy.load_state_dict(torch.load(\"policy_EIIE.pt\"))\n"
     ]
    },
    {
     "data": {
      "text/plain": [
       "<All keys matched successfully>"
      ]
     },
     "execution_count": 106,
     "metadata": {},
     "output_type": "execute_result"
    }
   ],
   "source": [
    "import torch\n",
    "from finrl.agents.portfolio_optimization.architectures import EIIE\n",
    "\n",
    "device = 'cuda:0' if torch.cuda.is_available() else 'cpu'\n",
    "\n",
    "# set PolicyGradient parameters\n",
    "model_kwargs = {\n",
    "    \"lr\": 0.01,\n",
    "    \"policy\": EIIE,\n",
    "}\n",
    "\n",
    "# here, we can set EIIE's parameters\n",
    "policy_kwargs = {\n",
    "    \"k_size\": 3,\n",
    "    \"time_window\": TIME_WINDOW,\n",
    "}\n",
    "\n",
    "\n",
    "# instantiate an architecture with the same arguments used in training\n",
    "# and load with load_state_dict.\n",
    "policy = EIIE(time_window=TIME_WINDOW, device=device)\n",
    "policy.load_state_dict(torch.load(\"policy_EIIE.pt\"))"
   ]
  },
  {
   "cell_type": "code",
   "execution_count": 107,
   "metadata": {},
   "outputs": [
    {
     "name": "stdout",
     "output_type": "stream",
     "text": [
      "=================================\n",
      "Initial portfolio value:1000000\n",
      "Final portfolio value: 11077060.0\n",
      "Final accumulative portfolio value: 11.07706\n",
      "Maximum DrawDown: -0.4458312720490232\n",
      "Sharpe ratio: 1.0367840926728626\n",
      "Total commission cost: 119164.55850817251\n",
      "=================================\n"
     ]
    }
   ],
   "source": [
    "EIIE_results = {\n",
    "    \"train\": {},\n",
    "}\n",
    "\n",
    "# 2021 - 2024\n",
    "# Initialize the model\n",
    "model = OptDRLAgent(environment).get_model(\"pg\", device, model_kwargs, policy_kwargs)\n",
    "OptDRLAgent.DRL_validation(model, environment, policy=policy)\n",
    "EIIE_results[\"train\"][\"value\"] = environment._asset_memory[\"final\"]\n",
    "EIIE_results[\"train\"][\"date\"] = environment._date_memory\n",
    "\n",
    "\n",
    "\n",
    "# Write this out to a csv file, with date and net worth\n",
    "df_opt = pd.DataFrame(EIIE_results[\"train\"][\"value\"], columns=['opt_net_worth'])\n",
    "df_date = pd.DataFrame(EIIE_results[\"train\"][\"date\"], columns=['Date'])\n",
    "if len(df_opt) == len(df_date):\n",
    "    df_opt['Date'] = df_date['Date']\n",
    "else:\n",
    "    raise ValueError(\"DataFrames do not have the same number of rows.\")\n",
    "\n",
    "\n",
    "# The optimization algoirhtm has a shorter window than the full df, so shorted this for the follow algorithm\n",
    "opt_start = df_opt.loc[0,'Date']\n"
   ]
  },
  {
   "cell_type": "code",
   "execution_count": 108,
   "metadata": {},
   "outputs": [
    {
     "name": "stdout",
     "output_type": "stream",
     "text": [
      "      opt_net_worth       Date\n",
      "0      1.000000e+06 2009-05-06\n",
      "1      9.760584e+05 2009-05-07\n",
      "2      1.012636e+06 2009-05-08\n",
      "3      9.900426e+05 2009-05-11\n",
      "4      9.726856e+05 2009-05-12\n",
      "...             ...        ...\n",
      "2930   1.094629e+07 2020-12-23\n",
      "2931   1.094490e+07 2020-12-24\n",
      "2932   1.106174e+07 2020-12-28\n",
      "2933   1.106150e+07 2020-12-29\n",
      "2934   1.107706e+07 2020-12-30\n",
      "\n",
      "[2935 rows x 2 columns]\n"
     ]
    }
   ],
   "source": [
    "print(df_opt)"
   ]
  },
  {
   "cell_type": "code",
   "execution_count": 109,
   "metadata": {},
   "outputs": [
    {
     "name": "stdout",
     "output_type": "stream",
     "text": [
      "2009-05-06 00:00:00\n",
      "2020-12-30 00:00:00\n"
     ]
    }
   ],
   "source": [
    "opt_end = df_opt.loc[len(df_date)-1,'Date']\n",
    "\n",
    "print(opt_start)\n",
    "opt_start = opt_start.strftime('%Y-%m-%d %H:%M:%S')\n",
    "\n",
    "\n",
    "print(opt_end)\n",
    "opt_end = opt_end.strftime('%Y-%m-%d %H:%M:%S')"
   ]
  },
  {
   "cell_type": "markdown",
   "metadata": {},
   "source": [
    "# PPO On portfolio Opt"
   ]
  },
  {
   "cell_type": "code",
   "execution_count": 110,
   "metadata": {},
   "outputs": [
    {
     "name": "stdout",
     "output_type": "stream",
     "text": [
      "2009-05-06 00:00:00\n"
     ]
    }
   ],
   "source": [
    "from finrl.meta.env_portfolio_optimization.env_portfolio_opt_stable import PortfolioOptStableEnv\n",
    "\n",
    "\n",
    "# Fit for the portfolio optimization model\n",
    "\n",
    "from sklearn.preprocessing import MaxAbsScaler\n",
    "from finrl.meta.preprocessor.preprocessors import GroupByScaler\n",
    "\n",
    "from finrl.meta.preprocessor.preprocessors import data_split\n",
    "\n",
    "from datetime import datetime, timedelta\n",
    "# Make sure dates line up, TODO fix this for real dates\n",
    "# Make sure we only test on the same data as the portfolio optimization algorithm\n",
    "# Convert to datetime\n",
    "opt_start_date = datetime.strptime(opt_start, '%Y-%m-%d %H:%M:%S')\n",
    "\n",
    "print(opt_start_date)\n",
    "\n",
    "# Subtract one day\n",
    "new_opt_start_date = opt_start_date - timedelta(days=1)\n",
    "\n",
    "# Convert back to string\n",
    "new_opt_start_str = new_opt_start_date.strftime('%Y-%m-%d %H:%M:%S')\n",
    "\n",
    "train = data_split(portfolio_norm_df, new_opt_start_str,opt_end)\n",
    "\n",
    "environment_ppo = PortfolioOptStableEnv(\n",
    "    train,\n",
    "    initial_amount=INITIAL_CASH,\n",
    "    comission_fee_pct=COMMISSION_FEE_PERCENT,\n",
    "    # time_window=TIME_WINDOW,\n",
    "    features=[\"close\", \"high\", \"low\"],\n",
    "    normalize_df=None,\n",
    "    reward_scaling=1e-4\n",
    ")"
   ]
  },
  {
   "cell_type": "code",
   "execution_count": 111,
   "metadata": {},
   "outputs": [],
   "source": [
    "from stable_baselines3 import PPO\n",
    "from finrl.config import TRAINED_MODEL_DIR\n",
    "\n",
    "\n",
    "# Load the trained models\n",
    "# trained_ppo_opt = PPO.load(TRAINED_MODEL_DIR + \"/agent_opt_ppo_10_27\") \n",
    "\n",
    "\n",
    "trained_ppo_opt = PPO.load(TRAINED_MODEL_DIR + \"/agent_opt_ppo\") "
   ]
  },
  {
   "cell_type": "code",
   "execution_count": 112,
   "metadata": {},
   "outputs": [
    {
     "name": "stderr",
     "output_type": "stream",
     "text": [
      "c:\\Users\\bencj\\Desktop\\Econ4\\Thesis\\.venv\\lib\\site-packages\\stable_baselines3\\common\\vec_env\\patch_gym.py:49: UserWarning: You provided an OpenAI Gym environment. We strongly recommend transitioning to Gymnasium environments. Stable-Baselines3 is automatically wrapping your environments in a compatibility layer, which could potentially cause issues.\n",
      "  warnings.warn(\n"
     ]
    },
    {
     "name": "stdout",
     "output_type": "stream",
     "text": [
      "=================================\n",
      "Initial portfolio value:1000000\n",
      "Final portfolio value: 7171707.0\n",
      "Final accumulative portfolio value: 7.171707\n",
      "Maximum DrawDown: -0.37113224175753545\n",
      "Sharpe ratio: 1.0365101970925534\n",
      "Total commission cost: 71279.45485426288\n",
      "=================================\n",
      "hit end!\n",
      "      ppo_opt_net_worth       Date\n",
      "0          1.000000e+06 2009-05-06\n",
      "1          9.808442e+05 2009-05-07\n",
      "2          1.010258e+06 2009-05-08\n",
      "3          9.922167e+05 2009-05-11\n",
      "4          9.783027e+05 2009-05-12\n",
      "...                 ...        ...\n",
      "2930       7.103842e+06 2020-12-23\n",
      "2931       7.103115e+06 2020-12-24\n",
      "2932       7.163773e+06 2020-12-28\n",
      "2933       7.163645e+06 2020-12-29\n",
      "2934       7.171707e+06 2020-12-30\n",
      "\n",
      "[2935 rows x 2 columns]\n",
      "2009-05-06 00:00:00\n",
      "2009-05-06 00:00:00\n"
     ]
    }
   ],
   "source": [
    "from finrl.agents.portfolio_optimization.models_stable import DRLStableAgent\n",
    "\n",
    "\n",
    "PPO_results = {\n",
    "    \"train\": {},\n",
    "}\n",
    "\n",
    "values, dates = DRLStableAgent.DRL_prediction(trained_ppo_opt, environment_ppo)\n",
    "PPO_results[\"train\"][\"value\"] = environment_ppo._terminal_asset_memory[\"final\"]\n",
    "PPO_results[\"train\"][\"date\"] = environment_ppo._terminal_date_memory\n",
    "\n",
    "\n",
    "# Write this out to a csv file, with date and net worth\n",
    "df_ppo_opt = pd.DataFrame(PPO_results[\"train\"][\"value\"], columns=['ppo_opt_net_worth'])\n",
    "df_ppo_date = pd.DataFrame(PPO_results[\"train\"][\"date\"], columns=['Date'])\n",
    "if len(df_ppo_opt) == len(df_ppo_date):\n",
    "    df_ppo_opt['Date'] = df_ppo_date['Date']\n",
    "else:\n",
    "    raise ValueError(\"DataFrames do not have the same number of rows.\")\n",
    "\n",
    "print(df_ppo_opt)\n",
    "\n",
    "\n",
    "print(df_opt.loc[0,'Date'])\n",
    "print(df_ppo_opt.loc[0, 'Date'])\n",
    "\n",
    "# assert the dates line up\n",
    "assert df_opt.loc[0,'Date'] == df_ppo_opt.loc[0, 'Date']\n",
    "assert df_opt.loc[len(df_date)-1,'Date'] == df_ppo_opt.loc[len(df_ppo_opt)-1,'Date']"
   ]
  },
  {
   "cell_type": "code",
   "execution_count": 113,
   "metadata": {},
   "outputs": [
    {
     "name": "stderr",
     "output_type": "stream",
     "text": [
      "c:\\Users\\bencj\\Desktop\\Econ4\\Thesis\\.venv\\lib\\site-packages\\stable_baselines3\\common\\vec_env\\patch_gym.py:49: UserWarning: You provided an OpenAI Gym environment. We strongly recommend transitioning to Gymnasium environments. Stable-Baselines3 is automatically wrapping your environments in a compatibility layer, which could potentially cause issues.\n",
      "  warnings.warn(\n"
     ]
    },
    {
     "name": "stdout",
     "output_type": "stream",
     "text": [
      "=================================\n",
      "Initial portfolio value:1000000\n",
      "Final portfolio value: 6992356.0\n",
      "Final accumulative portfolio value: 6.992356\n",
      "Maximum DrawDown: -0.47780476395765215\n",
      "Sharpe ratio: 0.8730236577772315\n",
      "Total commission cost: 76420.90452500759\n",
      "=================================\n",
      "hit end!\n",
      "      ppo_opt_net_worth_2       Date\n",
      "0            1.000000e+06 2009-05-06\n",
      "1            9.754729e+05 2009-05-07\n",
      "2            1.021058e+06 2009-05-08\n",
      "3            9.865620e+05 2009-05-11\n",
      "4            9.707058e+05 2009-05-12\n",
      "...                   ...        ...\n",
      "2930         6.942780e+06 2020-12-23\n",
      "2931         6.930820e+06 2020-12-24\n",
      "2932         6.971134e+06 2020-12-28\n",
      "2933         6.969455e+06 2020-12-29\n",
      "2934         6.992356e+06 2020-12-30\n",
      "\n",
      "[2935 rows x 2 columns]\n"
     ]
    }
   ],
   "source": [
    "trained_ppo_opt_2 = PPO.load(TRAINED_MODEL_DIR + \"/agent_opt_ppo_test_2020_1110\") \n",
    "\n",
    "PPO_results_2 = {\n",
    "    \"train\": {},\n",
    "}\n",
    "\n",
    "environment_ppo.reset()\n",
    "values, dates = DRLStableAgent.DRL_prediction(trained_ppo_opt_2, environment_ppo, deterministic=True)\n",
    "PPO_results_2[\"train\"][\"value\"] = environment_ppo._terminal_asset_memory[\"final\"]\n",
    "PPO_results_2[\"train\"][\"date\"] = environment_ppo._terminal_date_memory\n",
    "\n",
    "\n",
    "# Write this out to a csv file, with date and net worth\n",
    "df_ppo_opt_2 = pd.DataFrame(PPO_results_2[\"train\"][\"value\"], columns=['ppo_opt_net_worth_2'])\n",
    "df_ppo_date_2 = pd.DataFrame(PPO_results_2[\"train\"][\"date\"], columns=['Date'])\n",
    "if len(df_ppo_opt_2) == len(df_ppo_date_2):\n",
    "    df_ppo_opt_2['Date'] = df_ppo_date_2['Date']\n",
    "else:\n",
    "    raise ValueError(\"DataFrames do not have the same number of rows.\")\n",
    "\n",
    "print(df_ppo_opt_2)\n",
    "\n",
    "\n",
    "# assert the dates line up\n",
    "assert df_opt.loc[0,'Date'] == df_ppo_opt_2.loc[0, 'Date']\n",
    "assert df_opt.loc[len(df_date)-1,'Date'] == df_ppo_opt_2.loc[len(df_ppo_opt_2)-1,'Date']"
   ]
  },
  {
   "cell_type": "code",
   "execution_count": 114,
   "metadata": {},
   "outputs": [
    {
     "data": {
      "text/plain": [
       "Timestamp('2009-05-06 00:00:00')"
      ]
     },
     "execution_count": 114,
     "metadata": {},
     "output_type": "execute_result"
    }
   ],
   "source": [
    "df_ppo_opt.loc[0, 'Date']"
   ]
  },
  {
   "cell_type": "code",
   "execution_count": 115,
   "metadata": {},
   "outputs": [
    {
     "data": {
      "text/plain": [
       "Timestamp('2009-05-06 00:00:00')"
      ]
     },
     "execution_count": 115,
     "metadata": {},
     "output_type": "execute_result"
    }
   ],
   "source": [
    "df_opt.loc[0,'Date']"
   ]
  },
  {
   "cell_type": "markdown",
   "metadata": {},
   "source": [
    "# Porfolio Baselines"
   ]
  },
  {
   "cell_type": "code",
   "execution_count": 116,
   "metadata": {},
   "outputs": [
    {
     "name": "stderr",
     "output_type": "stream",
     "text": [
      "c:\\Users\\bencj\\Desktop\\Econ4\\Thesis\\.venv\\lib\\site-packages\\stable_baselines3\\common\\vec_env\\patch_gym.py:49: UserWarning: You provided an OpenAI Gym environment. We strongly recommend transitioning to Gymnasium environments. Stable-Baselines3 is automatically wrapping your environments in a compatibility layer, which could potentially cause issues.\n",
      "  warnings.warn(\n"
     ]
    },
    {
     "name": "stdout",
     "output_type": "stream",
     "text": [
      "=================================\n",
      "Initial portfolio value:1000000\n",
      "Final portfolio value: 11077624.0\n",
      "Final accumulative portfolio value: 11.077624\n",
      "Maximum DrawDown: -0.4458333545289904\n",
      "Sharpe ratio: 1.036790539478804\n",
      "Total commission cost: 119172.03443257464\n",
      "=================================\n",
      "hit end!\n",
      "      crp_opt_net_worth       Date\n",
      "0          1.000000e+06 2009-05-06\n",
      "1          9.760554e+05 2009-05-07\n",
      "2          1.012637e+06 2009-05-08\n",
      "3          9.900409e+05 2009-05-11\n",
      "4          9.726821e+05 2009-05-12\n",
      "...                 ...        ...\n",
      "2930       1.094685e+07 2020-12-23\n",
      "2931       1.094546e+07 2020-12-24\n",
      "2932       1.106230e+07 2020-12-28\n",
      "2933       1.106206e+07 2020-12-29\n",
      "2934       1.107762e+07 2020-12-30\n",
      "\n",
      "[2935 rows x 2 columns]\n"
     ]
    }
   ],
   "source": [
    "# CRP \n",
    "\n",
    "CRP_results = {\n",
    "    \"train\": {},\n",
    "}\n",
    "\n",
    "environment_ppo.reset()\n",
    "agent_crp = DRLStableAgent(env = environment_ppo)\n",
    "model_crp = agent_crp.get_model(\"crp\", None, None)\n",
    "\n",
    "values, dates = DRLStableAgent.DRL_prediction(model_crp, environment_ppo)\n",
    "CRP_results[\"train\"][\"value\"] = environment_ppo._terminal_asset_memory[\"final\"]\n",
    "CRP_results[\"train\"][\"date\"] = environment_ppo._terminal_date_memory\n",
    "\n",
    "df_crp_opt = pd.DataFrame(CRP_results[\"train\"][\"value\"], columns=['crp_opt_net_worth'])\n",
    "df_crp_date = pd.DataFrame(CRP_results[\"train\"][\"date\"], columns=['Date'])\n",
    "if len(df_crp_opt) == len(df_crp_date):\n",
    "    df_crp_opt['Date'] = df_crp_date['Date']\n",
    "else:\n",
    "    raise ValueError(\"DataFrames do not have the same number of rows.\")\n",
    "\n",
    "print(df_crp_opt)\n",
    "\n",
    "\n",
    "# assert the dates line up\n",
    "assert df_opt.loc[0,'Date'] == df_crp_opt.loc[0, 'Date']\n",
    "assert df_opt.loc[len(df_date)-1,'Date'] == df_crp_opt.loc[len(df_crp_opt)-1,'Date']"
   ]
  },
  {
   "cell_type": "code",
   "execution_count": 117,
   "metadata": {},
   "outputs": [
    {
     "name": "stdout",
     "output_type": "stream",
     "text": [
      "[0.   0.25 0.25 0.25 0.25]\n"
     ]
    },
    {
     "name": "stderr",
     "output_type": "stream",
     "text": [
      "c:\\Users\\bencj\\Desktop\\Econ4\\Thesis\\.venv\\lib\\site-packages\\stable_baselines3\\common\\vec_env\\patch_gym.py:49: UserWarning: You provided an OpenAI Gym environment. We strongly recommend transitioning to Gymnasium environments. Stable-Baselines3 is automatically wrapping your environments in a compatibility layer, which could potentially cause issues.\n",
      "  warnings.warn(\n"
     ]
    },
    {
     "name": "stdout",
     "output_type": "stream",
     "text": [
      "=================================\n",
      "Initial portfolio value:1000000\n",
      "Final portfolio value: 12603469.0\n",
      "Final accumulative portfolio value: 12.603469\n",
      "Maximum DrawDown: -0.41118947078088797\n",
      "Sharpe ratio: 1.089607928131793\n",
      "Total commission cost: 0.0\n",
      "=================================\n",
      "hit end!\n",
      "      bah_opt_net_worth       Date\n",
      "0          1.000000e+06 2009-05-06\n",
      "1          9.760554e+05 2009-05-07\n",
      "2          1.012324e+06 2009-05-08\n",
      "3          9.888021e+05 2009-05-11\n",
      "4          9.717182e+05 2009-05-12\n",
      "...                 ...        ...\n",
      "2930       1.240157e+07 2020-12-23\n",
      "2931       1.244900e+07 2020-12-24\n",
      "2932       1.274610e+07 2020-12-28\n",
      "2933       1.265459e+07 2020-12-29\n",
      "2934       1.260347e+07 2020-12-30\n",
      "\n",
      "[2935 rows x 2 columns]\n"
     ]
    }
   ],
   "source": [
    "# BAH\n",
    "\n",
    "BAH_results = {\n",
    "    \"train\": {},\n",
    "}\n",
    "\n",
    "environment_ppo.reset()\n",
    "agent_bah = DRLStableAgent(env = environment_ppo)\n",
    "model_bah = agent_bah.get_model(\"bah\", None, None)\n",
    "\n",
    "values, dates = DRLStableAgent.DRL_prediction(model_bah, environment_ppo)\n",
    "BAH_results[\"train\"][\"value\"] = environment_ppo._terminal_asset_memory[\"final\"]\n",
    "BAH_results[\"train\"][\"date\"] = environment_ppo._terminal_date_memory\n",
    "\n",
    "df_bah_opt = pd.DataFrame(BAH_results[\"train\"][\"value\"], columns=['bah_opt_net_worth'])\n",
    "df_bah_date = pd.DataFrame(BAH_results[\"train\"][\"date\"], columns=['Date'])\n",
    "if len(df_bah_opt) == len(df_bah_date):\n",
    "    df_bah_opt['Date'] = df_bah_date['Date']\n",
    "else:\n",
    "    raise ValueError(\"DataFrames do not have the same number of rows.\")\n",
    "\n",
    "print(df_bah_opt)\n",
    "\n",
    "\n",
    "# assert the dates line up\n",
    "assert df_opt.loc[0,'Date'] == df_bah_opt.loc[0, 'Date']\n",
    "assert df_opt.loc[len(df_date)-1,'Date'] == df_bah_opt.loc[len(df_bah_opt)-1,'Date']"
   ]
  },
  {
   "cell_type": "code",
   "execution_count": 118,
   "metadata": {},
   "outputs": [
    {
     "name": "stderr",
     "output_type": "stream",
     "text": [
      "c:\\Users\\bencj\\Desktop\\Econ4\\Thesis\\.venv\\lib\\site-packages\\stable_baselines3\\common\\vec_env\\patch_gym.py:49: UserWarning: You provided an OpenAI Gym environment. We strongly recommend transitioning to Gymnasium environments. Stable-Baselines3 is automatically wrapping your environments in a compatibility layer, which could potentially cause issues.\n",
      "  warnings.warn(\n"
     ]
    },
    {
     "name": "stdout",
     "output_type": "stream",
     "text": [
      "=================================\n",
      "Initial portfolio value:1000000\n",
      "Final portfolio value: 4384411.0\n",
      "Final accumulative portfolio value: 4.384411\n",
      "Maximum DrawDown: -0.744560353987761\n",
      "Sharpe ratio: 0.5395731197481713\n",
      "Total commission cost: 1452295.4584912139\n",
      "=================================\n",
      "hit end!\n",
      "      olmar_opt_net_worth       Date\n",
      "0            1.000000e+06 2009-05-06\n",
      "1            9.760554e+05 2009-05-07\n",
      "2            9.770821e+05 2009-05-08\n",
      "3            8.940966e+05 2009-05-11\n",
      "4            8.799382e+05 2009-05-12\n",
      "...                   ...        ...\n",
      "2930         4.302771e+06 2020-12-23\n",
      "2931         4.302578e+06 2020-12-24\n",
      "2932         4.316474e+06 2020-12-28\n",
      "2933         4.378621e+06 2020-12-29\n",
      "2934         4.384411e+06 2020-12-30\n",
      "\n",
      "[2935 rows x 2 columns]\n"
     ]
    }
   ],
   "source": [
    "# OLMAR\n",
    "\n",
    "OLMAR_results = {\n",
    "    \"train\": {},\n",
    "}\n",
    "\n",
    "OLMAR_model_kwargs = {\n",
    "    \"eps\": 60,\n",
    "    \"window\": 100\n",
    "}\n",
    "\n",
    "\n",
    "\n",
    "environment_ppo.reset()\n",
    "agent_olmar = DRLStableAgent(env = environment_ppo)\n",
    "model_olmar = agent_olmar.get_model(\"olmar\", model_kwargs=OLMAR_model_kwargs)\n",
    "\n",
    "values, dates = DRLStableAgent.DRL_prediction(model_olmar, environment_ppo)\n",
    "OLMAR_results[\"train\"][\"value\"] = environment_ppo._terminal_asset_memory[\"final\"]\n",
    "OLMAR_results[\"train\"][\"date\"] = environment_ppo._terminal_date_memory\n",
    "\n",
    "df_olmar_opt = pd.DataFrame(OLMAR_results[\"train\"][\"value\"], columns=['olmar_opt_net_worth'])\n",
    "df_olmar_date = pd.DataFrame(OLMAR_results[\"train\"][\"date\"], columns=['Date'])\n",
    "if len(df_olmar_opt) == len(df_olmar_date):\n",
    "    df_olmar_opt['Date'] = df_olmar_date['Date']\n",
    "else:\n",
    "    raise ValueError(\"DataFrames do not have the same number of rows.\")\n",
    "\n",
    "print(df_olmar_opt)\n",
    "\n",
    "\n",
    "# assert the dates line up\n",
    "assert df_opt.loc[0,'Date'] == df_olmar_opt.loc[0, 'Date']\n",
    "assert df_opt.loc[len(df_date)-1,'Date'] == df_olmar_opt.loc[len(df_olmar_opt)-1,'Date']"
   ]
  },
  {
   "cell_type": "code",
   "execution_count": 119,
   "metadata": {},
   "outputs": [
    {
     "name": "stderr",
     "output_type": "stream",
     "text": [
      "c:\\Users\\bencj\\Desktop\\Econ4\\Thesis\\.venv\\lib\\site-packages\\stable_baselines3\\common\\vec_env\\patch_gym.py:49: UserWarning: You provided an OpenAI Gym environment. We strongly recommend transitioning to Gymnasium environments. Stable-Baselines3 is automatically wrapping your environments in a compatibility layer, which could potentially cause issues.\n",
      "  warnings.warn(\n"
     ]
    },
    {
     "name": "stdout",
     "output_type": "stream",
     "text": [
      "=================================\n",
      "Initial portfolio value:1000000\n",
      "Final portfolio value: 25026136.0\n",
      "Final accumulative portfolio value: 25.026136\n",
      "Maximum DrawDown: -0.4379718251167154\n",
      "Sharpe ratio: 1.1116303895982922\n",
      "Total commission cost: 56028.86107794079\n",
      "=================================\n",
      "hit end!\n",
      "      rmr_opt_net_worth       Date\n",
      "0          1.000000e+06 2009-05-06\n",
      "1          9.760554e+05 2009-05-07\n",
      "2          9.770821e+05 2009-05-08\n",
      "3          8.940966e+05 2009-05-11\n",
      "4          8.799382e+05 2009-05-12\n",
      "...                 ...        ...\n",
      "2930       2.450959e+07 2020-12-23\n",
      "2931       2.469862e+07 2020-12-24\n",
      "2932       2.558199e+07 2020-12-28\n",
      "2933       2.524137e+07 2020-12-29\n",
      "2934       2.502614e+07 2020-12-30\n",
      "\n",
      "[2935 rows x 2 columns]\n"
     ]
    }
   ],
   "source": [
    "# RMR \n",
    "\n",
    "RMR_results = {\n",
    "    \"train\": {},\n",
    "}\n",
    "\n",
    "RMR_model_kwargs = {\n",
    "    \"eps\": 60,\n",
    "    \"window\": 100\n",
    "}\n",
    "\n",
    "environment_ppo.reset()\n",
    "agent_rmr = DRLStableAgent(env = environment_ppo)\n",
    "model_rmr = agent_rmr.get_model(\"rmr\", model_kwargs=RMR_model_kwargs)\n",
    "\n",
    "values, dates = DRLStableAgent.DRL_prediction(model_rmr, environment_ppo)\n",
    "RMR_results[\"train\"][\"value\"] = environment_ppo._terminal_asset_memory[\"final\"]\n",
    "RMR_results[\"train\"][\"date\"] = environment_ppo._terminal_date_memory\n",
    "\n",
    "df_rmr_opt = pd.DataFrame(RMR_results[\"train\"][\"value\"], columns=['rmr_opt_net_worth'])\n",
    "df_rmr_date = pd.DataFrame(RMR_results[\"train\"][\"date\"], columns=['Date'])\n",
    "if len(df_rmr_opt) == len(df_rmr_date):\n",
    "    df_rmr_opt['Date'] = df_rmr_date['Date']\n",
    "else:\n",
    "    raise ValueError(\"DataFrames do not have the same number of rows.\")\n",
    "\n",
    "print(df_rmr_opt)\n",
    "\n",
    "\n",
    "# assert the dates line up\n",
    "assert df_opt.loc[0,'Date'] == df_rmr_opt.loc[0, 'Date']\n",
    "assert df_opt.loc[len(df_date)-1,'Date'] == df_rmr_opt.loc[len(df_rmr_opt)-1,'Date']"
   ]
  },
  {
   "cell_type": "code",
   "execution_count": 120,
   "metadata": {},
   "outputs": [
    {
     "name": "stderr",
     "output_type": "stream",
     "text": [
      "c:\\Users\\bencj\\Desktop\\Econ4\\Thesis\\.venv\\lib\\site-packages\\stable_baselines3\\common\\vec_env\\patch_gym.py:49: UserWarning: You provided an OpenAI Gym environment. We strongly recommend transitioning to Gymnasium environments. Stable-Baselines3 is automatically wrapping your environments in a compatibility layer, which could potentially cause issues.\n",
      "  warnings.warn(\n"
     ]
    },
    {
     "name": "stdout",
     "output_type": "stream",
     "text": [
      "=================================\n",
      "Initial portfolio value:1000000\n",
      "Final portfolio value: 16253862.0\n",
      "Final accumulative portfolio value: 16.253862\n",
      "Maximum DrawDown: -0.43797195332406114\n",
      "Sharpe ratio: 0.983037214897537\n",
      "Total commission cost: 83101.49733315397\n",
      "=================================\n",
      "hit end!\n",
      "      bnn_opt_net_worth       Date\n",
      "0             1000000.0 2009-05-06\n",
      "1             1000000.0 2009-05-07\n",
      "2             1000000.0 2009-05-08\n",
      "3             1000000.0 2009-05-11\n",
      "4             1000000.0 2009-05-12\n",
      "...                 ...        ...\n",
      "2930         15918380.0 2020-12-23\n",
      "2931         16041148.0 2020-12-24\n",
      "2932         16614872.0 2020-12-28\n",
      "2933         16393649.0 2020-12-29\n",
      "2934         16253862.0 2020-12-30\n",
      "\n",
      "[2935 rows x 2 columns]\n"
     ]
    }
   ],
   "source": [
    "# BNN\n",
    "\n",
    "BNN_results = {\n",
    "    \"20212024\": {},\n",
    "}\n",
    "\n",
    "# RMR_model_kwargs = {\n",
    "#     \"eps\": 60,\n",
    "#     \"window\": 100\n",
    "# }\n",
    "\n",
    "# TODO why is this difference????????\n",
    "environment_ppo.reset()\n",
    "agent_bnn = DRLStableAgent(env = environment_ppo)\n",
    "model_bnn = agent_bnn.get_model(\"bnn\", model_kwargs=None)\n",
    "\n",
    "values, dates = DRLStableAgent.DRL_prediction(model_bnn, environment_ppo)\n",
    "BNN_results[\"20212024\"][\"value\"] = environment_ppo._terminal_asset_memory[\"final\"]\n",
    "BNN_results[\"20212024\"][\"date\"] = environment_ppo._terminal_date_memory\n",
    "\n",
    "df_bnn_opt = pd.DataFrame(BNN_results[\"20212024\"][\"value\"], columns=['bnn_opt_net_worth'])\n",
    "df_bnn_date = pd.DataFrame(BNN_results[\"20212024\"][\"date\"], columns=['Date'])\n",
    "if len(df_bnn_opt) == len(df_bnn_date):\n",
    "    df_bnn_opt['Date'] = df_bnn_date['Date']\n",
    "else:\n",
    "    raise ValueError(\"DataFrames do not have the same number of rows.\")\n",
    "\n",
    "print(df_bnn_opt)\n",
    "\n",
    "\n",
    "# assert the dates line up\n",
    "assert df_opt.loc[0,'Date'] == df_bnn_opt.loc[0, 'Date']\n",
    "assert df_opt.loc[len(df_date)-1,'Date'] == df_bnn_opt.loc[len(df_bnn_opt)-1,'Date']"
   ]
  },
  {
   "cell_type": "markdown",
   "metadata": {},
   "source": [
    "# Try BCRP extreme, which is the absolute best portfolio over the period with hindsight\n"
   ]
  },
  {
   "cell_type": "code",
   "execution_count": 121,
   "metadata": {},
   "outputs": [
    {
     "name": "stderr",
     "output_type": "stream",
     "text": [
      "c:\\Users\\bencj\\Desktop\\Econ4\\Thesis\\.venv\\lib\\site-packages\\stable_baselines3\\common\\vec_env\\patch_gym.py:49: UserWarning: You provided an OpenAI Gym environment. We strongly recommend transitioning to Gymnasium environments. Stable-Baselines3 is automatically wrapping your environments in a compatibility layer, which could potentially cause issues.\n",
      "  warnings.warn(\n"
     ]
    },
    {
     "name": "stdout",
     "output_type": "stream",
     "text": [
      "=================================\n",
      "Initial portfolio value:1000000\n",
      "Final portfolio value: 32756970.0\n",
      "Final accumulative portfolio value: 32.75697\n",
      "Maximum DrawDown: -0.43797171916472877\n",
      "Sharpe ratio: 1.202667143679616\n",
      "Total commission cost: 0.0\n",
      "=================================\n",
      "hit end!\n",
      "      bcrp_opt_net_worth       Date\n",
      "0           1.000000e+06 2009-05-06\n",
      "1           9.740376e+05 2009-05-07\n",
      "2           9.750188e+05 2009-05-08\n",
      "3           9.778868e+05 2009-05-11\n",
      "4           9.390191e+05 2009-05-12\n",
      "...                  ...        ...\n",
      "2930        3.208086e+07 2020-12-23\n",
      "2931        3.232828e+07 2020-12-24\n",
      "2932        3.348453e+07 2020-12-28\n",
      "2933        3.303869e+07 2020-12-29\n",
      "2934        3.275697e+07 2020-12-30\n",
      "\n",
      "[2935 rows x 2 columns]\n"
     ]
    }
   ],
   "source": [
    "# bcrp\n",
    "\n",
    "BCRP_results = {\n",
    "    \"train\": {},\n",
    "}\n",
    "\n",
    "environment_ppo.reset()\n",
    "agent_bcrp= DRLStableAgent(env = environment_ppo)\n",
    "model_bcrp= agent_bcrp.get_model(\"bcrp\", None, None)\n",
    "\n",
    "values, dates = DRLStableAgent.DRL_prediction(model_bcrp, environment_ppo)\n",
    "BCRP_results[\"train\"][\"value\"] = environment_ppo._terminal_asset_memory[\"final\"]\n",
    "BCRP_results[\"train\"][\"date\"] = environment_ppo._terminal_date_memory\n",
    "\n",
    "df_bcrp_opt = pd.DataFrame(BCRP_results[\"train\"][\"value\"], columns=['bcrp_opt_net_worth'])\n",
    "df_bcrp_date = pd.DataFrame(BCRP_results[\"train\"][\"date\"], columns=['Date'])\n",
    "if len(df_bcrp_opt) == len(df_bcrp_date):\n",
    "    df_bcrp_opt['Date'] = df_bcrp_date['Date']\n",
    "else:\n",
    "    raise ValueError(\"DataFrames do not have the same number of rows.\")\n",
    "\n",
    "print(df_bcrp_opt)\n",
    "\n",
    "\n",
    "# assert the dates line up\n",
    "assert df_opt.loc[0,'Date'] == df_bcrp_opt.loc[0, 'Date']\n",
    "assert df_opt.loc[len(df_date)-1,'Date'] == df_bcrp_opt.loc[len(df_bcrp_opt)-1,'Date']"
   ]
  },
  {
   "cell_type": "markdown",
   "metadata": {},
   "source": [
    "# Stock environment optimization algorithm"
   ]
  },
  {
   "cell_type": "code",
   "execution_count": 122,
   "metadata": {},
   "outputs": [],
   "source": [
    "from finrl.meta.preprocessor.preprocessors import data_split\n",
    "\n",
    "# Make sure we only test on the same data as the portfolio optimization algorithm\n",
    "# test = data_split(test, opt_start,opt_end)\n"
   ]
  },
  {
   "cell_type": "code",
   "execution_count": 123,
   "metadata": {},
   "outputs": [],
   "source": [
    "# from stable_baselines3 import PPO, TD3, A2C\n",
    "# from finrl.config import TRAINED_MODEL_DIR\n",
    "\n",
    "\n",
    "# # Load the trained models\n",
    "# trained_ppo = PPO.load(TRAINED_MODEL_DIR + \"/agent_ppo\") \n",
    "\n",
    "# trained_td3 = TD3.load(TRAINED_MODEL_DIR + \"/agent_td3\") \n",
    "\n",
    "# trained_a2c = A2C.load(TRAINED_MODEL_DIR + \"/agent_a2c\") "
   ]
  },
  {
   "cell_type": "code",
   "execution_count": 124,
   "metadata": {},
   "outputs": [],
   "source": [
    "# Test out of sample performance\n",
    "\n",
    "# stock_dimension = len(test.tic.unique())\n",
    "# state_space = 1 + 2 * stock_dimension + len(INDICATORS) * stock_dimension\n",
    "# print(f\"Stock Dimension: {stock_dimension}, State Space: {state_space}\")"
   ]
  },
  {
   "cell_type": "code",
   "execution_count": 125,
   "metadata": {},
   "outputs": [],
   "source": [
    "# buy_cost_list = sell_cost_list = [COMMISSION_FEE_PERCENT] * stock_dimension\n",
    "# num_stock_shares = [0] * stock_dimension\n",
    "\n",
    "# env_kwargs = {\n",
    "#     \"hmax\": 100,\n",
    "#     \"initial_amount\": INITIAL_CASH,\n",
    "#     \"num_stock_shares\": num_stock_shares,\n",
    "#     \"buy_cost_pct\": buy_cost_list,\n",
    "#     \"sell_cost_pct\": sell_cost_list,\n",
    "#     \"state_space\": state_space,\n",
    "#     \"stock_dim\": stock_dimension,\n",
    "#     \"tech_indicator_list\": INDICATORS,\n",
    "#     \"action_space\": stock_dimension,\n",
    "#     \"reward_scaling\": 1e-4\n",
    "# }"
   ]
  },
  {
   "cell_type": "code",
   "execution_count": 126,
   "metadata": {},
   "outputs": [],
   "source": [
    "# e_trade_gym_ppo = StockTradingEnv(df = test, turbulence_threshold = 70, **env_kwargs)\n",
    "\n",
    "# df_account_value_ppo, df_actions_ppo = StockDRLAgent.DRL_prediction(\n",
    "#     model=trained_ppo, \n",
    "#     environment = e_trade_gym_ppo,\n",
    "#     deterministic=True)"
   ]
  },
  {
   "cell_type": "code",
   "execution_count": 127,
   "metadata": {},
   "outputs": [],
   "source": [
    "# df_account_value_ppo.rename(columns={'date': 'Date', 'account_value' : \"ppo_value\"}, inplace=True)\n",
    "# df_account_value_ppo"
   ]
  },
  {
   "cell_type": "code",
   "execution_count": 128,
   "metadata": {},
   "outputs": [],
   "source": [
    "# e_trade_gym_td3 = StockTradingEnv(df = test, turbulence_threshold = 70, **env_kwargs)\n",
    "\n",
    "# df_account_value_td3, df_actions_td3 = StockDRLAgent.DRL_prediction(\n",
    "#     model=trained_td3, \n",
    "#     environment = e_trade_gym_td3)"
   ]
  },
  {
   "cell_type": "code",
   "execution_count": 129,
   "metadata": {},
   "outputs": [],
   "source": [
    "# df_account_value_td3.rename(columns={'date': 'Date', 'account_value' : \"td3_value\"}, inplace=True)\n",
    "# df_account_value_td3"
   ]
  },
  {
   "cell_type": "code",
   "execution_count": 130,
   "metadata": {},
   "outputs": [],
   "source": [
    "\n",
    "# e_trade_gym_a2c = StockTradingEnv(df = test, turbulence_threshold = 70, **env_kwargs)\n",
    "\n",
    "# df_account_value_a2c, df_actions_a2c = StockDRLAgent.DRL_prediction(\n",
    "#     model=trained_a2c, \n",
    "#     environment = e_trade_gym_a2c)\n",
    "\n",
    "# df_account_value_a2c.rename(columns={'date': 'Date', 'account_value' : \"a2c_value\"}, inplace=True)\n",
    "# df_account_value_a2c"
   ]
  },
  {
   "cell_type": "code",
   "execution_count": 131,
   "metadata": {},
   "outputs": [
    {
     "name": "stderr",
     "output_type": "stream",
     "text": [
      "[*********************100%***********************]  1 of 1 completed"
     ]
    },
    {
     "name": "stdout",
     "output_type": "stream",
     "text": [
      "Shape of DataFrame:  (2934, 8)\n",
      "Annual return          0.115329\n",
      "Cumulative returns     2.563754\n",
      "Annual volatility      0.173645\n",
      "Sharpe ratio           0.716150\n",
      "Calmar ratio           0.310977\n",
      "Stability              0.965052\n",
      "Max drawdown          -0.370862\n",
      "Omega ratio            1.152667\n",
      "Sortino ratio          0.999476\n",
      "Skew                        NaN\n",
      "Kurtosis                    NaN\n",
      "Tail ratio             0.953392\n",
      "Daily value at risk   -0.021384\n",
      "dtype: float64\n",
      "df_dji:             date           dji\n",
      "0    2009-05-06  1.000000e+06\n",
      "1    2009-05-07  9.879667e+05\n",
      "2    2009-05-08  1.007327e+06\n",
      "3    2009-05-11  9.890146e+05\n",
      "4    2009-05-12  9.949285e+05\n",
      "...         ...           ...\n",
      "2930 2020-12-23  3.539572e+06\n",
      "2931 2020-12-24  3.547800e+06\n",
      "2932 2020-12-28  3.571777e+06\n",
      "2933 2020-12-29  3.563754e+06\n",
      "2934 2020-12-30           NaN\n",
      "\n",
      "[2935 rows x 2 columns]\n",
      "df_dji:                       dji\n",
      "date                    \n",
      "2009-05-06  1.000000e+06\n",
      "2009-05-07  9.879667e+05\n",
      "2009-05-08  1.007327e+06\n",
      "2009-05-11  9.890146e+05\n",
      "2009-05-12  9.949285e+05\n",
      "...                  ...\n",
      "2020-12-23  3.539572e+06\n",
      "2020-12-24  3.547800e+06\n",
      "2020-12-28  3.571777e+06\n",
      "2020-12-29  3.563754e+06\n",
      "2020-12-30           NaN\n",
      "\n",
      "[2935 rows x 1 columns]\n"
     ]
    },
    {
     "name": "stderr",
     "output_type": "stream",
     "text": [
      "\n"
     ]
    }
   ],
   "source": [
    "# Pull the DJI results\n",
    "\n",
    "from finrl.plot import backtest_stats, backtest_plot, get_daily_return, get_baseline\n",
    "\n",
    "\n",
    "df_dji_ = get_baseline(\n",
    "        ticker=\"^DJI\",\n",
    "        start = df_date.loc[0,'Date'],\n",
    "        end = df_date.loc[len(df_date)-1,'Date'])\n",
    "\n",
    "stats = backtest_stats(df_dji_, value_col_name = 'close')\n",
    "\n",
    "df_dji = pd.DataFrame()\n",
    "df_dji['date'] = df_date['Date']\n",
    "df_dji['dji'] = df_dji_['close'] / df_dji_['close'][0] * INITIAL_CASH\n",
    "print(\"df_dji: \", df_dji)\n",
    "df_dji.to_csv(\"df_dji.csv\")\n",
    "df_dji = df_dji.set_index(df_dji.columns[0])\n",
    "print(\"df_dji: \", df_dji)\n"
   ]
  },
  {
   "cell_type": "markdown",
   "metadata": {},
   "source": [
    "# Compare all results"
   ]
  },
  {
   "cell_type": "code",
   "execution_count": 132,
   "metadata": {},
   "outputs": [
    {
     "name": "stdout",
     "output_type": "stream",
     "text": [
      "                     dji\n",
      "date                    \n",
      "2009-05-06  1.000000e+06\n",
      "2009-05-07  9.879667e+05\n",
      "2009-05-08  1.007327e+06\n",
      "2009-05-11  9.890146e+05\n",
      "2009-05-12  9.949285e+05\n",
      "...                  ...\n",
      "2020-12-23  3.539572e+06\n",
      "2020-12-24  3.547800e+06\n",
      "2020-12-28  3.571777e+06\n",
      "2020-12-29  3.563754e+06\n",
      "2020-12-30           NaN\n",
      "\n",
      "[2935 rows x 1 columns]\n",
      "      crp_opt_net_worth       Date  bcrp_opt_net_worth  bah_opt_net_worth  \\\n",
      "0          1.000000e+06 2009-05-06        1.000000e+06       1.000000e+06   \n",
      "1          9.760554e+05 2009-05-07        9.740376e+05       9.760554e+05   \n",
      "2          1.012637e+06 2009-05-08        9.750188e+05       1.012324e+06   \n",
      "3          9.900409e+05 2009-05-11        9.778868e+05       9.888021e+05   \n",
      "4          9.726821e+05 2009-05-12        9.390191e+05       9.717182e+05   \n",
      "...                 ...        ...                 ...                ...   \n",
      "2930       1.094685e+07 2020-12-23        3.208086e+07       1.240157e+07   \n",
      "2931       1.094546e+07 2020-12-24        3.232828e+07       1.244900e+07   \n",
      "2932       1.106230e+07 2020-12-28        3.348453e+07       1.274610e+07   \n",
      "2933       1.106206e+07 2020-12-29        3.303869e+07       1.265459e+07   \n",
      "2934       1.107762e+07 2020-12-30        3.275697e+07       1.260347e+07   \n",
      "\n",
      "      olmar_opt_net_worth  rmr_opt_net_worth  bnn_opt_net_worth  \\\n",
      "0            1.000000e+06       1.000000e+06          1000000.0   \n",
      "1            9.760554e+05       9.760554e+05          1000000.0   \n",
      "2            9.770821e+05       9.770821e+05          1000000.0   \n",
      "3            8.940966e+05       8.940966e+05          1000000.0   \n",
      "4            8.799382e+05       8.799382e+05          1000000.0   \n",
      "...                   ...                ...                ...   \n",
      "2930         4.302771e+06       2.450959e+07         15918380.0   \n",
      "2931         4.302578e+06       2.469862e+07         16041148.0   \n",
      "2932         4.316474e+06       2.558199e+07         16614872.0   \n",
      "2933         4.378621e+06       2.524137e+07         16393649.0   \n",
      "2934         4.384411e+06       2.502614e+07         16253862.0   \n",
      "\n",
      "      opt_net_worth  ppo_opt_net_worth  ppo_opt_net_worth_2           dji  \n",
      "0      1.000000e+06       1.000000e+06         1.000000e+06  1.000000e+06  \n",
      "1      9.760584e+05       9.808442e+05         9.754729e+05  9.879667e+05  \n",
      "2      1.012636e+06       1.010258e+06         1.021058e+06  1.007327e+06  \n",
      "3      9.900426e+05       9.922167e+05         9.865620e+05  9.890146e+05  \n",
      "4      9.726856e+05       9.783027e+05         9.707058e+05  9.949285e+05  \n",
      "...             ...                ...                  ...           ...  \n",
      "2930   1.094629e+07       7.103842e+06         6.942780e+06  3.539572e+06  \n",
      "2931   1.094490e+07       7.103115e+06         6.930820e+06  3.547800e+06  \n",
      "2932   1.106174e+07       7.163773e+06         6.971134e+06  3.571777e+06  \n",
      "2933   1.106150e+07       7.163645e+06         6.969455e+06  3.563754e+06  \n",
      "2934   1.107706e+07       7.171707e+06         6.992356e+06           NaN  \n",
      "\n",
      "[2935 rows x 11 columns]\n"
     ]
    }
   ],
   "source": [
    "# Join the online algorithms\n",
    "\n",
    "# bcrp = pd.read_csv('BCRP_net_worth.csv')\n",
    "# crp = pd.read_csv('CRP_net_worth.csv')\n",
    "# olmar = pd.read_csv('OLMAR_net_worth.csv')\n",
    "\n",
    "\n",
    "\n",
    "# merged_df = olmar\n",
    "# merged_df = pd.merge(merged_df, olmar, on='Date')\n",
    "\n",
    "# Merge the baseline CRP algorithm\n",
    "df_crp_opt['Date'] = pd.to_datetime(df_crp_opt['Date'])\n",
    "merged_df = df_crp_opt\n",
    "\n",
    "# Merge the baseline BCRP algorithm\n",
    "df_bcrp_opt['Date'] = pd.to_datetime(df_bcrp_opt['Date'])\n",
    "merged_df = pd.merge(merged_df, df_bcrp_opt, on='Date')\n",
    "\n",
    "# Merge the baseline BAH algorithm\n",
    "df_bah_opt['Date'] = pd.to_datetime(df_bah_opt['Date'])\n",
    "merged_df = pd.merge(merged_df, df_bah_opt, on='Date')\n",
    "\n",
    "# Merge the baseline OLMAR algorithm\n",
    "df_olmar_opt['Date'] = pd.to_datetime(df_olmar_opt['Date'])\n",
    "merged_df = pd.merge(merged_df, df_olmar_opt, on='Date')\n",
    "\n",
    "# Merge the baseline RMR algorithm\n",
    "df_rmr_opt['Date'] = pd.to_datetime(df_rmr_opt['Date'])\n",
    "merged_df = pd.merge(merged_df, df_rmr_opt, on='Date')\n",
    "\n",
    "# Merge the baseline BNN algorithm\n",
    "df_bnn_opt['Date'] = pd.to_datetime(df_bnn_opt['Date'])\n",
    "merged_df = pd.merge(merged_df, df_bnn_opt, on='Date')\n",
    "\n",
    "# Merge the opt algorithm\n",
    "df_opt['Date'] = pd.to_datetime(df_opt['Date'])\n",
    "merged_df = pd.merge(merged_df, df_opt, on='Date')\n",
    "\n",
    "# Merge the PPO opt algorithm\n",
    "df_ppo_opt['Date'] = pd.to_datetime(df_ppo_opt['Date'])\n",
    "merged_df = pd.merge(merged_df, df_ppo_opt, on='Date')\n",
    "\n",
    "# Merge the PPO opt algorithm 2\n",
    "df_ppo_opt_2['Date'] = pd.to_datetime(df_ppo_opt_2['Date'])\n",
    "merged_df = pd.merge(merged_df, df_ppo_opt_2, on='Date')\n",
    "\n",
    "\n",
    "print(df_dji)\n",
    "df_dji = df_dji.reset_index()\n",
    "df_dji.rename(columns={'date': 'Date'}, inplace=True)\n",
    "merged_df = pd.merge(merged_df, df_dji, on='Date')\n",
    "\n",
    "\n",
    "print(merged_df)\n"
   ]
  },
  {
   "cell_type": "markdown",
   "metadata": {},
   "source": [
    "# Baseline CRP in the environment"
   ]
  },
  {
   "cell_type": "code",
   "execution_count": null,
   "metadata": {},
   "outputs": [],
   "source": []
  },
  {
   "cell_type": "code",
   "execution_count": 133,
   "metadata": {},
   "outputs": [
    {
     "data": {
      "image/png": "[encoded data removed]",
      "text/plain": [
       "<Figure size 1400x700 with 1 Axes>"
      ]
     },
     "metadata": {},
     "output_type": "display_data"
    }
   ],
   "source": [
    "# Use the correct backend for Jupyter\n",
    "%matplotlib inline\n",
    "import matplotlib.pyplot as plt\n",
    "\n",
    "# TODO make sure all dates line up, fix CRP and OLMAR \n",
    "\n",
    "# Plot the DataFrame\n",
    "plt.figure(figsize=(14, 7))\n",
    "#plt.plot(merged_df['Date'], merged_df['BCRP_net_worth'], label='BCRP Net Worth')\n",
    "# plt.plot(merged_df['Date'], merged_df['bcrp_opt_net_worth'], label='BCRP Net Worth')\n",
    "# plt.plot(merged_df['Date'], merged_df['CRP_net_worth'], label='CRP Net Worth')# CRP and Opt net worth are basically on the same line\n",
    "plt.plot(merged_df['Date'], merged_df['crp_opt_net_worth'], label='CRP Net Worth')\n",
    "plt.plot(merged_df['Date'], merged_df['bah_opt_net_worth'], label='BAH Net Worth')\n",
    "plt.plot(merged_df['Date'], merged_df['olmar_opt_net_worth'], label='OLMAR Net Worth')\n",
    "plt.plot(merged_df['Date'], merged_df['rmr_opt_net_worth'], label='RMR Net Worth')\n",
    "plt.plot(merged_df['Date'], merged_df['bnn_opt_net_worth'], label='BNN Net Worth')\n",
    "\n",
    "# plt.plot(merged_df['Date'], merged_df['OLMAR_net_worth'], label='OLMAR Net Worth - old')\n",
    "# plt.plot(merged_df['Date'], merged_df['opt_net_worth'], label='Opt Net Worth')\n",
    "plt.plot(merged_df['Date'], merged_df['ppo_opt_net_worth'], label='PPO Opt Net Worth')\n",
    "plt.plot(merged_df['Date'], merged_df['ppo_opt_net_worth_2'], label='PPO Trained Opt Net Worth')\n",
    "# plt.plot(merged_df['Date'], merged_df['ppo_value'], label='PPO Value')\n",
    "# plt.plot(merged_df['Date'], merged_df['td3_value'], label='TD3 Value')\n",
    "# plt.plot(merged_df['Date'], merged_df['a2c_value'], label='A2C Value')\n",
    "plt.plot(merged_df['Date'], merged_df['dji'], label='dji Value')\n",
    "plt.xlabel('Date')\n",
    "plt.ylabel('Net Worth')\n",
    "plt.title('Portfolio Performance Over Time')\n",
    "plt.legend()\n",
    "plt.xticks(rotation=45)\n",
    "plt.grid(True)\n",
    "plt.tight_layout()\n",
    "plt.show()"
   ]
  },
  {
   "cell_type": "code",
   "execution_count": 134,
   "metadata": {},
   "outputs": [
    {
     "name": "stdout",
     "output_type": "stream",
     "text": [
      "{'BAH': 12603469.0,\n",
      " 'BCRP OPT': 32756970.0,\n",
      " 'BNN': 16253862.0,\n",
      " 'CRP': 11077624.0,\n",
      " 'OLMAR': 4384411.0,\n",
      " 'PPO': 7171707.0,\n",
      " 'PPO Trained': 6992356.0,\n",
      " 'RMR': 25026136.0}\n"
     ]
    }
   ],
   "source": [
    "# Final returns\n",
    "\n",
    "import pprint\n",
    "\n",
    "final_returns = {\n",
    "   'BCRP OPT': merged_df['bcrp_opt_net_worth'].iloc[-1],\n",
    "    'CRP': merged_df['crp_opt_net_worth'].iloc[-1],\n",
    "    'BAH': merged_df['bah_opt_net_worth'].iloc[-1],\n",
    "    'OLMAR': merged_df['olmar_opt_net_worth'].iloc[-1],\n",
    "    'RMR': merged_df['rmr_opt_net_worth'].iloc[-1],\n",
    "    'BNN': merged_df['bnn_opt_net_worth'].iloc[-1],\n",
    "   'PPO': merged_df['ppo_opt_net_worth'].iloc[-1],\n",
    "   'PPO Trained': merged_df['ppo_opt_net_worth_2'].iloc[-1]\n",
    "}\n",
    "\n",
    "pprint.pprint(final_returns)"
   ]
  },
  {
   "cell_type": "code",
   "execution_count": 135,
   "metadata": {},
   "outputs": [
    {
     "name": "stdout",
     "output_type": "stream",
     "text": [
      "{'BAH OPT': 0.9999412702926211,\n",
      " 'BCRP OPT': 1.1320700503269177,\n",
      " 'BNN': 0.9130286670340116,\n",
      " 'CRP OPT': 0.9474233474184136,\n",
      " 'OLMAR': 0.48204169722946455,\n",
      " 'PPO Opt': 0.9247603401970163,\n",
      " 'PPO Opt Trained': 0.7817457198223888,\n",
      " 'RMR': 1.0417747489258065}\n"
     ]
    }
   ],
   "source": [
    "import numpy as np\n",
    "\n",
    "# Calculate the returns each day\n",
    "\n",
    "# merged_df['BCRP_daily_return'] = merged_df['BCRP_net_worth'].pct_change()\n",
    "# merged_df['CRP_daily_return'] = merged_df['CRP_net_worth'].pct_change()\n",
    "merged_df['BCRP_opt_daily_return'] = merged_df['bcrp_opt_net_worth'].pct_change()\n",
    "merged_df['CRP_opt_daily_return'] = merged_df['crp_opt_net_worth'].pct_change()\n",
    "merged_df['BAH_opt_daily_return'] = merged_df['bah_opt_net_worth'].pct_change()\n",
    "merged_df['OLMAR_opt_daily_return'] = merged_df['olmar_opt_net_worth'].pct_change()\n",
    "merged_df['RMR_opt_daily_return'] = merged_df['rmr_opt_net_worth'].pct_change()\n",
    "merged_df['BNN_opt_daily_return'] = merged_df['bnn_opt_net_worth'].pct_change()\n",
    "\n",
    "merged_df['opt_daily_return'] = merged_df['opt_net_worth'].pct_change()\n",
    "merged_df['ppo_opt_daily_return'] = merged_df['ppo_opt_net_worth'].pct_change()\n",
    "merged_df['ppo_opt_daily_return_2'] = merged_df['ppo_opt_net_worth_2'].pct_change()\n",
    "# merged_df['ppo_daily_return'] = merged_df['ppo_value'].pct_change()\n",
    "# merged_df['td3_daily_return'] = merged_df['td3_value'].pct_change()\n",
    "\n",
    "# TODO need to put in the fama french\n",
    "\n",
    "# Define the risk-free rate (annual, for example, 2%)\n",
    "risk_free_rate = 0.02 / 252  # Convert annual risk-free rate to daily\n",
    "\n",
    "# Define a function to calculate Sharpe ratio adjusted for the risk-free rate\n",
    "def calculate_sharpe_ratio(returns, risk_free_rate):\n",
    "    excess_return = returns - risk_free_rate\n",
    "    mean_excess_return = excess_return.mean()\n",
    "    std_excess_return = excess_return.std()\n",
    "    annual_factor = np.sqrt(252)  # Assuming 252 trading days in a year\n",
    "    sharpe_ratio = annual_factor * mean_excess_return / std_excess_return\n",
    "    return sharpe_ratio\n",
    "\n",
    "# Calculate the Sharpe ratio for each daily return column\n",
    "sharpe_ratios = {\n",
    "    # 'BCRP': calculate_sharpe_ratio(merged_df['BCRP_daily_return'], risk_free_rate),\n",
    "    # 'CRP': calculate_sharpe_ratio(merged_df['CRP_daily_return'], risk_free_rate),\n",
    "    'BCRP OPT': calculate_sharpe_ratio(merged_df['BCRP_opt_daily_return'], risk_free_rate),\n",
    "    'CRP OPT': calculate_sharpe_ratio(merged_df['CRP_opt_daily_return'], risk_free_rate),\n",
    "    'BAH OPT': calculate_sharpe_ratio(merged_df['BAH_opt_daily_return'], risk_free_rate),\n",
    "    'OLMAR': calculate_sharpe_ratio(merged_df['OLMAR_opt_daily_return'], risk_free_rate),\n",
    "    'RMR': calculate_sharpe_ratio(merged_df['RMR_opt_daily_return'], risk_free_rate),\n",
    "    'BNN': calculate_sharpe_ratio(merged_df['BNN_opt_daily_return'], risk_free_rate),\n",
    "    # 'Opt': calculate_sharpe_ratio(merged_df['opt_daily_return'], risk_free_rate),\n",
    "    'PPO Opt': calculate_sharpe_ratio(merged_df['ppo_opt_daily_return'], risk_free_rate),\n",
    "    'PPO Opt Trained': calculate_sharpe_ratio(merged_df['ppo_opt_daily_return_2'], risk_free_rate),\n",
    "    # 'PPO': calculate_sharpe_ratio(merged_df['ppo_daily_return'], risk_free_rate),\n",
    "    # 'TD3': calculate_sharpe_ratio(merged_df['td3_daily_return'], risk_free_rate)\n",
    "}\n",
    "\n",
    "pprint.pprint(sharpe_ratios)"
   ]
  },
  {
   "cell_type": "code",
   "execution_count": 136,
   "metadata": {},
   "outputs": [
    {
     "name": "stdout",
     "output_type": "stream",
     "text": [
      "{'BAH Opt': -0.41118947078088797,\n",
      " 'BCRP Opt': -0.43797171916472877,\n",
      " 'BNN Opt': -0.43797195332406114,\n",
      " 'CRP Opt': -0.4458333545289904,\n",
      " 'OLMAR Opt': -0.744560353987761,\n",
      " 'PPO Opt': -0.37113224175753545,\n",
      " 'PPO Opt Trained': -0.47780476395765215,\n",
      " 'RMR Opt': -0.4379718251167154}\n"
     ]
    }
   ],
   "source": [
    "import pandas as pd\n",
    "import numpy as np\n",
    "\n",
    "# Assuming merged_df is your DataFrame\n",
    "# Calculate the max drawdown for each specified column\n",
    "def max_drawdown(series):\n",
    "    cumulative_returns = series.cummax()\n",
    "    drawdowns = series / cumulative_returns - 1\n",
    "    max_drawdown_value = drawdowns.min()\n",
    "    return max_drawdown_value\n",
    "\n",
    "max_drawdowns = {\n",
    "    # 'BCRP': max_drawdown(merged_df['BCRP_net_worth']),\n",
    "    # 'CRP': max_drawdown(merged_df['CRP_net_worth']),\n",
    "    'BCRP Opt': max_drawdown(merged_df['bcrp_opt_net_worth']),\n",
    "    'CRP Opt': max_drawdown(merged_df['crp_opt_net_worth']),\n",
    "    'BAH Opt': max_drawdown(merged_df['bah_opt_net_worth']),\n",
    "    'OLMAR Opt': max_drawdown(merged_df['olmar_opt_net_worth']),\n",
    "    'RMR Opt': max_drawdown(merged_df['rmr_opt_net_worth']),\n",
    "    'BNN Opt': max_drawdown(merged_df['bnn_opt_net_worth']),\n",
    "    # 'Opt': max_drawdown(merged_df['opt_net_worth']),\n",
    "    'PPO Opt': max_drawdown(merged_df['ppo_opt_net_worth']),\n",
    "    'PPO Opt Trained': max_drawdown(merged_df['ppo_opt_net_worth_2']),\n",
    "    # 'PPO': max_drawdown(merged_df['ppo_value']),\n",
    "    # 'TD3': max_drawdown(merged_df['td3_value'])\n",
    "}\n",
    "\n",
    "pprint.pprint(max_drawdowns)\n"
   ]
  },
  {
   "cell_type": "code",
   "execution_count": 137,
   "metadata": {},
   "outputs": [
    {
     "name": "stdout",
     "output_type": "stream",
     "text": [
      "             sum_sq       df         F    PR(>F)\n",
      "Portfolio  0.000584      3.0  0.929809  0.425279\n",
      "Residual   2.457575  11732.0       NaN       NaN\n"
     ]
    }
   ],
   "source": [
    "import pandas as pd\n",
    "import numpy as np\n",
    "import statsmodels.api as sm\n",
    "from statsmodels.formula.api import ols\n",
    "\n",
    "\n",
    "# TODO can we do a statisitical significance test with anova here?\n",
    "ANOVA_cols = ['ppo_opt_daily_return', 'CRP_opt_daily_return', 'BCRP_opt_daily_return', 'BAH_opt_daily_return']\n",
    "cols = ['Date',] + ANOVA_cols\n",
    "\n",
    "\n",
    "df_selected = merged_df[cols]\n",
    "\n",
    "# Assuming merged_df is your DataFrame and daily returns have already been calculated\n",
    "# Combine all return columns into one DataFrame for ANOVA\n",
    "returns_long = df_selected.melt(\n",
    "    id_vars=['Date'], \n",
    "    value_vars=ANOVA_cols,\n",
    "    var_name='Portfolio', \n",
    "    value_name='Daily_Return'\n",
    ")\n",
    "\n",
    "# Remove any NaN values created by pct_change()\n",
    "returns_long.dropna(inplace=True)\n",
    "\n",
    "# Perform ANOVA\n",
    "model = ols('Daily_Return ~ Portfolio', data=returns_long).fit()\n",
    "anova_result = sm.stats.anova_lm(model, typ=2)\n",
    "\n",
    "# Display the summary of the ANOVA\n",
    "pprint.pprint(anova_result)\n",
    "\n",
    "# The results do seem to be statisitcally significant\n"
   ]
  }
 ],
 "metadata": {
  "kernelspec": {
   "display_name": ".venv",
   "language": "python",
   "name": "python3"
  },
  "language_info": {
   "codemirror_mode": {
    "name": "ipython",
    "version": 3
   },
   "file_extension": ".py",
   "mimetype": "text/x-python",
   "name": "python",
   "nbconvert_exporter": "python",
   "pygments_lexer": "ipython3",
   "version": "3.10.0"
  }
 },
 "nbformat": 4,
 "nbformat_minor": 2
}
