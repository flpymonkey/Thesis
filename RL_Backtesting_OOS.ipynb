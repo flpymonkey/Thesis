{
 "cells": [
  {
   "cell_type": "code",
   "execution_count": 1,
   "metadata": {},
   "outputs": [
    {
     "name": "stdout",
     "output_type": "stream",
     "text": [
      "['AXP', 'AMGN', 'AAPL', 'BA', 'CAT', 'CSCO', 'CVX', 'GS', 'HD', 'HON', 'IBM', 'INTC', 'JNJ', 'KO', 'JPM', 'MCD', 'MMM', 'MRK', 'MSFT', 'NKE', 'PG', 'TRV', 'UNH', 'CRM', 'VZ', 'V', 'WBA', 'WMT', 'DIS']\n"
     ]
    },
    {
     "name": "stderr",
     "output_type": "stream",
     "text": [
      "[*********************100%***********************]  1 of 1 completed\n",
      "[*********************100%***********************]  1 of 1 completed\n",
      "[*********************100%***********************]  1 of 1 completed\n",
      "[*********************100%***********************]  1 of 1 completed\n",
      "[*********************100%***********************]  1 of 1 completed\n",
      "[*********************100%***********************]  1 of 1 completed\n",
      "[*********************100%***********************]  1 of 1 completed\n",
      "[*********************100%***********************]  1 of 1 completed\n",
      "[*********************100%***********************]  1 of 1 completed\n",
      "[*********************100%***********************]  1 of 1 completed\n",
      "[*********************100%***********************]  1 of 1 completed\n",
      "[*********************100%***********************]  1 of 1 completed\n",
      "[*********************100%***********************]  1 of 1 completed\n",
      "[*********************100%***********************]  1 of 1 completed\n",
      "[*********************100%***********************]  1 of 1 completed\n",
      "[*********************100%***********************]  1 of 1 completed\n",
      "[*********************100%***********************]  1 of 1 completed\n",
      "[*********************100%***********************]  1 of 1 completed\n",
      "[*********************100%***********************]  1 of 1 completed\n",
      "[*********************100%***********************]  1 of 1 completed\n",
      "[*********************100%***********************]  1 of 1 completed\n",
      "[*********************100%***********************]  1 of 1 completed\n",
      "[*********************100%***********************]  1 of 1 completed\n",
      "[*********************100%***********************]  1 of 1 completed\n",
      "[*********************100%***********************]  1 of 1 completed\n",
      "[*********************100%***********************]  1 of 1 completed\n",
      "[*********************100%***********************]  1 of 1 completed\n",
      "[*********************100%***********************]  1 of 1 completed\n",
      "[*********************100%***********************]  1 of 1 completed\n"
     ]
    },
    {
     "name": "stdout",
     "output_type": "stream",
     "text": [
      "Shape of DataFrame:  (27289, 8)\n"
     ]
    }
   ],
   "source": [
    "import pandas as pd\n",
    "from stable_baselines3.common.logger import configure\n",
    "\n",
    "from finrl.agents.stablebaselines3.models import DRLAgent as StockDRLAgent\n",
    "from finrl.agents.portfolio_optimization.models import DRLAgent as OptDRLAgent\n",
    "\n",
    "from finrl.config import TRAINED_MODEL_DIR, RESULTS_DIR\n",
    "from finrl.main import check_and_make_directories\n",
    "from finrl.meta.env_stock_trading.env_stocktrading import StockTradingEnv\n",
    "\n",
    "import numpy as np\n",
    "\n",
    "\n",
    "TIME_WINDOW = 25\n",
    "COMMISSION_FEE_PERCENT = 0.001\n",
    "INITIAL_CASH = 1000000\n",
    "\n",
    "\n",
    "TEST_START_DATE = '2021-01-01'\n",
    "TEST_END_DATE = '2024-10-01'\n",
    "\n",
    "# Backtest the results\n",
    "\n",
    "from finrl.meta.preprocessor.yahoodownloader import YahooDownloader\n",
    "from finrl.config_tickers import DOW_30_TICKER\n",
    "\n",
    "value_to_remove = \"DOW\"\n",
    "# Create a new list without the specified string\n",
    "DOW_30_TICKER = [x for x in DOW_30_TICKER if x != value_to_remove]\n",
    "print(DOW_30_TICKER)\n",
    "\n",
    "\n",
    "df = YahooDownloader(start_date = TEST_START_DATE,\n",
    "                     end_date = TEST_END_DATE,\n",
    "                     ticker_list = DOW_30_TICKER).fetch_data()\n",
    "\n",
    "processed = df.copy()\n",
    "processed = processed.fillna(0)\n",
    "processed_test = processed.replace(np.inf,0)"
   ]
  },
  {
   "cell_type": "markdown",
   "metadata": {},
   "source": [
    "# Portfolio Optimization Algorithm"
   ]
  },
  {
   "cell_type": "code",
   "execution_count": 2,
   "metadata": {},
   "outputs": [
    {
     "name": "stderr",
     "output_type": "stream",
     "text": [
      "c:\\Users\\bencj\\Desktop\\Econ4\\Thesis\\.venv\\lib\\site-packages\\finrl\\meta\\preprocessor\\preprocessors.py:101: FutureWarning: Setting an item of incompatible dtype is deprecated and will raise an error in a future version of pandas. Value '[0.44967348 0.30646708 0.48665761 0.34385037 0.32998065 0.31500104\n",
      " 0.28853749 0.2781374  0.28311105 0.35018996 0.28479142 0.32734885\n",
      " 0.37702692 0.3591673  0.49457685 0.30874429 0.4419601  0.44753717\n",
      " 0.55705992 0.33337465 0.26140776 0.28204132 0.26416194 0.23752298\n",
      " 0.22372669 0.24091322 0.22921621 0.2017071  0.18873202 0.252844\n",
      " 0.30726287 0.303931   0.27509987 0.32608395 0.49665197 0.3484371\n",
      " 0.46504188 0.51638148 0.36496779 0.32088908 0.35448204 0.55904059\n",
      " 0.48251113 0.48442528 0.40644484 0.35127192 0.32329149 0.27646896\n",
      " 0.28995804 0.36157881 0.35123834 0.38041213 0.58224413 0.35117464\n",
      " 0.29957051 0.27780384 0.31016923 0.29519025 0.2536062  0.26883371\n",
      " 0.37129358 0.23562547 0.27818259 0.25157313 0.26191391 0.27878947\n",
      " 0.334777   0.28687093 0.28638926 0.27370035 0.28036629 0.26648182\n",
      " 0.29579588 0.29751578 0.21603841 0.26536503 0.24682291 0.20994452\n",
      " 0.20715395 0.33814527 0.47414663 0.34467031 0.23576981 0.43167046\n",
      " 0.2635902  0.24516231 0.24781387 0.27636258 0.39582917 0.35199051\n",
      " 0.33218694 0.25705418 0.23297547 0.19876654 0.29061136 0.24117335\n",
      " 0.2488246  0.19798205 0.22596185 0.17753206 0.29692993 0.22377031\n",
      " 0.2122415  0.18601393 0.23920304 0.23587713 0.22297484 0.23347503\n",
      " 0.17847972 0.22337901 0.16795035 0.30408727 0.19689444 0.28811042\n",
      " 0.30350738 0.34188946 0.24997905 0.23466682 0.18894885 0.21561134\n",
      " 0.22211536 0.19490184 0.20257349 0.19851079 0.16469755 0.24743512\n",
      " 0.33946854 0.32920683 0.33129011 0.31345184 0.23942426 0.31638989\n",
      " 0.39867842 0.33519623 0.29261776 0.3810551  0.302341   0.23532548\n",
      " 0.24268302 0.22419801 0.22729422 0.328915   0.37319956 0.17791991\n",
      " 0.22103873 0.19731398 0.20329679 0.17688063 0.14559343 0.16984692\n",
      " 0.15347281 0.21659069 0.15216994 0.22681882 0.18631548 0.32413717\n",
      " 0.28941173 0.27088624 0.27287664 0.19000131 0.18869028 0.15252421\n",
      " 0.18511146 0.15249534 0.17510486 0.28541712 0.27128507 0.25201997\n",
      " 0.22315653 0.18140052 0.25818478 0.23352649 0.17982214 0.44211511\n",
      " 0.32133906 0.34296578 0.26133214 0.21348726 0.40752115 0.38747\n",
      " 0.23796292 0.23975249 0.20345871 0.16781071 0.23268082 0.34194908\n",
      " 0.23409697 0.27945503 0.29697386 0.30852903 0.25373768 0.26114323\n",
      " 0.19371382 0.18442707 0.20224746 0.22918264 0.24715302 0.21936464\n",
      " 0.21319292 0.2685742  0.23967279 0.18331498 0.19273572 0.18477287\n",
      " 0.15915845 0.19108014 0.17602271 0.31403895 0.39209627 0.23405398\n",
      " 0.21690103 0.17105409 0.18951493 0.20542212 0.17265256 0.17819731\n",
      " 0.20455353 0.12865575 0.20021344 0.18583789 0.1859427  0.27867148\n",
      " 0.43249574 0.36809852 0.36860781 0.3013742  0.21797296 0.24149562\n",
      " 0.27848697 0.54615337 0.47713238 0.42908009 0.37035    0.33731967\n",
      " 0.37782552 0.36713611 0.34179658 0.36212733 0.48084928 0.43736803\n",
      " 0.41126943 0.47127478 0.61325706 0.33732626 0.28613634 0.2891155\n",
      " 0.21449925 0.23509358 0.24835046 0.19564742 0.18756439 0.20102397\n",
      " 0.32787728 0.31163057 0.29665379 0.30407942 0.27208839 0.33502458\n",
      " 0.2389178  0.2347346  0.26517455 0.25241881 0.28541712 0.29752426\n",
      " 0.2868725  0.38549309 0.50927153 0.36336901 0.33976194 0.38268683\n",
      " 0.56462833 0.36256319 0.27053448 0.2664564  0.28058908 0.25877189\n",
      " 0.24241002 0.23480991 0.22368841 0.2851322  0.30962323 0.27044536\n",
      " 0.19620754 0.19197132 0.2183674  0.25973618 0.28606385 0.28244392\n",
      " 0.44291309 0.28860998 0.29828238 0.26193808 0.25017204 0.2406126\n",
      " 0.26276273 0.30255689 0.41153615 0.28698045 0.3305574  0.30428684\n",
      " 0.34119535 0.29171686 0.3210124  0.23727697 0.38757292 0.3006509\n",
      " 0.25584293 0.30771536 0.28282738 0.25274955 0.28358205 0.31564401\n",
      " 0.29067789 0.32336304 0.24711725 0.23995363 0.23033081 0.27946162\n",
      " 0.2434879  0.24028971 0.22670617 0.24872984 0.22159822 0.23637951\n",
      " 0.2165932  0.21251356 0.21315998 0.27371604 0.2663563  0.30138832\n",
      " 0.30006034 0.27633748 0.40861316 0.41341672 0.38614076 0.27917198\n",
      " 0.33970294 0.40958121 0.36439261 0.41288421 0.36201436 0.44775274\n",
      " 0.57299503 0.35769718 0.27188348 0.245815   0.34436718 0.42706051\n",
      " 0.43123554 0.36941865 0.32676269 0.29020563 0.28430252 0.28548553\n",
      " 0.32546264 0.23310727 0.22702436 0.27792873 0.22467184 0.2127784\n",
      " 0.16929276 0.21800245 0.2869271  0.38347916 0.26604847 0.28722552\n",
      " 0.33928685 0.4221173  0.25417511 0.23035403 0.22729328 0.27964362\n",
      " 0.22030853 0.21050402 0.20786501 0.31054516 0.22295601 0.23018019\n",
      " 0.2324097  0.20790047 0.20254745 0.19813487 0.24346939 0.2233765\n",
      " 0.24520122 0.23929937 0.25549431 0.26039421 0.20341226 0.20423817\n",
      " 0.20922374 0.16826885 0.17302221 0.24670743 0.25536189 0.31940169\n",
      " 0.21284493 0.18798487 0.258904   0.17407467 0.17791207 0.1891456\n",
      " 0.19811573 0.22019117 0.17933105 0.2135039  0.16973678 0.17690824\n",
      " 0.24959842 0.19546291 0.22074282 0.2166023  0.16991062 0.16895167\n",
      " 0.16071989 0.24777528 0.2300553  0.24446537 0.27611123 0.23292934\n",
      " 0.24148934 0.23131299 0.27441204 0.26648621 0.21347063 0.32934616\n",
      " 0.38488967 0.27603059 0.28392472 0.50922195 0.25566156 0.33792467\n",
      " 0.31911897 0.27191078 0.30133654 0.2928939  0.26497655 0.46030955\n",
      " 0.40209062 0.39200872 0.35870383 0.27560602 0.24937563 0.21464234\n",
      " 0.26962981 0.23502894 0.24172751 0.22101708 0.35529069 0.27801565\n",
      " 0.26751264 0.3110852  0.19379415 0.20246649 0.27158475 0.23842702\n",
      " 0.23450585 0.27674886 0.34260146 0.51701535 0.30734038 0.25222582\n",
      " 0.29372609 0.30726287 0.4418691  0.26162491 0.28212793 0.23508794\n",
      " 0.37295732 0.29490313 0.23024389 0.28200178 0.20151349 0.25225752\n",
      " 0.23481117 0.184273   0.16255842 0.18294659 0.1104428  0.21729014\n",
      " 0.2628462  0.34950714 0.22357984 0.20537034 0.21597346 0.20311039\n",
      " 0.21878098 0.19495519 0.2387882  0.22110808 0.29460973 0.25822526\n",
      " 0.31044286 0.50256354 0.2497572  0.24297987 0.26963734 0.24429561\n",
      " 0.20024765 0.21654268 0.268101   0.23755405 0.24172908 0.35181855\n",
      " 0.27963358 0.2540565  0.27536942 0.22213764 0.20050276 0.21795821\n",
      " 0.22398526 0.18140366 0.19971953 0.21862941 0.18288069 0.25173724\n",
      " 0.25655932 0.20846969 0.20647458 0.16977883 0.22140022 0.20087649\n",
      " 0.20671056 0.24370411 0.37134127 0.48436472 0.2192115  0.26146174\n",
      " 0.20120535 0.1757472  0.18027714 0.19517704 0.19363506 0.20576698\n",
      " 0.21390712 0.18559093 0.18472204 0.16007065 0.15185834 0.17406055\n",
      " 0.14120282 0.15861371 0.17409005 0.16392028 0.22195407 0.27475219\n",
      " 0.17629603 0.14812607 0.16892688 0.21517642 0.26502173 0.23125368\n",
      " 0.24214863 0.23898934 0.31048271 0.23108266 0.23201432 0.23754809\n",
      " 0.21219443 0.18575536 0.16439788 0.14432099 0.16099446 0.15533361\n",
      " 0.21573309 0.17878818 0.14521876 0.16164088 0.14243164 0.14973301\n",
      " 0.14950488 0.15731491 0.21477853 0.15497212 0.13027555 0.15665563\n",
      " 0.14974336 0.1646053  0.18305924 0.13163554 0.15286217 0.14277273\n",
      " 0.20365985 0.17324343 0.16465707 0.15195718 0.20439319 0.25491222\n",
      " 0.35558063 0.17560819 0.14223332 0.16858453 0.15537441 0.14276959\n",
      " 0.11694086 0.13213981 0.18184893 0.20552504 0.17501072 0.13672309\n",
      " 0.15924224 0.14165782 0.17590786 0.17206921 0.17561321 0.31261871\n",
      " 0.21621006 0.19438283 0.38266141 0.20349071 0.19437875 0.15757159\n",
      " 0.15335357 0.17031165 0.17236449 0.18031542 0.20532578 0.31767175\n",
      " 0.15626684 0.15537754 0.16080493 0.16655992 0.1508997  0.15919046\n",
      " 0.1607155  0.14543528 0.26694373 0.0987141  0.14723332 0.14150343\n",
      " 0.14678679 0.18803257 0.14634779 0.19063079 0.12972986 0.13045661\n",
      " 0.15852961 0.15173157 0.25262748 0.18696253 0.2256741  0.14239304\n",
      " 0.11699263 0.14896421 0.1489275  0.15153576 0.12182789 0.11037753\n",
      " 0.15811885 0.19215269 0.36337309 0.30618844 0.21282484 0.18946441\n",
      " 0.17160448 0.1631358  0.13705163 0.13688532 0.14737327 0.20730175\n",
      " 0.191773   0.1453242  0.13205791 0.16544125 0.1724169  0.16144602\n",
      " 0.13750695 0.16632332 0.19083067 0.1907698  0.14350638 0.14208615\n",
      " 0.2565452  0.35298367 0.20569637 0.18499159 0.28357672 0.26442804\n",
      " 0.19108767 0.3426796  0.21105065 0.16262996 0.18336958 0.19784084\n",
      " 0.17800119 0.14488739 0.20267642 0.20999693 0.17664873 0.16259011\n",
      " 0.16368933 0.15562513 0.16637479 0.15227788 0.17956608 0.13302\n",
      " 0.13712192 0.14921274 0.17805673 0.16137541 0.16479546 0.18058685\n",
      " 0.17184768 0.18608924 0.20142249 0.17566248 0.13749408 0.17935552\n",
      " 0.22161831 0.18356696 0.16044627 0.14072428 0.17865858 0.24267235\n",
      " 0.2502941  0.20033049 0.22131926 0.15482715 0.16870691 0.20752297\n",
      " 0.1369007  0.18861685 0.16879163 0.17074469 0.15979263 0.14593045\n",
      " 0.11966396 0.12431816 0.07546224 0.12725183 0.12054541 0.13497619\n",
      " 0.15311414 0.14333913 0.13615386 0.20907625 0.12893722 0.14898241\n",
      " 0.16749503 0.19123798 0.16535997 0.22092451 0.20971389 0.40246247\n",
      " 0.1749464  0.12775861 0.16393503 0.14585953 0.1164893  0.09074717\n",
      " 0.15089656 0.10684671 0.13376683 0.258845   0.18330149 0.22588058\n",
      " 0.19550433 0.18559219 0.13443521 0.14683355 0.15416222 0.12691324\n",
      " 0.20585861 0.1484794  0.24477791 0.21570548 0.18869687 0.13290954\n",
      " 0.16829207 0.17202873 0.13993352 0.1479403  0.17528373 0.17405491\n",
      " 0.20360682 0.32169585 0.21861686 0.13647174 0.16768864 0.1285365\n",
      " 0.14169453 0.1311093  0.17738646 0.1714275  0.20532986 0.15596026\n",
      " 0.1683997  0.13031791 0.16409005 0.14158314 0.12823965 0.17044972\n",
      " 0.15361465 0.42890248 0.2306013  0.25577421 0.29852024 0.21522443\n",
      " 0.22519494 0.23884343 0.18871444 0.18772882 0.16470665 0.22879855\n",
      " 0.38177714 0.23724182 0.17326226 0.16763875 0.33319108 0.2231286\n",
      " 0.1703537  0.18008164 0.1891343  0.20607732 0.14510015 0.15479326\n",
      " 0.14965393 0.16852145 0.1319669  0.11743916 0.13320953 0.15598505\n",
      " 0.28577359 0.31879419 0.23073874 0.23130169 0.15972517 0.13531729\n",
      " 0.21266512 0.15098662 0.15544689 0.15141149 0.15864916 0.14070043\n",
      " 0.21391183 0.20689978 0.1580994  0.29564117 0.51218825 0.2465474\n",
      " 0.24258135 0.1413867  0.15370596 0.15928052 0.22607262 0.16440824\n",
      " 0.22091133 0.16582533 0.12954347 0.13920332 0.13276457 0.10872509\n",
      " 0.16005371 0.11389046 0.16405208 0.16652447 0.15673376 0.23584261\n",
      " 0.15714985 0.14896264 0.16994106 0.12922622 0.16663712 0.30520312\n",
      " 0.54089794 0.62173454 0.30708777 0.22004118 0.29411425 0.25085768\n",
      " 0.27040457 0.7732568  0.25331689 0.1779651  0.20777338 0.156184\n",
      " 0.25901445 0.18954098 0.18214578 0.11726438 0.18957079 0.1854083\n",
      " 0.15086016 0.19652228 0.2030583  0.166457   0.19653357 0.13566686\n",
      " 0.17994828 0.20721294 0.1542347  0.1512546  0.12539322 0.19385471\n",
      " 0.16126276 0.13054259 0.11394443 0.13067595 0.15701116 0.1961247\n",
      " 0.33126846 0.37513693 0.21859082 0.19931097 0.14798894 0.1324263\n",
      " 0.11933009 0.1385569  0.13167006 0.14564458 0.13913711 0.12767608\n",
      " 0.0950766  0.10909223 0.13711345 0.12136724 0.09602802 0.1127608\n",
      " 0.11940571 0.16287911 0.16628222 0.15749534 0.13756814 0.11489711\n",
      " 0.15194871 0.21080715 0.16188972 0.13991187 0.11766729 0.11537157\n",
      " 0.18626026 0.14283706 0.1879469  0.20955605 1.         0.16990717\n",
      " 0.13667665 0.13276237 0.11496395 0.10677172 0.17114948]' has dtype incompatible with int64, please explicitly cast to a compatible dtype first.\n",
      "  X.loc[select_mask, self.columns] = self.scalers[value].transform(\n",
      "c:\\Users\\bencj\\Desktop\\Econ4\\Thesis\\.venv\\lib\\site-packages\\finrl\\meta\\preprocessor\\preprocessors.py:101: FutureWarning: Setting an item of incompatible dtype is deprecated and will raise an error in a future version of pandas. Value '[0.   0.25 0.5  0.75 1.   0.   0.25 0.5  0.75 1.   0.25 0.5  0.75 1.\n",
      " 0.   0.25 0.5  0.75 1.   0.   0.25 0.5  0.75 1.   0.   0.25 0.5  0.75\n",
      " 1.   0.25 0.5  0.75 1.   0.   0.25 0.5  0.75 1.   0.   0.25 0.5  0.75\n",
      " 1.   0.   0.25 0.5  0.75 1.   0.   0.25 0.5  0.75 1.   0.   0.25 0.5\n",
      " 0.75 1.   0.   0.25 0.5  0.75 0.   0.25 0.5  0.75 1.   0.   0.25 0.5\n",
      " 0.75 1.   0.   0.25 0.5  0.75 1.   0.   0.25 0.5  0.75 1.   0.   0.25\n",
      " 0.5  0.75 1.   0.   0.25 0.5  0.75 1.   0.   0.25 0.5  0.75 1.   0.\n",
      " 0.25 0.5  0.75 1.   0.25 0.5  0.75 1.   0.   0.25 0.5  0.75 1.   0.\n",
      " 0.25 0.5  0.75 1.   0.   0.25 0.5  0.75 1.   0.   0.25 0.5  0.75 1.\n",
      " 0.25 0.5  0.75 1.   0.   0.25 0.5  0.75 1.   0.   0.25 0.5  0.75 1.\n",
      " 0.   0.25 0.5  0.75 1.   0.   0.25 0.5  0.75 1.   0.   0.25 0.5  0.75\n",
      " 1.   0.   0.25 0.5  0.75 1.   0.   0.25 0.5  0.75 1.   0.   0.25 0.5\n",
      " 0.75 1.   0.25 0.5  0.75 1.   0.   0.25 0.5  0.75 1.   0.   0.25 0.5\n",
      " 0.75 1.   0.   0.25 0.5  0.75 1.   0.   0.25 0.5  0.75 1.   0.   0.25\n",
      " 0.5  0.75 1.   0.   0.25 0.5  0.75 1.   0.   0.25 0.5  0.75 1.   0.\n",
      " 0.25 0.5  0.75 1.   0.   0.25 0.5  0.75 1.   0.   0.25 0.5  0.75 1.\n",
      " 0.   0.25 0.5  1.   0.   0.25 0.5  0.75 1.   0.   0.25 0.5  0.75 1.\n",
      " 0.   0.25 0.5  0.75 1.   0.   0.25 0.5  0.75 0.   0.25 0.5  0.75 1.\n",
      " 0.   0.25 0.5  0.75 1.   0.   0.25 0.5  0.75 1.   0.25 0.5  0.75 1.\n",
      " 0.   0.25 0.5  0.75 1.   0.   0.25 0.5  0.75 1.   0.   0.25 0.5  0.75\n",
      " 1.   0.   0.25 0.5  0.75 1.   0.25 0.5  0.75 1.   0.   0.25 0.5  0.75\n",
      " 1.   0.   0.25 0.5  0.75 1.   0.   0.25 0.5  0.75 1.   0.   0.25 0.5\n",
      " 0.75 1.   0.   0.25 0.5  0.75 1.   0.   0.25 0.5  0.75 1.   0.   0.25\n",
      " 0.5  0.75 0.   0.25 0.5  0.75 1.   0.   0.25 0.5  0.75 1.   0.   0.25\n",
      " 0.5  0.75 1.   0.   0.25 0.5  0.75 1.   0.   0.25 0.5  0.75 1.   0.\n",
      " 0.25 0.5  0.75 1.   0.25 0.5  0.75 1.   0.   0.25 0.5  0.75 1.   0.\n",
      " 0.25 0.5  0.75 1.   0.25 0.5  0.75 1.   0.   0.25 0.5  0.75 1.   0.25\n",
      " 0.5  0.75 1.   0.   0.25 0.5  0.75 1.   0.   0.25 0.5  0.75 1.   0.\n",
      " 0.25 0.5  0.75 1.   0.   0.25 0.5  0.75 1.   0.   0.25 0.5  0.75 1.\n",
      " 0.   0.25 0.5  0.75 1.   0.   0.25 0.5  0.75 1.   0.   0.25 0.5  0.75\n",
      " 1.   0.25 0.5  0.75 1.   0.   0.25 0.5  0.75 1.   0.   0.25 0.5  0.75\n",
      " 1.   0.   0.25 0.5  0.75 1.   0.   0.25 0.5  0.75 1.   0.   0.25 0.5\n",
      " 0.75 1.   0.   0.25 0.5  0.75 1.   0.   0.25 0.5  0.75 1.   0.   0.25\n",
      " 0.5  0.75 1.   0.   0.25 0.5  0.75 1.   0.   0.25 0.5  0.75 1.   0.\n",
      " 0.25 0.5  1.   0.   0.25 0.5  0.75 1.   0.   0.25 0.5  0.75 1.   0.\n",
      " 0.25 0.5  0.75 1.   0.   0.25 0.5  0.75 1.   0.25 0.5  0.75 1.   0.25\n",
      " 0.5  0.75 1.   0.   0.25 0.5  0.75 1.   0.25 0.5  0.75 1.   0.   0.25\n",
      " 0.5  0.75 1.   0.   0.25 0.5  0.75 1.   0.   0.25 0.5  0.75 1.   0.\n",
      " 0.25 0.5  0.75 1.   0.25 0.5  0.75 1.   0.   0.25 0.5  0.75 1.   0.\n",
      " 0.25 0.5  0.75 1.   0.   0.25 0.5  0.75 1.   0.   0.25 0.5  0.75 1.\n",
      " 0.   0.25 0.5  0.75 1.   0.   0.25 0.5  0.75 0.   0.25 0.5  0.75 1.\n",
      " 0.   0.25 0.5  0.75 1.   0.   0.25 0.5  0.75 1.   0.   0.25 0.5  0.75\n",
      " 1.   0.   0.25 0.5  0.75 1.   0.   0.25 0.5  0.75 1.   0.   0.25 0.5\n",
      " 0.75 1.   0.25 0.5  0.75 1.   0.   0.25 0.5  0.75 1.   0.   0.25 0.5\n",
      " 0.75 1.   0.25 0.5  0.75 1.   0.   0.25 0.5  0.75 1.   0.   0.5  0.75\n",
      " 1.   0.   0.25 0.5  0.75 1.   0.   0.25 0.5  0.75 1.   0.   0.25 0.5\n",
      " 0.75 1.   0.   0.25 0.5  0.75 1.   0.   0.25 0.5  0.75 1.   0.   0.25\n",
      " 0.5  0.75 1.   0.   0.25 0.5  0.75 1.   0.   0.25 0.5  0.75 1.   0.25\n",
      " 0.5  0.75 1.   0.   0.25 0.5  0.75 1.   0.   0.25 0.5  0.75 1.   0.\n",
      " 0.25 0.5  0.75 1.   0.   0.25 0.5  0.75 1.   0.   0.25 0.5  0.75 1.\n",
      " 0.   0.25 0.5  0.75 1.   0.   0.25 0.5  0.75 1.   0.   0.25 0.5  0.75\n",
      " 1.   0.   0.25 0.5  0.75 1.   0.   0.25 0.5  0.75 1.   0.   0.25 0.5\n",
      " 1.   0.   0.25 0.5  0.75 1.   0.   0.25 0.5  0.75 1.   0.   0.25 0.5\n",
      " 0.75 1.   0.   0.25 0.5  0.75 1.   0.25 0.5  0.75 1.   0.25 0.5  0.75\n",
      " 1.   0.   0.25 0.5  0.75 1.   0.25 0.5  0.75 1.   0.   0.25 0.5  0.75\n",
      " 1.   0.   0.25 0.5  0.75 1.   0.   0.25 0.5  0.75 1.   0.   0.25 0.5\n",
      " 0.75 1.   0.25 0.5  0.75 1.   0.   0.25 0.5  0.75 1.   0.   0.25 0.5\n",
      " 0.75 1.   0.   0.25 0.5  0.75 1.   0.   0.25 0.5  0.75 1.   0.   0.25\n",
      " 0.5  0.75 0.   0.25 0.5  0.75 1.   0.   0.25 0.5  0.75 1.   0.   0.25\n",
      " 0.5  0.75 1.   0.   0.25 0.5  0.75 1.   0.   0.25 0.5  0.75 1.   0.\n",
      " 0.25 0.5  0.75 1.   0.   0.25 0.5  0.75 1.   0.   0.25 0.5  0.75 1.\n",
      " 0.25 0.5  0.75 1.   0.   0.25 0.5  0.75 1.   0.   0.25 0.5  0.75 1.\n",
      " 0.   0.25 0.75 1.   0.   0.25 0.5  0.75 1.   0.   0.25 0.5  1.   0.\n",
      " 0.25 0.5  0.75 1.   0.   0.25 0.5  0.75 1.   0.   0.25 0.5  0.75 1.\n",
      " 0.   0.25 0.5  0.75 1.   0.   0.25 0.5  0.75 1.   0.   0.25 0.5  0.75\n",
      " 1.   0.   0.25 0.5  0.75 1.   0.   0.25 0.5  0.75 1.   0.25 0.5  0.75\n",
      " 1.   0.   0.25 0.5  0.75 1.   0.   0.25 0.5  0.75 1.   0.   0.25 0.5\n",
      " 0.75 1.   0.  ]' has dtype incompatible with int32, please explicitly cast to a compatible dtype first.\n",
      "  X.loc[select_mask, self.columns] = self.scalers[value].transform(\n"
     ]
    }
   ],
   "source": [
    "from finrl.meta.env_portfolio_optimization.env_portfolio_optimization import PortfolioOptimizationEnv\n",
    "\n",
    "\n",
    "# Fit for the portfolio optimization model\n",
    "\n",
    "from sklearn.preprocessing import MaxAbsScaler\n",
    "from finrl.meta.preprocessor.preprocessors import GroupByScaler\n",
    "\n",
    "portfolio_norm_df = GroupByScaler(by=\"tic\", scaler=MaxAbsScaler).fit_transform(processed_test)\n",
    "portfolio_norm_df\n",
    "\n",
    "\n",
    "environment = PortfolioOptimizationEnv(\n",
    "    portfolio_norm_df,\n",
    "    initial_amount=INITIAL_CASH,\n",
    "    comission_fee_pct=COMMISSION_FEE_PERCENT,\n",
    "    time_window=TIME_WINDOW,\n",
    "    features=[\"close\", \"high\", \"low\"],\n",
    "    normalize_df=None\n",
    ")"
   ]
  },
  {
   "cell_type": "code",
   "execution_count": 3,
   "metadata": {},
   "outputs": [
    {
     "name": "stderr",
     "output_type": "stream",
     "text": [
      "C:\\Users\\bencj\\AppData\\Local\\Temp\\ipykernel_11804\\3962532677.py:22: FutureWarning: You are using `torch.load` with `weights_only=False` (the current default value), which uses the default pickle module implicitly. It is possible to construct malicious pickle data which will execute arbitrary code during unpickling (See https://github.com/pytorch/pytorch/blob/main/SECURITY.md#untrusted-models for more details). In a future release, the default value for `weights_only` will be flipped to `True`. This limits the functions that could be executed during unpickling. Arbitrary objects will no longer be allowed to be loaded via this mode unless they are explicitly allowlisted by the user via `torch.serialization.add_safe_globals`. We recommend you start setting `weights_only=True` for any use case where you don't have full control of the loaded file. Please open an issue on GitHub for any issues related to this experimental feature.\n",
      "  policy.load_state_dict(torch.load(\"policy_EIIE.pt\"))\n"
     ]
    },
    {
     "data": {
      "text/plain": [
       "<All keys matched successfully>"
      ]
     },
     "execution_count": 3,
     "metadata": {},
     "output_type": "execute_result"
    }
   ],
   "source": [
    "import torch\n",
    "from finrl.agents.portfolio_optimization.architectures import EIIE\n",
    "\n",
    "device = 'cuda:0' if torch.cuda.is_available() else 'cpu'\n",
    "\n",
    "# set PolicyGradient parameters\n",
    "model_kwargs = {\n",
    "    \"lr\": 0.01,\n",
    "    \"policy\": EIIE,\n",
    "}\n",
    "\n",
    "# here, we can set EIIE's parameters\n",
    "policy_kwargs = {\n",
    "    \"k_size\": 3,\n",
    "    \"time_window\": TIME_WINDOW,\n",
    "}\n",
    "\n",
    "\n",
    "# instantiate an architecture with the same arguments used in training\n",
    "# and load with load_state_dict.\n",
    "policy = EIIE(time_window=TIME_WINDOW, device=device)\n",
    "policy.load_state_dict(torch.load(\"policy_EIIE.pt\"))"
   ]
  },
  {
   "cell_type": "code",
   "execution_count": 4,
   "metadata": {},
   "outputs": [
    {
     "name": "stdout",
     "output_type": "stream",
     "text": [
      "=================================\n",
      "Initial portfolio value:1000000\n",
      "Final portfolio value: 1367475.625\n",
      "Final accumulative portfolio value: 1.367475625\n",
      "Maximum DrawDown: -0.21709888272039568\n",
      "Sharpe ratio: 0.674135629744517\n",
      "Total commission cost: 9461.569292168715\n",
      "=================================\n"
     ]
    }
   ],
   "source": [
    "EIIE_results = {\n",
    "    \"20212024\": {},\n",
    "}\n",
    "\n",
    "# 2021 - 2024\n",
    "# Initialize the model\n",
    "model = OptDRLAgent(environment).get_model(\"pg\", device, model_kwargs, policy_kwargs)\n",
    "OptDRLAgent.DRL_validation(model, environment, policy=policy)\n",
    "EIIE_results[\"20212024\"][\"value\"] = environment._asset_memory[\"final\"]\n",
    "EIIE_results[\"20212024\"][\"date\"] = environment._date_memory\n",
    "\n",
    "\n",
    "\n",
    "# Write this out to a csv file, with date and net worth\n",
    "df_opt = pd.DataFrame(EIIE_results[\"20212024\"][\"value\"], columns=['opt_net_worth'])\n",
    "df_date = pd.DataFrame(EIIE_results[\"20212024\"][\"date\"], columns=['Date'])\n",
    "if len(df_opt) == len(df_date):\n",
    "    df_opt['Date'] = df_date['Date']\n",
    "else:\n",
    "    raise ValueError(\"DataFrames do not have the same number of rows.\")\n",
    "\n",
    "\n",
    "# The optimization algoirhtm has a shorter window than the full df, so shorted this for the follow algorithm\n",
    "opt_start = df_opt.loc[0,'Date']\n"
   ]
  },
  {
   "cell_type": "code",
   "execution_count": 5,
   "metadata": {},
   "outputs": [
    {
     "name": "stdout",
     "output_type": "stream",
     "text": [
      "     opt_net_worth       Date\n",
      "0     1.000000e+06 2021-02-08\n",
      "1     9.990958e+05 2021-02-09\n",
      "2     1.000379e+06 2021-02-10\n",
      "3     1.000992e+06 2021-02-11\n",
      "4     1.002442e+06 2021-02-12\n",
      "..             ...        ...\n",
      "912   1.359052e+06 2024-09-24\n",
      "913   1.352035e+06 2024-09-25\n",
      "914   1.360815e+06 2024-09-26\n",
      "915   1.368428e+06 2024-09-27\n",
      "916   1.367476e+06 2024-09-30\n",
      "\n",
      "[917 rows x 2 columns]\n"
     ]
    }
   ],
   "source": [
    "print(df_opt)"
   ]
  },
  {
   "cell_type": "code",
   "execution_count": 6,
   "metadata": {},
   "outputs": [
    {
     "name": "stdout",
     "output_type": "stream",
     "text": [
      "2021-02-08 00:00:00\n",
      "2024-09-30 00:00:00\n"
     ]
    }
   ],
   "source": [
    "opt_end = df_opt.loc[len(df_date)-1,'Date']\n",
    "\n",
    "print(opt_start)\n",
    "opt_start = opt_start.strftime('%Y-%m-%d %H:%M:%S')\n",
    "\n",
    "\n",
    "print(opt_end)\n",
    "opt_end = opt_end.strftime('%Y-%m-%d %H:%M:%S')"
   ]
  },
  {
   "cell_type": "markdown",
   "metadata": {},
   "source": [
    "# PPO On portfolio Opt"
   ]
  },
  {
   "cell_type": "code",
   "execution_count": 7,
   "metadata": {},
   "outputs": [],
   "source": [
    "from finrl.meta.env_portfolio_optimization.env_portfolio_opt_stable import PortfolioOptStableEnv\n",
    "\n",
    "\n",
    "# Fit for the portfolio optimization model\n",
    "\n",
    "from sklearn.preprocessing import MaxAbsScaler\n",
    "from finrl.meta.preprocessor.preprocessors import GroupByScaler\n",
    "\n",
    "from finrl.meta.preprocessor.preprocessors import data_split\n",
    "\n",
    "from datetime import datetime, timedelta\n",
    "# Make sure dates line up, TODO fix this for real dates\n",
    "# Make sure we only test on the same data as the portfolio optimization algorithm\n",
    "# Convert to datetime\n",
    "opt_start_date = datetime.strptime(opt_start, '%Y-%m-%d %H:%M:%S')\n",
    "\n",
    "# Subtract one day\n",
    "new_opt_start_date = opt_start_date - timedelta(days=1)\n",
    "\n",
    "# Convert back to string\n",
    "new_opt_start_str = new_opt_start_date.strftime('%Y-%m-%d %H:%M:%S')\n",
    "\n",
    "test = data_split(portfolio_norm_df, new_opt_start_str,opt_end)\n",
    "\n",
    "\n",
    "portfolio_norm_df = GroupByScaler(by=\"tic\", scaler=MaxAbsScaler).fit_transform(test)\n",
    "portfolio_norm_df\n",
    "\n",
    "\n",
    "environment_ppo = PortfolioOptStableEnv(\n",
    "    portfolio_norm_df,\n",
    "    initial_amount=INITIAL_CASH,\n",
    "    comission_fee_pct=COMMISSION_FEE_PERCENT,\n",
    "    # time_window=TIME_WINDOW,\n",
    "    features=[\"close\", \"high\", \"low\"],\n",
    "    normalize_df=None\n",
    ")"
   ]
  },
  {
   "cell_type": "code",
   "execution_count": 8,
   "metadata": {},
   "outputs": [],
   "source": [
    "from stable_baselines3 import PPO\n",
    "from finrl.config import TRAINED_MODEL_DIR\n",
    "\n",
    "\n",
    "# Load the trained models\n",
    "trained_ppo_opt = PPO.load(TRAINED_MODEL_DIR + \"/agent_opt_ppo_10_27\") \n",
    "\n",
    "# trained_ppo_opt = PPO.load(TRAINED_MODEL_DIR + \"/agent_opt_ppo_20092021_11_1\") "
   ]
  },
  {
   "cell_type": "code",
   "execution_count": 9,
   "metadata": {},
   "outputs": [
    {
     "name": "stderr",
     "output_type": "stream",
     "text": [
      "c:\\Users\\bencj\\Desktop\\Econ4\\Thesis\\.venv\\lib\\site-packages\\stable_baselines3\\common\\vec_env\\patch_gym.py:49: UserWarning: You provided an OpenAI Gym environment. We strongly recommend transitioning to Gymnasium environments. Stable-Baselines3 is automatically wrapping your environments in a compatibility layer, which could potentially cause issues.\n",
      "  warnings.warn(\n"
     ]
    },
    {
     "name": "stdout",
     "output_type": "stream",
     "text": [
      "=================================\n",
      "Initial portfolio value:1000000\n",
      "Final portfolio value: 1450845.625\n",
      "Final accumulative portfolio value: 1.450845625\n",
      "Maximum DrawDown: -0.17669768722753088\n",
      "Sharpe ratio: 0.8317761560082826\n",
      "Total commission cost: 9022.473982524942\n",
      "=================================\n",
      "hit end!\n",
      "     ppo_opt_net_worth       Date\n",
      "0         1.000000e+06 2021-02-08\n",
      "1         9.996333e+05 2021-02-09\n",
      "2         1.001850e+06 2021-02-10\n",
      "3         1.001856e+06 2021-02-11\n",
      "4         1.004148e+06 2021-02-12\n",
      "..                 ...        ...\n",
      "912       1.443542e+06 2024-09-24\n",
      "913       1.434583e+06 2024-09-25\n",
      "914       1.442857e+06 2024-09-26\n",
      "915       1.451681e+06 2024-09-27\n",
      "916       1.450846e+06 2024-09-30\n",
      "\n",
      "[917 rows x 2 columns]\n"
     ]
    }
   ],
   "source": [
    "from finrl.agents.portfolio_optimization.models_stable import DRLStableAgent\n",
    "\n",
    "\n",
    "PPO_results = {\n",
    "    \"20212024\": {},\n",
    "}\n",
    "\n",
    "values, dates = DRLStableAgent.DRL_prediction(trained_ppo_opt, environment_ppo)\n",
    "PPO_results[\"20212024\"][\"value\"] = environment_ppo._terminal_asset_memory[\"final\"]\n",
    "PPO_results[\"20212024\"][\"date\"] = environment_ppo._terminal_date_memory\n",
    "\n",
    "\n",
    "# Write this out to a csv file, with date and net worth\n",
    "df_ppo_opt = pd.DataFrame(PPO_results[\"20212024\"][\"value\"], columns=['ppo_opt_net_worth'])\n",
    "df_ppo_date = pd.DataFrame(PPO_results[\"20212024\"][\"date\"], columns=['Date'])\n",
    "if len(df_ppo_opt) == len(df_ppo_date):\n",
    "    df_ppo_opt['Date'] = df_ppo_date['Date']\n",
    "else:\n",
    "    raise ValueError(\"DataFrames do not have the same number of rows.\")\n",
    "\n",
    "print(df_ppo_opt)\n",
    "\n",
    "\n",
    "# assert the dates line up\n",
    "assert df_opt.loc[0,'Date'] == df_ppo_opt.loc[0, 'Date']\n",
    "assert df_opt.loc[len(df_date)-1,'Date'] == df_ppo_opt.loc[len(df_ppo_opt)-1,'Date']"
   ]
  },
  {
   "cell_type": "code",
   "execution_count": 10,
   "metadata": {},
   "outputs": [
    {
     "data": {
      "text/plain": [
       "Timestamp('2021-02-08 00:00:00')"
      ]
     },
     "execution_count": 10,
     "metadata": {},
     "output_type": "execute_result"
    }
   ],
   "source": [
    "df_ppo_opt.loc[0, 'Date']"
   ]
  },
  {
   "cell_type": "code",
   "execution_count": 11,
   "metadata": {},
   "outputs": [
    {
     "data": {
      "text/plain": [
       "Timestamp('2021-02-08 00:00:00')"
      ]
     },
     "execution_count": 11,
     "metadata": {},
     "output_type": "execute_result"
    }
   ],
   "source": [
    "df_opt.loc[0,'Date']"
   ]
  },
  {
   "cell_type": "markdown",
   "metadata": {},
   "source": [
    "# Porfolio Baselines"
   ]
  },
  {
   "cell_type": "code",
   "execution_count": 12,
   "metadata": {},
   "outputs": [
    {
     "name": "stderr",
     "output_type": "stream",
     "text": [
      "c:\\Users\\bencj\\Desktop\\Econ4\\Thesis\\.venv\\lib\\site-packages\\stable_baselines3\\common\\vec_env\\patch_gym.py:49: UserWarning: You provided an OpenAI Gym environment. We strongly recommend transitioning to Gymnasium environments. Stable-Baselines3 is automatically wrapping your environments in a compatibility layer, which could potentially cause issues.\n",
      "  warnings.warn(\n"
     ]
    },
    {
     "name": "stdout",
     "output_type": "stream",
     "text": [
      "=================================\n",
      "Initial portfolio value:1000000\n",
      "Final portfolio value: 1367473.125\n",
      "Final accumulative portfolio value: 1.367473125\n",
      "Maximum DrawDown: -0.21710185126917592\n",
      "Sharpe ratio: 0.6741254672422525\n",
      "Total commission cost: 9461.66208195244\n",
      "=================================\n",
      "hit end!\n",
      "     crp_opt_net_worth       Date\n",
      "0         1.000000e+06 2021-02-08\n",
      "1         9.990959e+05 2021-02-09\n",
      "2         1.000379e+06 2021-02-10\n",
      "3         1.000992e+06 2021-02-11\n",
      "4         1.002442e+06 2021-02-12\n",
      "..                 ...        ...\n",
      "912       1.359050e+06 2024-09-24\n",
      "913       1.352033e+06 2024-09-25\n",
      "914       1.360812e+06 2024-09-26\n",
      "915       1.368426e+06 2024-09-27\n",
      "916       1.367473e+06 2024-09-30\n",
      "\n",
      "[917 rows x 2 columns]\n"
     ]
    }
   ],
   "source": [
    "# CRP \n",
    "\n",
    "CRP_results = {\n",
    "    \"20212024\": {},\n",
    "}\n",
    "\n",
    "environment_ppo.reset()\n",
    "agent_crp = DRLStableAgent(env = environment_ppo)\n",
    "model_crp = agent_crp.get_model(\"crp\", None, None)\n",
    "\n",
    "values, dates = DRLStableAgent.DRL_prediction(model_crp, environment_ppo)\n",
    "CRP_results[\"20212024\"][\"value\"] = environment_ppo._terminal_asset_memory[\"final\"]\n",
    "CRP_results[\"20212024\"][\"date\"] = environment_ppo._terminal_date_memory\n",
    "\n",
    "df_crp_opt = pd.DataFrame(CRP_results[\"20212024\"][\"value\"], columns=['crp_opt_net_worth'])\n",
    "df_crp_date = pd.DataFrame(CRP_results[\"20212024\"][\"date\"], columns=['Date'])\n",
    "if len(df_crp_opt) == len(df_crp_date):\n",
    "    df_crp_opt['Date'] = df_crp_date['Date']\n",
    "else:\n",
    "    raise ValueError(\"DataFrames do not have the same number of rows.\")\n",
    "\n",
    "print(df_crp_opt)\n",
    "\n",
    "\n",
    "# assert the dates line up\n",
    "assert df_opt.loc[0,'Date'] == df_crp_opt.loc[0, 'Date']\n",
    "assert df_opt.loc[len(df_date)-1,'Date'] == df_crp_opt.loc[len(df_crp_opt)-1,'Date']"
   ]
  },
  {
   "cell_type": "code",
   "execution_count": 13,
   "metadata": {},
   "outputs": [
    {
     "name": "stdout",
     "output_type": "stream",
     "text": [
      "[0.         0.03448276 0.03448276 0.03448276 0.03448276 0.03448276\n",
      " 0.03448276 0.03448276 0.03448276 0.03448276 0.03448276 0.03448276\n",
      " 0.03448276 0.03448276 0.03448276 0.03448276 0.03448276 0.03448276\n",
      " 0.03448276 0.03448276 0.03448276 0.03448276 0.03448276 0.03448276\n",
      " 0.03448276 0.03448276 0.03448276 0.03448276 0.03448276 0.03448276]\n"
     ]
    },
    {
     "name": "stderr",
     "output_type": "stream",
     "text": [
      "c:\\Users\\bencj\\Desktop\\Econ4\\Thesis\\.venv\\lib\\site-packages\\stable_baselines3\\common\\vec_env\\patch_gym.py:49: UserWarning: You provided an OpenAI Gym environment. We strongly recommend transitioning to Gymnasium environments. Stable-Baselines3 is automatically wrapping your environments in a compatibility layer, which could potentially cause issues.\n",
      "  warnings.warn(\n"
     ]
    },
    {
     "name": "stdout",
     "output_type": "stream",
     "text": [
      "=================================\n",
      "Initial portfolio value:1000000\n",
      "Final portfolio value: 1411161.875\n",
      "Final accumulative portfolio value: 1.411161875\n",
      "Maximum DrawDown: -0.20338043227873082\n",
      "Sharpe ratio: 0.7604711315469155\n",
      "Total commission cost: 0.0\n",
      "=================================\n",
      "hit end!\n",
      "     bah_opt_net_worth       Date\n",
      "0         1.000000e+06 2021-02-08\n",
      "1         9.990959e+05 2021-02-09\n",
      "2         1.000372e+06 2021-02-10\n",
      "3         1.000923e+06 2021-02-11\n",
      "4         1.002381e+06 2021-02-12\n",
      "..                 ...        ...\n",
      "912       1.405648e+06 2024-09-24\n",
      "913       1.397635e+06 2024-09-25\n",
      "914       1.404048e+06 2024-09-26\n",
      "915       1.409409e+06 2024-09-27\n",
      "916       1.411162e+06 2024-09-30\n",
      "\n",
      "[917 rows x 2 columns]\n"
     ]
    }
   ],
   "source": [
    "# BAH\n",
    "\n",
    "BAH_results = {\n",
    "    \"20212024\": {},\n",
    "}\n",
    "\n",
    "environment_ppo.reset()\n",
    "agent_bah = DRLStableAgent(env = environment_ppo)\n",
    "model_bah = agent_bah.get_model(\"bah\", None, None)\n",
    "\n",
    "values, dates = DRLStableAgent.DRL_prediction(model_bah, environment_ppo)\n",
    "BAH_results[\"20212024\"][\"value\"] = environment_ppo._terminal_asset_memory[\"final\"]\n",
    "BAH_results[\"20212024\"][\"date\"] = environment_ppo._terminal_date_memory\n",
    "\n",
    "df_bah_opt = pd.DataFrame(BAH_results[\"20212024\"][\"value\"], columns=['bah_opt_net_worth'])\n",
    "df_bah_date = pd.DataFrame(BAH_results[\"20212024\"][\"date\"], columns=['Date'])\n",
    "if len(df_bah_opt) == len(df_bah_date):\n",
    "    df_bah_opt['Date'] = df_bah_date['Date']\n",
    "else:\n",
    "    raise ValueError(\"DataFrames do not have the same number of rows.\")\n",
    "\n",
    "print(df_bah_opt)\n",
    "\n",
    "\n",
    "# assert the dates line up\n",
    "assert df_opt.loc[0,'Date'] == df_bah_opt.loc[0, 'Date']\n",
    "assert df_opt.loc[len(df_date)-1,'Date'] == df_bah_opt.loc[len(df_bah_opt)-1,'Date']"
   ]
  },
  {
   "cell_type": "code",
   "execution_count": 14,
   "metadata": {},
   "outputs": [
    {
     "name": "stderr",
     "output_type": "stream",
     "text": [
      "c:\\Users\\bencj\\Desktop\\Econ4\\Thesis\\.venv\\lib\\site-packages\\stable_baselines3\\common\\vec_env\\patch_gym.py:49: UserWarning: You provided an OpenAI Gym environment. We strongly recommend transitioning to Gymnasium environments. Stable-Baselines3 is automatically wrapping your environments in a compatibility layer, which could potentially cause issues.\n",
      "  warnings.warn(\n"
     ]
    },
    {
     "name": "stdout",
     "output_type": "stream",
     "text": [
      "=================================\n",
      "Initial portfolio value:1000000\n",
      "Final portfolio value: 474985.125\n",
      "Final accumulative portfolio value: 0.474985125\n",
      "Maximum DrawDown: -0.5869946875000001\n",
      "Sharpe ratio: -0.47877748255456554\n",
      "Total commission cost: 655023.4874252225\n",
      "=================================\n",
      "hit end!\n",
      "     olmar_opt_net_worth       Date\n",
      "0          1000000.00000 2021-02-08\n",
      "1           999095.87500 2021-02-09\n",
      "2           989874.25000 2021-02-10\n",
      "3           959374.75000 2021-02-11\n",
      "4           943572.62500 2021-02-12\n",
      "..                   ...        ...\n",
      "912         463099.46875 2024-09-24\n",
      "913         456836.65625 2024-09-25\n",
      "914         465016.90625 2024-09-26\n",
      "915         470219.40625 2024-09-27\n",
      "916         474985.12500 2024-09-30\n",
      "\n",
      "[917 rows x 2 columns]\n"
     ]
    }
   ],
   "source": [
    "# OLMAR\n",
    "\n",
    "OLMAR_results = {\n",
    "    \"20212024\": {},\n",
    "}\n",
    "\n",
    "# OLMAR_model_kwargs = {\n",
    "#     \"eps\": 60,\n",
    "#     \"window\": 100\n",
    "# }\n",
    "\n",
    "\n",
    "environment_ppo.reset()\n",
    "agent_olmar = DRLStableAgent(env = environment_ppo)\n",
    "model_olmar = agent_olmar.get_model(\"olmar\", model_kwargs=None)\n",
    "\n",
    "values, dates = DRLStableAgent.DRL_prediction(model_olmar, environment_ppo)\n",
    "OLMAR_results[\"20212024\"][\"value\"] = environment_ppo._terminal_asset_memory[\"final\"]\n",
    "OLMAR_results[\"20212024\"][\"date\"] = environment_ppo._terminal_date_memory\n",
    "\n",
    "df_olmar_opt = pd.DataFrame(OLMAR_results[\"20212024\"][\"value\"], columns=['olmar_opt_net_worth'])\n",
    "df_olmar_date = pd.DataFrame(OLMAR_results[\"20212024\"][\"date\"], columns=['Date'])\n",
    "if len(df_olmar_opt) == len(df_olmar_date):\n",
    "    df_olmar_opt['Date'] = df_olmar_date['Date']\n",
    "else:\n",
    "    raise ValueError(\"DataFrames do not have the same number of rows.\")\n",
    "\n",
    "print(df_olmar_opt)\n",
    "\n",
    "\n",
    "# assert the dates line up\n",
    "assert df_opt.loc[0,'Date'] == df_olmar_opt.loc[0, 'Date']\n",
    "assert df_opt.loc[len(df_date)-1,'Date'] == df_olmar_opt.loc[len(df_olmar_opt)-1,'Date']"
   ]
  },
  {
   "cell_type": "code",
   "execution_count": 15,
   "metadata": {},
   "outputs": [
    {
     "name": "stderr",
     "output_type": "stream",
     "text": [
      "c:\\Users\\bencj\\Desktop\\Econ4\\Thesis\\.venv\\lib\\site-packages\\stable_baselines3\\common\\vec_env\\patch_gym.py:49: UserWarning: You provided an OpenAI Gym environment. We strongly recommend transitioning to Gymnasium environments. Stable-Baselines3 is automatically wrapping your environments in a compatibility layer, which could potentially cause issues.\n",
      "  warnings.warn(\n"
     ]
    },
    {
     "name": "stdout",
     "output_type": "stream",
     "text": [
      "=================================\n",
      "Initial portfolio value:1000000\n",
      "Final portfolio value: 208357.640625\n",
      "Final accumulative portfolio value: 0.208357640625\n",
      "Maximum DrawDown: -0.82077453125\n",
      "Sharpe ratio: -1.059408940534365\n",
      "Total commission cost: 505751.07328033296\n",
      "=================================\n",
      "hit end!\n",
      "     rmr_opt_net_worth       Date\n",
      "0       1000000.000000 2021-02-08\n",
      "1        999095.875000 2021-02-09\n",
      "2        989874.250000 2021-02-10\n",
      "3        959374.750000 2021-02-11\n",
      "4        943572.625000 2021-02-12\n",
      "..                 ...        ...\n",
      "912      203143.843750 2024-09-24\n",
      "913      200396.609375 2024-09-25\n",
      "914      203984.968750 2024-09-26\n",
      "915      206267.109375 2024-09-27\n",
      "916      208357.640625 2024-09-30\n",
      "\n",
      "[917 rows x 2 columns]\n"
     ]
    }
   ],
   "source": [
    "# RMR\n",
    "\n",
    "RMR_results = {\n",
    "    \"20212024\": {},\n",
    "}\n",
    "\n",
    "# RMR_model_kwargs = {\n",
    "#     \"eps\": 60,\n",
    "#     \"window\": 100\n",
    "# }\n",
    "\n",
    "environment_ppo.reset()\n",
    "agent_rmr = DRLStableAgent(env = environment_ppo)\n",
    "model_rmr = agent_rmr.get_model(\"rmr\", model_kwargs=None)\n",
    "\n",
    "values, dates = DRLStableAgent.DRL_prediction(model_rmr, environment_ppo)\n",
    "RMR_results[\"20212024\"][\"value\"] = environment_ppo._terminal_asset_memory[\"final\"]\n",
    "RMR_results[\"20212024\"][\"date\"] = environment_ppo._terminal_date_memory\n",
    "\n",
    "df_rmr_opt = pd.DataFrame(RMR_results[\"20212024\"][\"value\"], columns=['rmr_opt_net_worth'])\n",
    "df_rmr_date = pd.DataFrame(RMR_results[\"20212024\"][\"date\"], columns=['Date'])\n",
    "if len(df_rmr_opt) == len(df_rmr_date):\n",
    "    df_rmr_opt['Date'] = df_rmr_date['Date']\n",
    "else:\n",
    "    raise ValueError(\"DataFrames do not have the same number of rows.\")\n",
    "\n",
    "print(df_rmr_opt)\n",
    "\n",
    "\n",
    "# assert the dates line up\n",
    "assert df_opt.loc[0,'Date'] == df_rmr_opt.loc[0, 'Date']\n",
    "assert df_opt.loc[len(df_date)-1,'Date'] == df_rmr_opt.loc[len(df_rmr_opt)-1,'Date']"
   ]
  },
  {
   "cell_type": "code",
   "execution_count": 30,
   "metadata": {},
   "outputs": [
    {
     "name": "stderr",
     "output_type": "stream",
     "text": [
      "c:\\Users\\bencj\\Desktop\\Econ4\\Thesis\\.venv\\lib\\site-packages\\stable_baselines3\\common\\vec_env\\patch_gym.py:49: UserWarning: You provided an OpenAI Gym environment. We strongly recommend transitioning to Gymnasium environments. Stable-Baselines3 is automatically wrapping your environments in a compatibility layer, which could potentially cause issues.\n",
      "  warnings.warn(\n"
     ]
    },
    {
     "name": "stdout",
     "output_type": "stream",
     "text": [
      "=================================\n",
      "Initial portfolio value:1000000\n",
      "Final portfolio value: 764620.3125\n",
      "Final accumulative portfolio value: 0.7646203125\n",
      "Maximum DrawDown: -0.45703517459772824\n",
      "Sharpe ratio: -0.1540834119868225\n",
      "Total commission cost: 57157.32013978658\n",
      "=================================\n",
      "hit end!\n",
      "     bnn_opt_net_worth       Date\n",
      "0         1000000.0000 2021-02-08\n",
      "1         1000000.0000 2021-02-09\n",
      "2         1000000.0000 2021-02-10\n",
      "3         1000000.0000 2021-02-11\n",
      "4         1000000.0000 2021-02-12\n",
      "..                 ...        ...\n",
      "912        767564.3750 2024-09-24\n",
      "913        766671.5625 2024-09-25\n",
      "914        772747.8750 2024-09-26\n",
      "915        763790.1875 2024-09-27\n",
      "916        764620.3125 2024-09-30\n",
      "\n",
      "[917 rows x 2 columns]\n"
     ]
    }
   ],
   "source": [
    "# BNN\n",
    "\n",
    "BNN_results = {\n",
    "    \"20212024\": {},\n",
    "}\n",
    "\n",
    "# RMR_model_kwargs = {\n",
    "#     \"eps\": 60,\n",
    "#     \"window\": 100\n",
    "# }\n",
    "\n",
    "environment_ppo.reset()\n",
    "agent_bnn = DRLStableAgent(env = environment_ppo)\n",
    "model_bnn = agent_bnn.get_model(\"bnn\", model_kwargs=None)\n",
    "\n",
    "values, dates = DRLStableAgent.DRL_prediction(model_bnn, environment_ppo)\n",
    "BNN_results[\"20212024\"][\"value\"] = environment_ppo._terminal_asset_memory[\"final\"]\n",
    "BNN_results[\"20212024\"][\"date\"] = environment_ppo._terminal_date_memory\n",
    "\n",
    "df_bnn_opt = pd.DataFrame(BNN_results[\"20212024\"][\"value\"], columns=['bnn_opt_net_worth'])\n",
    "df_bnn_date = pd.DataFrame(BNN_results[\"20212024\"][\"date\"], columns=['Date'])\n",
    "if len(df_bnn_opt) == len(df_bnn_date):\n",
    "    df_bnn_opt['Date'] = df_bnn_date['Date']\n",
    "else:\n",
    "    raise ValueError(\"DataFrames do not have the same number of rows.\")\n",
    "\n",
    "print(df_bnn_opt)\n",
    "\n",
    "\n",
    "# assert the dates line up\n",
    "assert df_opt.loc[0,'Date'] == df_bnn_opt.loc[0, 'Date']\n",
    "assert df_opt.loc[len(df_date)-1,'Date'] == df_bnn_opt.loc[len(df_bnn_opt)-1,'Date']"
   ]
  },
  {
   "cell_type": "markdown",
   "metadata": {},
   "source": [
    "# Try BCRP extreme, which is the absolute best portfolio over the period with hindsight\n"
   ]
  },
  {
   "cell_type": "code",
   "execution_count": 31,
   "metadata": {},
   "outputs": [
    {
     "name": "stderr",
     "output_type": "stream",
     "text": [
      "c:\\Users\\bencj\\Desktop\\Econ4\\Thesis\\.venv\\lib\\site-packages\\stable_baselines3\\common\\vec_env\\patch_gym.py:49: UserWarning: You provided an OpenAI Gym environment. We strongly recommend transitioning to Gymnasium environments. Stable-Baselines3 is automatically wrapping your environments in a compatibility layer, which could potentially cause issues.\n",
      "  warnings.warn(\n"
     ]
    },
    {
     "name": "stdout",
     "output_type": "stream",
     "text": [
      "=================================\n",
      "Initial portfolio value:1000000\n",
      "Final portfolio value: 1883609.75\n",
      "Final accumulative portfolio value: 1.88360975\n",
      "Maximum DrawDown: -0.24948930739755615\n",
      "Sharpe ratio: 0.8069389783258243\n",
      "Total commission cost: 1.2377509847283363e-05\n",
      "=================================\n",
      "hit end!\n",
      "     bcrp_opt_net_worth       Date\n",
      "0          1.000000e+06 2021-02-08\n",
      "1          9.943157e+05 2021-02-09\n",
      "2          1.011368e+06 2021-02-10\n",
      "3          1.005903e+06 2021-02-11\n",
      "4          1.011696e+06 2021-02-12\n",
      "..                  ...        ...\n",
      "912        1.885912e+06 2024-09-24\n",
      "913        1.841402e+06 2024-09-25\n",
      "914        1.816078e+06 2024-09-26\n",
      "915        1.860843e+06 2024-09-27\n",
      "916        1.883610e+06 2024-09-30\n",
      "\n",
      "[917 rows x 2 columns]\n"
     ]
    }
   ],
   "source": [
    "# bcrp\n",
    "\n",
    "BCRP_results = {\n",
    "    \"20212024\": {},\n",
    "}\n",
    "\n",
    "environment_ppo.reset()\n",
    "agent_bcrp= DRLStableAgent(env = environment_ppo)\n",
    "model_bcrp= agent_bcrp.get_model(\"bcrp\", None, None)\n",
    "\n",
    "values, dates = DRLStableAgent.DRL_prediction(model_bcrp, environment_ppo)\n",
    "BCRP_results[\"20212024\"][\"value\"] = environment_ppo._terminal_asset_memory[\"final\"]\n",
    "BCRP_results[\"20212024\"][\"date\"] = environment_ppo._terminal_date_memory\n",
    "\n",
    "df_bcrp_opt = pd.DataFrame(BCRP_results[\"20212024\"][\"value\"], columns=['bcrp_opt_net_worth'])\n",
    "df_bcrp_date = pd.DataFrame(BCRP_results[\"20212024\"][\"date\"], columns=['Date'])\n",
    "if len(df_bcrp_opt) == len(df_bcrp_date):\n",
    "    df_bcrp_opt['Date'] = df_bcrp_date['Date']\n",
    "else:\n",
    "    raise ValueError(\"DataFrames do not have the same number of rows.\")\n",
    "\n",
    "print(df_bcrp_opt)\n",
    "\n",
    "\n",
    "# assert the dates line up\n",
    "assert df_opt.loc[0,'Date'] == df_bcrp_opt.loc[0, 'Date']\n",
    "assert df_opt.loc[len(df_date)-1,'Date'] == df_bcrp_opt.loc[len(df_bcrp_opt)-1,'Date']"
   ]
  },
  {
   "cell_type": "markdown",
   "metadata": {},
   "source": [
    "# Stock environment optimization algorithm"
   ]
  },
  {
   "cell_type": "code",
   "execution_count": 32,
   "metadata": {},
   "outputs": [],
   "source": [
    "# from finrl.meta.preprocessor.preprocessors import data_split\n",
    "\n",
    "# Make sure we only test on the same data as the portfolio optimization algorithm\n",
    "# test = data_split(test, opt_start,opt_end)\n"
   ]
  },
  {
   "cell_type": "code",
   "execution_count": 33,
   "metadata": {},
   "outputs": [],
   "source": [
    "# from stable_baselines3 import PPO, TD3, A2C\n",
    "# from finrl.config import TRAINED_MODEL_DIR\n",
    "\n",
    "\n",
    "# # Load the trained models\n",
    "# trained_ppo = PPO.load(TRAINED_MODEL_DIR + \"/agent_ppo\") \n",
    "\n",
    "# trained_td3 = TD3.load(TRAINED_MODEL_DIR + \"/agent_td3\") \n",
    "\n",
    "# trained_a2c = A2C.load(TRAINED_MODEL_DIR + \"/agent_a2c\") "
   ]
  },
  {
   "cell_type": "code",
   "execution_count": 34,
   "metadata": {},
   "outputs": [],
   "source": [
    "# # Test out of sample performance\n",
    "\n",
    "# stock_dimension = len(test.tic.unique())\n",
    "# state_space = 1 + 2 * stock_dimension + len(INDICATORS) * stock_dimension\n",
    "# print(f\"Stock Dimension: {stock_dimension}, State Space: {state_space}\")"
   ]
  },
  {
   "cell_type": "code",
   "execution_count": 35,
   "metadata": {},
   "outputs": [],
   "source": [
    "# buy_cost_list = sell_cost_list = [COMMISSION_FEE_PERCENT] * stock_dimension\n",
    "# num_stock_shares = [0] * stock_dimension\n",
    "\n",
    "# env_kwargs = {\n",
    "#     \"hmax\": 100,\n",
    "#     \"initial_amount\": INITIAL_CASH,\n",
    "#     \"num_stock_shares\": num_stock_shares,\n",
    "#     \"buy_cost_pct\": buy_cost_list,\n",
    "#     \"sell_cost_pct\": sell_cost_list,\n",
    "#     \"state_space\": state_space,\n",
    "#     \"stock_dim\": stock_dimension,\n",
    "#     \"tech_indicator_list\": INDICATORS,\n",
    "#     \"action_space\": stock_dimension,\n",
    "#     \"reward_scaling\": 1e-4\n",
    "# }"
   ]
  },
  {
   "cell_type": "code",
   "execution_count": 36,
   "metadata": {},
   "outputs": [],
   "source": [
    "# e_trade_gym_ppo = StockTradingEnv(df = test, turbulence_threshold = 70, **env_kwargs)\n",
    "\n",
    "# df_account_value_ppo, df_actions_ppo = StockDRLAgent.DRL_prediction(\n",
    "#     model=trained_ppo, \n",
    "#     environment = e_trade_gym_ppo,\n",
    "#     deterministic=True)"
   ]
  },
  {
   "cell_type": "code",
   "execution_count": 37,
   "metadata": {},
   "outputs": [],
   "source": [
    "# df_account_value_ppo.rename(columns={'date': 'Date', 'account_value' : \"ppo_value\"}, inplace=True)\n",
    "# df_account_value_ppo"
   ]
  },
  {
   "cell_type": "code",
   "execution_count": 38,
   "metadata": {},
   "outputs": [],
   "source": [
    "# e_trade_gym_td3 = StockTradingEnv(df = test, turbulence_threshold = 70, **env_kwargs)\n",
    "\n",
    "# df_account_value_td3, df_actions_td3 = StockDRLAgent.DRL_prediction(\n",
    "#     model=trained_td3, \n",
    "#     environment = e_trade_gym_td3)"
   ]
  },
  {
   "cell_type": "code",
   "execution_count": 39,
   "metadata": {},
   "outputs": [],
   "source": [
    "# df_account_value_td3.rename(columns={'date': 'Date', 'account_value' : \"td3_value\"}, inplace=True)\n",
    "# df_account_value_td3"
   ]
  },
  {
   "cell_type": "code",
   "execution_count": 40,
   "metadata": {},
   "outputs": [],
   "source": [
    "\n",
    "# e_trade_gym_a2c = StockTradingEnv(df = test, turbulence_threshold = 70, **env_kwargs)\n",
    "\n",
    "# df_account_value_a2c, df_actions_a2c = StockDRLAgent.DRL_prediction(\n",
    "#     model=trained_a2c, \n",
    "#     environment = e_trade_gym_a2c)\n",
    "\n",
    "# df_account_value_a2c.rename(columns={'date': 'Date', 'account_value' : \"a2c_value\"}, inplace=True)\n",
    "# df_account_value_a2c"
   ]
  },
  {
   "cell_type": "code",
   "execution_count": 41,
   "metadata": {},
   "outputs": [
    {
     "name": "stderr",
     "output_type": "stream",
     "text": [
      "[*********************100%***********************]  1 of 1 completed"
     ]
    },
    {
     "name": "stdout",
     "output_type": "stream",
     "text": [
      "Shape of DataFrame:  (916, 8)\n",
      "Annual return          0.085658\n",
      "Cumulative returns     0.348159\n",
      "Annual volatility      0.142850\n",
      "Sharpe ratio           0.647472\n",
      "Calmar ratio           0.390404\n",
      "Stability              0.338388\n",
      "Max drawdown          -0.219408\n",
      "Omega ratio            1.116763\n",
      "Sortino ratio          0.923348\n",
      "Skew                        NaN\n",
      "Kurtosis                    NaN\n",
      "Tail ratio             0.989221\n",
      "Daily value at risk   -0.017630\n",
      "dtype: float64\n",
      "df_dji:            date           dji\n",
      "0   2021-02-08  1.000000e+06\n",
      "1   2021-02-09  9.996836e+05\n",
      "2   2021-02-10  1.001658e+06\n",
      "3   2021-02-11  1.001432e+06\n",
      "4   2021-02-12  1.002314e+06\n",
      "..         ...           ...\n",
      "912 2024-09-24  1.344821e+06\n",
      "913 2024-09-25  1.335470e+06\n",
      "914 2024-09-26  1.343766e+06\n",
      "915 2024-09-27  1.348159e+06\n",
      "916 2024-09-30           NaN\n",
      "\n",
      "[917 rows x 2 columns]\n",
      "df_dji:                       dji\n",
      "date                    \n",
      "2021-02-08  1.000000e+06\n",
      "2021-02-09  9.996836e+05\n",
      "2021-02-10  1.001658e+06\n",
      "2021-02-11  1.001432e+06\n",
      "2021-02-12  1.002314e+06\n",
      "...                  ...\n",
      "2024-09-24  1.344821e+06\n",
      "2024-09-25  1.335470e+06\n",
      "2024-09-26  1.343766e+06\n",
      "2024-09-27  1.348159e+06\n",
      "2024-09-30           NaN\n",
      "\n",
      "[917 rows x 1 columns]\n"
     ]
    },
    {
     "name": "stderr",
     "output_type": "stream",
     "text": [
      "\n"
     ]
    }
   ],
   "source": [
    "# Pull the DJI results\n",
    "\n",
    "from finrl.plot import backtest_stats, backtest_plot, get_daily_return, get_baseline\n",
    "\n",
    "\n",
    "df_dji_ = get_baseline(\n",
    "        ticker=\"^DJI\",\n",
    "        start = df_date.loc[0,'Date'],\n",
    "        end = df_date.loc[len(df_date)-1,'Date'])\n",
    "\n",
    "stats = backtest_stats(df_dji_, value_col_name = 'close')\n",
    "\n",
    "df_dji = pd.DataFrame()\n",
    "df_dji['date'] = df_date['Date']\n",
    "df_dji['dji'] = df_dji_['close'] / df_dji_['close'][0] * INITIAL_CASH\n",
    "print(\"df_dji: \", df_dji)\n",
    "df_dji.to_csv(\"df_dji.csv\")\n",
    "df_dji = df_dji.set_index(df_dji.columns[0])\n",
    "print(\"df_dji: \", df_dji)\n"
   ]
  },
  {
   "cell_type": "markdown",
   "metadata": {},
   "source": [
    "# Compare all results"
   ]
  },
  {
   "cell_type": "code",
   "execution_count": 42,
   "metadata": {},
   "outputs": [
    {
     "name": "stdout",
     "output_type": "stream",
     "text": [
      "                     dji\n",
      "date                    \n",
      "2021-02-08  1.000000e+06\n",
      "2021-02-09  9.996836e+05\n",
      "2021-02-10  1.001658e+06\n",
      "2021-02-11  1.001432e+06\n",
      "2021-02-12  1.002314e+06\n",
      "...                  ...\n",
      "2024-09-24  1.344821e+06\n",
      "2024-09-25  1.335470e+06\n",
      "2024-09-26  1.343766e+06\n",
      "2024-09-27  1.348159e+06\n",
      "2024-09-30           NaN\n",
      "\n",
      "[917 rows x 1 columns]\n",
      "     crp_opt_net_worth       Date  bcrp_opt_net_worth  bah_opt_net_worth  \\\n",
      "0         1.000000e+06 2021-02-08        1.000000e+06       1.000000e+06   \n",
      "1         9.990959e+05 2021-02-09        9.943157e+05       9.990959e+05   \n",
      "2         1.000379e+06 2021-02-10        1.011368e+06       1.000372e+06   \n",
      "3         1.000992e+06 2021-02-11        1.005903e+06       1.000923e+06   \n",
      "4         1.002442e+06 2021-02-12        1.011696e+06       1.002381e+06   \n",
      "..                 ...        ...                 ...                ...   \n",
      "912       1.359050e+06 2024-09-24        1.885912e+06       1.405648e+06   \n",
      "913       1.352033e+06 2024-09-25        1.841402e+06       1.397635e+06   \n",
      "914       1.360812e+06 2024-09-26        1.816078e+06       1.404048e+06   \n",
      "915       1.368426e+06 2024-09-27        1.860843e+06       1.409409e+06   \n",
      "916       1.367473e+06 2024-09-30        1.883610e+06       1.411162e+06   \n",
      "\n",
      "     olmar_opt_net_worth  rmr_opt_net_worth  bnn_opt_net_worth  opt_net_worth  \\\n",
      "0          1000000.00000     1000000.000000       1000000.0000   1.000000e+06   \n",
      "1           999095.87500      999095.875000       1000000.0000   9.990958e+05   \n",
      "2           989874.25000      989874.250000       1000000.0000   1.000379e+06   \n",
      "3           959374.75000      959374.750000       1000000.0000   1.000992e+06   \n",
      "4           943572.62500      943572.625000       1000000.0000   1.002442e+06   \n",
      "..                   ...                ...                ...            ...   \n",
      "912         463099.46875      203143.843750        767564.3750   1.359052e+06   \n",
      "913         456836.65625      200396.609375        766671.5625   1.352035e+06   \n",
      "914         465016.90625      203984.968750        772747.8750   1.360815e+06   \n",
      "915         470219.40625      206267.109375        763790.1875   1.368428e+06   \n",
      "916         474985.12500      208357.640625        764620.3125   1.367476e+06   \n",
      "\n",
      "     ppo_opt_net_worth           dji  \n",
      "0         1.000000e+06  1.000000e+06  \n",
      "1         9.996333e+05  9.996836e+05  \n",
      "2         1.001850e+06  1.001658e+06  \n",
      "3         1.001856e+06  1.001432e+06  \n",
      "4         1.004148e+06  1.002314e+06  \n",
      "..                 ...           ...  \n",
      "912       1.443542e+06  1.344821e+06  \n",
      "913       1.434583e+06  1.335470e+06  \n",
      "914       1.442857e+06  1.343766e+06  \n",
      "915       1.451681e+06  1.348159e+06  \n",
      "916       1.450846e+06           NaN  \n",
      "\n",
      "[917 rows x 10 columns]\n"
     ]
    }
   ],
   "source": [
    "# Join the online algorithms\n",
    "\n",
    "# bcrp = pd.read_csv('BCRP_net_worth.csv')\n",
    "# crp = pd.read_csv('CRP_net_worth.csv')\n",
    "\n",
    "\n",
    "# Merge the baseline CRP algorithm\n",
    "df_crp_opt['Date'] = pd.to_datetime(df_crp_opt['Date'])\n",
    "merged_df = df_crp_opt\n",
    "\n",
    "# Merge the baseline BCRP algorithm\n",
    "df_bcrp_opt['Date'] = pd.to_datetime(df_bcrp_opt['Date'])\n",
    "merged_df = pd.merge(merged_df, df_bcrp_opt, on='Date')\n",
    "\n",
    "# Merge the baseline BAH algorithm\n",
    "df_bah_opt['Date'] = pd.to_datetime(df_bah_opt['Date'])\n",
    "merged_df = pd.merge(merged_df, df_bah_opt, on='Date')\n",
    "\n",
    "# Merge the baseline OLMAR algorithm\n",
    "df_olmar_opt['Date'] = pd.to_datetime(df_olmar_opt['Date'])\n",
    "merged_df = pd.merge(merged_df, df_olmar_opt, on='Date')\n",
    "\n",
    "# Merge the baseline RMR algorithm\n",
    "df_rmr_opt['Date'] = pd.to_datetime(df_rmr_opt['Date'])\n",
    "merged_df = pd.merge(merged_df, df_rmr_opt, on='Date')\n",
    "\n",
    "# Merge the baseline BNN algorithm\n",
    "df_bnn_opt['Date'] = pd.to_datetime(df_bnn_opt['Date'])\n",
    "merged_df = pd.merge(merged_df, df_bnn_opt, on='Date')\n",
    "\n",
    "# Merge the opt algorithm\n",
    "df_opt['Date'] = pd.to_datetime(df_opt['Date'])\n",
    "merged_df = pd.merge(merged_df, df_opt, on='Date')\n",
    "\n",
    "# Merge the PPO opt algorithm\n",
    "df_ppo_opt['Date'] = pd.to_datetime(df_ppo_opt['Date'])\n",
    "merged_df = pd.merge(merged_df, df_ppo_opt, on='Date')\n",
    "\n",
    "\n",
    "\n",
    "\n",
    "print(df_dji)\n",
    "df_dji = df_dji.reset_index()\n",
    "df_dji.rename(columns={'date': 'Date'}, inplace=True)\n",
    "merged_df = pd.merge(merged_df, df_dji, on='Date')\n",
    "\n",
    "\n",
    "print(merged_df)\n"
   ]
  },
  {
   "cell_type": "markdown",
   "metadata": {},
   "source": [
    "# Baseline CRP in the environment"
   ]
  },
  {
   "cell_type": "code",
   "execution_count": null,
   "metadata": {},
   "outputs": [],
   "source": []
  },
  {
   "cell_type": "code",
   "execution_count": 43,
   "metadata": {},
   "outputs": [
    {
     "data": {
      "image/png": "[encoded data removed]",
      "text/plain": [
       "<Figure size 1400x700 with 1 Axes>"
      ]
     },
     "metadata": {},
     "output_type": "display_data"
    }
   ],
   "source": [
    "# Use the correct backend for Jupyter\n",
    "%matplotlib inline\n",
    "import matplotlib.pyplot as plt\n",
    "\n",
    "# TODO make sure all dates line up, fix CRP and OLMAR \n",
    "\n",
    "# Plot the DataFrame\n",
    "plt.figure(figsize=(14, 7))\n",
    "# plt.plot(merged_df['Date'], merged_df['bcrp_opt_net_worth'], label='BCRP Net Worth')\n",
    "# plt.plot(merged_df['Date'], merged_df['CRP_net_worth'], label='CRP Net Worth')# CRP and Opt net worth are basically on the same line\n",
    "plt.plot(merged_df['Date'], merged_df['crp_opt_net_worth'], label='CRP Net Worth')\n",
    "plt.plot(merged_df['Date'], merged_df['bah_opt_net_worth'], label='BAH Net Worth')\n",
    "plt.plot(merged_df['Date'], merged_df['olmar_opt_net_worth'], label='OLMAR Net Worth')\n",
    "plt.plot(merged_df['Date'], merged_df['rmr_opt_net_worth'], label='RMR Net Worth')\n",
    "plt.plot(merged_df['Date'], merged_df['bnn_opt_net_worth'], label='BNN Net Worth')\n",
    "\n",
    "\n",
    "# plt.plot(merged_df['Date'], merged_df['opt_net_worth'], label='Opt Net Worth')\n",
    "plt.plot(merged_df['Date'], merged_df['ppo_opt_net_worth'], label='PPO Opt Net Worth')\n",
    "# plt.plot(merged_df['Date'], merged_df['ppo_value'], label='PPO Value')\n",
    "# plt.plot(merged_df['Date'], merged_df['td3_value'], label='TD3 Value')\n",
    "# plt.plot(merged_df['Date'], merged_df['a2c_value'], label='A2C Value')\n",
    "plt.plot(merged_df['Date'], merged_df['dji'], label='dji Value')\n",
    "plt.xlabel('Date')\n",
    "plt.ylabel('Net Worth')\n",
    "plt.title('Portfolio Performance Over Time')\n",
    "plt.legend()\n",
    "plt.xticks(rotation=45)\n",
    "plt.grid(True)\n",
    "plt.tight_layout()\n",
    "plt.show()"
   ]
  },
  {
   "cell_type": "code",
   "execution_count": 44,
   "metadata": {},
   "outputs": [
    {
     "name": "stdout",
     "output_type": "stream",
     "text": [
      "{'BAH': 1411161.875,\n",
      " 'BCRP OPT': 1883609.75,\n",
      " 'BNN': 764620.3125,\n",
      " 'CRP': 1367473.125,\n",
      " 'OLMAR': 474985.125,\n",
      " 'PPO': 1450845.625,\n",
      " 'RMR': 208357.640625}\n"
     ]
    }
   ],
   "source": [
    "import pprint\n",
    "\n",
    "final_returns = {\n",
    "   'BCRP OPT': merged_df['bcrp_opt_net_worth'].iloc[-1],\n",
    "    'CRP': merged_df['crp_opt_net_worth'].iloc[-1],\n",
    "    'BAH': merged_df['bah_opt_net_worth'].iloc[-1],\n",
    "    'OLMAR': merged_df['olmar_opt_net_worth'].iloc[-1],\n",
    "    'RMR': merged_df['rmr_opt_net_worth'].iloc[-1],\n",
    "    'BNN': merged_df['bnn_opt_net_worth'].iloc[-1],\n",
    "   'PPO': merged_df['ppo_opt_net_worth'].iloc[-1]\n",
    "}\n",
    "\n",
    "pprint.pprint(final_returns)"
   ]
  },
  {
   "cell_type": "code",
   "execution_count": 45,
   "metadata": {},
   "outputs": [
    {
     "name": "stdout",
     "output_type": "stream",
     "text": [
      "{'BAH OPT': 0.6147458894080647,\n",
      " 'BCRP OPT': 0.7294420339668894,\n",
      " 'BNN': -0.2311455740227036,\n",
      " 'CRP OPT': 0.5344147830291254,\n",
      " 'OLMAR': -0.5414964032902645,\n",
      " 'PPO Opt': 0.6827454131428848,\n",
      " 'RMR': -1.11749594670749}\n"
     ]
    }
   ],
   "source": [
    "import numpy as np\n",
    "import pprint\n",
    "\n",
    "# Calculate the returns each day\n",
    "\n",
    "# merged_df['BCRP_daily_return'] = merged_df['BCRP_net_worth'].pct_change()\n",
    "# merged_df['CRP_daily_return'] = merged_df['CRP_net_worth'].pct_change()\n",
    "merged_df['BCRP_opt_daily_return'] = merged_df['bcrp_opt_net_worth'].pct_change()\n",
    "merged_df['CRP_opt_daily_return'] = merged_df['crp_opt_net_worth'].pct_change()\n",
    "merged_df['BAH_opt_daily_return'] = merged_df['bah_opt_net_worth'].pct_change()\n",
    "merged_df['OLMAR_opt_daily_return'] = merged_df['olmar_opt_net_worth'].pct_change()\n",
    "merged_df['RMR_opt_daily_return'] = merged_df['rmr_opt_net_worth'].pct_change()\n",
    "merged_df['BNN_opt_daily_return'] = merged_df['bnn_opt_net_worth'].pct_change()\n",
    "\n",
    "\n",
    "# merged_df['OLMAR_daily_return'] = merged_df['OLMAR_net_worth'].pct_change()\n",
    "merged_df['opt_daily_return'] = merged_df['opt_net_worth'].pct_change()\n",
    "merged_df['ppo_opt_daily_return'] = merged_df['ppo_opt_net_worth'].pct_change()\n",
    "\n",
    "# TODO need to put in the fama french\n",
    "\n",
    "# Define the risk-free rate (annual, for example, 2%)\n",
    "risk_free_rate = 0.02 / 252  # Convert annual risk-free rate to daily\n",
    "\n",
    "# Define a function to calculate Sharpe ratio adjusted for the risk-free rate\n",
    "def calculate_sharpe_ratio(returns, risk_free_rate):\n",
    "    excess_return = returns - risk_free_rate\n",
    "    mean_excess_return = excess_return.mean()\n",
    "    std_excess_return = excess_return.std()\n",
    "    annual_factor = np.sqrt(252)  # Assuming 252 trading days in a year\n",
    "    sharpe_ratio = annual_factor * mean_excess_return / std_excess_return\n",
    "    return sharpe_ratio\n",
    "\n",
    "# Calculate the Sharpe ratio for each daily return column\n",
    "sharpe_ratios = {\n",
    "    # 'BCRP': calculate_sharpe_ratio(merged_df['BCRP_daily_return'], risk_free_rate),\n",
    "    # 'CRP': calculate_sharpe_ratio(merged_df['CRP_daily_return'], risk_free_rate),\n",
    "    'BCRP OPT': calculate_sharpe_ratio(merged_df['BCRP_opt_daily_return'], risk_free_rate),\n",
    "    'CRP OPT': calculate_sharpe_ratio(merged_df['CRP_opt_daily_return'], risk_free_rate),\n",
    "    'BAH OPT': calculate_sharpe_ratio(merged_df['BAH_opt_daily_return'], risk_free_rate),\n",
    "    'OLMAR': calculate_sharpe_ratio(merged_df['OLMAR_opt_daily_return'], risk_free_rate),\n",
    "    'RMR': calculate_sharpe_ratio(merged_df['RMR_opt_daily_return'], risk_free_rate),\n",
    "    'BNN': calculate_sharpe_ratio(merged_df['BNN_opt_daily_return'], risk_free_rate),\n",
    "    # 'OLMAR old': calculate_sharpe_ratio(merged_df['OLMAR_daily_return'], risk_free_rate),\n",
    "    # 'Opt': calculate_sharpe_ratio(merged_df['opt_daily_return'], risk_free_rate),\n",
    "    'PPO Opt': calculate_sharpe_ratio(merged_df['ppo_opt_daily_return'], risk_free_rate),\n",
    "\n",
    "}\n",
    "\n",
    "pprint.pprint(sharpe_ratios)"
   ]
  },
  {
   "cell_type": "code",
   "execution_count": 46,
   "metadata": {},
   "outputs": [
    {
     "name": "stdout",
     "output_type": "stream",
     "text": [
      "{'BAH Opt': -0.20338043227873082,\n",
      " 'BCRP Opt': -0.24948930739755615,\n",
      " 'BNN Opt': -0.45703517459772824,\n",
      " 'CRP Opt': -0.21710185126917592,\n",
      " 'OLMAR Opt': -0.5869946875000001,\n",
      " 'PPO Opt': -0.17669768722753088,\n",
      " 'RMR Opt': -0.82077453125}\n"
     ]
    }
   ],
   "source": [
    "import pandas as pd\n",
    "import numpy as np\n",
    "\n",
    "# Assuming merged_df is your DataFrame\n",
    "# Calculate the max drawdown for each specified column\n",
    "def max_drawdown(series):\n",
    "    cumulative_returns = series.cummax()\n",
    "    drawdowns = series / cumulative_returns - 1\n",
    "    max_drawdown_value = drawdowns.min()\n",
    "    return max_drawdown_value\n",
    "\n",
    "max_drawdowns = {\n",
    "    # 'BCRP': max_drawdown(merged_df['BCRP_net_worth']),\n",
    "    # 'CRP': max_drawdown(merged_df['CRP_net_worth']),\n",
    "    'BCRP Opt': max_drawdown(merged_df['bcrp_opt_net_worth']),\n",
    "    'CRP Opt': max_drawdown(merged_df['crp_opt_net_worth']),\n",
    "    'BAH Opt': max_drawdown(merged_df['bah_opt_net_worth']),\n",
    "    'OLMAR Opt': max_drawdown(merged_df['olmar_opt_net_worth']),\n",
    "    'RMR Opt': max_drawdown(merged_df['rmr_opt_net_worth']),\n",
    "    'BNN Opt': max_drawdown(merged_df['bnn_opt_net_worth']),\n",
    "    # 'Opt': max_drawdown(merged_df['opt_net_worth']),\n",
    "    'PPO Opt': max_drawdown(merged_df['ppo_opt_net_worth']),\n",
    "}\n",
    "\n",
    "pprint.pprint(max_drawdowns)\n"
   ]
  },
  {
   "cell_type": "code",
   "execution_count": 47,
   "metadata": {},
   "outputs": [
    {
     "name": "stdout",
     "output_type": "stream",
     "text": [
      "                 sum_sq      df         F    PR(>F)\n",
      "Portfolio  3.755861e-07     1.0  0.005168  0.942699\n",
      "Residual   1.330013e-01  1830.0       NaN       NaN\n"
     ]
    }
   ],
   "source": [
    "import pandas as pd\n",
    "import numpy as np\n",
    "import statsmodels.api as sm\n",
    "from statsmodels.formula.api import ols\n",
    "\n",
    "\n",
    "# TODO can we do a statisitical significance test with anova here?\n",
    "ANOVA_cols = ['ppo_opt_daily_return', 'BAH_opt_daily_return']\n",
    "cols = ['Date',] + ANOVA_cols\n",
    "\n",
    "\n",
    "df_selected = merged_df[cols]\n",
    "\n",
    "# Assuming merged_df is your DataFrame and daily returns have already been calculated\n",
    "# Combine all return columns into one DataFrame for ANOVA\n",
    "returns_long = df_selected.melt(\n",
    "    id_vars=['Date'], \n",
    "    value_vars=ANOVA_cols,\n",
    "    var_name='Portfolio', \n",
    "    value_name='Daily_Return'\n",
    ")\n",
    "\n",
    "# Remove any NaN values created by pct_change()\n",
    "returns_long.dropna(inplace=True)\n",
    "\n",
    "# Perform ANOVA\n",
    "model = ols('Daily_Return ~ Portfolio', data=returns_long).fit()\n",
    "anova_result = sm.stats.anova_lm(model, typ=2)\n",
    "\n",
    "# Display the summary of the ANOVA\n",
    "pprint.pprint(anova_result)\n",
    "\n",
    "# The results do seem to be statisitcally significant\n"
   ]
  },
  {
   "cell_type": "code",
   "execution_count": 48,
   "metadata": {},
   "outputs": [
    {
     "data": {
      "text/plain": [
       "0           NaN\n",
       "1     -0.000367\n",
       "2      0.002217\n",
       "3      0.000006\n",
       "4      0.002288\n",
       "         ...   \n",
       "912   -0.000315\n",
       "913   -0.006206\n",
       "914    0.005768\n",
       "915    0.006115\n",
       "916   -0.000575\n",
       "Name: ppo_opt_daily_return, Length: 917, dtype: float64"
      ]
     },
     "execution_count": 48,
     "metadata": {},
     "output_type": "execute_result"
    }
   ],
   "source": [
    "merged_df['ppo_opt_daily_return']"
   ]
  },
  {
   "cell_type": "code",
   "execution_count": 49,
   "metadata": {},
   "outputs": [
    {
     "name": "stdout",
     "output_type": "stream",
     "text": [
      "1     -0.000904\n",
      "2      0.001277\n",
      "3      0.000551\n",
      "4      0.001457\n",
      "5      0.001007\n",
      "         ...   \n",
      "912    0.001463\n",
      "913   -0.005701\n",
      "914    0.004588\n",
      "915    0.003819\n",
      "916    0.001244\n",
      "Name: BAH_opt_daily_return, Length: 916, dtype: float64\n",
      "t-statistic: 0.07188732967899224\n",
      "p-value: 0.9426994288054833\n"
     ]
    }
   ],
   "source": [
    "from scipy import stats\n",
    "\n",
    "df_ppo = merged_df['ppo_opt_daily_return'].dropna() \n",
    "df_bah = merged_df['BAH_opt_daily_return'].dropna()\n",
    "\n",
    "print(df_bah)\n",
    "\n",
    "t_stat, p_value = stats.ttest_ind(df_ppo, df_bah) \n",
    "\n",
    "print(f\"t-statistic: {t_stat}\") \n",
    "print(f\"p-value: {p_value}\")"
   ]
  }
 ],
 "metadata": {
  "kernelspec": {
   "display_name": ".venv",
   "language": "python",
   "name": "python3"
  },
  "language_info": {
   "codemirror_mode": {
    "name": "ipython",
    "version": 3
   },
   "file_extension": ".py",
   "mimetype": "text/x-python",
   "name": "python",
   "nbconvert_exporter": "python",
   "pygments_lexer": "ipython3",
   "version": "3.10.0"
  }
 },
 "nbformat": 4,
 "nbformat_minor": 2
}
