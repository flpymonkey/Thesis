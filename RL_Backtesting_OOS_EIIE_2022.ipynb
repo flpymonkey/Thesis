{
 "cells": [
  {
   "cell_type": "code",
   "execution_count": 45,
   "metadata": {},
   "outputs": [
    {
     "name": "stderr",
     "output_type": "stream",
     "text": [
      "[*********************100%***********************]  1 of 1 completed"
     ]
    },
    {
     "name": "stderr",
     "output_type": "stream",
     "text": [
      "\n",
      "[*********************100%***********************]  1 of 1 completed\n",
      "[*********************100%***********************]  1 of 1 completed\n",
      "[*********************100%***********************]  1 of 1 completed\n",
      "[*********************100%***********************]  1 of 1 completed\n",
      "[*********************100%***********************]  1 of 1 completed"
     ]
    },
    {
     "name": "stdout",
     "output_type": "stream",
     "text": [
      "Shape of DataFrame:  (1500, 8)\n"
     ]
    },
    {
     "name": "stderr",
     "output_type": "stream",
     "text": [
      "\n"
     ]
    }
   ],
   "source": [
    "import pandas as pd\n",
    "from stable_baselines3.common.logger import configure\n",
    "\n",
    "from finrl.agents.stablebaselines3.models import DRLAgent as StockDRLAgent\n",
    "from finrl.agents.portfolio_optimization.models import DRLAgent as OptDRLAgent\n",
    "from finrl.agents.portfolio_optimization.models_stable import DRLStableAgent\n",
    "\n",
    "from finrl.config import TRAINED_MODEL_DIR, RESULTS_DIR\n",
    "from finrl.main import check_and_make_directories\n",
    "from finrl.meta.env_stock_trading.env_stocktrading import StockTradingEnv\n",
    "\n",
    "import numpy as np\n",
    "\n",
    "\n",
    "TIME_WINDOW = 50\n",
    "COMMISSION_FEE_PERCENT = 0.001\n",
    "INITIAL_CASH = 1000000\n",
    "\n",
    "TRAIN_START_DATE = '2009-04-01'\n",
    "TRAIN_END_DATE = '2022-12-31'\n",
    "TEST_START_DATE = '2023-01-01'\n",
    "TEST_END_DATE = '2024-01-01'\n",
    "\n",
    "\n",
    "GRAPH_TITLE = \"EIIE Trained 2009-2021, 40 episodes\"\n",
    "\n",
    "# Backtest the results\n",
    "\n",
    "from finrl.meta.preprocessor.yahoodownloader import YahooDownloader\n",
    "\n",
    "TEST_TICKER = [\n",
    "   \"MSFT\",\n",
    "    \"V\",\n",
    "    \"AAPL\",\n",
    "    \"BA\",\n",
    "    \"INTC\",\n",
    "    \"WMT\",\n",
    "]\n",
    "\n",
    "PORT = TEST_TICKER\n",
    "\n",
    "df = YahooDownloader(start_date = TEST_START_DATE,\n",
    "                     end_date = TEST_END_DATE,\n",
    "                     ticker_list = PORT).fetch_data()\n",
    "\n",
    "processed = df.copy()\n",
    "processed = processed.fillna(0)\n",
    "processed_test = processed.replace(np.inf,0)"
   ]
  },
  {
   "cell_type": "markdown",
   "metadata": {},
   "source": [
    "# Portfolio Optimization Algorithm"
   ]
  },
  {
   "cell_type": "code",
   "execution_count": 46,
   "metadata": {},
   "outputs": [
    {
     "name": "stderr",
     "output_type": "stream",
     "text": [
      "c:\\Users\\bencj\\Desktop\\Econ4\\Thesis\\.venv\\lib\\site-packages\\finrl\\meta\\preprocessor\\preprocessors.py:101: FutureWarning: Setting an item of incompatible dtype is deprecated and will raise an error in a future version of pandas. Value '[0.72635049 0.57732028 0.52451488 0.56851668 0.45861647 0.41394997\n",
      " 0.44998779 0.462431   0.37451873 0.41233294 0.45137353 0.37756815\n",
      " 0.51972663 0.52968211 0.43039817 0.42627916 0.35051857 0.45709403\n",
      " 0.41472156 0.42676634 0.50314174 0.76665632 1.         0.45257529\n",
      " 0.53980343 0.4154005  0.36284063 0.37219296 0.4029547  0.39977118\n",
      " 0.42481826 0.44162408 0.38316361 0.38136972 0.33047546 0.31352064\n",
      " 0.35935845 0.29152168 0.32746751 0.35941935 0.33842326 0.45823748\n",
      " 0.56724237 0.36397372 0.30581514 0.34875966 0.44424462 0.54715326\n",
      " 0.47743709 0.49993036 0.49340783 0.64101018 0.47708401 0.47900747\n",
      " 0.49043226 0.43808812 0.38350308 0.33940928 0.29795934 0.33238273\n",
      " 0.32069556 0.4453939  0.36911892 0.29981284 0.33371729 0.29405865\n",
      " 0.30913277 0.30866179 0.32478606 0.44342315 0.31994923 0.26896169\n",
      " 0.32342494 0.30915415 0.33983751 0.37793677 0.27176946 0.31559311\n",
      " 0.29476287 0.42046797 0.35767145 0.3399444  0.31372472 0.42198199\n",
      " 0.52628156 0.73411753 0.36255363 0.29364922 0.34805286 0.32077978\n",
      " 0.29475639 0.24143141 0.27281055 0.37543803 0.42431877 0.36132013\n",
      " 0.28227301 0.32876514 0.29246106 0.36317233 0.35524721 0.362564\n",
      " 0.64542007 0.44637863 0.401315   0.79002742 0.42011878 0.40130658\n",
      " 0.325316   0.31660764 0.35161861 0.35585683 0.37227199 0.42390739\n",
      " 0.65585236 0.32262225 0.32078625 0.33199143 0.34387295 0.31154147\n",
      " 0.32865825 0.33180679 0.30025985 0.55112133 0.20380118 0.30397202\n",
      " 0.29214232 0.30305013 0.38820451 0.30214379 0.39356869 0.26783508\n",
      " 0.2693355  0.32729388 0.31325891 0.52156458 0.38599535 0.46591771\n",
      " 0.29397897 0.2415383  0.30754555 0.30746975 0.31285466 0.25152098\n",
      " 0.22788103 0.32644585 0.39671075 0.75020553 0.63214438 0.43938965\n",
      " 0.39116064 0.35428775 0.33680364 0.28295131 0.28260795 0.30426096\n",
      " 0.42798688 0.39592685 0.30003051 0.27264146 0.34156337 0.35596502\n",
      " 0.33331498 0.28389134 0.34338447 0.39398137 0.39385568 0.29627753\n",
      " 0.29334537 0.52965295 0.72875594 0.4246725  0.38192622 0.58546113\n",
      " 0.54592753 0.39451195 0.70748257 0.43572672 0.33575931 0.3785775\n",
      " 0.40845428 0.36749412 0.29912871 0.41843761 0.43355125 0.3647019\n",
      " 0.33567703 0.33794644 0.32129741 0.34349072 0.31438682 0.37072493\n",
      " 0.27462776 0.28309643 0.30805864 0.36760879 0.33316921 0.3402301\n",
      " 0.37283238 0.35478983 0.38419239 0.41584881 0.36266571 0.28386477\n",
      " 0.37029023 0.45754428 0.37898499 0.33125094 0.29053372 0.36885136\n",
      " 0.50101161 0.51674718 0.4135943  0.45692688 0.31964993 0.34830552\n",
      " 0.42844362 0.28263969 0.3894108  0.34848044 0.35251264 0.32990147\n",
      " 0.30128216 0.24705343 0.2566623  0.15579632 0.26271903 0.24887323\n",
      " 0.27866644 0.31611333 0.29593223 0.28109782 0.43165046 0.26619862\n",
      " 0.30758312 0.34580354 0.39482227 0.34139558 0.45611189 0.43296689\n",
      " 0.8309079  0.36118732 0.2637653  0.3384537  0.30113574 0.24049915\n",
      " 0.18735298 0.31153499 0.22059145 0.27616964]' has dtype incompatible with int64, please explicitly cast to a compatible dtype first.\n",
      "  X.loc[select_mask, self.columns] = self.scalers[value].transform(\n",
      "c:\\Users\\bencj\\Desktop\\Econ4\\Thesis\\.venv\\lib\\site-packages\\finrl\\meta\\preprocessor\\preprocessors.py:101: FutureWarning: Setting an item of incompatible dtype is deprecated and will raise an error in a future version of pandas. Value '[0.25 0.5  0.75 1.   0.   0.25 0.5  0.75 1.   0.25 0.5  0.75 1.   0.\n",
      " 0.25 0.5  0.75 1.   0.   0.25 0.5  0.75 1.   0.   0.25 0.5  0.75 1.\n",
      " 0.   0.25 0.5  0.75 1.   0.25 0.5  0.75 1.   0.   0.25 0.5  0.75 1.\n",
      " 0.   0.25 0.5  0.75 1.   0.   0.25 0.5  0.75 1.   0.   0.25 0.5  0.75\n",
      " 1.   0.   0.25 0.5  0.75 1.   0.   0.25 0.5  0.75 0.   0.25 0.5  0.75\n",
      " 1.   0.   0.25 0.5  0.75 1.   0.   0.25 0.5  0.75 1.   0.   0.25 0.5\n",
      " 0.75 1.   0.   0.25 0.5  0.75 1.   0.   0.25 0.5  0.75 1.   0.   0.25\n",
      " 0.5  0.75 1.   0.25 0.5  0.75 1.   0.   0.25 0.5  0.75 1.   0.   0.25\n",
      " 0.5  0.75 1.   0.25 0.5  0.75 1.   0.   0.25 0.5  0.75 1.   0.   0.5\n",
      " 0.75 1.   0.   0.25 0.5  0.75 1.   0.   0.25 0.5  0.75 1.   0.   0.25\n",
      " 0.5  0.75 1.   0.   0.25 0.5  0.75 1.   0.   0.25 0.5  0.75 1.   0.\n",
      " 0.25 0.5  0.75 1.   0.   0.25 0.5  0.75 1.   0.   0.25 0.5  0.75 1.\n",
      " 0.25 0.5  0.75 1.   0.   0.25 0.5  0.75 1.   0.   0.25 0.5  0.75 1.\n",
      " 0.   0.25 0.5  0.75 1.   0.   0.25 0.5  0.75 1.   0.   0.25 0.5  0.75\n",
      " 1.   0.   0.25 0.5  0.75 1.   0.   0.25 0.5  0.75 1.   0.   0.25 0.5\n",
      " 0.75 1.   0.   0.25 0.5  0.75 1.   0.   0.25 0.5  0.75 1.   0.   0.25\n",
      " 0.5  1.   0.   0.25 0.5  0.75 1.   0.   0.25 0.5  0.75 1.   0.   0.25\n",
      " 0.5  0.75 1.   0.   0.25 0.5  0.75 1.   0.25 0.5  0.75 1.  ]' has dtype incompatible with int32, please explicitly cast to a compatible dtype first.\n",
      "  X.loc[select_mask, self.columns] = self.scalers[value].transform(\n"
     ]
    }
   ],
   "source": [
    "from finrl.meta.env_portfolio_optimization.env_portfolio_optimization import PortfolioOptimizationEnv\n",
    "\n",
    "\n",
    "# Fit for the portfolio optimization model\n",
    "\n",
    "from sklearn.preprocessing import MaxAbsScaler\n",
    "from finrl.meta.preprocessor.preprocessors import GroupByScaler\n",
    "\n",
    "portfolio_norm_df = GroupByScaler(by=\"tic\", scaler=MaxAbsScaler).fit_transform(processed_test)\n",
    "portfolio_norm_df\n",
    "\n",
    "\n",
    "environment = PortfolioOptimizationEnv(\n",
    "    portfolio_norm_df,\n",
    "    initial_amount=INITIAL_CASH,\n",
    "    comission_fee_pct=COMMISSION_FEE_PERCENT,\n",
    "    time_window=TIME_WINDOW,\n",
    "    features=[\"close\", \"high\", \"low\"],\n",
    "    normalize_df=None\n",
    ")"
   ]
  },
  {
   "cell_type": "code",
   "execution_count": 47,
   "metadata": {},
   "outputs": [
    {
     "name": "stderr",
     "output_type": "stream",
     "text": [
      "C:\\Users\\bencj\\AppData\\Local\\Temp\\ipykernel_22336\\3689674925.py:22: FutureWarning: You are using `torch.load` with `weights_only=False` (the current default value), which uses the default pickle module implicitly. It is possible to construct malicious pickle data which will execute arbitrary code during unpickling (See https://github.com/pytorch/pytorch/blob/main/SECURITY.md#untrusted-models for more details). In a future release, the default value for `weights_only` will be flipped to `True`. This limits the functions that could be executed during unpickling. Arbitrary objects will no longer be allowed to be loaded via this mode unless they are explicitly allowlisted by the user via `torch.serialization.add_safe_globals`. We recommend you start setting `weights_only=True` for any use case where you don't have full control of the loaded file. Please open an issue on GitHub for any issues related to this experimental feature.\n",
      "  policy.load_state_dict(torch.load(\"policy_EIIE_2022.pt\"))\n"
     ]
    },
    {
     "data": {
      "text/plain": [
       "<All keys matched successfully>"
      ]
     },
     "execution_count": 47,
     "metadata": {},
     "output_type": "execute_result"
    }
   ],
   "source": [
    "import torch\n",
    "from finrl.agents.portfolio_optimization.architectures import EIIE\n",
    "\n",
    "device = 'cuda:0' if torch.cuda.is_available() else 'cpu'\n",
    "\n",
    "# set PolicyGradient parameters\n",
    "model_kwargs = {\n",
    "    \"lr\": 0.01,\n",
    "    \"policy\": EIIE,\n",
    "}\n",
    "\n",
    "# here, we can set EIIE's parameters\n",
    "policy_kwargs = {\n",
    "    \"k_size\": 3,\n",
    "    \"time_window\": TIME_WINDOW,\n",
    "}\n",
    "\n",
    "\n",
    "# instantiate an architecture with the same arguments used in training\n",
    "# and load with load_state_dict.\n",
    "policy = EIIE(time_window=TIME_WINDOW, device=device)\n",
    "policy.load_state_dict(torch.load(\"policy_EIIE_2022.pt\"))"
   ]
  },
  {
   "cell_type": "code",
   "execution_count": 48,
   "metadata": {},
   "outputs": [
    {
     "name": "stdout",
     "output_type": "stream",
     "text": [
      "=================================\n",
      "Initial portfolio value:1000000\n",
      "Final portfolio value: 1696821.5\n",
      "Final accumulative portfolio value: 1.6968215\n",
      "Maximum DrawDown: -0.16881587253767227\n",
      "Sharpe ratio: 1.9472907920609728\n",
      "=================================\n"
     ]
    }
   ],
   "source": [
    "EIIE_results = {\n",
    "    \"test\": {},\n",
    "}\n",
    "\n",
    "# 2021 - 2024\n",
    "# Initialize the model\n",
    "model = OptDRLAgent(environment).get_model(\"pg\", device, model_kwargs, policy_kwargs)\n",
    "OptDRLAgent.DRL_validation(model, environment, policy=policy)\n",
    "EIIE_results[\"test\"][\"value\"] = environment._asset_memory[\"final\"]\n",
    "EIIE_results[\"test\"][\"date\"] = environment._date_memory\n",
    "\n",
    "\n",
    "\n",
    "# Write this out to a csv file, with date and net worth\n",
    "df_opt = pd.DataFrame(EIIE_results[\"test\"][\"value\"], columns=['eiie_net_worth'])\n",
    "df_date = pd.DataFrame(EIIE_results[\"test\"][\"date\"], columns=['Date'])\n",
    "if len(df_opt) == len(df_date):\n",
    "    df_opt['Date'] = df_date['Date']\n",
    "else:\n",
    "    raise ValueError(\"DataFrames do not have the same number of rows.\")\n",
    "\n",
    "\n",
    "# The optimization algoirhtm has a shorter window than the full df, so shorted this for the follow algorithm\n",
    "opt_start = df_opt.loc[0,'Date']\n"
   ]
  },
  {
   "cell_type": "code",
   "execution_count": 49,
   "metadata": {},
   "outputs": [
    {
     "name": "stdout",
     "output_type": "stream",
     "text": [
      "     eiie_net_worth       Date\n",
      "0      1.000000e+06 2023-03-15\n",
      "1      1.062300e+06 2023-03-16\n",
      "2      1.049277e+06 2023-03-17\n",
      "3      1.026398e+06 2023-03-20\n",
      "4      1.001760e+06 2023-03-21\n",
      "..              ...        ...\n",
      "196    1.677056e+06 2023-12-22\n",
      "197    1.709767e+06 2023-12-26\n",
      "198    1.709176e+06 2023-12-27\n",
      "199    1.697212e+06 2023-12-28\n",
      "200    1.696822e+06 2023-12-29\n",
      "\n",
      "[201 rows x 2 columns]\n"
     ]
    }
   ],
   "source": [
    "print(df_opt)"
   ]
  },
  {
   "cell_type": "code",
   "execution_count": 50,
   "metadata": {},
   "outputs": [
    {
     "name": "stdout",
     "output_type": "stream",
     "text": [
      "2023-03-15 00:00:00\n",
      "2023-12-29 00:00:00\n"
     ]
    }
   ],
   "source": [
    "opt_end = df_opt.loc[len(df_date)-1,'Date']\n",
    "\n",
    "print(opt_start)\n",
    "opt_start = opt_start.strftime('%Y-%m-%d %H:%M:%S')\n",
    "\n",
    "\n",
    "print(opt_end)\n",
    "opt_end = opt_end.strftime('%Y-%m-%d %H:%M:%S')"
   ]
  },
  {
   "cell_type": "code",
   "execution_count": 51,
   "metadata": {},
   "outputs": [],
   "source": [
    "from sklearn.preprocessing import MaxAbsScaler\n",
    "from finrl.meta.preprocessor.preprocessors import GroupByScaler\n",
    "\n",
    "from finrl.meta.preprocessor.preprocessors import data_split\n",
    "\n",
    "from datetime import datetime, timedelta\n",
    "# Make sure dates line up\n",
    "# Make sure we only test on the same data as the portfolio optimization algorithm\n",
    "# Convert to datetime\n",
    "opt_start_date = datetime.strptime(opt_start, '%Y-%m-%d %H:%M:%S')\n",
    "\n",
    "# Subtract one day\n",
    "new_opt_start_date = opt_start_date - timedelta(days=1)\n",
    "\n",
    "# Convert back to string\n",
    "new_opt_start_str = new_opt_start_date.strftime('%Y-%m-%d %H:%M:%S')\n",
    "\n",
    "test = data_split(portfolio_norm_df, new_opt_start_str,opt_end)\n",
    "\n",
    "\n",
    "portfolio_norm_df = GroupByScaler(by=\"tic\", scaler=MaxAbsScaler).fit_transform(test)\n",
    "portfolio_norm_df\n",
    "\n",
    "\n",
    "environment_benchmarks = PortfolioOptimizationEnv(\n",
    "    portfolio_norm_df,\n",
    "    initial_amount=INITIAL_CASH,\n",
    "    comission_fee_pct=COMMISSION_FEE_PERCENT,\n",
    "    # time_window=TIME_WINDOW,\n",
    "    features=[\"close\", \"high\", \"low\"],\n",
    "    normalize_df=None\n",
    ")"
   ]
  },
  {
   "cell_type": "markdown",
   "metadata": {},
   "source": [
    "# Porfolio Baselines"
   ]
  },
  {
   "cell_type": "code",
   "execution_count": 52,
   "metadata": {},
   "outputs": [
    {
     "name": "stderr",
     "output_type": "stream",
     "text": [
      "c:\\Users\\bencj\\Desktop\\Econ4\\Thesis\\.venv\\lib\\site-packages\\stable_baselines3\\common\\vec_env\\patch_gym.py:49: UserWarning: You provided an OpenAI Gym environment. We strongly recommend transitioning to Gymnasium environments. Stable-Baselines3 is automatically wrapping your environments in a compatibility layer, which could potentially cause issues.\n",
      "  warnings.warn(\n"
     ]
    },
    {
     "name": "stdout",
     "output_type": "stream",
     "text": [
      "=================================\n",
      "Initial portfolio value:1000000\n",
      "Final portfolio value: 1361741.375\n",
      "Final accumulative portfolio value: 1.361741375\n",
      "Maximum DrawDown: -0.09201468512042643\n",
      "Sharpe ratio: 2.8175617466811453\n",
      "=================================\n",
      "hit end!\n",
      "     crp_opt_net_worth       Date\n",
      "0         1.000000e+06 2023-03-15\n",
      "1         1.024328e+06 2023-03-16\n",
      "2         1.022820e+06 2023-03-17\n",
      "3         1.022926e+06 2023-03-20\n",
      "4         1.024155e+06 2023-03-21\n",
      "..                 ...        ...\n",
      "196       1.348238e+06 2023-12-22\n",
      "197       1.361657e+06 2023-12-26\n",
      "198       1.363903e+06 2023-12-27\n",
      "199       1.362808e+06 2023-12-28\n",
      "200       1.361741e+06 2023-12-29\n",
      "\n",
      "[201 rows x 2 columns]\n"
     ]
    }
   ],
   "source": [
    "# CRP \n",
    "\n",
    "CRP_results = {\n",
    "    \"test\": {},\n",
    "}\n",
    "\n",
    "environment_benchmarks.reset()\n",
    "agent_crp = DRLStableAgent(env = environment_benchmarks)\n",
    "model_crp = agent_crp.get_model(\"crp\", None, None)\n",
    "\n",
    "values, dates = DRLStableAgent.DRL_prediction(model_crp, environment_benchmarks)\n",
    "CRP_results[\"test\"][\"value\"] = environment_benchmarks._terminal_asset_memory[\"final\"]\n",
    "CRP_results[\"test\"][\"date\"] = environment_benchmarks._terminal_date_memory\n",
    "\n",
    "df_crp_opt = pd.DataFrame(CRP_results[\"test\"][\"value\"], columns=['crp_opt_net_worth'])\n",
    "df_crp_date = pd.DataFrame(CRP_results[\"test\"][\"date\"], columns=['Date'])\n",
    "if len(df_crp_opt) == len(df_crp_date):\n",
    "    df_crp_opt['Date'] = df_crp_date['Date']\n",
    "else:\n",
    "    raise ValueError(\"DataFrames do not have the same number of rows.\")\n",
    "\n",
    "print(df_crp_opt)\n",
    "\n",
    "\n",
    "# assert the dates line up\n",
    "assert df_opt.loc[0,'Date'] == df_crp_opt.loc[0, 'Date']\n",
    "assert df_opt.loc[len(df_date)-1,'Date'] == df_crp_opt.loc[len(df_crp_opt)-1,'Date']"
   ]
  },
  {
   "cell_type": "code",
   "execution_count": 53,
   "metadata": {},
   "outputs": [
    {
     "name": "stderr",
     "output_type": "stream",
     "text": [
      "c:\\Users\\bencj\\Desktop\\Econ4\\Thesis\\.venv\\lib\\site-packages\\stable_baselines3\\common\\vec_env\\patch_gym.py:49: UserWarning: You provided an OpenAI Gym environment. We strongly recommend transitioning to Gymnasium environments. Stable-Baselines3 is automatically wrapping your environments in a compatibility layer, which could potentially cause issues.\n",
      "  warnings.warn(\n"
     ]
    },
    {
     "name": "stdout",
     "output_type": "stream",
     "text": [
      "=================================\n",
      "Initial portfolio value:1000000\n",
      "Final portfolio value: 1358192.625\n",
      "Final accumulative portfolio value: 1.358192625\n",
      "Maximum DrawDown: -0.09230985286413362\n",
      "Sharpe ratio: 2.759557128228324\n",
      "=================================\n",
      "hit end!\n",
      "     bah_opt_net_worth       Date\n",
      "0         1.000000e+06 2023-03-15\n",
      "1         1.024328e+06 2023-03-16\n",
      "2         1.022756e+06 2023-03-17\n",
      "3         1.022548e+06 2023-03-20\n",
      "4         1.023755e+06 2023-03-21\n",
      "..                 ...        ...\n",
      "196       1.342211e+06 2023-12-22\n",
      "197       1.358738e+06 2023-12-26\n",
      "198       1.361040e+06 2023-12-27\n",
      "199       1.359372e+06 2023-12-28\n",
      "200       1.358193e+06 2023-12-29\n",
      "\n",
      "[201 rows x 2 columns]\n"
     ]
    }
   ],
   "source": [
    "# BAH\n",
    "\n",
    "BAH_results = {\n",
    "    \"test\": {},\n",
    "}\n",
    "\n",
    "environment_benchmarks.reset()\n",
    "agent_bah = DRLStableAgent(env = environment_benchmarks)\n",
    "model_bah = agent_bah.get_model(\"bah\", None, None)\n",
    "\n",
    "values, dates = DRLStableAgent.DRL_prediction(model_bah, environment_benchmarks)\n",
    "BAH_results[\"test\"][\"value\"] = environment_benchmarks._terminal_asset_memory[\"final\"]\n",
    "BAH_results[\"test\"][\"date\"] = environment_benchmarks._terminal_date_memory\n",
    "\n",
    "df_bah_opt = pd.DataFrame(BAH_results[\"test\"][\"value\"], columns=['bah_opt_net_worth'])\n",
    "df_bah_date = pd.DataFrame(BAH_results[\"test\"][\"date\"], columns=['Date'])\n",
    "if len(df_bah_opt) == len(df_bah_date):\n",
    "    df_bah_opt['Date'] = df_bah_date['Date']\n",
    "else:\n",
    "    raise ValueError(\"DataFrames do not have the same number of rows.\")\n",
    "\n",
    "print(df_bah_opt)\n",
    "\n",
    "\n",
    "# assert the dates line up\n",
    "assert df_opt.loc[0,'Date'] == df_bah_opt.loc[0, 'Date']\n",
    "assert df_opt.loc[len(df_date)-1,'Date'] == df_bah_opt.loc[len(df_bah_opt)-1,'Date']"
   ]
  },
  {
   "cell_type": "code",
   "execution_count": 54,
   "metadata": {},
   "outputs": [
    {
     "name": "stderr",
     "output_type": "stream",
     "text": [
      "c:\\Users\\bencj\\Desktop\\Econ4\\Thesis\\.venv\\lib\\site-packages\\stable_baselines3\\common\\vec_env\\patch_gym.py:49: UserWarning: You provided an OpenAI Gym environment. We strongly recommend transitioning to Gymnasium environments. Stable-Baselines3 is automatically wrapping your environments in a compatibility layer, which could potentially cause issues.\n",
      "  warnings.warn(\n"
     ]
    },
    {
     "name": "stdout",
     "output_type": "stream",
     "text": [
      "=================================\n",
      "Initial portfolio value:1000000\n",
      "Final portfolio value: 1045352.5625\n",
      "Final accumulative portfolio value: 1.0453525625\n",
      "Maximum DrawDown: -0.2846943077001418\n",
      "Sharpe ratio: 0.34155953989177634\n",
      "=================================\n",
      "hit end!\n",
      "     olmar_opt_net_worth       Date\n",
      "0           1.000000e+06 2023-03-15\n",
      "1           1.024328e+06 2023-03-16\n",
      "2           1.010097e+06 2023-03-17\n",
      "3           9.821030e+05 2023-03-20\n",
      "4           9.798046e+05 2023-03-21\n",
      "..                   ...        ...\n",
      "196         1.046309e+06 2023-12-22\n",
      "197         1.043336e+06 2023-12-26\n",
      "198         1.043877e+06 2023-12-27\n",
      "199         1.046201e+06 2023-12-28\n",
      "200         1.045353e+06 2023-12-29\n",
      "\n",
      "[201 rows x 2 columns]\n"
     ]
    }
   ],
   "source": [
    "# OLMAR\n",
    "\n",
    "OLMAR_results = {\n",
    "    \"test\": {},\n",
    "}\n",
    "\n",
    "# OLMAR_model_kwargs = {\n",
    "#     \"eps\": 60,\n",
    "#     \"window\": 100\n",
    "# }\n",
    "\n",
    "\n",
    "environment_benchmarks.reset()\n",
    "agent_olmar = DRLStableAgent(env = environment_benchmarks)\n",
    "model_olmar = agent_olmar.get_model(\"olmar\", model_kwargs=None)\n",
    "\n",
    "values, dates = DRLStableAgent.DRL_prediction(model_olmar, environment_benchmarks)\n",
    "OLMAR_results[\"test\"][\"value\"] = environment_benchmarks._terminal_asset_memory[\"final\"]\n",
    "OLMAR_results[\"test\"][\"date\"] = environment_benchmarks._terminal_date_memory\n",
    "\n",
    "df_olmar_opt = pd.DataFrame(OLMAR_results[\"test\"][\"value\"], columns=['olmar_opt_net_worth'])\n",
    "df_olmar_date = pd.DataFrame(OLMAR_results[\"test\"][\"date\"], columns=['Date'])\n",
    "if len(df_olmar_opt) == len(df_olmar_date):\n",
    "    df_olmar_opt['Date'] = df_olmar_date['Date']\n",
    "else:\n",
    "    raise ValueError(\"DataFrames do not have the same number of rows.\")\n",
    "\n",
    "print(df_olmar_opt)\n",
    "\n",
    "\n",
    "# assert the dates line up\n",
    "assert df_opt.loc[0,'Date'] == df_olmar_opt.loc[0, 'Date']\n",
    "assert df_opt.loc[len(df_date)-1,'Date'] == df_olmar_opt.loc[len(df_olmar_opt)-1,'Date']"
   ]
  },
  {
   "cell_type": "code",
   "execution_count": 55,
   "metadata": {},
   "outputs": [
    {
     "name": "stderr",
     "output_type": "stream",
     "text": [
      "c:\\Users\\bencj\\Desktop\\Econ4\\Thesis\\.venv\\lib\\site-packages\\stable_baselines3\\common\\vec_env\\patch_gym.py:49: UserWarning: You provided an OpenAI Gym environment. We strongly recommend transitioning to Gymnasium environments. Stable-Baselines3 is automatically wrapping your environments in a compatibility layer, which could potentially cause issues.\n",
      "  warnings.warn(\n"
     ]
    },
    {
     "name": "stdout",
     "output_type": "stream",
     "text": [
      "=================================\n",
      "Initial portfolio value:1000000\n",
      "Final portfolio value: 998574.5\n",
      "Final accumulative portfolio value: 0.9985745\n",
      "Maximum DrawDown: -0.25987254420265826\n",
      "Sharpe ratio: 0.12489652022607897\n",
      "=================================\n",
      "hit end!\n",
      "     rmr_opt_net_worth       Date\n",
      "0         1.000000e+06 2023-03-15\n",
      "1         1.024328e+06 2023-03-16\n",
      "2         1.010097e+06 2023-03-17\n",
      "3         9.821030e+05 2023-03-20\n",
      "4         9.798046e+05 2023-03-21\n",
      "..                 ...        ...\n",
      "196       9.538622e+05 2023-12-22\n",
      "197       1.003543e+06 2023-12-26\n",
      "198       1.008709e+06 2023-12-27\n",
      "199       1.001357e+06 2023-12-28\n",
      "200       9.985745e+05 2023-12-29\n",
      "\n",
      "[201 rows x 2 columns]\n"
     ]
    }
   ],
   "source": [
    "# RMR\n",
    "\n",
    "RMR_results = {\n",
    "    \"test\": {},\n",
    "}\n",
    "\n",
    "# RMR_model_kwargs = {\n",
    "#     \"eps\": 60,\n",
    "#     \"window\": 100\n",
    "# }\n",
    "\n",
    "environment_benchmarks.reset()\n",
    "agent_rmr = DRLStableAgent(env = environment_benchmarks)\n",
    "model_rmr = agent_rmr.get_model(\"rmr\", model_kwargs=None)\n",
    "\n",
    "values, dates = DRLStableAgent.DRL_prediction(model_rmr, environment_benchmarks)\n",
    "RMR_results[\"test\"][\"value\"] = environment_benchmarks._terminal_asset_memory[\"final\"]\n",
    "RMR_results[\"test\"][\"date\"] = environment_benchmarks._terminal_date_memory\n",
    "\n",
    "df_rmr_opt = pd.DataFrame(RMR_results[\"test\"][\"value\"], columns=['rmr_opt_net_worth'])\n",
    "df_rmr_date = pd.DataFrame(RMR_results[\"test\"][\"date\"], columns=['Date'])\n",
    "if len(df_rmr_opt) == len(df_rmr_date):\n",
    "    df_rmr_opt['Date'] = df_rmr_date['Date']\n",
    "else:\n",
    "    raise ValueError(\"DataFrames do not have the same number of rows.\")\n",
    "\n",
    "print(df_rmr_opt)\n",
    "\n",
    "\n",
    "# assert the dates line up\n",
    "assert df_opt.loc[0,'Date'] == df_rmr_opt.loc[0, 'Date']\n",
    "assert df_opt.loc[len(df_date)-1,'Date'] == df_rmr_opt.loc[len(df_rmr_opt)-1,'Date']"
   ]
  },
  {
   "cell_type": "code",
   "execution_count": 56,
   "metadata": {},
   "outputs": [
    {
     "name": "stderr",
     "output_type": "stream",
     "text": [
      "c:\\Users\\bencj\\Desktop\\Econ4\\Thesis\\.venv\\lib\\site-packages\\stable_baselines3\\common\\vec_env\\patch_gym.py:49: UserWarning: You provided an OpenAI Gym environment. We strongly recommend transitioning to Gymnasium environments. Stable-Baselines3 is automatically wrapping your environments in a compatibility layer, which could potentially cause issues.\n",
      "  warnings.warn(\n"
     ]
    },
    {
     "name": "stdout",
     "output_type": "stream",
     "text": [
      "=================================\n",
      "Initial portfolio value:1000000\n",
      "Final portfolio value: 1116700.375\n",
      "Final accumulative portfolio value: 1.116700375\n",
      "Maximum DrawDown: -0.26158673320208414\n",
      "Sharpe ratio: 0.6488031873268574\n",
      "=================================\n",
      "hit end!\n",
      "     bnn_opt_net_worth       Date\n",
      "0          1000000.000 2023-03-15\n",
      "1          1000000.000 2023-03-16\n",
      "2          1000000.000 2023-03-17\n",
      "3          1000000.000 2023-03-20\n",
      "4          1000000.000 2023-03-21\n",
      "..                 ...        ...\n",
      "196        1066698.750 2023-12-22\n",
      "197        1122256.000 2023-12-26\n",
      "198        1128033.875 2023-12-27\n",
      "199        1119811.500 2023-12-28\n",
      "200        1116700.375 2023-12-29\n",
      "\n",
      "[201 rows x 2 columns]\n"
     ]
    }
   ],
   "source": [
    "# BNN\n",
    "\n",
    "BNN_results = {\n",
    "    \"test\": {},\n",
    "}\n",
    "\n",
    "# RMR_model_kwargs = {\n",
    "#     \"eps\": 60,\n",
    "#     \"window\": 100\n",
    "# }\n",
    "\n",
    "environment_benchmarks.reset()\n",
    "agent_bnn = DRLStableAgent(env = environment_benchmarks)\n",
    "model_bnn = agent_bnn.get_model(\"bnn\", model_kwargs=None)\n",
    "\n",
    "values, dates = DRLStableAgent.DRL_prediction(model_bnn, environment_benchmarks)\n",
    "BNN_results[\"test\"][\"value\"] = environment_benchmarks._terminal_asset_memory[\"final\"]\n",
    "BNN_results[\"test\"][\"date\"] = environment_benchmarks._terminal_date_memory\n",
    "\n",
    "df_bnn_opt = pd.DataFrame(BNN_results[\"test\"][\"value\"], columns=['bnn_opt_net_worth'])\n",
    "df_bnn_date = pd.DataFrame(BNN_results[\"test\"][\"date\"], columns=['Date'])\n",
    "if len(df_bnn_opt) == len(df_bnn_date):\n",
    "    df_bnn_opt['Date'] = df_bnn_date['Date']\n",
    "else:\n",
    "    raise ValueError(\"DataFrames do not have the same number of rows.\")\n",
    "\n",
    "print(df_bnn_opt)\n",
    "\n",
    "\n",
    "# assert the dates line up\n",
    "assert df_opt.loc[0,'Date'] == df_bnn_opt.loc[0, 'Date']\n",
    "assert df_opt.loc[len(df_date)-1,'Date'] == df_bnn_opt.loc[len(df_bnn_opt)-1,'Date']"
   ]
  },
  {
   "cell_type": "code",
   "execution_count": 57,
   "metadata": {},
   "outputs": [
    {
     "name": "stderr",
     "output_type": "stream",
     "text": [
      "[*********************100%***********************]  1 of 1 completed\n",
      "[*********************100%***********************]  1 of 1 completed\n",
      "[*********************100%***********************]  1 of 1 completed\n",
      "[*********************100%***********************]  1 of 1 completed\n",
      "[*********************100%***********************]  1 of 1 completed\n",
      "[*********************100%***********************]  1 of 1 completed\n"
     ]
    },
    {
     "name": "stdout",
     "output_type": "stream",
     "text": [
      "Shape of DataFrame:  (20778, 8)\n"
     ]
    },
    {
     "name": "stderr",
     "output_type": "stream",
     "text": [
      "c:\\Users\\bencj\\Desktop\\Econ4\\Thesis\\.venv\\lib\\site-packages\\finrl\\meta\\preprocessor\\preprocessors.py:101: FutureWarning: Setting an item of incompatible dtype is deprecated and will raise an error in a future version of pandas. Value '[0.31332941 0.43188074 0.33824661 ... 0.04542185 0.04024656 0.0409539 ]' has dtype incompatible with int64, please explicitly cast to a compatible dtype first.\n",
      "  X.loc[select_mask, self.columns] = self.scalers[value].transform(\n",
      "c:\\Users\\bencj\\Desktop\\Econ4\\Thesis\\.venv\\lib\\site-packages\\finrl\\meta\\preprocessor\\preprocessors.py:101: FutureWarning: Setting an item of incompatible dtype is deprecated and will raise an error in a future version of pandas. Value '[0.5  0.75 1.   ... 0.5  0.75 1.  ]' has dtype incompatible with int32, please explicitly cast to a compatible dtype first.\n",
      "  X.loc[select_mask, self.columns] = self.scalers[value].transform(\n",
      "c:\\Users\\bencj\\Desktop\\Econ4\\Thesis\\.venv\\lib\\site-packages\\stable_baselines3\\common\\vec_env\\patch_gym.py:49: UserWarning: You provided an OpenAI Gym environment. We strongly recommend transitioning to Gymnasium environments. Stable-Baselines3 is automatically wrapping your environments in a compatibility layer, which could potentially cause issues.\n",
      "  warnings.warn(\n"
     ]
    },
    {
     "name": "stdout",
     "output_type": "stream",
     "text": [
      "=================================\n",
      "Initial portfolio value:1000000\n",
      "Final portfolio value: 25407256.0\n",
      "Final accumulative portfolio value: 25.407256\n",
      "Maximum DrawDown: -0.437971851473684\n",
      "Sharpe ratio: 0.9610006669095451\n",
      "=================================\n",
      "hit end!\n"
     ]
    },
    {
     "name": "stderr",
     "output_type": "stream",
     "text": [
      "c:\\Users\\bencj\\Desktop\\Econ4\\Thesis\\.venv\\lib\\site-packages\\stable_baselines3\\common\\vec_env\\patch_gym.py:49: UserWarning: You provided an OpenAI Gym environment. We strongly recommend transitioning to Gymnasium environments. Stable-Baselines3 is automatically wrapping your environments in a compatibility layer, which could potentially cause issues.\n",
      "  warnings.warn(\n"
     ]
    },
    {
     "name": "stdout",
     "output_type": "stream",
     "text": [
      "=================================\n",
      "Initial portfolio value:1000000\n",
      "Final portfolio value: 1263554.5\n",
      "Final accumulative portfolio value: 1.2635545\n",
      "Maximum DrawDown: -0.14932312631582734\n",
      "Sharpe ratio: 1.6639482409196278\n",
      "=================================\n",
      "hit end!\n",
      "     scrp_opt_net_worth       Date\n",
      "0          1.000000e+06 2023-03-15\n",
      "1          1.018694e+06 2023-03-16\n",
      "2          1.013138e+06 2023-03-17\n",
      "3          1.028825e+06 2023-03-20\n",
      "4          1.041114e+06 2023-03-21\n",
      "..                  ...        ...\n",
      "196        1.270577e+06 2023-12-22\n",
      "197        1.266967e+06 2023-12-26\n",
      "198        1.267624e+06 2023-12-27\n",
      "199        1.270446e+06 2023-12-28\n",
      "200        1.263554e+06 2023-12-29\n",
      "\n",
      "[201 rows x 2 columns]\n"
     ]
    }
   ],
   "source": [
    "# SCRP\n",
    "\n",
    "HISTORY_START_DATE = TRAIN_START_DATE\n",
    "HISTORY_END_DATE = TRAIN_END_DATE\n",
    "\n",
    "# Download the history data for scrp\n",
    "\n",
    "history_df = YahooDownloader(start_date = HISTORY_START_DATE,\n",
    "                     end_date = HISTORY_END_DATE,\n",
    "                     ticker_list = PORT).fetch_data()\n",
    "\n",
    "\n",
    "history_df = GroupByScaler(by=\"tic\", scaler=MaxAbsScaler).fit_transform(history_df)\n",
    "\n",
    "SCRP_results = {\n",
    "    \"test\": {},\n",
    "}\n",
    "\n",
    "history_df_environment = PortfolioOptimizationEnv(\n",
    "        history_df,\n",
    "        initial_amount=INITIAL_CASH,\n",
    "        comission_fee_pct=COMMISSION_FEE_PERCENT,\n",
    "        # time_window=TIME_WINDOW,\n",
    "        features=[\"close\"],\n",
    "        normalize_df=None\n",
    "    )\n",
    "\n",
    "# Pull out the historical price data for SCRP over the training period\n",
    "agent_history_scrp = DRLStableAgent(env = history_df_environment)\n",
    "history_scrp = agent_history_scrp.get_model(\"scrp\")\n",
    "\n",
    "_, _ = DRLStableAgent.DRL_prediction(history_scrp, history_df_environment)\n",
    "\n",
    "\n",
    "# now make the predictions with the historical price data, but in the test period only\n",
    "SCRP_model_kwargs = {\n",
    "    \"price_history\": history_scrp.price_history\n",
    "}\n",
    "\n",
    "environment_benchmarks.reset()\n",
    "agent_scrp = DRLStableAgent(env = environment_benchmarks)\n",
    "model_scrp = agent_scrp.get_model(\"scrp\", model_kwargs=SCRP_model_kwargs)\n",
    "\n",
    "values, dates = DRLStableAgent.DRL_prediction(model_scrp, environment_benchmarks)\n",
    "SCRP_results[\"test\"][\"value\"] = environment_benchmarks._terminal_asset_memory[\"final\"]\n",
    "SCRP_results[\"test\"][\"date\"] = environment_benchmarks._terminal_date_memory\n",
    "\n",
    "df_scrp_opt = pd.DataFrame(SCRP_results[\"test\"][\"value\"], columns=['scrp_opt_net_worth'])\n",
    "df_scrp_date = pd.DataFrame(SCRP_results[\"test\"][\"date\"], columns=['Date'])\n",
    "if len(df_scrp_opt) == len(df_scrp_date):\n",
    "    df_scrp_opt['Date'] = df_scrp_date['Date']\n",
    "else:\n",
    "    raise ValueError(\"DataFrames do not have the same number of rows.\")\n",
    "\n",
    "print(df_scrp_opt)\n",
    "\n",
    "\n",
    "# assert the dates line up\n",
    "assert df_opt.loc[0,'Date'] == df_scrp_opt.loc[0, 'Date']\n",
    "assert df_opt.loc[len(df_date)-1,'Date'] == df_scrp_opt.loc[len(df_scrp_opt)-1,'Date']"
   ]
  },
  {
   "cell_type": "markdown",
   "metadata": {},
   "source": [
    "# Try BCRP extreme, which is the absolute best portfolio over the period with hindsight\n"
   ]
  },
  {
   "cell_type": "code",
   "execution_count": 58,
   "metadata": {},
   "outputs": [
    {
     "name": "stderr",
     "output_type": "stream",
     "text": [
      "c:\\Users\\bencj\\Desktop\\Econ4\\Thesis\\.venv\\lib\\site-packages\\stable_baselines3\\common\\vec_env\\patch_gym.py:49: UserWarning: You provided an OpenAI Gym environment. We strongly recommend transitioning to Gymnasium environments. Stable-Baselines3 is automatically wrapping your environments in a compatibility layer, which could potentially cause issues.\n",
      "  warnings.warn(\n"
     ]
    },
    {
     "name": "stdout",
     "output_type": "stream",
     "text": [
      "=================================\n",
      "Initial portfolio value:1000000\n",
      "Final portfolio value: 1425657.375\n",
      "Final accumulative portfolio value: 1.425657375\n",
      "Maximum DrawDown: -0.12987584341601355\n",
      "Sharpe ratio: 2.0201535601123086\n",
      "=================================\n",
      "hit end!\n",
      "     bcrp_opt_net_worth       Date\n",
      "0          1.000000e+06 2023-03-15\n",
      "1          1.040537e+06 2023-03-16\n",
      "2          1.052705e+06 2023-03-17\n",
      "3          1.025580e+06 2023-03-20\n",
      "4          1.031420e+06 2023-03-21\n",
      "..                  ...        ...\n",
      "196        1.420122e+06 2023-12-22\n",
      "197        1.420425e+06 2023-12-26\n",
      "198        1.418189e+06 2023-12-27\n",
      "199        1.422776e+06 2023-12-28\n",
      "200        1.425657e+06 2023-12-29\n",
      "\n",
      "[201 rows x 2 columns]\n"
     ]
    }
   ],
   "source": [
    "# bcrp\n",
    "\n",
    "BCRP_results = {\n",
    "    \"test\": {},\n",
    "}\n",
    "\n",
    "environment_benchmarks.reset()\n",
    "agent_bcrp= DRLStableAgent(env = environment_benchmarks)\n",
    "model_bcrp= agent_bcrp.get_model(\"bcrp\", None, None)\n",
    "\n",
    "values, dates = DRLStableAgent.DRL_prediction(model_bcrp, environment_benchmarks)\n",
    "BCRP_results[\"test\"][\"value\"] = environment_benchmarks._terminal_asset_memory[\"final\"]\n",
    "BCRP_results[\"test\"][\"date\"] = environment_benchmarks._terminal_date_memory\n",
    "\n",
    "df_bcrp_opt = pd.DataFrame(BCRP_results[\"test\"][\"value\"], columns=['bcrp_opt_net_worth'])\n",
    "df_bcrp_date = pd.DataFrame(BCRP_results[\"test\"][\"date\"], columns=['Date'])\n",
    "if len(df_bcrp_opt) == len(df_bcrp_date):\n",
    "    df_bcrp_opt['Date'] = df_bcrp_date['Date']\n",
    "else:\n",
    "    raise ValueError(\"DataFrames do not have the same number of rows.\")\n",
    "\n",
    "print(df_bcrp_opt)\n",
    "\n",
    "\n",
    "# assert the dates line up\n",
    "assert df_opt.loc[0,'Date'] == df_bcrp_opt.loc[0, 'Date']\n",
    "assert df_opt.loc[len(df_date)-1,'Date'] == df_bcrp_opt.loc[len(df_bcrp_opt)-1,'Date']"
   ]
  },
  {
   "cell_type": "markdown",
   "metadata": {},
   "source": [
    "# Stock environment optimization algorithm"
   ]
  },
  {
   "cell_type": "code",
   "execution_count": 59,
   "metadata": {},
   "outputs": [
    {
     "name": "stderr",
     "output_type": "stream",
     "text": [
      "[*********************100%***********************]  1 of 1 completed"
     ]
    },
    {
     "name": "stdout",
     "output_type": "stream",
     "text": [
      "Shape of DataFrame:  (200, 8)\n",
      "Annual return          0.235938\n",
      "Cumulative returns     0.183078\n",
      "Annual volatility      0.106422\n",
      "Sharpe ratio           2.054178\n",
      "Calmar ratio           2.616375\n",
      "Stability              0.396036\n",
      "Max drawdown          -0.090178\n",
      "Omega ratio            1.392344\n",
      "Sortino ratio          3.314568\n",
      "Skew                        NaN\n",
      "Kurtosis                    NaN\n",
      "Tail ratio             1.206830\n",
      "Daily value at risk   -0.012540\n",
      "dtype: float64\n",
      "df_dji:            date           dji\n",
      "0   2023-03-15  1.000000e+06\n",
      "1   2023-03-16  1.011670e+06\n",
      "2   2023-03-17  9.996050e+05\n",
      "3   2023-03-20  1.011608e+06\n",
      "4   2023-03-21  1.021523e+06\n",
      "..         ...           ...\n",
      "196 2023-12-22  1.172909e+06\n",
      "197 2023-12-26  1.177909e+06\n",
      "198 2023-12-27  1.181397e+06\n",
      "199 2023-12-28  1.183078e+06\n",
      "200 2023-12-29           NaN\n",
      "\n",
      "[201 rows x 2 columns]\n",
      "df_dji:                       dji\n",
      "date                    \n",
      "2023-03-15  1.000000e+06\n",
      "2023-03-16  1.011670e+06\n",
      "2023-03-17  9.996050e+05\n",
      "2023-03-20  1.011608e+06\n",
      "2023-03-21  1.021523e+06\n",
      "...                  ...\n",
      "2023-12-22  1.172909e+06\n",
      "2023-12-26  1.177909e+06\n",
      "2023-12-27  1.181397e+06\n",
      "2023-12-28  1.183078e+06\n",
      "2023-12-29           NaN\n",
      "\n",
      "[201 rows x 1 columns]\n"
     ]
    },
    {
     "name": "stderr",
     "output_type": "stream",
     "text": [
      "\n"
     ]
    }
   ],
   "source": [
    "# Pull the DJI results\n",
    "\n",
    "from finrl.plot import backtest_stats, backtest_plot, get_daily_return, get_baseline\n",
    "\n",
    "\n",
    "df_dji_ = get_baseline(\n",
    "        ticker=\"^DJI\",\n",
    "        start = df_date.loc[0,'Date'],\n",
    "        end = df_date.loc[len(df_date)-1,'Date'])\n",
    "\n",
    "stats = backtest_stats(df_dji_, value_col_name = 'close')\n",
    "\n",
    "df_dji = pd.DataFrame()\n",
    "df_dji['date'] = df_date['Date']\n",
    "df_dji['dji'] = df_dji_['close'] / df_dji_['close'][0] * INITIAL_CASH\n",
    "print(\"df_dji: \", df_dji)\n",
    "df_dji.to_csv(\"df_dji.csv\")\n",
    "df_dji = df_dji.set_index(df_dji.columns[0])\n",
    "print(\"df_dji: \", df_dji)\n"
   ]
  },
  {
   "cell_type": "markdown",
   "metadata": {},
   "source": [
    "# Compare all results"
   ]
  },
  {
   "cell_type": "code",
   "execution_count": 60,
   "metadata": {},
   "outputs": [
    {
     "name": "stdout",
     "output_type": "stream",
     "text": [
      "                     dji\n",
      "date                    \n",
      "2023-03-15  1.000000e+06\n",
      "2023-03-16  1.011670e+06\n",
      "2023-03-17  9.996050e+05\n",
      "2023-03-20  1.011608e+06\n",
      "2023-03-21  1.021523e+06\n",
      "...                  ...\n",
      "2023-12-22  1.172909e+06\n",
      "2023-12-26  1.177909e+06\n",
      "2023-12-27  1.181397e+06\n",
      "2023-12-28  1.183078e+06\n",
      "2023-12-29           NaN\n",
      "\n",
      "[201 rows x 1 columns]\n",
      "     crp_opt_net_worth       Date  bcrp_opt_net_worth  bah_opt_net_worth  \\\n",
      "0         1.000000e+06 2023-03-15        1.000000e+06       1.000000e+06   \n",
      "1         1.024328e+06 2023-03-16        1.040537e+06       1.024328e+06   \n",
      "2         1.022820e+06 2023-03-17        1.052705e+06       1.022756e+06   \n",
      "3         1.022926e+06 2023-03-20        1.025580e+06       1.022548e+06   \n",
      "4         1.024155e+06 2023-03-21        1.031420e+06       1.023755e+06   \n",
      "..                 ...        ...                 ...                ...   \n",
      "196       1.348238e+06 2023-12-22        1.420122e+06       1.342211e+06   \n",
      "197       1.361657e+06 2023-12-26        1.420425e+06       1.358738e+06   \n",
      "198       1.363903e+06 2023-12-27        1.418189e+06       1.361040e+06   \n",
      "199       1.362808e+06 2023-12-28        1.422776e+06       1.359372e+06   \n",
      "200       1.361741e+06 2023-12-29        1.425657e+06       1.358193e+06   \n",
      "\n",
      "     olmar_opt_net_worth  rmr_opt_net_worth  bnn_opt_net_worth  \\\n",
      "0           1.000000e+06       1.000000e+06        1000000.000   \n",
      "1           1.024328e+06       1.024328e+06        1000000.000   \n",
      "2           1.010097e+06       1.010097e+06        1000000.000   \n",
      "3           9.821030e+05       9.821030e+05        1000000.000   \n",
      "4           9.798046e+05       9.798046e+05        1000000.000   \n",
      "..                   ...                ...                ...   \n",
      "196         1.046309e+06       9.538622e+05        1066698.750   \n",
      "197         1.043336e+06       1.003543e+06        1122256.000   \n",
      "198         1.043877e+06       1.008709e+06        1128033.875   \n",
      "199         1.046201e+06       1.001357e+06        1119811.500   \n",
      "200         1.045353e+06       9.985745e+05        1116700.375   \n",
      "\n",
      "     scrp_opt_net_worth  eiie_net_worth           dji  \n",
      "0          1.000000e+06    1.000000e+06  1.000000e+06  \n",
      "1          1.018694e+06    1.062300e+06  1.011670e+06  \n",
      "2          1.013138e+06    1.049277e+06  9.996050e+05  \n",
      "3          1.028825e+06    1.026398e+06  1.011608e+06  \n",
      "4          1.041114e+06    1.001760e+06  1.021523e+06  \n",
      "..                  ...             ...           ...  \n",
      "196        1.270577e+06    1.677056e+06  1.172909e+06  \n",
      "197        1.266967e+06    1.709767e+06  1.177909e+06  \n",
      "198        1.267624e+06    1.709176e+06  1.181397e+06  \n",
      "199        1.270446e+06    1.697212e+06  1.183078e+06  \n",
      "200        1.263554e+06    1.696822e+06           NaN  \n",
      "\n",
      "[201 rows x 10 columns]\n"
     ]
    }
   ],
   "source": [
    "# Join the online algorithms\n",
    "\n",
    "# bcrp = pd.read_csv('BCRP_net_worth.csv')\n",
    "# crp = pd.read_csv('CRP_net_worth.csv')\n",
    "\n",
    "\n",
    "# Merge the baseline CRP algorithm\n",
    "df_crp_opt['Date'] = pd.to_datetime(df_crp_opt['Date'])\n",
    "merged_df = df_crp_opt\n",
    "\n",
    "# Merge the baseline BCRP algorithm\n",
    "df_bcrp_opt['Date'] = pd.to_datetime(df_bcrp_opt['Date'])\n",
    "merged_df = pd.merge(merged_df, df_bcrp_opt, on='Date')\n",
    "\n",
    "# Merge the baseline BAH algorithm\n",
    "df_bah_opt['Date'] = pd.to_datetime(df_bah_opt['Date'])\n",
    "merged_df = pd.merge(merged_df, df_bah_opt, on='Date')\n",
    "\n",
    "# Merge the baseline OLMAR algorithm\n",
    "df_olmar_opt['Date'] = pd.to_datetime(df_olmar_opt['Date'])\n",
    "merged_df = pd.merge(merged_df, df_olmar_opt, on='Date')\n",
    "\n",
    "# Merge the baseline RMR algorithm\n",
    "df_rmr_opt['Date'] = pd.to_datetime(df_rmr_opt['Date'])\n",
    "merged_df = pd.merge(merged_df, df_rmr_opt, on='Date')\n",
    "\n",
    "# Merge the baseline BNN algorithm\n",
    "df_bnn_opt['Date'] = pd.to_datetime(df_bnn_opt['Date'])\n",
    "merged_df = pd.merge(merged_df, df_bnn_opt, on='Date')\n",
    "\n",
    "# Merge the baseline SCRP algorithm\n",
    "df_scrp_opt['Date'] = pd.to_datetime(df_scrp_opt['Date'])\n",
    "merged_df = pd.merge(merged_df, df_scrp_opt, on='Date')\n",
    "\n",
    "# Merge the opt algorithm\n",
    "df_opt['Date'] = pd.to_datetime(df_opt['Date'])\n",
    "merged_df = pd.merge(merged_df, df_opt, on='Date')\n",
    "\n",
    "\n",
    "\n",
    "print(df_dji)\n",
    "df_dji = df_dji.reset_index()\n",
    "df_dji.rename(columns={'date': 'Date'}, inplace=True)\n",
    "merged_df = pd.merge(merged_df, df_dji, on='Date')\n",
    "\n",
    "\n",
    "print(merged_df)\n"
   ]
  },
  {
   "cell_type": "markdown",
   "metadata": {},
   "source": [
    "# Baseline CRP in the environment"
   ]
  },
  {
   "cell_type": "code",
   "execution_count": null,
   "metadata": {},
   "outputs": [],
   "source": []
  },
  {
   "cell_type": "code",
   "execution_count": null,
   "metadata": {},
   "outputs": [
    {
     "data": {
      "image/png": "[encoded data removed]",
      "text/plain": [
       "<Figure size 1400x700 with 1 Axes>"
      ]
     },
     "metadata": {},
     "output_type": "display_data"
    }
   ],
   "source": [
    "# Use the correct backend for Jupyter\n",
    "%matplotlib inline\n",
    "import matplotlib.pyplot as plt\n",
    "\n",
    "# TODO make sure all dates line up, fix CRP and OLMAR \n",
    "\n",
    "import matplotlib.pyplot as plt\n",
    "\n",
    "# Define a color map for the labels\n",
    "color_map = {\n",
    "    'CRP Net Worth': 'blue',\n",
    "    'BAH Net Worth': 'green',\n",
    "    'EIIE Net Worth': 'red',\n",
    "    'DJI Value': 'purple',\n",
    "    'SCRP Net Worth': 'orange',\n",
    "    'OLMAR Net Worth': 'cyan',\n",
    "    'RMR Net Worth': 'magenta',\n",
    "    'BNN Net Worth': 'brown'\n",
    "}\n",
    "\n",
    "\n",
    "plt.figure(figsize=(14, 7))\n",
    "plt.plot(merged_df['Date'], merged_df['crp_opt_net_worth'], label='CRP Net Worth', color=color_map['CRP Net Worth'])\n",
    "plt.plot(merged_df['Date'], merged_df['scrp_opt_net_worth'], label='SCRP Net Worth', color=color_map['SCRP Net Worth'])\n",
    "plt.plot(merged_df['Date'], merged_df['bah_opt_net_worth'], label='BAH Net Worth', color=color_map['BAH Net Worth'])\n",
    "# plt.plot(merged_df['Date'], merged_df['olmar_opt_net_worth'], label='OLMAR Net Worth', color=color_map['OLMAR Net Worth'])\n",
    "plt.plot(merged_df['Date'], merged_df['rmr_opt_net_worth'], label='RMR Net Worth', color=color_map['RMR Net Worth'])\n",
    "plt.plot(merged_df['Date'], merged_df['bnn_opt_net_worth'], label='BNN Net Worth', color=color_map['BNN Net Worth'])\n",
    "plt.plot(merged_df['Date'], merged_df['eiie_net_worth'], label='EIIE Net Worth', color=color_map['EIIE Net Worth'])\n",
    "plt.plot(merged_df['Date'], merged_df['dji'], label='DJI Value', color=color_map['DJI Value'])\n",
    "plt.xlabel('Date')\n",
    "plt.ylabel('Net Worth')\n",
    "plt.title('Portfolio Performance Over Time OOS: ' + GRAPH_TITLE)\n",
    "plt.legend()\n",
    "plt.xticks(rotation=45)\n",
    "plt.grid(True)\n",
    "plt.tight_layout()\n",
    "plt.show()"
   ]
  },
  {
   "cell_type": "code",
   "execution_count": 62,
   "metadata": {},
   "outputs": [
    {
     "name": "stdout",
     "output_type": "stream",
     "text": [
      "{'BAH': 1358192.625,\n",
      " 'BCRP OPT': 1425657.375,\n",
      " 'BNN': 1116700.375,\n",
      " 'CRP': 1361741.375,\n",
      " 'EIIE': 1696821.5,\n",
      " 'OLMAR': 1045352.5625,\n",
      " 'RMR': 998574.5,\n",
      " 'SCRP': 1263554.5}\n"
     ]
    }
   ],
   "source": [
    "import pprint\n",
    "\n",
    "final_returns = {\n",
    "   'BCRP OPT': merged_df['bcrp_opt_net_worth'].iloc[-1],\n",
    "    'CRP': merged_df['crp_opt_net_worth'].iloc[-1],\n",
    "    'SCRP': merged_df['scrp_opt_net_worth'].iloc[-1],\n",
    "    'BAH': merged_df['bah_opt_net_worth'].iloc[-1],\n",
    "    'OLMAR': merged_df['olmar_opt_net_worth'].iloc[-1],\n",
    "    'RMR': merged_df['rmr_opt_net_worth'].iloc[-1],\n",
    "    'BNN': merged_df['bnn_opt_net_worth'].iloc[-1],\n",
    "    'EIIE': merged_df['eiie_net_worth'].iloc[-1],\n",
    "}\n",
    "\n",
    "pprint.pprint(final_returns)"
   ]
  },
  {
   "cell_type": "code",
   "execution_count": 63,
   "metadata": {},
   "outputs": [
    {
     "name": "stdout",
     "output_type": "stream",
     "text": [
      "{'BAH': 2.6269803111776624,\n",
      " 'BCRP': 1.9398690486470849,\n",
      " 'BNN': 0.5761247004491398,\n",
      " 'CRP': 2.6832879063490505,\n",
      " 'EIIE': 1.899263805174211,\n",
      " 'OLMAR': 0.2665230708018702,\n",
      " 'RMR': 0.049706194487796805,\n",
      " 'SCRP': 1.5613247069858336}\n"
     ]
    }
   ],
   "source": [
    "import numpy as np\n",
    "import pprint\n",
    "\n",
    "# Calculate the returns each day\n",
    "\n",
    "# merged_df['BCRP_daily_return'] = merged_df['BCRP_net_worth'].pct_change()\n",
    "# merged_df['CRP_daily_return'] = merged_df['CRP_net_worth'].pct_change()\n",
    "merged_df['BCRP_opt_daily_return'] = merged_df['bcrp_opt_net_worth'].pct_change()\n",
    "merged_df['CRP_opt_daily_return'] = merged_df['crp_opt_net_worth'].pct_change()\n",
    "merged_df['SCRP_opt_daily_return'] = merged_df['scrp_opt_net_worth'].pct_change()\n",
    "\n",
    "merged_df['BAH_opt_daily_return'] = merged_df['bah_opt_net_worth'].pct_change()\n",
    "merged_df['OLMAR_opt_daily_return'] = merged_df['olmar_opt_net_worth'].pct_change()\n",
    "merged_df['RMR_opt_daily_return'] = merged_df['rmr_opt_net_worth'].pct_change()\n",
    "merged_df['BNN_opt_daily_return'] = merged_df['bnn_opt_net_worth'].pct_change()\n",
    "\n",
    "merged_df['EIIE_daily_return'] = merged_df['eiie_net_worth'].pct_change()\n",
    "\n",
    "\n",
    "# merged_df['OLMAR_daily_return'] = merged_df['OLMAR_net_worth'].pct_change()\n",
    "\n",
    "\n",
    "# TODO need to put in the fama french\n",
    "\n",
    "# Define the risk-free rate (annual, for example, 2%)\n",
    "risk_free_rate = 0.02 / 252  # Convert annual risk-free rate to daily\n",
    "\n",
    "# Define a function to calculate Sharpe ratio adjusted for the risk-free rate\n",
    "def calculate_sharpe_ratio(returns, risk_free_rate):\n",
    "    excess_return = returns - risk_free_rate\n",
    "    mean_excess_return = excess_return.mean()\n",
    "    std_excess_return = excess_return.std()\n",
    "    annual_factor = np.sqrt(252)  # Assuming 252 trading days in a year\n",
    "    sharpe_ratio = annual_factor * mean_excess_return / std_excess_return\n",
    "    return sharpe_ratio\n",
    "\n",
    "# Calculate the Sharpe ratio for each daily return column\n",
    "sharpe_ratios = {\n",
    "    # 'BCRP': calculate_sharpe_ratio(merged_df['BCRP_daily_return'], risk_free_rate),\n",
    "    # 'CRP': calculate_sharpe_ratio(merged_df['CRP_daily_return'], risk_free_rate),\n",
    "    'BCRP': calculate_sharpe_ratio(merged_df['BCRP_opt_daily_return'], risk_free_rate),\n",
    "    'CRP': calculate_sharpe_ratio(merged_df['CRP_opt_daily_return'], risk_free_rate),\n",
    "    'SCRP': calculate_sharpe_ratio(merged_df['SCRP_opt_daily_return'], risk_free_rate),\n",
    "    'BAH': calculate_sharpe_ratio(merged_df['BAH_opt_daily_return'], risk_free_rate),\n",
    "    'OLMAR': calculate_sharpe_ratio(merged_df['OLMAR_opt_daily_return'], risk_free_rate),\n",
    "    'RMR': calculate_sharpe_ratio(merged_df['RMR_opt_daily_return'], risk_free_rate),\n",
    "    'BNN': calculate_sharpe_ratio(merged_df['BNN_opt_daily_return'], risk_free_rate),\n",
    "    'EIIE': calculate_sharpe_ratio(merged_df['EIIE_daily_return'], risk_free_rate),\n",
    "    # 'OLMAR old': calculate_sharpe_ratio(merged_df['OLMAR_daily_return'], risk_free_rate),\n",
    "    # 'Opt': calculate_sharpe_ratio(merged_df['opt_daily_return'], risk_free_rate),\n",
    "\n",
    "}\n",
    "\n",
    "pprint.pprint(sharpe_ratios)"
   ]
  },
  {
   "cell_type": "code",
   "execution_count": 64,
   "metadata": {},
   "outputs": [
    {
     "name": "stdout",
     "output_type": "stream",
     "text": [
      "{'BAH': -0.09230985286413362,\n",
      " 'BCRP': -0.12987584341601355,\n",
      " 'BNN': -0.26158673320208414,\n",
      " 'CRP': -0.09201468512042643,\n",
      " 'EIIE': -0.16881587253767227,\n",
      " 'OLMAR': -0.2846943077001418,\n",
      " 'RMR': -0.25987254420265826,\n",
      " 'SCRP': -0.14932312631582734}\n"
     ]
    }
   ],
   "source": [
    "import pandas as pd\n",
    "import numpy as np\n",
    "\n",
    "# Assuming merged_df is your DataFrame\n",
    "# Calculate the max drawdown for each specified column\n",
    "def max_drawdown(series):\n",
    "    cumulative_returns = series.cummax()\n",
    "    drawdowns = series / cumulative_returns - 1\n",
    "    max_drawdown_value = drawdowns.min()\n",
    "    return max_drawdown_value\n",
    "\n",
    "max_drawdowns = {\n",
    "    # 'BCRP': max_drawdown(merged_df['BCRP_net_worth']),\n",
    "    # 'CRP': max_drawdown(merged_df['CRP_net_worth']),\n",
    "    'BCRP': max_drawdown(merged_df['bcrp_opt_net_worth']),\n",
    "    'CRP': max_drawdown(merged_df['crp_opt_net_worth']),\n",
    "    'SCRP': max_drawdown(merged_df['scrp_opt_net_worth']),\n",
    "    'BAH': max_drawdown(merged_df['bah_opt_net_worth']),\n",
    "    'OLMAR': max_drawdown(merged_df['olmar_opt_net_worth']),\n",
    "    'RMR': max_drawdown(merged_df['rmr_opt_net_worth']),\n",
    "    'BNN': max_drawdown(merged_df['bnn_opt_net_worth']),\n",
    "    'EIIE': max_drawdown(merged_df['eiie_net_worth']),\n",
    "    # 'Opt': max_drawdown(merged_df['opt_net_worth']),\n",
    "}\n",
    "\n",
    "pprint.pprint(max_drawdowns)\n"
   ]
  },
  {
   "cell_type": "code",
   "execution_count": 65,
   "metadata": {},
   "outputs": [
    {
     "name": "stdout",
     "output_type": "stream",
     "text": [
      "             sum_sq     df         F    PR(>F)\n",
      "Portfolio  0.000183    1.0  0.566323  0.452169\n",
      "Residual   0.128916  398.0       NaN       NaN\n"
     ]
    }
   ],
   "source": [
    "import pandas as pd\n",
    "import numpy as np\n",
    "import statsmodels.api as sm\n",
    "from statsmodels.formula.api import ols\n",
    "\n",
    "\n",
    "# TODO can we do a statisitical significance test with anova here?\n",
    "ANOVA_cols = ['EIIE_daily_return', 'BAH_opt_daily_return']\n",
    "cols = ['Date',] + ANOVA_cols\n",
    "\n",
    "\n",
    "df_selected = merged_df[cols]\n",
    "\n",
    "# Assuming merged_df is your DataFrame and daily returns have already been calculated\n",
    "# Combine all return columns into one DataFrame for ANOVA\n",
    "returns_long = df_selected.melt(\n",
    "    id_vars=['Date'], \n",
    "    value_vars=ANOVA_cols,\n",
    "    var_name='Portfolio', \n",
    "    value_name='Daily_Return'\n",
    ")\n",
    "\n",
    "# Remove any NaN values created by pct_change()\n",
    "returns_long.dropna(inplace=True)\n",
    "\n",
    "# Perform ANOVA\n",
    "model = ols('Daily_Return ~ Portfolio', data=returns_long).fit()\n",
    "anova_result = sm.stats.anova_lm(model, typ=2)\n",
    "\n",
    "# Display the summary of the ANOVA\n",
    "pprint.pprint(anova_result)\n",
    "\n",
    "# The results do seem to be statisitcally significant\n"
   ]
  },
  {
   "cell_type": "code",
   "execution_count": 66,
   "metadata": {},
   "outputs": [
    {
     "name": "stdout",
     "output_type": "stream",
     "text": [
      "1      0.024328\n",
      "2     -0.001535\n",
      "3     -0.000204\n",
      "4      0.001181\n",
      "5     -0.013853\n",
      "         ...   \n",
      "196    0.003728\n",
      "197    0.012314\n",
      "198    0.001694\n",
      "199   -0.001225\n",
      "200   -0.000868\n",
      "Name: BAH_opt_daily_return, Length: 200, dtype: float64\n",
      "t-statistic: 0.752544206387247\n",
      "p-value: 0.45216870824827493\n"
     ]
    }
   ],
   "source": [
    "from scipy import stats\n",
    "\n",
    "df_ppo = merged_df['EIIE_daily_return'].dropna() \n",
    "df_bah = merged_df['BAH_opt_daily_return'].dropna()\n",
    "\n",
    "print(df_bah)\n",
    "\n",
    "t_stat, p_value = stats.ttest_ind(df_ppo, df_bah) \n",
    "\n",
    "print(f\"t-statistic: {t_stat}\") \n",
    "print(f\"p-value: {p_value}\")"
   ]
  }
 ],
 "metadata": {
  "kernelspec": {
   "display_name": ".venv",
   "language": "python",
   "name": "python3"
  },
  "language_info": {
   "codemirror_mode": {
    "name": "ipython",
    "version": 3
   },
   "file_extension": ".py",
   "mimetype": "text/x-python",
   "name": "python",
   "nbconvert_exporter": "python",
   "pygments_lexer": "ipython3",
   "version": "3.10.0"
  }
 },
 "nbformat": 4,
 "nbformat_minor": 2
}
