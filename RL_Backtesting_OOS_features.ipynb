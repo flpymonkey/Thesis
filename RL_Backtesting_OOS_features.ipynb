{
 "cells": [
  {
   "cell_type": "code",
   "execution_count": 1,
   "metadata": {},
   "outputs": [
    {
     "name": "stdout",
     "output_type": "stream",
     "text": [
      "['AXP', 'AMGN', 'AAPL', 'BA', 'CAT', 'CSCO', 'CVX', 'GS', 'HD', 'HON', 'IBM', 'INTC', 'JNJ', 'KO', 'JPM', 'MCD', 'MMM', 'MRK', 'MSFT', 'NKE', 'PG', 'TRV', 'UNH', 'CRM', 'VZ', 'V', 'WBA', 'WMT', 'DIS']\n"
     ]
    },
    {
     "name": "stderr",
     "output_type": "stream",
     "text": [
      "[*********************100%***********************]  1 of 1 completed\n",
      "[*********************100%***********************]  1 of 1 completed\n",
      "[*********************100%***********************]  1 of 1 completed\n",
      "[*********************100%***********************]  1 of 1 completed\n",
      "[*********************100%***********************]  1 of 1 completed\n",
      "[*********************100%***********************]  1 of 1 completed\n",
      "[*********************100%***********************]  1 of 1 completed\n",
      "[*********************100%***********************]  1 of 1 completed\n",
      "[*********************100%***********************]  1 of 1 completed\n",
      "[*********************100%***********************]  1 of 1 completed\n",
      "[*********************100%***********************]  1 of 1 completed\n",
      "[*********************100%***********************]  1 of 1 completed\n",
      "[*********************100%***********************]  1 of 1 completed\n",
      "[*********************100%***********************]  1 of 1 completed\n",
      "[*********************100%***********************]  1 of 1 completed\n",
      "[*********************100%***********************]  1 of 1 completed\n",
      "[*********************100%***********************]  1 of 1 completed\n",
      "[*********************100%***********************]  1 of 1 completed\n",
      "[*********************100%***********************]  1 of 1 completed\n",
      "[*********************100%***********************]  1 of 1 completed\n",
      "[*********************100%***********************]  1 of 1 completed\n",
      "[*********************100%***********************]  1 of 1 completed\n",
      "[*********************100%***********************]  1 of 1 completed\n",
      "[*********************100%***********************]  1 of 1 completed\n",
      "[*********************100%***********************]  1 of 1 completed\n",
      "[*********************100%***********************]  1 of 1 completed\n",
      "[*********************100%***********************]  1 of 1 completed\n",
      "[*********************100%***********************]  1 of 1 completed\n",
      "[*********************100%***********************]  1 of 1 completed\n"
     ]
    },
    {
     "name": "stdout",
     "output_type": "stream",
     "text": [
      "Shape of DataFrame:  (12702, 8)\n",
      "Successfully added technical indicators\n",
      "Successfully added turbulence index\n"
     ]
    }
   ],
   "source": [
    "import pandas as pd\n",
    "from stable_baselines3.common.logger import configure\n",
    "\n",
    "from finrl.agents.stablebaselines3.models import DRLAgent as StockDRLAgent\n",
    "from finrl.agents.portfolio_optimization.models import DRLAgent as OptDRLAgent\n",
    "\n",
    "from finrl.config import TRAINED_MODEL_DIR, RESULTS_DIR\n",
    "from finrl.main import check_and_make_directories\n",
    "from finrl.meta.env_stock_trading.env_stocktrading import StockTradingEnv\n",
    "\n",
    "import numpy as np\n",
    "\n",
    "\n",
    "TIME_WINDOW = 25\n",
    "COMMISSION_FEE_PERCENT = 0.001\n",
    "INITIAL_CASH = 1000000\n",
    "\n",
    "\n",
    "TEST_START_DATE = '2023-01-01'\n",
    "TEST_END_DATE = '2024-10-01'\n",
    "\n",
    "INDICATORS = ['macd',\n",
    "            'rsi_30',\n",
    "            'cci_30',\n",
    "            'dx_30']\n",
    "\n",
    "# Backtest the results\n",
    "\n",
    "from finrl.meta.preprocessor.yahoodownloader import YahooDownloader\n",
    "from finrl.config_tickers import DOW_30_TICKER\n",
    "\n",
    "value_to_remove = \"DOW\"\n",
    "# Create a new list without the specified string\n",
    "DOW_30_TICKER = [x for x in DOW_30_TICKER if x != value_to_remove]\n",
    "print(DOW_30_TICKER)\n",
    "\n",
    "\n",
    "df = YahooDownloader(start_date = TEST_START_DATE,\n",
    "                     end_date = TEST_END_DATE,\n",
    "                     ticker_list = DOW_30_TICKER).fetch_data()\n",
    "\n",
    "from finrl.meta.preprocessor.preprocessors import FeatureEngineer\n",
    "fe = FeatureEngineer(use_technical_indicator=True,\n",
    "                     tech_indicator_list = INDICATORS,\n",
    "                     use_turbulence=True,\n",
    "                     user_defined_feature = False)\n",
    "\n",
    "processed = fe.preprocess_data(df)\n",
    "processed = processed.copy()\n",
    "processed = processed.fillna(0)\n",
    "processed_test = processed.replace(np.inf,0)"
   ]
  },
  {
   "cell_type": "markdown",
   "metadata": {},
   "source": [
    "# Portfolio Optimization Algorithm"
   ]
  },
  {
   "cell_type": "code",
   "execution_count": 2,
   "metadata": {},
   "outputs": [
    {
     "name": "stderr",
     "output_type": "stream",
     "text": [
      "c:\\Users\\bencj\\Desktop\\Econ4\\Thesis\\.venv\\lib\\site-packages\\finrl\\meta\\preprocessor\\preprocessors.py:101: FutureWarning: Setting an item of incompatible dtype is deprecated and will raise an error in a future version of pandas. Value '[0.35181855 0.27963358 0.2540565  0.27536942 0.22213764 0.20050276\n",
      " 0.21795821 0.22398526 0.18140366 0.19971953 0.21862941 0.18288069\n",
      " 0.25173724 0.25655932 0.20846969 0.20647458 0.16977883 0.22140022\n",
      " 0.20087649 0.20671056 0.24370411 0.37134127 0.48436472 0.2192115\n",
      " 0.26146174 0.20120535 0.1757472  0.18027714 0.19517704 0.19363506\n",
      " 0.20576698 0.21390712 0.18559093 0.18472204 0.16007065 0.15185834\n",
      " 0.17406055 0.14120282 0.15861371 0.17409005 0.16392028 0.22195407\n",
      " 0.27475219 0.17629603 0.14812607 0.16892688 0.21517642 0.26502173\n",
      " 0.23125368 0.24214863 0.23898934 0.31048271 0.23108266 0.23201432\n",
      " 0.23754809 0.21219443 0.18575536 0.16439788 0.14432099 0.16099446\n",
      " 0.15533361 0.21573309 0.17878818 0.14521876 0.16164088 0.14243164\n",
      " 0.14973301 0.14950488 0.15731491 0.21477853 0.15497212 0.13027555\n",
      " 0.15665563 0.14974336 0.1646053  0.18305924 0.13163554 0.15286217\n",
      " 0.14277273 0.20365985 0.17324343 0.16465707 0.15195718 0.20439319\n",
      " 0.25491222 0.35558063 0.17560819 0.14223332 0.16858453 0.15537441\n",
      " 0.14276959 0.11694086 0.13213981 0.18184893 0.20552504 0.17501072\n",
      " 0.13672309 0.15924224 0.14165782 0.17590786 0.17206921 0.17561321\n",
      " 0.31261871 0.21621006 0.19438283 0.38266141 0.20349071 0.19437875\n",
      " 0.15757159 0.15335357 0.17031165 0.17236449 0.18031542 0.20532578\n",
      " 0.31767175 0.15626684 0.15537754 0.16080493 0.16655992 0.1508997\n",
      " 0.15919046 0.1607155  0.14543528 0.26694373 0.0987141  0.14723332\n",
      " 0.14150343 0.14678679 0.18803257 0.14634779 0.19063079 0.12972986\n",
      " 0.13045661 0.15852961 0.15173157 0.25262748 0.18696253 0.2256741\n",
      " 0.14239304 0.11699263 0.14896421 0.1489275  0.15153576 0.12182789\n",
      " 0.11037753 0.15811885 0.19215269 0.36337309 0.30618844 0.21282484\n",
      " 0.18946441 0.17160448 0.1631358  0.13705163 0.13688532 0.14737327\n",
      " 0.20730175 0.191773   0.1453242  0.13205791 0.16544125 0.1724169\n",
      " 0.16144602 0.13750695 0.16632332 0.19083067 0.1907698  0.14350638\n",
      " 0.14208615 0.2565452  0.35298367 0.20569637 0.18499159 0.28357672\n",
      " 0.26442804 0.19108767 0.3426796  0.21105065 0.16262996 0.18336958\n",
      " 0.19784084 0.17800119 0.14488739 0.20267642 0.20999693 0.17664873\n",
      " 0.16259011 0.16368933 0.15562513 0.16637479 0.15227788 0.17956608\n",
      " 0.13302    0.13712192 0.14921274 0.17805673 0.16137541 0.16479546\n",
      " 0.18058685 0.17184768 0.18608924 0.20142249 0.17566248 0.13749408\n",
      " 0.17935552 0.22161831 0.18356696 0.16044627 0.14072428 0.17865858\n",
      " 0.24267235 0.2502941  0.20033049 0.22131926 0.15482715 0.16870691\n",
      " 0.20752297 0.1369007  0.18861685 0.16879163 0.17074469 0.15979263\n",
      " 0.14593045 0.11966396 0.12431816 0.07546224 0.12725183 0.12054541\n",
      " 0.13497619 0.15311414 0.14333913 0.13615386 0.20907625 0.12893722\n",
      " 0.14898241 0.16749503 0.19123798 0.16535997 0.22092451 0.20971389\n",
      " 0.40246247 0.1749464  0.12775861 0.16393503 0.14585953 0.1164893\n",
      " 0.09074717 0.15089656 0.10684671 0.13376683 0.258845   0.18330149\n",
      " 0.22588058 0.19550433 0.18559219 0.13443521 0.14683355 0.15416222\n",
      " 0.12691324 0.20585861 0.1484794  0.24477791 0.21570548 0.18869687\n",
      " 0.13290954 0.16829207 0.17202873 0.13993352 0.1479403  0.17528373\n",
      " 0.17405491 0.20360682 0.32169585 0.21861686 0.13647174 0.16768864\n",
      " 0.1285365  0.14169453 0.1311093  0.17738646 0.1714275  0.20532986\n",
      " 0.15596026 0.1683997  0.13031791 0.16409005 0.14158314 0.12823965\n",
      " 0.17044972 0.15361465 0.42890248 0.2306013  0.25577421 0.29852024\n",
      " 0.21522443 0.22519494 0.23884343 0.18871444 0.18772882 0.16470665\n",
      " 0.22879855 0.38177714 0.23724182 0.17326226 0.16763875 0.33319108\n",
      " 0.2231286  0.1703537  0.18008164 0.1891343  0.20607732 0.14510015\n",
      " 0.15479326 0.14965393 0.16852145 0.1319669  0.11743916 0.13320953\n",
      " 0.15598505 0.28577359 0.31879419 0.23073874 0.23130169 0.15972517\n",
      " 0.13531729 0.21266512 0.15098662 0.15544689 0.15141149 0.15864916\n",
      " 0.14070043 0.21391183 0.20689978 0.1580994  0.29564117 0.51218825\n",
      " 0.2465474  0.24258135 0.1413867  0.15370596 0.15928052 0.22607262\n",
      " 0.16440824 0.22091133 0.16582533 0.12954347 0.13920332 0.13276457\n",
      " 0.10872509 0.16005371 0.11389046 0.16405208 0.16652447 0.15673376\n",
      " 0.23584261 0.15714985 0.14896264 0.16994106 0.12922622 0.16663712\n",
      " 0.30520312 0.54089794 0.62173454 0.30708777 0.22004118 0.29411425\n",
      " 0.25085768 0.27040457 0.7732568  0.25331689 0.1779651  0.20777338\n",
      " 0.156184   0.25901445 0.18954098 0.18214578 0.11726438 0.18957079\n",
      " 0.1854083  0.15086016 0.19652228 0.2030583  0.166457   0.19653357\n",
      " 0.13566686 0.17994828 0.20721294 0.1542347  0.1512546  0.12539322\n",
      " 0.19385471 0.16126276 0.13054259 0.11394443 0.13067595 0.15701116\n",
      " 0.1961247  0.33126846 0.37513693 0.21859082 0.19931097 0.14798894\n",
      " 0.1324263  0.11933009 0.1385569  0.13167006 0.14564458 0.13913711\n",
      " 0.12767608 0.0950766  0.10909223 0.13711345 0.12136724 0.09602802\n",
      " 0.1127608  0.11940571 0.16287911 0.16628222 0.15749534 0.13756814\n",
      " 0.11489711 0.15194871 0.21080715 0.16188972 0.13991187 0.11766729\n",
      " 0.11537157 0.18626026 0.14283706 0.1879469  0.20955605 1.\n",
      " 0.16990717 0.13667665 0.13276237 0.11496395 0.10677172 0.17114948]' has dtype incompatible with int64, please explicitly cast to a compatible dtype first.\n",
      "  X.loc[select_mask, self.columns] = self.scalers[value].transform(\n",
      "c:\\Users\\bencj\\Desktop\\Econ4\\Thesis\\.venv\\lib\\site-packages\\finrl\\meta\\preprocessor\\preprocessors.py:101: FutureWarning: Setting an item of incompatible dtype is deprecated and will raise an error in a future version of pandas. Value '[0.25 0.5  0.75 1.   0.   0.25 0.5  0.75 1.   0.25 0.5  0.75 1.   0.\n",
      " 0.25 0.5  0.75 1.   0.   0.25 0.5  0.75 1.   0.   0.25 0.5  0.75 1.\n",
      " 0.   0.25 0.5  0.75 1.   0.25 0.5  0.75 1.   0.   0.25 0.5  0.75 1.\n",
      " 0.   0.25 0.5  0.75 1.   0.   0.25 0.5  0.75 1.   0.   0.25 0.5  0.75\n",
      " 1.   0.   0.25 0.5  0.75 1.   0.   0.25 0.5  0.75 0.   0.25 0.5  0.75\n",
      " 1.   0.   0.25 0.5  0.75 1.   0.   0.25 0.5  0.75 1.   0.   0.25 0.5\n",
      " 0.75 1.   0.   0.25 0.5  0.75 1.   0.   0.25 0.5  0.75 1.   0.   0.25\n",
      " 0.5  0.75 1.   0.25 0.5  0.75 1.   0.   0.25 0.5  0.75 1.   0.   0.25\n",
      " 0.5  0.75 1.   0.25 0.5  0.75 1.   0.   0.25 0.5  0.75 1.   0.   0.5\n",
      " 0.75 1.   0.   0.25 0.5  0.75 1.   0.   0.25 0.5  0.75 1.   0.   0.25\n",
      " 0.5  0.75 1.   0.   0.25 0.5  0.75 1.   0.   0.25 0.5  0.75 1.   0.\n",
      " 0.25 0.5  0.75 1.   0.   0.25 0.5  0.75 1.   0.   0.25 0.5  0.75 1.\n",
      " 0.25 0.5  0.75 1.   0.   0.25 0.5  0.75 1.   0.   0.25 0.5  0.75 1.\n",
      " 0.   0.25 0.5  0.75 1.   0.   0.25 0.5  0.75 1.   0.   0.25 0.5  0.75\n",
      " 1.   0.   0.25 0.5  0.75 1.   0.   0.25 0.5  0.75 1.   0.   0.25 0.5\n",
      " 0.75 1.   0.   0.25 0.5  0.75 1.   0.   0.25 0.5  0.75 1.   0.   0.25\n",
      " 0.5  1.   0.   0.25 0.5  0.75 1.   0.   0.25 0.5  0.75 1.   0.   0.25\n",
      " 0.5  0.75 1.   0.   0.25 0.5  0.75 1.   0.25 0.5  0.75 1.   0.25 0.5\n",
      " 0.75 1.   0.   0.25 0.5  0.75 1.   0.25 0.5  0.75 1.   0.   0.25 0.5\n",
      " 0.75 1.   0.   0.25 0.5  0.75 1.   0.   0.25 0.5  0.75 1.   0.   0.25\n",
      " 0.5  0.75 1.   0.25 0.5  0.75 1.   0.   0.25 0.5  0.75 1.   0.   0.25\n",
      " 0.5  0.75 1.   0.   0.25 0.5  0.75 1.   0.   0.25 0.5  0.75 1.   0.\n",
      " 0.25 0.5  0.75 0.   0.25 0.5  0.75 1.   0.   0.25 0.5  0.75 1.   0.\n",
      " 0.25 0.5  0.75 1.   0.   0.25 0.5  0.75 1.   0.   0.25 0.5  0.75 1.\n",
      " 0.   0.25 0.5  0.75 1.   0.   0.25 0.5  0.75 1.   0.   0.25 0.5  0.75\n",
      " 1.   0.25 0.5  0.75 1.   0.   0.25 0.5  0.75 1.   0.   0.25 0.5  0.75\n",
      " 1.   0.   0.25 0.75 1.   0.   0.25 0.5  0.75 1.   0.   0.25 0.5  1.\n",
      " 0.   0.25 0.5  0.75 1.   0.   0.25 0.5  0.75 1.   0.   0.25 0.5  0.75\n",
      " 1.   0.   0.25 0.5  0.75 1.   0.   0.25 0.5  0.75 1.   0.   0.25 0.5\n",
      " 0.75 1.   0.   0.25 0.5  0.75 1.   0.   0.25 0.5  0.75 1.   0.25 0.5\n",
      " 0.75 1.   0.   0.25 0.5  0.75 1.   0.   0.25 0.5  0.75 1.   0.   0.25\n",
      " 0.5  0.75 1.   0.  ]' has dtype incompatible with int32, please explicitly cast to a compatible dtype first.\n",
      "  X.loc[select_mask, self.columns] = self.scalers[value].transform(\n"
     ]
    }
   ],
   "source": [
    "from finrl.meta.env_portfolio_optimization.env_portfolio_optimization import PortfolioOptimizationEnv\n",
    "\n",
    "\n",
    "# Fit for the portfolio optimization model\n",
    "\n",
    "from sklearn.preprocessing import MaxAbsScaler\n",
    "from finrl.meta.preprocessor.preprocessors import GroupByScaler\n",
    "\n",
    "portfolio_norm_df = GroupByScaler(by=\"tic\", scaler=MaxAbsScaler).fit_transform(processed_test)\n",
    "portfolio_norm_df\n",
    "\n",
    "\n",
    "environment = PortfolioOptimizationEnv(\n",
    "    portfolio_norm_df,\n",
    "    initial_amount=INITIAL_CASH,\n",
    "    comission_fee_pct=COMMISSION_FEE_PERCENT,\n",
    "    time_window=TIME_WINDOW,\n",
    "    features=[\"close\", \"high\", \"low\"],\n",
    "    normalize_df=None\n",
    ")"
   ]
  },
  {
   "cell_type": "code",
   "execution_count": 3,
   "metadata": {},
   "outputs": [
    {
     "name": "stderr",
     "output_type": "stream",
     "text": [
      "C:\\Users\\bencj\\AppData\\Local\\Temp\\ipykernel_10960\\3962532677.py:22: FutureWarning: You are using `torch.load` with `weights_only=False` (the current default value), which uses the default pickle module implicitly. It is possible to construct malicious pickle data which will execute arbitrary code during unpickling (See https://github.com/pytorch/pytorch/blob/main/SECURITY.md#untrusted-models for more details). In a future release, the default value for `weights_only` will be flipped to `True`. This limits the functions that could be executed during unpickling. Arbitrary objects will no longer be allowed to be loaded via this mode unless they are explicitly allowlisted by the user via `torch.serialization.add_safe_globals`. We recommend you start setting `weights_only=True` for any use case where you don't have full control of the loaded file. Please open an issue on GitHub for any issues related to this experimental feature.\n",
      "  policy.load_state_dict(torch.load(\"policy_EIIE.pt\"))\n"
     ]
    },
    {
     "data": {
      "text/plain": [
       "<All keys matched successfully>"
      ]
     },
     "execution_count": 3,
     "metadata": {},
     "output_type": "execute_result"
    }
   ],
   "source": [
    "import torch\n",
    "from finrl.agents.portfolio_optimization.architectures import EIIE\n",
    "\n",
    "device = 'cuda:0' if torch.cuda.is_available() else 'cpu'\n",
    "\n",
    "# set PolicyGradient parameters\n",
    "model_kwargs = {\n",
    "    \"lr\": 0.01,\n",
    "    \"policy\": EIIE,\n",
    "}\n",
    "\n",
    "# here, we can set EIIE's parameters\n",
    "policy_kwargs = {\n",
    "    \"k_size\": 3,\n",
    "    \"time_window\": TIME_WINDOW,\n",
    "}\n",
    "\n",
    "\n",
    "# instantiate an architecture with the same arguments used in training\n",
    "# and load with load_state_dict.\n",
    "policy = EIIE(time_window=TIME_WINDOW, device=device)\n",
    "policy.load_state_dict(torch.load(\"policy_EIIE.pt\"))"
   ]
  },
  {
   "cell_type": "code",
   "execution_count": 4,
   "metadata": {},
   "outputs": [
    {
     "name": "stdout",
     "output_type": "stream",
     "text": [
      "=================================\n",
      "Initial portfolio value:1000000\n",
      "Final portfolio value: 1218662.875\n",
      "Final accumulative portfolio value: 1.218662875\n",
      "Maximum DrawDown: -0.08721349916625476\n",
      "Sharpe ratio: 1.1430793966698658\n",
      "Total commission cost: 3912.0300503576873\n",
      "=================================\n"
     ]
    }
   ],
   "source": [
    "EIIE_results = {\n",
    "    \"20212024\": {},\n",
    "}\n",
    "\n",
    "# 2021 - 2024\n",
    "# Initialize the model\n",
    "model = OptDRLAgent(environment).get_model(\"pg\", device, model_kwargs, policy_kwargs)\n",
    "OptDRLAgent.DRL_validation(model, environment, policy=policy)\n",
    "EIIE_results[\"20212024\"][\"value\"] = environment._asset_memory[\"final\"]\n",
    "EIIE_results[\"20212024\"][\"date\"] = environment._date_memory\n",
    "\n",
    "\n",
    "\n",
    "# Write this out to a csv file, with date and net worth\n",
    "df_opt = pd.DataFrame(EIIE_results[\"20212024\"][\"value\"], columns=['opt_net_worth'])\n",
    "df_date = pd.DataFrame(EIIE_results[\"20212024\"][\"date\"], columns=['Date'])\n",
    "if len(df_opt) == len(df_date):\n",
    "    df_opt['Date'] = df_date['Date']\n",
    "else:\n",
    "    raise ValueError(\"DataFrames do not have the same number of rows.\")\n",
    "\n",
    "\n",
    "# The optimization algoirhtm has a shorter window than the full df, so shorted this for the follow algorithm\n",
    "opt_start = df_opt.loc[0,'Date']\n"
   ]
  },
  {
   "cell_type": "code",
   "execution_count": 5,
   "metadata": {},
   "outputs": [
    {
     "name": "stdout",
     "output_type": "stream",
     "text": [
      "     opt_net_worth       Date\n",
      "0     1.000000e+06 2023-02-07\n",
      "1     9.923262e+05 2023-02-08\n",
      "2     9.847312e+05 2023-02-09\n",
      "3     9.893354e+05 2023-02-10\n",
      "4     1.001233e+06 2023-02-13\n",
      "..             ...        ...\n",
      "409   1.211156e+06 2024-09-24\n",
      "410   1.204903e+06 2024-09-25\n",
      "411   1.212727e+06 2024-09-26\n",
      "412   1.219512e+06 2024-09-27\n",
      "413   1.218663e+06 2024-09-30\n",
      "\n",
      "[414 rows x 2 columns]\n"
     ]
    }
   ],
   "source": [
    "print(df_opt)"
   ]
  },
  {
   "cell_type": "code",
   "execution_count": 6,
   "metadata": {},
   "outputs": [
    {
     "name": "stdout",
     "output_type": "stream",
     "text": [
      "2023-02-07 00:00:00\n",
      "2024-09-30 00:00:00\n"
     ]
    }
   ],
   "source": [
    "opt_end = df_opt.loc[len(df_date)-1,'Date']\n",
    "\n",
    "print(opt_start)\n",
    "opt_start = opt_start.strftime('%Y-%m-%d %H:%M:%S')\n",
    "\n",
    "\n",
    "print(opt_end)\n",
    "opt_end = opt_end.strftime('%Y-%m-%d %H:%M:%S')"
   ]
  },
  {
   "cell_type": "markdown",
   "metadata": {},
   "source": [
    "# PPO On portfolio Opt"
   ]
  },
  {
   "cell_type": "code",
   "execution_count": 7,
   "metadata": {},
   "outputs": [],
   "source": [
    "from finrl.meta.env_portfolio_optimization.env_portfolio_opt_stable import PortfolioOptStableEnv\n",
    "\n",
    "\n",
    "# Fit for the portfolio optimization model\n",
    "\n",
    "from sklearn.preprocessing import MaxAbsScaler\n",
    "from finrl.meta.preprocessor.preprocessors import GroupByScaler\n",
    "\n",
    "from finrl.meta.preprocessor.preprocessors import data_split\n",
    "\n",
    "from datetime import datetime, timedelta\n",
    "# Make sure dates line up, TODO fix this for real dates\n",
    "# Make sure we only test on the same data as the portfolio optimization algorithm\n",
    "# Convert to datetime\n",
    "opt_start_date = datetime.strptime(opt_start, '%Y-%m-%d %H:%M:%S')\n",
    "\n",
    "# Subtract one day\n",
    "new_opt_start_date = opt_start_date - timedelta(days=1)\n",
    "\n",
    "# Convert back to string\n",
    "new_opt_start_str = new_opt_start_date.strftime('%Y-%m-%d %H:%M:%S')\n",
    "\n",
    "test = data_split(portfolio_norm_df, new_opt_start_str,opt_end)\n",
    "\n",
    "\n",
    "portfolio_norm_df = GroupByScaler(by=\"tic\", scaler=MaxAbsScaler).fit_transform(test)\n",
    "portfolio_norm_df\n",
    "\n",
    "\n",
    "environment_ppo = PortfolioOptStableEnv(\n",
    "    portfolio_norm_df,\n",
    "    initial_amount=INITIAL_CASH,\n",
    "    comission_fee_pct=COMMISSION_FEE_PERCENT,\n",
    "    # time_window=TIME_WINDOW,\n",
    "    features=[\"close\", \"high\", \"low\", 'macd',\n",
    "            'rsi_30',\n",
    "            'cci_30',\n",
    "            'dx_30'],\n",
    "    normalize_df=None\n",
    ")"
   ]
  },
  {
   "cell_type": "code",
   "execution_count": 8,
   "metadata": {},
   "outputs": [],
   "source": [
    "from stable_baselines3 import PPO\n",
    "from finrl.config import TRAINED_MODEL_DIR\n",
    "\n",
    "\n",
    "# Load the trained models\n",
    "# trained_ppo_opt = PPO.load(TRAINED_MODEL_DIR + \"/agent_opt_ppo_10_27\") \n",
    "\n",
    "trained_ppo_opt = PPO.load(TRAINED_MODEL_DIR + \"/agent_opt_ppo_20092021_features_11_1\") "
   ]
  },
  {
   "cell_type": "code",
   "execution_count": 9,
   "metadata": {},
   "outputs": [
    {
     "name": "stderr",
     "output_type": "stream",
     "text": [
      "c:\\Users\\bencj\\Desktop\\Econ4\\Thesis\\.venv\\lib\\site-packages\\stable_baselines3\\common\\vec_env\\patch_gym.py:49: UserWarning: You provided an OpenAI Gym environment. We strongly recommend transitioning to Gymnasium environments. Stable-Baselines3 is automatically wrapping your environments in a compatibility layer, which could potentially cause issues.\n",
      "  warnings.warn(\n"
     ]
    },
    {
     "name": "stdout",
     "output_type": "stream",
     "text": [
      "=================================\n",
      "Initial portfolio value:1000000\n",
      "Final portfolio value: 1218400.0\n",
      "Final accumulative portfolio value: 1.2184\n",
      "Maximum DrawDown: -0.08631822334472816\n",
      "Sharpe ratio: 1.1210863148921457\n",
      "Total commission cost: 3846.8853677919833\n",
      "=================================\n",
      "hit end!\n",
      "     ppo_opt_net_worth       Date\n",
      "0         1.000000e+06 2023-02-07\n",
      "1         9.925606e+05 2023-02-08\n",
      "2         9.860537e+05 2023-02-09\n",
      "3         9.890504e+05 2023-02-10\n",
      "4         1.000405e+06 2023-02-13\n",
      "..                 ...        ...\n",
      "409       1.211406e+06 2024-09-24\n",
      "410       1.205068e+06 2024-09-25\n",
      "411       1.214315e+06 2024-09-26\n",
      "412       1.220542e+06 2024-09-27\n",
      "413       1.218400e+06 2024-09-30\n",
      "\n",
      "[414 rows x 2 columns]\n"
     ]
    }
   ],
   "source": [
    "from finrl.agents.portfolio_optimization.models_stable import DRLStableAgent\n",
    "\n",
    "\n",
    "PPO_results = {\n",
    "    \"20212024\": {},\n",
    "}\n",
    "\n",
    "values, dates = DRLStableAgent.DRL_prediction(trained_ppo_opt, environment_ppo)\n",
    "PPO_results[\"20212024\"][\"value\"] = environment_ppo._terminal_asset_memory[\"final\"]\n",
    "PPO_results[\"20212024\"][\"date\"] = environment_ppo._terminal_date_memory\n",
    "\n",
    "\n",
    "# Write this out to a csv file, with date and net worth\n",
    "df_ppo_opt = pd.DataFrame(PPO_results[\"20212024\"][\"value\"], columns=['ppo_opt_net_worth'])\n",
    "df_ppo_date = pd.DataFrame(PPO_results[\"20212024\"][\"date\"], columns=['Date'])\n",
    "if len(df_ppo_opt) == len(df_ppo_date):\n",
    "    df_ppo_opt['Date'] = df_ppo_date['Date']\n",
    "else:\n",
    "    raise ValueError(\"DataFrames do not have the same number of rows.\")\n",
    "\n",
    "print(df_ppo_opt)\n",
    "\n",
    "\n",
    "# assert the dates line up\n",
    "assert df_opt.loc[0,'Date'] == df_ppo_opt.loc[0, 'Date']\n",
    "assert df_opt.loc[len(df_date)-1,'Date'] == df_ppo_opt.loc[len(df_ppo_opt)-1,'Date']"
   ]
  },
  {
   "cell_type": "code",
   "execution_count": 10,
   "metadata": {},
   "outputs": [
    {
     "data": {
      "text/plain": [
       "Timestamp('2023-02-07 00:00:00')"
      ]
     },
     "execution_count": 10,
     "metadata": {},
     "output_type": "execute_result"
    }
   ],
   "source": [
    "df_ppo_opt.loc[0, 'Date']"
   ]
  },
  {
   "cell_type": "code",
   "execution_count": 11,
   "metadata": {},
   "outputs": [
    {
     "data": {
      "text/plain": [
       "Timestamp('2023-02-07 00:00:00')"
      ]
     },
     "execution_count": 11,
     "metadata": {},
     "output_type": "execute_result"
    }
   ],
   "source": [
    "df_opt.loc[0,'Date']"
   ]
  },
  {
   "cell_type": "markdown",
   "metadata": {},
   "source": [
    "# Porfolio Baselines"
   ]
  },
  {
   "cell_type": "code",
   "execution_count": 12,
   "metadata": {},
   "outputs": [
    {
     "name": "stderr",
     "output_type": "stream",
     "text": [
      "c:\\Users\\bencj\\Desktop\\Econ4\\Thesis\\.venv\\lib\\site-packages\\stable_baselines3\\common\\vec_env\\patch_gym.py:49: UserWarning: You provided an OpenAI Gym environment. We strongly recommend transitioning to Gymnasium environments. Stable-Baselines3 is automatically wrapping your environments in a compatibility layer, which could potentially cause issues.\n",
      "  warnings.warn(\n"
     ]
    },
    {
     "name": "stdout",
     "output_type": "stream",
     "text": [
      "=================================\n",
      "Initial portfolio value:1000000\n",
      "Final portfolio value: 1218665.75\n",
      "Final accumulative portfolio value: 1.21866575\n",
      "Maximum DrawDown: -0.08721614497467833\n",
      "Sharpe ratio: 1.1430716045785774\n",
      "Total commission cost: 3912.1155717684887\n",
      "=================================\n",
      "hit end!\n",
      "     crp_opt_net_worth       Date\n",
      "0          1000000.000 2023-02-07\n",
      "1           992326.125 2023-02-08\n",
      "2           984731.125 2023-02-09\n",
      "3           989335.375 2023-02-10\n",
      "4          1001233.250 2023-02-13\n",
      "..                 ...        ...\n",
      "409        1211159.250 2024-09-24\n",
      "410        1204905.750 2024-09-25\n",
      "411        1212730.125 2024-09-26\n",
      "412        1219515.000 2024-09-27\n",
      "413        1218665.750 2024-09-30\n",
      "\n",
      "[414 rows x 2 columns]\n"
     ]
    }
   ],
   "source": [
    "# CRP \n",
    "\n",
    "CRP_results = {\n",
    "    \"20212024\": {},\n",
    "}\n",
    "\n",
    "environment_ppo.reset()\n",
    "agent_crp = DRLStableAgent(env = environment_ppo)\n",
    "model_crp = agent_crp.get_model(\"crp\", None, None)\n",
    "\n",
    "values, dates = DRLStableAgent.DRL_prediction(model_crp, environment_ppo)\n",
    "CRP_results[\"20212024\"][\"value\"] = environment_ppo._terminal_asset_memory[\"final\"]\n",
    "CRP_results[\"20212024\"][\"date\"] = environment_ppo._terminal_date_memory\n",
    "\n",
    "df_crp_opt = pd.DataFrame(CRP_results[\"20212024\"][\"value\"], columns=['crp_opt_net_worth'])\n",
    "df_crp_date = pd.DataFrame(CRP_results[\"20212024\"][\"date\"], columns=['Date'])\n",
    "if len(df_crp_opt) == len(df_crp_date):\n",
    "    df_crp_opt['Date'] = df_crp_date['Date']\n",
    "else:\n",
    "    raise ValueError(\"DataFrames do not have the same number of rows.\")\n",
    "\n",
    "print(df_crp_opt)\n",
    "\n",
    "\n",
    "# assert the dates line up\n",
    "assert df_opt.loc[0,'Date'] == df_crp_opt.loc[0, 'Date']\n",
    "assert df_opt.loc[len(df_date)-1,'Date'] == df_crp_opt.loc[len(df_crp_opt)-1,'Date']"
   ]
  },
  {
   "cell_type": "code",
   "execution_count": 13,
   "metadata": {},
   "outputs": [
    {
     "name": "stdout",
     "output_type": "stream",
     "text": [
      "[0.         0.03448276 0.03448276 0.03448276 0.03448276 0.03448276\n",
      " 0.03448276 0.03448276 0.03448276 0.03448276 0.03448276 0.03448276\n",
      " 0.03448276 0.03448276 0.03448276 0.03448276 0.03448276 0.03448276\n",
      " 0.03448276 0.03448276 0.03448276 0.03448276 0.03448276 0.03448276\n",
      " 0.03448276 0.03448276 0.03448276 0.03448276 0.03448276 0.03448276]\n"
     ]
    },
    {
     "name": "stderr",
     "output_type": "stream",
     "text": [
      "c:\\Users\\bencj\\Desktop\\Econ4\\Thesis\\.venv\\lib\\site-packages\\stable_baselines3\\common\\vec_env\\patch_gym.py:49: UserWarning: You provided an OpenAI Gym environment. We strongly recommend transitioning to Gymnasium environments. Stable-Baselines3 is automatically wrapping your environments in a compatibility layer, which could potentially cause issues.\n",
      "  warnings.warn(\n"
     ]
    },
    {
     "name": "stdout",
     "output_type": "stream",
     "text": [
      "=================================\n",
      "Initial portfolio value:1000000\n",
      "Final portfolio value: 1240770.125\n",
      "Final accumulative portfolio value: 1.240770125\n",
      "Maximum DrawDown: -0.08524969413273342\n",
      "Sharpe ratio: 1.2662263005202756\n",
      "Total commission cost: 0.0\n",
      "=================================\n",
      "hit end!\n",
      "     bah_opt_net_worth       Date\n",
      "0         1.000000e+06 2023-02-07\n",
      "1         9.923261e+05 2023-02-08\n",
      "2         9.847566e+05 2023-02-09\n",
      "3         9.893321e+05 2023-02-10\n",
      "4         1.001191e+06 2023-02-13\n",
      "..                 ...        ...\n",
      "409       1.235141e+06 2024-09-24\n",
      "410       1.229528e+06 2024-09-25\n",
      "411       1.236323e+06 2024-09-26\n",
      "412       1.240196e+06 2024-09-27\n",
      "413       1.240770e+06 2024-09-30\n",
      "\n",
      "[414 rows x 2 columns]\n"
     ]
    }
   ],
   "source": [
    "# BAH\n",
    "\n",
    "BAH_results = {\n",
    "    \"20212024\": {},\n",
    "}\n",
    "\n",
    "environment_ppo.reset()\n",
    "agent_bah = DRLStableAgent(env = environment_ppo)\n",
    "model_bah = agent_bah.get_model(\"bah\", None, None)\n",
    "\n",
    "values, dates = DRLStableAgent.DRL_prediction(model_bah, environment_ppo)\n",
    "BAH_results[\"20212024\"][\"value\"] = environment_ppo._terminal_asset_memory[\"final\"]\n",
    "BAH_results[\"20212024\"][\"date\"] = environment_ppo._terminal_date_memory\n",
    "\n",
    "df_bah_opt = pd.DataFrame(BAH_results[\"20212024\"][\"value\"], columns=['bah_opt_net_worth'])\n",
    "df_bah_date = pd.DataFrame(BAH_results[\"20212024\"][\"date\"], columns=['Date'])\n",
    "if len(df_bah_opt) == len(df_bah_date):\n",
    "    df_bah_opt['Date'] = df_bah_date['Date']\n",
    "else:\n",
    "    raise ValueError(\"DataFrames do not have the same number of rows.\")\n",
    "\n",
    "print(df_bah_opt)\n",
    "\n",
    "\n",
    "# assert the dates line up\n",
    "assert df_opt.loc[0,'Date'] == df_bah_opt.loc[0, 'Date']\n",
    "assert df_opt.loc[len(df_date)-1,'Date'] == df_bah_opt.loc[len(df_bah_opt)-1,'Date']"
   ]
  },
  {
   "cell_type": "code",
   "execution_count": 14,
   "metadata": {},
   "outputs": [
    {
     "name": "stderr",
     "output_type": "stream",
     "text": [
      "c:\\Users\\bencj\\Desktop\\Econ4\\Thesis\\.venv\\lib\\site-packages\\stable_baselines3\\common\\vec_env\\patch_gym.py:49: UserWarning: You provided an OpenAI Gym environment. We strongly recommend transitioning to Gymnasium environments. Stable-Baselines3 is automatically wrapping your environments in a compatibility layer, which could potentially cause issues.\n",
      "  warnings.warn(\n"
     ]
    },
    {
     "name": "stdout",
     "output_type": "stream",
     "text": [
      "=================================\n",
      "Initial portfolio value:1000000\n",
      "Final portfolio value: 1017686.4375\n",
      "Final accumulative portfolio value: 1.0176864375\n",
      "Maximum DrawDown: -0.29634723239397975\n",
      "Sharpe ratio: 0.19316979248298308\n",
      "Total commission cost: 530923.8047949041\n",
      "=================================\n",
      "hit end!\n",
      "     olmar_opt_net_worth       Date\n",
      "0           1.000000e+06 2023-02-07\n",
      "1           9.842364e+05 2023-02-08\n",
      "2           9.681319e+05 2023-02-09\n",
      "3           9.881464e+05 2023-02-10\n",
      "4           9.965369e+05 2023-02-13\n",
      "..                   ...        ...\n",
      "409         9.922206e+05 2024-09-24\n",
      "410         9.788021e+05 2024-09-25\n",
      "411         9.963288e+05 2024-09-26\n",
      "412         1.007476e+06 2024-09-27\n",
      "413         1.017686e+06 2024-09-30\n",
      "\n",
      "[414 rows x 2 columns]\n"
     ]
    }
   ],
   "source": [
    "# OLMAR\n",
    "\n",
    "OLMAR_results = {\n",
    "    \"20212024\": {},\n",
    "}\n",
    "\n",
    "OLMAR_kwargs = {\n",
    "    \"eps\": 10\n",
    "}\n",
    "\n",
    "\n",
    "environment_ppo.reset()\n",
    "agent_olmar = DRLStableAgent(env = environment_ppo)\n",
    "model_olmar = agent_olmar.get_model(\"olmar\", model_kwargs=OLMAR_kwargs)\n",
    "\n",
    "values, dates = DRLStableAgent.DRL_prediction(model_olmar, environment_ppo)\n",
    "OLMAR_results[\"20212024\"][\"value\"] = environment_ppo._terminal_asset_memory[\"final\"]\n",
    "OLMAR_results[\"20212024\"][\"date\"] = environment_ppo._terminal_date_memory\n",
    "\n",
    "df_olmar_opt = pd.DataFrame(OLMAR_results[\"20212024\"][\"value\"], columns=['olmar_opt_net_worth'])\n",
    "df_olmar_date = pd.DataFrame(OLMAR_results[\"20212024\"][\"date\"], columns=['Date'])\n",
    "if len(df_olmar_opt) == len(df_olmar_date):\n",
    "    df_olmar_opt['Date'] = df_olmar_date['Date']\n",
    "else:\n",
    "    raise ValueError(\"DataFrames do not have the same number of rows.\")\n",
    "\n",
    "print(df_olmar_opt)\n",
    "\n",
    "\n",
    "# assert the dates line up\n",
    "assert df_opt.loc[0,'Date'] == df_olmar_opt.loc[0, 'Date']\n",
    "assert df_opt.loc[len(df_date)-1,'Date'] == df_olmar_opt.loc[len(df_olmar_opt)-1,'Date']"
   ]
  },
  {
   "cell_type": "markdown",
   "metadata": {},
   "source": [
    "# Try BCRP extreme, which is the absolute best portfolio over the period with hindsight\n"
   ]
  },
  {
   "cell_type": "code",
   "execution_count": 15,
   "metadata": {},
   "outputs": [
    {
     "name": "stderr",
     "output_type": "stream",
     "text": [
      "c:\\Users\\bencj\\Desktop\\Econ4\\Thesis\\.venv\\lib\\site-packages\\stable_baselines3\\common\\vec_env\\patch_gym.py:49: UserWarning: You provided an OpenAI Gym environment. We strongly recommend transitioning to Gymnasium environments. Stable-Baselines3 is automatically wrapping your environments in a compatibility layer, which could potentially cause issues.\n",
      "  warnings.warn(\n"
     ]
    },
    {
     "name": "stdout",
     "output_type": "stream",
     "text": [
      "=================================\n",
      "Initial portfolio value:1000000\n",
      "Final portfolio value: 1605119.125\n",
      "Final accumulative portfolio value: 1.605119125\n",
      "Maximum DrawDown: -0.3111121921523836\n",
      "Sharpe ratio: 1.0583008387229396\n",
      "Total commission cost: 6.35860487818718e-07\n",
      "=================================\n",
      "hit end!\n",
      "     bcrp_opt_net_worth       Date\n",
      "0          1.000000e+06 2023-02-07\n",
      "1          9.903667e+05 2023-02-08\n",
      "2          1.013895e+06 2023-02-09\n",
      "3          9.751869e+05 2023-02-10\n",
      "4          9.988324e+05 2023-02-13\n",
      "..                  ...        ...\n",
      "409        1.585943e+06 2024-09-24\n",
      "410        1.607348e+06 2024-09-25\n",
      "411        1.617141e+06 2024-09-26\n",
      "412        1.622302e+06 2024-09-27\n",
      "413        1.605119e+06 2024-09-30\n",
      "\n",
      "[414 rows x 2 columns]\n"
     ]
    }
   ],
   "source": [
    "# bcrp\n",
    "\n",
    "BCRP_results = {\n",
    "    \"20212024\": {},\n",
    "}\n",
    "\n",
    "environment_ppo.reset()\n",
    "agent_bcrp= DRLStableAgent(env = environment_ppo)\n",
    "model_bcrp= agent_bcrp.get_model(\"bcrp\", None, None)\n",
    "\n",
    "values, dates = DRLStableAgent.DRL_prediction(model_bcrp, environment_ppo)\n",
    "BCRP_results[\"20212024\"][\"value\"] = environment_ppo._terminal_asset_memory[\"final\"]\n",
    "BCRP_results[\"20212024\"][\"date\"] = environment_ppo._terminal_date_memory\n",
    "\n",
    "df_bcrp_opt = pd.DataFrame(BCRP_results[\"20212024\"][\"value\"], columns=['bcrp_opt_net_worth'])\n",
    "df_bcrp_date = pd.DataFrame(BCRP_results[\"20212024\"][\"date\"], columns=['Date'])\n",
    "if len(df_bcrp_opt) == len(df_bcrp_date):\n",
    "    df_bcrp_opt['Date'] = df_bcrp_date['Date']\n",
    "else:\n",
    "    raise ValueError(\"DataFrames do not have the same number of rows.\")\n",
    "\n",
    "print(df_bcrp_opt)\n",
    "\n",
    "\n",
    "# assert the dates line up\n",
    "assert df_opt.loc[0,'Date'] == df_bcrp_opt.loc[0, 'Date']\n",
    "assert df_opt.loc[len(df_date)-1,'Date'] == df_bcrp_opt.loc[len(df_bcrp_opt)-1,'Date']"
   ]
  },
  {
   "cell_type": "markdown",
   "metadata": {},
   "source": [
    "# Stock environment optimization algorithm"
   ]
  },
  {
   "cell_type": "code",
   "execution_count": 16,
   "metadata": {},
   "outputs": [],
   "source": [
    "# from finrl.meta.preprocessor.preprocessors import data_split\n",
    "\n",
    "# Make sure we only test on the same data as the portfolio optimization algorithm\n",
    "# test = data_split(test, opt_start,opt_end)\n"
   ]
  },
  {
   "cell_type": "code",
   "execution_count": 17,
   "metadata": {},
   "outputs": [],
   "source": [
    "# from stable_baselines3 import PPO, TD3, A2C\n",
    "# from finrl.config import TRAINED_MODEL_DIR\n",
    "\n",
    "\n",
    "# # Load the trained models\n",
    "# trained_ppo = PPO.load(TRAINED_MODEL_DIR + \"/agent_ppo\") \n",
    "\n",
    "# trained_td3 = TD3.load(TRAINED_MODEL_DIR + \"/agent_td3\") \n",
    "\n",
    "# trained_a2c = A2C.load(TRAINED_MODEL_DIR + \"/agent_a2c\") "
   ]
  },
  {
   "cell_type": "code",
   "execution_count": 18,
   "metadata": {},
   "outputs": [],
   "source": [
    "# # Test out of sample performance\n",
    "\n",
    "# stock_dimension = len(test.tic.unique())\n",
    "# state_space = 1 + 2 * stock_dimension + len(INDICATORS) * stock_dimension\n",
    "# print(f\"Stock Dimension: {stock_dimension}, State Space: {state_space}\")"
   ]
  },
  {
   "cell_type": "code",
   "execution_count": 19,
   "metadata": {},
   "outputs": [],
   "source": [
    "# buy_cost_list = sell_cost_list = [COMMISSION_FEE_PERCENT] * stock_dimension\n",
    "# num_stock_shares = [0] * stock_dimension\n",
    "\n",
    "# env_kwargs = {\n",
    "#     \"hmax\": 100,\n",
    "#     \"initial_amount\": INITIAL_CASH,\n",
    "#     \"num_stock_shares\": num_stock_shares,\n",
    "#     \"buy_cost_pct\": buy_cost_list,\n",
    "#     \"sell_cost_pct\": sell_cost_list,\n",
    "#     \"state_space\": state_space,\n",
    "#     \"stock_dim\": stock_dimension,\n",
    "#     \"tech_indicator_list\": INDICATORS,\n",
    "#     \"action_space\": stock_dimension,\n",
    "#     \"reward_scaling\": 1e-4\n",
    "# }"
   ]
  },
  {
   "cell_type": "code",
   "execution_count": 20,
   "metadata": {},
   "outputs": [],
   "source": [
    "# e_trade_gym_ppo = StockTradingEnv(df = test, turbulence_threshold = 70, **env_kwargs)\n",
    "\n",
    "# df_account_value_ppo, df_actions_ppo = StockDRLAgent.DRL_prediction(\n",
    "#     model=trained_ppo, \n",
    "#     environment = e_trade_gym_ppo,\n",
    "#     deterministic=True)"
   ]
  },
  {
   "cell_type": "code",
   "execution_count": 21,
   "metadata": {},
   "outputs": [],
   "source": [
    "# df_account_value_ppo.rename(columns={'date': 'Date', 'account_value' : \"ppo_value\"}, inplace=True)\n",
    "# df_account_value_ppo"
   ]
  },
  {
   "cell_type": "code",
   "execution_count": 22,
   "metadata": {},
   "outputs": [],
   "source": [
    "# e_trade_gym_td3 = StockTradingEnv(df = test, turbulence_threshold = 70, **env_kwargs)\n",
    "\n",
    "# df_account_value_td3, df_actions_td3 = StockDRLAgent.DRL_prediction(\n",
    "#     model=trained_td3, \n",
    "#     environment = e_trade_gym_td3)"
   ]
  },
  {
   "cell_type": "code",
   "execution_count": 23,
   "metadata": {},
   "outputs": [],
   "source": [
    "# df_account_value_td3.rename(columns={'date': 'Date', 'account_value' : \"td3_value\"}, inplace=True)\n",
    "# df_account_value_td3"
   ]
  },
  {
   "cell_type": "code",
   "execution_count": 24,
   "metadata": {},
   "outputs": [],
   "source": [
    "\n",
    "# e_trade_gym_a2c = StockTradingEnv(df = test, turbulence_threshold = 70, **env_kwargs)\n",
    "\n",
    "# df_account_value_a2c, df_actions_a2c = StockDRLAgent.DRL_prediction(\n",
    "#     model=trained_a2c, \n",
    "#     environment = e_trade_gym_a2c)\n",
    "\n",
    "# df_account_value_a2c.rename(columns={'date': 'Date', 'account_value' : \"a2c_value\"}, inplace=True)\n",
    "# df_account_value_a2c"
   ]
  },
  {
   "cell_type": "code",
   "execution_count": 25,
   "metadata": {},
   "outputs": [
    {
     "name": "stderr",
     "output_type": "stream",
     "text": [
      "c:\\Users\\bencj\\Desktop\\Econ4\\Thesis\\.venv\\lib\\site-packages\\pyfolio\\pos.py:26: UserWarning: Module \"zipline.assets\" not found; mutltipliers will not be applied to position notionals.\n",
      "  warnings.warn(\n",
      "[*********************100%***********************]  1 of 1 completed"
     ]
    },
    {
     "name": "stdout",
     "output_type": "stream",
     "text": [
      "Shape of DataFrame:  (413, 8)\n",
      "Annual return          0.139579\n",
      "Cumulative returns     0.238791\n",
      "Annual volatility      0.110230\n",
      "Sharpe ratio           1.243522\n",
      "Calmar ratio           1.547827\n",
      "Stability              0.874604\n",
      "Max drawdown          -0.090178\n",
      "Omega ratio            1.226037\n",
      "Sortino ratio          1.819175\n",
      "Skew                        NaN\n",
      "Kurtosis                    NaN\n",
      "Tail ratio             1.072210\n",
      "Daily value at risk   -0.013344\n",
      "dtype: float64\n",
      "df_dji:            date           dji\n",
      "0   2023-02-07  1.000000e+06\n",
      "1   2023-02-08  9.939198e+05\n",
      "2   2023-02-09  9.866260e+05\n",
      "3   2023-02-10  9.915852e+05\n",
      "4   2023-02-13  1.002613e+06\n",
      "..         ...           ...\n",
      "409 2024-09-24  1.235723e+06\n",
      "410 2024-09-25  1.227131e+06\n",
      "411 2024-09-26  1.234754e+06\n",
      "412 2024-09-27  1.238791e+06\n",
      "413 2024-09-30           NaN\n",
      "\n",
      "[414 rows x 2 columns]\n",
      "df_dji:                       dji\n",
      "date                    \n",
      "2023-02-07  1.000000e+06\n",
      "2023-02-08  9.939198e+05\n",
      "2023-02-09  9.866260e+05\n",
      "2023-02-10  9.915852e+05\n",
      "2023-02-13  1.002613e+06\n",
      "...                  ...\n",
      "2024-09-24  1.235723e+06\n",
      "2024-09-25  1.227131e+06\n",
      "2024-09-26  1.234754e+06\n",
      "2024-09-27  1.238791e+06\n",
      "2024-09-30           NaN\n",
      "\n",
      "[414 rows x 1 columns]\n"
     ]
    },
    {
     "name": "stderr",
     "output_type": "stream",
     "text": [
      "\n"
     ]
    }
   ],
   "source": [
    "# Pull the DJI results\n",
    "\n",
    "from finrl.plot import backtest_stats, backtest_plot, get_daily_return, get_baseline\n",
    "\n",
    "\n",
    "df_dji_ = get_baseline(\n",
    "        ticker=\"^DJI\",\n",
    "        start = df_date.loc[0,'Date'],\n",
    "        end = df_date.loc[len(df_date)-1,'Date'])\n",
    "\n",
    "stats = backtest_stats(df_dji_, value_col_name = 'close')\n",
    "\n",
    "df_dji = pd.DataFrame()\n",
    "df_dji['date'] = df_date['Date']\n",
    "df_dji['dji'] = df_dji_['close'] / df_dji_['close'][0] * INITIAL_CASH\n",
    "print(\"df_dji: \", df_dji)\n",
    "df_dji.to_csv(\"df_dji.csv\")\n",
    "df_dji = df_dji.set_index(df_dji.columns[0])\n",
    "print(\"df_dji: \", df_dji)\n"
   ]
  },
  {
   "cell_type": "markdown",
   "metadata": {},
   "source": [
    "# Compare all results"
   ]
  },
  {
   "cell_type": "code",
   "execution_count": 26,
   "metadata": {},
   "outputs": [
    {
     "name": "stdout",
     "output_type": "stream",
     "text": [
      "                     dji\n",
      "date                    \n",
      "2023-02-07  1.000000e+06\n",
      "2023-02-08  9.939198e+05\n",
      "2023-02-09  9.866260e+05\n",
      "2023-02-10  9.915852e+05\n",
      "2023-02-13  1.002613e+06\n",
      "...                  ...\n",
      "2024-09-24  1.235723e+06\n",
      "2024-09-25  1.227131e+06\n",
      "2024-09-26  1.234754e+06\n",
      "2024-09-27  1.238791e+06\n",
      "2024-09-30           NaN\n",
      "\n",
      "[414 rows x 1 columns]\n",
      "     crp_opt_net_worth       Date  bcrp_opt_net_worth  bah_opt_net_worth  \\\n",
      "0          1000000.000 2023-02-07        1.000000e+06       1.000000e+06   \n",
      "1           992326.125 2023-02-08        9.903667e+05       9.923261e+05   \n",
      "2           984731.125 2023-02-09        1.013895e+06       9.847566e+05   \n",
      "3           989335.375 2023-02-10        9.751869e+05       9.893321e+05   \n",
      "4          1001233.250 2023-02-13        9.988324e+05       1.001191e+06   \n",
      "..                 ...        ...                 ...                ...   \n",
      "409        1211159.250 2024-09-24        1.585943e+06       1.235141e+06   \n",
      "410        1204905.750 2024-09-25        1.607348e+06       1.229528e+06   \n",
      "411        1212730.125 2024-09-26        1.617141e+06       1.236323e+06   \n",
      "412        1219515.000 2024-09-27        1.622302e+06       1.240196e+06   \n",
      "413        1218665.750 2024-09-30        1.605119e+06       1.240770e+06   \n",
      "\n",
      "     olmar_opt_net_worth  opt_net_worth  ppo_opt_net_worth           dji  \n",
      "0           1.000000e+06   1.000000e+06       1.000000e+06  1.000000e+06  \n",
      "1           9.842364e+05   9.923262e+05       9.925606e+05  9.939198e+05  \n",
      "2           9.681319e+05   9.847312e+05       9.860537e+05  9.866260e+05  \n",
      "3           9.881464e+05   9.893354e+05       9.890504e+05  9.915852e+05  \n",
      "4           9.965369e+05   1.001233e+06       1.000405e+06  1.002613e+06  \n",
      "..                   ...            ...                ...           ...  \n",
      "409         9.922206e+05   1.211156e+06       1.211406e+06  1.235723e+06  \n",
      "410         9.788021e+05   1.204903e+06       1.205068e+06  1.227131e+06  \n",
      "411         9.963288e+05   1.212727e+06       1.214315e+06  1.234754e+06  \n",
      "412         1.007476e+06   1.219512e+06       1.220542e+06  1.238791e+06  \n",
      "413         1.017686e+06   1.218663e+06       1.218400e+06           NaN  \n",
      "\n",
      "[414 rows x 8 columns]\n"
     ]
    }
   ],
   "source": [
    "# Join the online algorithms\n",
    "\n",
    "# bcrp = pd.read_csv('BCRP_net_worth.csv')\n",
    "# crp = pd.read_csv('CRP_net_worth.csv')\n",
    "\n",
    "\n",
    "# Merge the baseline CRP algorithm\n",
    "df_crp_opt['Date'] = pd.to_datetime(df_crp_opt['Date'])\n",
    "merged_df = df_crp_opt\n",
    "\n",
    "# Merge the baseline BCRP algorithm\n",
    "df_bcrp_opt['Date'] = pd.to_datetime(df_bcrp_opt['Date'])\n",
    "merged_df = pd.merge(merged_df, df_bcrp_opt, on='Date')\n",
    "\n",
    "# Merge the baseline BAH algorithm\n",
    "df_bah_opt['Date'] = pd.to_datetime(df_bah_opt['Date'])\n",
    "merged_df = pd.merge(merged_df, df_bah_opt, on='Date')\n",
    "\n",
    "# Merge the baseline OLMAR algorithm\n",
    "df_olmar_opt['Date'] = pd.to_datetime(df_olmar_opt['Date'])\n",
    "merged_df = pd.merge(merged_df, df_olmar_opt, on='Date')\n",
    "\n",
    "# Merge the opt algorithm\n",
    "df_opt['Date'] = pd.to_datetime(df_opt['Date'])\n",
    "merged_df = pd.merge(merged_df, df_opt, on='Date')\n",
    "\n",
    "# Merge the PPO opt algorithm\n",
    "df_ppo_opt['Date'] = pd.to_datetime(df_ppo_opt['Date'])\n",
    "merged_df = pd.merge(merged_df, df_ppo_opt, on='Date')\n",
    "\n",
    "\n",
    "\n",
    "\n",
    "print(df_dji)\n",
    "df_dji = df_dji.reset_index()\n",
    "df_dji.rename(columns={'date': 'Date'}, inplace=True)\n",
    "merged_df = pd.merge(merged_df, df_dji, on='Date')\n",
    "\n",
    "\n",
    "print(merged_df)\n"
   ]
  },
  {
   "cell_type": "markdown",
   "metadata": {},
   "source": [
    "# Baseline CRP in the environment"
   ]
  },
  {
   "cell_type": "code",
   "execution_count": null,
   "metadata": {},
   "outputs": [],
   "source": []
  },
  {
   "cell_type": "code",
   "execution_count": 27,
   "metadata": {},
   "outputs": [
    {
     "data": {
      "image/png": "[encoded data removed]",
      "text/plain": [
       "<Figure size 1400x700 with 1 Axes>"
      ]
     },
     "metadata": {},
     "output_type": "display_data"
    }
   ],
   "source": [
    "# Use the correct backend for Jupyter\n",
    "%matplotlib inline\n",
    "import matplotlib.pyplot as plt\n",
    "\n",
    "# TODO make sure all dates line up, fix CRP and OLMAR \n",
    "\n",
    "# Plot the DataFrame\n",
    "plt.figure(figsize=(14, 7))\n",
    "# plt.plot(merged_df['Date'], merged_df['bcrp_opt_net_worth'], label='BCRP Net Worth')\n",
    "# plt.plot(merged_df['Date'], merged_df['CRP_net_worth'], label='CRP Net Worth')# CRP and Opt net worth are basically on the same line\n",
    "plt.plot(merged_df['Date'], merged_df['crp_opt_net_worth'], label='CRP Net Worth')\n",
    "plt.plot(merged_df['Date'], merged_df['bah_opt_net_worth'], label='BAH Net Worth')\n",
    "plt.plot(merged_df['Date'], merged_df['olmar_opt_net_worth'], label='OLMAR Net Worth')\n",
    "\n",
    "# plt.plot(merged_df['Date'], merged_df['opt_net_worth'], label='Opt Net Worth')\n",
    "plt.plot(merged_df['Date'], merged_df['ppo_opt_net_worth'], label='PPO Opt Net Worth')\n",
    "# plt.plot(merged_df['Date'], merged_df['ppo_value'], label='PPO Value')\n",
    "# plt.plot(merged_df['Date'], merged_df['td3_value'], label='TD3 Value')\n",
    "# plt.plot(merged_df['Date'], merged_df['a2c_value'], label='A2C Value')\n",
    "plt.plot(merged_df['Date'], merged_df['dji'], label='dji Value')\n",
    "plt.xlabel('Date')\n",
    "plt.ylabel('Net Worth')\n",
    "plt.title('Portfolio Performance Over Time')\n",
    "plt.legend()\n",
    "plt.xticks(rotation=45)\n",
    "plt.grid(True)\n",
    "plt.tight_layout()\n",
    "plt.show()"
   ]
  },
  {
   "cell_type": "code",
   "execution_count": 28,
   "metadata": {},
   "outputs": [
    {
     "name": "stdout",
     "output_type": "stream",
     "text": [
      "{'BAH': 1240770.125,\n",
      " 'BCRP OPT': 1605119.125,\n",
      " 'CRP': 1218665.75,\n",
      " 'OLMAR': 1017686.4375,\n",
      " 'PPO': 1218400.0}\n"
     ]
    }
   ],
   "source": [
    "import pprint\n",
    "\n",
    "final_returns = {\n",
    "   'BCRP OPT': merged_df['bcrp_opt_net_worth'].iloc[-1],\n",
    "    'CRP': merged_df['crp_opt_net_worth'].iloc[-1],\n",
    "    'BAH': merged_df['bah_opt_net_worth'].iloc[-1],\n",
    "    'OLMAR': merged_df['olmar_opt_net_worth'].iloc[-1],\n",
    "   'PPO': merged_df['ppo_opt_net_worth'].iloc[-1]\n",
    "}\n",
    "\n",
    "pprint.pprint(final_returns)"
   ]
  },
  {
   "cell_type": "code",
   "execution_count": 29,
   "metadata": {},
   "outputs": [
    {
     "name": "stdout",
     "output_type": "stream",
     "text": [
      "{'BAH OPT': 1.0834195369230009,\n",
      " 'BCRP OPT': 0.997685853064267,\n",
      " 'CRP OPT': 0.9639731900535808,\n",
      " 'OLMAR': 0.13035560564933335,\n",
      " 'PPO Opt': 0.945605621433222}\n"
     ]
    }
   ],
   "source": [
    "import numpy as np\n",
    "import pprint\n",
    "\n",
    "# Calculate the returns each day\n",
    "\n",
    "# merged_df['BCRP_daily_return'] = merged_df['BCRP_net_worth'].pct_change()\n",
    "# merged_df['CRP_daily_return'] = merged_df['CRP_net_worth'].pct_change()\n",
    "merged_df['BCRP_opt_daily_return'] = merged_df['bcrp_opt_net_worth'].pct_change()\n",
    "merged_df['CRP_opt_daily_return'] = merged_df['crp_opt_net_worth'].pct_change()\n",
    "merged_df['BAH_opt_daily_return'] = merged_df['bah_opt_net_worth'].pct_change()\n",
    "merged_df['OLMAR_opt_daily_return'] = merged_df['olmar_opt_net_worth'].pct_change()\n",
    "\n",
    "# merged_df['OLMAR_daily_return'] = merged_df['OLMAR_net_worth'].pct_change()\n",
    "merged_df['opt_daily_return'] = merged_df['opt_net_worth'].pct_change()\n",
    "merged_df['ppo_opt_daily_return'] = merged_df['ppo_opt_net_worth'].pct_change()\n",
    "\n",
    "# TODO need to put in the fama french\n",
    "\n",
    "# Define the risk-free rate (annual, for example, 2%)\n",
    "risk_free_rate = 0.02 / 252  # Convert annual risk-free rate to daily\n",
    "\n",
    "# Define a function to calculate Sharpe ratio adjusted for the risk-free rate\n",
    "def calculate_sharpe_ratio(returns, risk_free_rate):\n",
    "    excess_return = returns - risk_free_rate\n",
    "    mean_excess_return = excess_return.mean()\n",
    "    std_excess_return = excess_return.std()\n",
    "    annual_factor = np.sqrt(252)  # Assuming 252 trading days in a year\n",
    "    sharpe_ratio = annual_factor * mean_excess_return / std_excess_return\n",
    "    return sharpe_ratio\n",
    "\n",
    "# Calculate the Sharpe ratio for each daily return column\n",
    "sharpe_ratios = {\n",
    "    # 'BCRP': calculate_sharpe_ratio(merged_df['BCRP_daily_return'], risk_free_rate),\n",
    "    # 'CRP': calculate_sharpe_ratio(merged_df['CRP_daily_return'], risk_free_rate),\n",
    "    'BCRP OPT': calculate_sharpe_ratio(merged_df['BCRP_opt_daily_return'], risk_free_rate),\n",
    "    'CRP OPT': calculate_sharpe_ratio(merged_df['CRP_opt_daily_return'], risk_free_rate),\n",
    "    'BAH OPT': calculate_sharpe_ratio(merged_df['BAH_opt_daily_return'], risk_free_rate),\n",
    "    'OLMAR': calculate_sharpe_ratio(merged_df['OLMAR_opt_daily_return'], risk_free_rate),\n",
    "    # 'OLMAR old': calculate_sharpe_ratio(merged_df['OLMAR_daily_return'], risk_free_rate),\n",
    "    # 'Opt': calculate_sharpe_ratio(merged_df['opt_daily_return'], risk_free_rate),\n",
    "    'PPO Opt': calculate_sharpe_ratio(merged_df['ppo_opt_daily_return'], risk_free_rate),\n",
    "\n",
    "}\n",
    "\n",
    "pprint.pprint(sharpe_ratios)"
   ]
  },
  {
   "cell_type": "code",
   "execution_count": 30,
   "metadata": {},
   "outputs": [
    {
     "name": "stdout",
     "output_type": "stream",
     "text": [
      "{'BAH Opt': -0.08524969413273342,\n",
      " 'BCRP Opt': -0.3111121921523836,\n",
      " 'CRP Opt': -0.08721614497467833,\n",
      " 'OLMAR Opt': -0.29634723239397975,\n",
      " 'PPO Opt': -0.08631822334472816}\n"
     ]
    }
   ],
   "source": [
    "import pandas as pd\n",
    "import numpy as np\n",
    "\n",
    "# Assuming merged_df is your DataFrame\n",
    "# Calculate the max drawdown for each specified column\n",
    "def max_drawdown(series):\n",
    "    cumulative_returns = series.cummax()\n",
    "    drawdowns = series / cumulative_returns - 1\n",
    "    max_drawdown_value = drawdowns.min()\n",
    "    return max_drawdown_value\n",
    "\n",
    "max_drawdowns = {\n",
    "    # 'BCRP': max_drawdown(merged_df['BCRP_net_worth']),\n",
    "    # 'CRP': max_drawdown(merged_df['CRP_net_worth']),\n",
    "    'BCRP Opt': max_drawdown(merged_df['bcrp_opt_net_worth']),\n",
    "    'CRP Opt': max_drawdown(merged_df['crp_opt_net_worth']),\n",
    "    'BAH Opt': max_drawdown(merged_df['bah_opt_net_worth']),\n",
    "    'OLMAR Opt': max_drawdown(merged_df['olmar_opt_net_worth']),\n",
    "    # 'Opt': max_drawdown(merged_df['opt_net_worth']),\n",
    "    'PPO Opt': max_drawdown(merged_df['ppo_opt_net_worth']),\n",
    "}\n",
    "\n",
    "pprint.pprint(max_drawdowns)\n"
   ]
  },
  {
   "cell_type": "code",
   "execution_count": 31,
   "metadata": {},
   "outputs": [
    {
     "name": "stdout",
     "output_type": "stream",
     "text": [
      "                 sum_sq     df        F    PR(>F)\n",
      "Portfolio  3.649928e-07    1.0  0.00749  0.931056\n",
      "Residual   4.015566e-02  824.0      NaN       NaN\n"
     ]
    }
   ],
   "source": [
    "import pandas as pd\n",
    "import numpy as np\n",
    "import statsmodels.api as sm\n",
    "from statsmodels.formula.api import ols\n",
    "\n",
    "\n",
    "# TODO can we do a statisitical significance test with anova here?\n",
    "ANOVA_cols = ['ppo_opt_daily_return', 'BAH_opt_daily_return']\n",
    "cols = ['Date',] + ANOVA_cols\n",
    "\n",
    "\n",
    "df_selected = merged_df[cols]\n",
    "\n",
    "# Assuming merged_df is your DataFrame and daily returns have already been calculated\n",
    "# Combine all return columns into one DataFrame for ANOVA\n",
    "returns_long = df_selected.melt(\n",
    "    id_vars=['Date'], \n",
    "    value_vars=ANOVA_cols,\n",
    "    var_name='Portfolio', \n",
    "    value_name='Daily_Return'\n",
    ")\n",
    "\n",
    "# Remove any NaN values created by pct_change()\n",
    "returns_long.dropna(inplace=True)\n",
    "\n",
    "# Perform ANOVA\n",
    "model = ols('Daily_Return ~ Portfolio', data=returns_long).fit()\n",
    "anova_result = sm.stats.anova_lm(model, typ=2)\n",
    "\n",
    "# Display the summary of the ANOVA\n",
    "pprint.pprint(anova_result)\n",
    "\n",
    "# The results do seem to be statisitcally significant\n"
   ]
  },
  {
   "cell_type": "code",
   "execution_count": 32,
   "metadata": {},
   "outputs": [
    {
     "data": {
      "text/plain": [
       "0           NaN\n",
       "1     -0.007439\n",
       "2     -0.006556\n",
       "3      0.003039\n",
       "4      0.011480\n",
       "         ...   \n",
       "409    0.001942\n",
       "410   -0.005232\n",
       "411    0.007673\n",
       "412    0.005128\n",
       "413   -0.001755\n",
       "Name: ppo_opt_daily_return, Length: 414, dtype: float64"
      ]
     },
     "execution_count": 32,
     "metadata": {},
     "output_type": "execute_result"
    }
   ],
   "source": [
    "merged_df['ppo_opt_daily_return']"
   ]
  },
  {
   "cell_type": "code",
   "execution_count": 33,
   "metadata": {},
   "outputs": [
    {
     "name": "stdout",
     "output_type": "stream",
     "text": [
      "1     -0.007674\n",
      "2     -0.007628\n",
      "3      0.004646\n",
      "4      0.011987\n",
      "5     -0.003882\n",
      "         ...   \n",
      "409    0.002198\n",
      "410   -0.004544\n",
      "411    0.005526\n",
      "412    0.003133\n",
      "413    0.000463\n",
      "Name: BAH_opt_daily_return, Length: 413, dtype: float64\n",
      "t-statistic: -0.08654308408147186\n",
      "p-value: 0.931055733240485\n"
     ]
    }
   ],
   "source": [
    "from scipy import stats\n",
    "\n",
    "df_ppo = merged_df['ppo_opt_daily_return'].dropna() \n",
    "df_bah = merged_df['BAH_opt_daily_return'].dropna()\n",
    "\n",
    "print(df_bah)\n",
    "\n",
    "t_stat, p_value = stats.ttest_ind(df_ppo, df_bah) \n",
    "\n",
    "print(f\"t-statistic: {t_stat}\") \n",
    "print(f\"p-value: {p_value}\")"
   ]
  }
 ],
 "metadata": {
  "kernelspec": {
   "display_name": ".venv",
   "language": "python",
   "name": "python3"
  },
  "language_info": {
   "codemirror_mode": {
    "name": "ipython",
    "version": 3
   },
   "file_extension": ".py",
   "mimetype": "text/x-python",
   "name": "python",
   "nbconvert_exporter": "python",
   "pygments_lexer": "ipython3",
   "version": "3.10.0"
  }
 },
 "nbformat": 4,
 "nbformat_minor": 2
}
