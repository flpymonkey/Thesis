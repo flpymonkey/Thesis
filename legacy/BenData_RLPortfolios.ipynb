{
 "cells": [
  {
   "cell_type": "code",
   "execution_count": 24,
   "metadata": {},
   "outputs": [],
   "source": [
    "# Install the unstable development version in Jupyter notebook:\n",
    "\n",
    "#!pip install git+https://github.com/AI4Finance-LLC/FinRL-Library.git\n",
    "\n",
    "# https://github.com/AI4Finance-Foundation/FinRL/blob/master/examples/FinRL_PortfolioOptimizationEnv_Demo.ipynb\n",
    "\n",
    "# import packages\n",
    "import torch\n",
    "\n",
    "import numpy as np\n",
    "\n",
    "from sklearn.preprocessing import MaxAbsScaler\n",
    "\n",
    "from finrl.meta.preprocessor.yahoodownloader import YahooDownloader\n",
    "from finrl.meta.preprocessor.preprocessors import GroupByScaler\n",
    "from finrl.meta.env_portfolio_optimization.env_portfolio_optimization import PortfolioOptimizationEnv\n",
    "from finrl.agents.portfolio_optimization.models import DRLAgent\n",
    "from finrl.agents.portfolio_optimization.architectures import EIIE\n",
    "\n",
    "\n",
    "device = 'cuda:0' if torch.cuda.is_available() else 'cpu'\n",
    "\n"
   ]
  },
  {
   "cell_type": "code",
   "execution_count": 25,
   "metadata": {},
   "outputs": [
    {
     "name": "stderr",
     "output_type": "stream",
     "text": [
      "[*********************100%***********************]  1 of 1 completed\n",
      "[*********************100%***********************]  1 of 1 completed\n",
      "[*********************100%***********************]  1 of 1 completed"
     ]
    },
    {
     "name": "stdout",
     "output_type": "stream",
     "text": [
      "10\n"
     ]
    },
    {
     "name": "stderr",
     "output_type": "stream",
     "text": [
      "\n",
      "[*********************100%***********************]  1 of 1 completed\n",
      "[*********************100%***********************]  1 of 1 completed\n",
      "[*********************100%***********************]  1 of 1 completed\n",
      "[*********************100%***********************]  1 of 1 completed\n",
      "[*********************100%***********************]  1 of 1 completed\n",
      "[*********************100%***********************]  1 of 1 completed\n",
      "[*********************100%***********************]  1 of 1 completed\n"
     ]
    },
    {
     "name": "stdout",
     "output_type": "stream",
     "text": [
      "Shape of DataFrame:  (29780, 8)\n"
     ]
    },
    {
     "data": {
      "text/html": [
       "<div>\n",
       "<style scoped>\n",
       "    .dataframe tbody tr th:only-of-type {\n",
       "        vertical-align: middle;\n",
       "    }\n",
       "\n",
       "    .dataframe tbody tr th {\n",
       "        vertical-align: top;\n",
       "    }\n",
       "\n",
       "    .dataframe thead th {\n",
       "        text-align: right;\n",
       "    }\n",
       "</style>\n",
       "<table border=\"1\" class=\"dataframe\">\n",
       "  <thead>\n",
       "    <tr style=\"text-align: right;\">\n",
       "      <th></th>\n",
       "      <th>date</th>\n",
       "      <th>open</th>\n",
       "      <th>high</th>\n",
       "      <th>low</th>\n",
       "      <th>close</th>\n",
       "      <th>volume</th>\n",
       "      <th>tic</th>\n",
       "      <th>day</th>\n",
       "    </tr>\n",
       "  </thead>\n",
       "  <tbody>\n",
       "    <tr>\n",
       "      <th>0</th>\n",
       "      <td>2011-01-03</td>\n",
       "      <td>8.632311</td>\n",
       "      <td>8.728203</td>\n",
       "      <td>8.630313</td>\n",
       "      <td>5.226993</td>\n",
       "      <td>576145</td>\n",
       "      <td>ABEV3.SA</td>\n",
       "      <td>0</td>\n",
       "    </tr>\n",
       "    <tr>\n",
       "      <th>1</th>\n",
       "      <td>2011-01-03</td>\n",
       "      <td>15.750000</td>\n",
       "      <td>15.900000</td>\n",
       "      <td>15.690000</td>\n",
       "      <td>6.245201</td>\n",
       "      <td>6626800</td>\n",
       "      <td>BBAS3.SA</td>\n",
       "      <td>0</td>\n",
       "    </tr>\n",
       "    <tr>\n",
       "      <th>2</th>\n",
       "      <td>2011-01-03</td>\n",
       "      <td>11.809763</td>\n",
       "      <td>11.927362</td>\n",
       "      <td>11.724237</td>\n",
       "      <td>6.369363</td>\n",
       "      <td>10862336</td>\n",
       "      <td>BBDC4.SA</td>\n",
       "      <td>0</td>\n",
       "    </tr>\n",
       "    <tr>\n",
       "      <th>3</th>\n",
       "      <td>2011-01-03</td>\n",
       "      <td>18.031555</td>\n",
       "      <td>18.250118</td>\n",
       "      <td>17.963253</td>\n",
       "      <td>10.273070</td>\n",
       "      <td>10014663</td>\n",
       "      <td>ITUB4.SA</td>\n",
       "      <td>0</td>\n",
       "    </tr>\n",
       "    <tr>\n",
       "      <th>4</th>\n",
       "      <td>2011-01-03</td>\n",
       "      <td>8.422694</td>\n",
       "      <td>8.629907</td>\n",
       "      <td>8.422694</td>\n",
       "      <td>6.115660</td>\n",
       "      <td>3652542</td>\n",
       "      <td>LREN3.SA</td>\n",
       "      <td>0</td>\n",
       "    </tr>\n",
       "    <tr>\n",
       "      <th>...</th>\n",
       "      <td>...</td>\n",
       "      <td>...</td>\n",
       "      <td>...</td>\n",
       "      <td>...</td>\n",
       "      <td>...</td>\n",
       "      <td>...</td>\n",
       "      <td>...</td>\n",
       "      <td>...</td>\n",
       "    </tr>\n",
       "    <tr>\n",
       "      <th>29775</th>\n",
       "      <td>2022-12-29</td>\n",
       "      <td>24.990000</td>\n",
       "      <td>25.049999</td>\n",
       "      <td>24.430000</td>\n",
       "      <td>16.668444</td>\n",
       "      <td>57901800</td>\n",
       "      <td>PETR4.SA</td>\n",
       "      <td>3</td>\n",
       "    </tr>\n",
       "    <tr>\n",
       "      <th>29776</th>\n",
       "      <td>2022-12-29</td>\n",
       "      <td>37.250000</td>\n",
       "      <td>37.480000</td>\n",
       "      <td>36.619999</td>\n",
       "      <td>37.150330</td>\n",
       "      <td>7890300</td>\n",
       "      <td>PRIO3.SA</td>\n",
       "      <td>3</td>\n",
       "    </tr>\n",
       "    <tr>\n",
       "      <th>29777</th>\n",
       "      <td>2022-12-29</td>\n",
       "      <td>54.300869</td>\n",
       "      <td>55.776001</td>\n",
       "      <td>52.626392</td>\n",
       "      <td>50.361671</td>\n",
       "      <td>8786791</td>\n",
       "      <td>RENT3.SA</td>\n",
       "      <td>3</td>\n",
       "    </tr>\n",
       "    <tr>\n",
       "      <th>29778</th>\n",
       "      <td>2022-12-29</td>\n",
       "      <td>89.000000</td>\n",
       "      <td>89.949997</td>\n",
       "      <td>88.830002</td>\n",
       "      <td>77.194092</td>\n",
       "      <td>40110800</td>\n",
       "      <td>VALE3.SA</td>\n",
       "      <td>3</td>\n",
       "    </tr>\n",
       "    <tr>\n",
       "      <th>29779</th>\n",
       "      <td>2022-12-29</td>\n",
       "      <td>38.840000</td>\n",
       "      <td>38.990002</td>\n",
       "      <td>38.250000</td>\n",
       "      <td>37.281887</td>\n",
       "      <td>6444500</td>\n",
       "      <td>WEGE3.SA</td>\n",
       "      <td>3</td>\n",
       "    </tr>\n",
       "  </tbody>\n",
       "</table>\n",
       "<p>29780 rows × 8 columns</p>\n",
       "</div>"
      ],
      "text/plain": [
       "             date       open       high        low      close    volume  \\\n",
       "0      2011-01-03   8.632311   8.728203   8.630313   5.226993    576145   \n",
       "1      2011-01-03  15.750000  15.900000  15.690000   6.245201   6626800   \n",
       "2      2011-01-03  11.809763  11.927362  11.724237   6.369363  10862336   \n",
       "3      2011-01-03  18.031555  18.250118  17.963253  10.273070  10014663   \n",
       "4      2011-01-03   8.422694   8.629907   8.422694   6.115660   3652542   \n",
       "...           ...        ...        ...        ...        ...       ...   \n",
       "29775  2022-12-29  24.990000  25.049999  24.430000  16.668444  57901800   \n",
       "29776  2022-12-29  37.250000  37.480000  36.619999  37.150330   7890300   \n",
       "29777  2022-12-29  54.300869  55.776001  52.626392  50.361671   8786791   \n",
       "29778  2022-12-29  89.000000  89.949997  88.830002  77.194092  40110800   \n",
       "29779  2022-12-29  38.840000  38.990002  38.250000  37.281887   6444500   \n",
       "\n",
       "            tic  day  \n",
       "0      ABEV3.SA    0  \n",
       "1      BBAS3.SA    0  \n",
       "2      BBDC4.SA    0  \n",
       "3      ITUB4.SA    0  \n",
       "4      LREN3.SA    0  \n",
       "...         ...  ...  \n",
       "29775  PETR4.SA    3  \n",
       "29776  PRIO3.SA    3  \n",
       "29777  RENT3.SA    3  \n",
       "29778  VALE3.SA    3  \n",
       "29779  WEGE3.SA    3  \n",
       "\n",
       "[29780 rows x 8 columns]"
      ]
     },
     "execution_count": 25,
     "metadata": {},
     "output_type": "execute_result"
    }
   ],
   "source": [
    "TOP_BRL = [\n",
    "    \"VALE3.SA\", \"PETR4.SA\", \"ITUB4.SA\", \"BBDC4.SA\",\n",
    "    \"BBAS3.SA\", \"RENT3.SA\", \"LREN3.SA\", \"PRIO3.SA\",\n",
    "    \"WEGE3.SA\", \"ABEV3.SA\"\n",
    "]\n",
    "\n",
    "\n",
    "print(len(TOP_BRL))\n",
    "\n",
    "portfolio_raw_df = YahooDownloader(start_date = '2011-01-01',\n",
    "                                end_date = '2022-12-31',\n",
    "                                ticker_list = TOP_BRL).fetch_data()\n",
    "portfolio_raw_df"
   ]
  },
  {
   "cell_type": "code",
   "execution_count": 26,
   "metadata": {},
   "outputs": [
    {
     "data": {
      "text/html": [
       "<div>\n",
       "<style scoped>\n",
       "    .dataframe tbody tr th:only-of-type {\n",
       "        vertical-align: middle;\n",
       "    }\n",
       "\n",
       "    .dataframe tbody tr th {\n",
       "        vertical-align: top;\n",
       "    }\n",
       "\n",
       "    .dataframe thead th {\n",
       "        text-align: right;\n",
       "    }\n",
       "</style>\n",
       "<table border=\"1\" class=\"dataframe\">\n",
       "  <thead>\n",
       "    <tr style=\"text-align: right;\">\n",
       "      <th></th>\n",
       "      <th>date</th>\n",
       "      <th>open</th>\n",
       "      <th>high</th>\n",
       "      <th>low</th>\n",
       "      <th>close</th>\n",
       "      <th>volume</th>\n",
       "      <th>day</th>\n",
       "    </tr>\n",
       "    <tr>\n",
       "      <th>tic</th>\n",
       "      <th></th>\n",
       "      <th></th>\n",
       "      <th></th>\n",
       "      <th></th>\n",
       "      <th></th>\n",
       "      <th></th>\n",
       "      <th></th>\n",
       "    </tr>\n",
       "  </thead>\n",
       "  <tbody>\n",
       "    <tr>\n",
       "      <th>ABEV3.SA</th>\n",
       "      <td>2978</td>\n",
       "      <td>2978</td>\n",
       "      <td>2978</td>\n",
       "      <td>2978</td>\n",
       "      <td>2978</td>\n",
       "      <td>2978</td>\n",
       "      <td>2978</td>\n",
       "    </tr>\n",
       "    <tr>\n",
       "      <th>BBAS3.SA</th>\n",
       "      <td>2978</td>\n",
       "      <td>2978</td>\n",
       "      <td>2978</td>\n",
       "      <td>2978</td>\n",
       "      <td>2978</td>\n",
       "      <td>2978</td>\n",
       "      <td>2978</td>\n",
       "    </tr>\n",
       "    <tr>\n",
       "      <th>BBDC4.SA</th>\n",
       "      <td>2978</td>\n",
       "      <td>2978</td>\n",
       "      <td>2978</td>\n",
       "      <td>2978</td>\n",
       "      <td>2978</td>\n",
       "      <td>2978</td>\n",
       "      <td>2978</td>\n",
       "    </tr>\n",
       "    <tr>\n",
       "      <th>ITUB4.SA</th>\n",
       "      <td>2978</td>\n",
       "      <td>2978</td>\n",
       "      <td>2978</td>\n",
       "      <td>2978</td>\n",
       "      <td>2978</td>\n",
       "      <td>2978</td>\n",
       "      <td>2978</td>\n",
       "    </tr>\n",
       "    <tr>\n",
       "      <th>LREN3.SA</th>\n",
       "      <td>2978</td>\n",
       "      <td>2978</td>\n",
       "      <td>2978</td>\n",
       "      <td>2978</td>\n",
       "      <td>2978</td>\n",
       "      <td>2978</td>\n",
       "      <td>2978</td>\n",
       "    </tr>\n",
       "    <tr>\n",
       "      <th>PETR4.SA</th>\n",
       "      <td>2978</td>\n",
       "      <td>2978</td>\n",
       "      <td>2978</td>\n",
       "      <td>2978</td>\n",
       "      <td>2978</td>\n",
       "      <td>2978</td>\n",
       "      <td>2978</td>\n",
       "    </tr>\n",
       "    <tr>\n",
       "      <th>PRIO3.SA</th>\n",
       "      <td>2978</td>\n",
       "      <td>2978</td>\n",
       "      <td>2978</td>\n",
       "      <td>2978</td>\n",
       "      <td>2978</td>\n",
       "      <td>2978</td>\n",
       "      <td>2978</td>\n",
       "    </tr>\n",
       "    <tr>\n",
       "      <th>RENT3.SA</th>\n",
       "      <td>2978</td>\n",
       "      <td>2978</td>\n",
       "      <td>2978</td>\n",
       "      <td>2978</td>\n",
       "      <td>2978</td>\n",
       "      <td>2978</td>\n",
       "      <td>2978</td>\n",
       "    </tr>\n",
       "    <tr>\n",
       "      <th>VALE3.SA</th>\n",
       "      <td>2978</td>\n",
       "      <td>2978</td>\n",
       "      <td>2978</td>\n",
       "      <td>2978</td>\n",
       "      <td>2978</td>\n",
       "      <td>2978</td>\n",
       "      <td>2978</td>\n",
       "    </tr>\n",
       "    <tr>\n",
       "      <th>WEGE3.SA</th>\n",
       "      <td>2978</td>\n",
       "      <td>2978</td>\n",
       "      <td>2978</td>\n",
       "      <td>2978</td>\n",
       "      <td>2978</td>\n",
       "      <td>2978</td>\n",
       "      <td>2978</td>\n",
       "    </tr>\n",
       "  </tbody>\n",
       "</table>\n",
       "</div>"
      ],
      "text/plain": [
       "          date  open  high   low  close  volume   day\n",
       "tic                                                  \n",
       "ABEV3.SA  2978  2978  2978  2978   2978    2978  2978\n",
       "BBAS3.SA  2978  2978  2978  2978   2978    2978  2978\n",
       "BBDC4.SA  2978  2978  2978  2978   2978    2978  2978\n",
       "ITUB4.SA  2978  2978  2978  2978   2978    2978  2978\n",
       "LREN3.SA  2978  2978  2978  2978   2978    2978  2978\n",
       "PETR4.SA  2978  2978  2978  2978   2978    2978  2978\n",
       "PRIO3.SA  2978  2978  2978  2978   2978    2978  2978\n",
       "RENT3.SA  2978  2978  2978  2978   2978    2978  2978\n",
       "VALE3.SA  2978  2978  2978  2978   2978    2978  2978\n",
       "WEGE3.SA  2978  2978  2978  2978   2978    2978  2978"
      ]
     },
     "execution_count": 26,
     "metadata": {},
     "output_type": "execute_result"
    }
   ],
   "source": [
    "portfolio_raw_df.groupby(\"tic\").count()"
   ]
  },
  {
   "cell_type": "code",
   "execution_count": 27,
   "metadata": {},
   "outputs": [
    {
     "name": "stderr",
     "output_type": "stream",
     "text": [
      "c:\\Users\\bencj\\Desktop\\Econ4\\Thesis\\.venv\\lib\\site-packages\\finrl\\meta\\preprocessor\\preprocessors.py:101: FutureWarning: Setting an item of incompatible dtype is deprecated and will raise an error in a future version of pandas. Value '[0.00200262 0.00114137 0.0010422  ... 0.04565734 0.05214546 0.07760399]' has dtype incompatible with int64, please explicitly cast to a compatible dtype first.\n",
      "  X.loc[select_mask, self.columns] = self.scalers[value].transform(\n",
      "c:\\Users\\bencj\\Desktop\\Econ4\\Thesis\\.venv\\lib\\site-packages\\finrl\\meta\\preprocessor\\preprocessors.py:101: FutureWarning: Setting an item of incompatible dtype is deprecated and will raise an error in a future version of pandas. Value '[0.   0.25 0.5  ... 0.25 0.5  0.75]' has dtype incompatible with int32, please explicitly cast to a compatible dtype first.\n",
      "  X.loc[select_mask, self.columns] = self.scalers[value].transform(\n"
     ]
    },
    {
     "data": {
      "text/html": [
       "<div>\n",
       "<style scoped>\n",
       "    .dataframe tbody tr th:only-of-type {\n",
       "        vertical-align: middle;\n",
       "    }\n",
       "\n",
       "    .dataframe tbody tr th {\n",
       "        vertical-align: top;\n",
       "    }\n",
       "\n",
       "    .dataframe thead th {\n",
       "        text-align: right;\n",
       "    }\n",
       "</style>\n",
       "<table border=\"1\" class=\"dataframe\">\n",
       "  <thead>\n",
       "    <tr style=\"text-align: right;\">\n",
       "      <th></th>\n",
       "      <th>date</th>\n",
       "      <th>open</th>\n",
       "      <th>high</th>\n",
       "      <th>low</th>\n",
       "      <th>close</th>\n",
       "      <th>volume</th>\n",
       "      <th>tic</th>\n",
       "      <th>day</th>\n",
       "    </tr>\n",
       "  </thead>\n",
       "  <tbody>\n",
       "    <tr>\n",
       "      <th>0</th>\n",
       "      <td>2011-01-03</td>\n",
       "      <td>0.353928</td>\n",
       "      <td>0.355383</td>\n",
       "      <td>0.359147</td>\n",
       "      <td>0.270062</td>\n",
       "      <td>0.002003</td>\n",
       "      <td>ABEV3.SA</td>\n",
       "      <td>0.00</td>\n",
       "    </tr>\n",
       "    <tr>\n",
       "      <th>1</th>\n",
       "      <td>2011-01-03</td>\n",
       "      <td>0.566547</td>\n",
       "      <td>0.568771</td>\n",
       "      <td>0.572419</td>\n",
       "      <td>0.320274</td>\n",
       "      <td>0.014581</td>\n",
       "      <td>BBAS3.SA</td>\n",
       "      <td>0.00</td>\n",
       "    </tr>\n",
       "    <tr>\n",
       "      <th>2</th>\n",
       "      <td>2011-01-03</td>\n",
       "      <td>0.396939</td>\n",
       "      <td>0.397479</td>\n",
       "      <td>0.399922</td>\n",
       "      <td>0.284434</td>\n",
       "      <td>0.021760</td>\n",
       "      <td>BBDC4.SA</td>\n",
       "      <td>0.00</td>\n",
       "    </tr>\n",
       "    <tr>\n",
       "      <th>3</th>\n",
       "      <td>2011-01-03</td>\n",
       "      <td>0.466293</td>\n",
       "      <td>0.458661</td>\n",
       "      <td>0.467793</td>\n",
       "      <td>0.328571</td>\n",
       "      <td>0.062331</td>\n",
       "      <td>ITUB4.SA</td>\n",
       "      <td>0.00</td>\n",
       "    </tr>\n",
       "    <tr>\n",
       "      <th>4</th>\n",
       "      <td>2011-01-03</td>\n",
       "      <td>0.153498</td>\n",
       "      <td>0.157120</td>\n",
       "      <td>0.155466</td>\n",
       "      <td>0.126038</td>\n",
       "      <td>0.072591</td>\n",
       "      <td>LREN3.SA</td>\n",
       "      <td>0.00</td>\n",
       "    </tr>\n",
       "    <tr>\n",
       "      <th>...</th>\n",
       "      <td>...</td>\n",
       "      <td>...</td>\n",
       "      <td>...</td>\n",
       "      <td>...</td>\n",
       "      <td>...</td>\n",
       "      <td>...</td>\n",
       "      <td>...</td>\n",
       "      <td>...</td>\n",
       "    </tr>\n",
       "    <tr>\n",
       "      <th>29775</th>\n",
       "      <td>2022-12-29</td>\n",
       "      <td>0.663745</td>\n",
       "      <td>0.652514</td>\n",
       "      <td>0.662958</td>\n",
       "      <td>0.694899</td>\n",
       "      <td>0.082841</td>\n",
       "      <td>PETR4.SA</td>\n",
       "      <td>0.75</td>\n",
       "    </tr>\n",
       "    <tr>\n",
       "      <th>29776</th>\n",
       "      <td>2022-12-29</td>\n",
       "      <td>0.858295</td>\n",
       "      <td>0.844144</td>\n",
       "      <td>0.878173</td>\n",
       "      <td>0.857373</td>\n",
       "      <td>0.048724</td>\n",
       "      <td>PRIO3.SA</td>\n",
       "      <td>0.75</td>\n",
       "    </tr>\n",
       "    <tr>\n",
       "      <th>29777</th>\n",
       "      <td>2022-12-29</td>\n",
       "      <td>0.737949</td>\n",
       "      <td>0.754746</td>\n",
       "      <td>0.727218</td>\n",
       "      <td>0.728877</td>\n",
       "      <td>0.097191</td>\n",
       "      <td>RENT3.SA</td>\n",
       "      <td>0.75</td>\n",
       "    </tr>\n",
       "    <tr>\n",
       "      <th>29778</th>\n",
       "      <td>2022-12-29</td>\n",
       "      <td>0.742905</td>\n",
       "      <td>0.746783</td>\n",
       "      <td>0.770759</td>\n",
       "      <td>0.916710</td>\n",
       "      <td>0.218546</td>\n",
       "      <td>VALE3.SA</td>\n",
       "      <td>0.75</td>\n",
       "    </tr>\n",
       "    <tr>\n",
       "      <th>29779</th>\n",
       "      <td>2022-12-29</td>\n",
       "      <td>0.835988</td>\n",
       "      <td>0.830812</td>\n",
       "      <td>0.853795</td>\n",
       "      <td>0.859932</td>\n",
       "      <td>0.047379</td>\n",
       "      <td>WEGE3.SA</td>\n",
       "      <td>0.75</td>\n",
       "    </tr>\n",
       "  </tbody>\n",
       "</table>\n",
       "<p>29780 rows × 8 columns</p>\n",
       "</div>"
      ],
      "text/plain": [
       "             date      open      high       low     close    volume       tic  \\\n",
       "0      2011-01-03  0.353928  0.355383  0.359147  0.270062  0.002003  ABEV3.SA   \n",
       "1      2011-01-03  0.566547  0.568771  0.572419  0.320274  0.014581  BBAS3.SA   \n",
       "2      2011-01-03  0.396939  0.397479  0.399922  0.284434  0.021760  BBDC4.SA   \n",
       "3      2011-01-03  0.466293  0.458661  0.467793  0.328571  0.062331  ITUB4.SA   \n",
       "4      2011-01-03  0.153498  0.157120  0.155466  0.126038  0.072591  LREN3.SA   \n",
       "...           ...       ...       ...       ...       ...       ...       ...   \n",
       "29775  2022-12-29  0.663745  0.652514  0.662958  0.694899  0.082841  PETR4.SA   \n",
       "29776  2022-12-29  0.858295  0.844144  0.878173  0.857373  0.048724  PRIO3.SA   \n",
       "29777  2022-12-29  0.737949  0.754746  0.727218  0.728877  0.097191  RENT3.SA   \n",
       "29778  2022-12-29  0.742905  0.746783  0.770759  0.916710  0.218546  VALE3.SA   \n",
       "29779  2022-12-29  0.835988  0.830812  0.853795  0.859932  0.047379  WEGE3.SA   \n",
       "\n",
       "        day  \n",
       "0      0.00  \n",
       "1      0.00  \n",
       "2      0.00  \n",
       "3      0.00  \n",
       "4      0.00  \n",
       "...     ...  \n",
       "29775  0.75  \n",
       "29776  0.75  \n",
       "29777  0.75  \n",
       "29778  0.75  \n",
       "29779  0.75  \n",
       "\n",
       "[29780 rows x 8 columns]"
      ]
     },
     "execution_count": 27,
     "metadata": {},
     "output_type": "execute_result"
    }
   ],
   "source": [
    "portfolio_norm_df = GroupByScaler(by=\"tic\", scaler=MaxAbsScaler).fit_transform(portfolio_raw_df)\n",
    "portfolio_norm_df"
   ]
  },
  {
   "cell_type": "code",
   "execution_count": 28,
   "metadata": {},
   "outputs": [],
   "source": [
    "df_portfolio = portfolio_norm_df[[\"date\", \"tic\", \"close\", \"high\", \"low\"]]\n",
    "\n",
    "df_portfolio_train = df_portfolio[(df_portfolio[\"date\"] >= \"2011-01-01\") & (df_portfolio[\"date\"] < \"2019-12-31\")]\n",
    "df_portfolio_2020 = df_portfolio[(df_portfolio[\"date\"] >= \"2020-01-01\") & (df_portfolio[\"date\"] < \"2020-12-31\")]\n",
    "df_portfolio_2021 = df_portfolio[(df_portfolio[\"date\"] >= \"2021-01-01\") & (df_portfolio[\"date\"] < \"2021-12-31\")]\n",
    "df_portfolio_2022 = df_portfolio[(df_portfolio[\"date\"] >= \"2022-01-01\") & (df_portfolio[\"date\"] < \"2022-12-31\")]"
   ]
  },
  {
   "cell_type": "code",
   "execution_count": 29,
   "metadata": {},
   "outputs": [],
   "source": [
    "environment = PortfolioOptimizationEnv(\n",
    "        df_portfolio_train,\n",
    "        initial_amount=100000,\n",
    "        comission_fee_pct=0.0025,\n",
    "        time_window=50,\n",
    "        features=[\"close\", \"high\", \"low\"],\n",
    "        normalize_df=None\n",
    "    )"
   ]
  },
  {
   "cell_type": "code",
   "execution_count": 30,
   "metadata": {},
   "outputs": [],
   "source": [
    "# set PolicyGradient parameters\n",
    "model_kwargs = {\n",
    "    \"lr\": 0.01,\n",
    "    \"policy\": EIIE,\n",
    "}\n",
    "\n",
    "# here, we can set EIIE's parameters\n",
    "policy_kwargs = {\n",
    "    \"k_size\": 3,\n",
    "    \"time_window\": 50,\n",
    "}\n",
    "\n",
    "model = DRLAgent(environment).get_model(\"pg\", device, model_kwargs, policy_kwargs)"
   ]
  },
  {
   "cell_type": "code",
   "execution_count": 31,
   "metadata": {},
   "outputs": [
    {
     "name": "stderr",
     "output_type": "stream",
     "text": [
      "  0%|          | 0/40 [00:00<?, ?it/s]"
     ]
    },
    {
     "name": "stdout",
     "output_type": "stream",
     "text": [
      "=================================\n",
      "Initial portfolio value:100000\n",
      "Final portfolio value: 380895.28125\n",
      "Final accumulative portfolio value: 3.8089528125\n",
      "Maximum DrawDown: -0.45558660909389914\n",
      "Sharpe ratio: 0.8005127768282801\n",
      "=================================\n"
     ]
    },
    {
     "name": "stderr",
     "output_type": "stream",
     "text": [
      "  2%|▎         | 1/40 [00:25<16:30, 25.40s/it]"
     ]
    },
    {
     "name": "stdout",
     "output_type": "stream",
     "text": [
      "=================================\n",
      "Initial portfolio value:100000\n",
      "Final portfolio value: 633401.3125\n",
      "Final accumulative portfolio value: 6.334013125\n",
      "Maximum DrawDown: -0.522226265805124\n",
      "Sharpe ratio: 0.9693311912223638\n",
      "=================================\n"
     ]
    },
    {
     "name": "stderr",
     "output_type": "stream",
     "text": [
      "  5%|▌         | 2/40 [00:50<15:58, 25.23s/it]"
     ]
    },
    {
     "name": "stdout",
     "output_type": "stream",
     "text": [
      "=================================\n",
      "Initial portfolio value:100000\n",
      "Final portfolio value: 945616.6875\n",
      "Final accumulative portfolio value: 9.456166875\n",
      "Maximum DrawDown: -0.7306245625891965\n",
      "Sharpe ratio: 0.8861093995006208\n",
      "=================================\n"
     ]
    },
    {
     "name": "stderr",
     "output_type": "stream",
     "text": [
      "  8%|▊         | 3/40 [01:15<15:23, 24.96s/it]"
     ]
    },
    {
     "name": "stdout",
     "output_type": "stream",
     "text": [
      "=================================\n",
      "Initial portfolio value:100000\n",
      "Final portfolio value: 1027853.875\n",
      "Final accumulative portfolio value: 10.27853875\n",
      "Maximum DrawDown: -0.7766312645287075\n",
      "Sharpe ratio: 0.852717642302589\n",
      "=================================\n"
     ]
    },
    {
     "name": "stderr",
     "output_type": "stream",
     "text": [
      " 10%|█         | 4/40 [01:50<17:29, 29.15s/it]"
     ]
    },
    {
     "name": "stdout",
     "output_type": "stream",
     "text": [
      "=================================\n",
      "Initial portfolio value:100000\n",
      "Final portfolio value: 941337.3125\n",
      "Final accumulative portfolio value: 9.413373125\n",
      "Maximum DrawDown: -0.7468800715254533\n",
      "Sharpe ratio: 0.8750759649893265\n",
      "=================================\n"
     ]
    },
    {
     "name": "stderr",
     "output_type": "stream",
     "text": [
      " 12%|█▎        | 5/40 [02:18<16:41, 28.61s/it]"
     ]
    },
    {
     "name": "stdout",
     "output_type": "stream",
     "text": [
      "=================================\n",
      "Initial portfolio value:100000\n",
      "Final portfolio value: 1058371.25\n",
      "Final accumulative portfolio value: 10.5837125\n",
      "Maximum DrawDown: -0.7719093850776462\n",
      "Sharpe ratio: 0.8630864788622159\n",
      "=================================\n"
     ]
    },
    {
     "name": "stderr",
     "output_type": "stream",
     "text": [
      " 15%|█▌        | 6/40 [02:47<16:23, 28.91s/it]"
     ]
    },
    {
     "name": "stdout",
     "output_type": "stream",
     "text": [
      "=================================\n",
      "Initial portfolio value:100000\n",
      "Final portfolio value: 1055493.5\n",
      "Final accumulative portfolio value: 10.554935\n",
      "Maximum DrawDown: -0.7683999367358675\n",
      "Sharpe ratio: 0.8693048447808658\n",
      "=================================\n"
     ]
    },
    {
     "name": "stderr",
     "output_type": "stream",
     "text": [
      " 18%|█▊        | 7/40 [03:19<16:23, 29.81s/it]"
     ]
    },
    {
     "name": "stdout",
     "output_type": "stream",
     "text": [
      "=================================\n",
      "Initial portfolio value:100000\n",
      "Final portfolio value: 1084952.125\n",
      "Final accumulative portfolio value: 10.84952125\n",
      "Maximum DrawDown: -0.7595557690598622\n",
      "Sharpe ratio: 0.8840147289820116\n",
      "=================================\n"
     ]
    },
    {
     "name": "stderr",
     "output_type": "stream",
     "text": [
      " 20%|██        | 8/40 [03:52<16:24, 30.77s/it]"
     ]
    },
    {
     "name": "stdout",
     "output_type": "stream",
     "text": [
      "=================================\n",
      "Initial portfolio value:100000\n",
      "Final portfolio value: 1098274.5\n",
      "Final accumulative portfolio value: 10.982745\n",
      "Maximum DrawDown: -0.7593133554304825\n",
      "Sharpe ratio: 0.8862084441309277\n",
      "=================================\n"
     ]
    },
    {
     "name": "stderr",
     "output_type": "stream",
     "text": [
      " 22%|██▎       | 9/40 [04:25<16:14, 31.42s/it]"
     ]
    },
    {
     "name": "stdout",
     "output_type": "stream",
     "text": [
      "=================================\n",
      "Initial portfolio value:100000\n",
      "Final portfolio value: 1107950.625\n",
      "Final accumulative portfolio value: 11.07950625\n",
      "Maximum DrawDown: -0.7585496019518827\n",
      "Sharpe ratio: 0.8886643058270256\n",
      "=================================\n"
     ]
    },
    {
     "name": "stderr",
     "output_type": "stream",
     "text": [
      " 25%|██▌       | 10/40 [04:53<15:13, 30.44s/it]"
     ]
    },
    {
     "name": "stdout",
     "output_type": "stream",
     "text": [
      "=================================\n",
      "Initial portfolio value:100000\n",
      "Final portfolio value: 1116797.25\n",
      "Final accumulative portfolio value: 11.1679725\n",
      "Maximum DrawDown: -0.757537941163602\n",
      "Sharpe ratio: 0.8911182825033623\n",
      "=================================\n"
     ]
    },
    {
     "name": "stderr",
     "output_type": "stream",
     "text": [
      " 28%|██▊       | 11/40 [05:20<14:14, 29.48s/it]"
     ]
    },
    {
     "name": "stdout",
     "output_type": "stream",
     "text": [
      "=================================\n",
      "Initial portfolio value:100000\n",
      "Final portfolio value: 1125115.0\n",
      "Final accumulative portfolio value: 11.25115\n",
      "Maximum DrawDown: -0.7566586867763877\n",
      "Sharpe ratio: 0.8934829619626924\n",
      "=================================\n"
     ]
    },
    {
     "name": "stderr",
     "output_type": "stream",
     "text": [
      " 30%|███       | 12/40 [05:48<13:27, 28.85s/it]"
     ]
    },
    {
     "name": "stdout",
     "output_type": "stream",
     "text": [
      "=================================\n",
      "Initial portfolio value:100000\n",
      "Final portfolio value: 1132836.25\n",
      "Final accumulative portfolio value: 11.3283625\n",
      "Maximum DrawDown: -0.7560582976370669\n",
      "Sharpe ratio: 0.89528253605697\n",
      "=================================\n"
     ]
    },
    {
     "name": "stderr",
     "output_type": "stream",
     "text": [
      " 32%|███▎      | 13/40 [06:15<12:45, 28.36s/it]"
     ]
    },
    {
     "name": "stdout",
     "output_type": "stream",
     "text": [
      "=================================\n",
      "Initial portfolio value:100000\n",
      "Final portfolio value: 1139380.375\n",
      "Final accumulative portfolio value: 11.39380375\n",
      "Maximum DrawDown: -0.7555945859271966\n",
      "Sharpe ratio: 0.8967815452318448\n",
      "=================================\n"
     ]
    },
    {
     "name": "stderr",
     "output_type": "stream",
     "text": [
      " 35%|███▌      | 14/40 [06:45<12:34, 29.02s/it]"
     ]
    },
    {
     "name": "stdout",
     "output_type": "stream",
     "text": [
      "=================================\n",
      "Initial portfolio value:100000\n",
      "Final portfolio value: 1145586.875\n",
      "Final accumulative portfolio value: 11.45586875\n",
      "Maximum DrawDown: -0.7551267996831497\n",
      "Sharpe ratio: 0.89822008490868\n",
      "=================================\n"
     ]
    },
    {
     "name": "stderr",
     "output_type": "stream",
     "text": [
      " 38%|███▊      | 15/40 [07:14<12:05, 29.02s/it]"
     ]
    },
    {
     "name": "stdout",
     "output_type": "stream",
     "text": [
      "=================================\n",
      "Initial portfolio value:100000\n",
      "Final portfolio value: 1151320.5\n",
      "Final accumulative portfolio value: 11.513205\n",
      "Maximum DrawDown: -0.7547411683394178\n",
      "Sharpe ratio: 0.8994833864005576\n",
      "=================================\n"
     ]
    },
    {
     "name": "stderr",
     "output_type": "stream",
     "text": [
      " 40%|████      | 16/40 [07:43<11:31, 28.82s/it]"
     ]
    },
    {
     "name": "stdout",
     "output_type": "stream",
     "text": [
      "=================================\n",
      "Initial portfolio value:100000\n",
      "Final portfolio value: 1156701.25\n",
      "Final accumulative portfolio value: 11.5670125\n",
      "Maximum DrawDown: -0.7543840285679185\n",
      "Sharpe ratio: 0.9006555847682635\n",
      "=================================\n"
     ]
    },
    {
     "name": "stderr",
     "output_type": "stream",
     "text": [
      " 42%|████▎     | 17/40 [08:15<11:22, 29.69s/it]"
     ]
    },
    {
     "name": "stdout",
     "output_type": "stream",
     "text": [
      "=================================\n",
      "Initial portfolio value:100000\n",
      "Final portfolio value: 1161762.375\n",
      "Final accumulative portfolio value: 11.61762375\n",
      "Maximum DrawDown: -0.754098156554982\n",
      "Sharpe ratio: 0.9016869638895197\n",
      "=================================\n"
     ]
    },
    {
     "name": "stderr",
     "output_type": "stream",
     "text": [
      " 45%|████▌     | 18/40 [08:41<10:31, 28.70s/it]"
     ]
    },
    {
     "name": "stdout",
     "output_type": "stream",
     "text": [
      "=================================\n",
      "Initial portfolio value:100000\n",
      "Final portfolio value: 1166486.375\n",
      "Final accumulative portfolio value: 11.66486375\n",
      "Maximum DrawDown: -0.7538931923716289\n",
      "Sharpe ratio: 0.9025673201330785\n",
      "=================================\n"
     ]
    },
    {
     "name": "stderr",
     "output_type": "stream",
     "text": [
      " 48%|████▊     | 19/40 [09:07<09:46, 27.94s/it]"
     ]
    },
    {
     "name": "stdout",
     "output_type": "stream",
     "text": [
      "=================================\n",
      "Initial portfolio value:100000\n",
      "Final portfolio value: 1170940.5\n",
      "Final accumulative portfolio value: 11.709405\n",
      "Maximum DrawDown: -0.7537109117461311\n",
      "Sharpe ratio: 0.9033781143176618\n",
      "=================================\n"
     ]
    },
    {
     "name": "stderr",
     "output_type": "stream",
     "text": [
      " 50%|█████     | 20/40 [09:33<09:07, 27.38s/it]"
     ]
    },
    {
     "name": "stdout",
     "output_type": "stream",
     "text": [
      "=================================\n",
      "Initial portfolio value:100000\n",
      "Final portfolio value: 1175123.25\n",
      "Final accumulative portfolio value: 11.7512325\n",
      "Maximum DrawDown: -0.7535550915295576\n",
      "Sharpe ratio: 0.904113880381113\n",
      "=================================\n"
     ]
    },
    {
     "name": "stderr",
     "output_type": "stream",
     "text": [
      " 52%|█████▎    | 21/40 [10:01<08:42, 27.49s/it]"
     ]
    },
    {
     "name": "stdout",
     "output_type": "stream",
     "text": [
      "=================================\n",
      "Initial portfolio value:100000\n",
      "Final portfolio value: 1179331.0\n",
      "Final accumulative portfolio value: 11.79331\n",
      "Maximum DrawDown: -0.7533833805328096\n",
      "Sharpe ratio: 0.9048607781014507\n",
      "=================================\n"
     ]
    },
    {
     "name": "stderr",
     "output_type": "stream",
     "text": [
      " 55%|█████▌    | 22/40 [10:29<08:19, 27.76s/it]"
     ]
    },
    {
     "name": "stdout",
     "output_type": "stream",
     "text": [
      "=================================\n",
      "Initial portfolio value:100000\n",
      "Final portfolio value: 1183393.875\n",
      "Final accumulative portfolio value: 11.83393875\n",
      "Maximum DrawDown: -0.7532951041195748\n",
      "Sharpe ratio: 0.9054742357690232\n",
      "=================================\n"
     ]
    },
    {
     "name": "stderr",
     "output_type": "stream",
     "text": [
      " 57%|█████▊    | 23/40 [10:56<07:44, 27.30s/it]"
     ]
    },
    {
     "name": "stdout",
     "output_type": "stream",
     "text": [
      "=================================\n",
      "Initial portfolio value:100000\n",
      "Final portfolio value: 1185453.25\n",
      "Final accumulative portfolio value: 11.8545325\n",
      "Maximum DrawDown: -0.7529575176180636\n",
      "Sharpe ratio: 0.9062194255453435\n",
      "=================================\n"
     ]
    },
    {
     "name": "stderr",
     "output_type": "stream",
     "text": [
      " 60%|██████    | 24/40 [11:22<07:14, 27.17s/it]"
     ]
    },
    {
     "name": "stdout",
     "output_type": "stream",
     "text": [
      "=================================\n",
      "Initial portfolio value:100000\n",
      "Final portfolio value: 1190553.5\n",
      "Final accumulative portfolio value: 11.905535\n",
      "Maximum DrawDown: -0.7527681370314978\n",
      "Sharpe ratio: 0.9069885003154105\n",
      "=================================\n"
     ]
    },
    {
     "name": "stderr",
     "output_type": "stream",
     "text": [
      " 62%|██████▎   | 25/40 [11:50<06:51, 27.45s/it]"
     ]
    },
    {
     "name": "stdout",
     "output_type": "stream",
     "text": [
      "=================================\n",
      "Initial portfolio value:100000\n",
      "Final portfolio value: 1193541.5\n",
      "Final accumulative portfolio value: 11.935415\n",
      "Maximum DrawDown: -0.7530814412211709\n",
      "Sharpe ratio: 0.9069829850562879\n",
      "=================================\n"
     ]
    },
    {
     "name": "stderr",
     "output_type": "stream",
     "text": [
      " 65%|██████▌   | 26/40 [12:18<06:22, 27.32s/it]"
     ]
    },
    {
     "name": "stdout",
     "output_type": "stream",
     "text": [
      "=================================\n",
      "Initial portfolio value:100000\n",
      "Final portfolio value: 1196526.5\n",
      "Final accumulative portfolio value: 11.965265\n",
      "Maximum DrawDown: -0.7530280512118734\n",
      "Sharpe ratio: 0.9074038957777559\n",
      "=================================\n"
     ]
    },
    {
     "name": "stderr",
     "output_type": "stream",
     "text": [
      " 68%|██████▊   | 27/40 [12:44<05:53, 27.18s/it]"
     ]
    },
    {
     "name": "stdout",
     "output_type": "stream",
     "text": [
      "=================================\n",
      "Initial portfolio value:100000\n",
      "Final portfolio value: 1200071.5\n",
      "Final accumulative portfolio value: 12.000715\n",
      "Maximum DrawDown: -0.7528918006595303\n",
      "Sharpe ratio: 0.907971099191666\n",
      "=================================\n"
     ]
    },
    {
     "name": "stderr",
     "output_type": "stream",
     "text": [
      " 70%|███████   | 28/40 [13:11<05:23, 26.99s/it]"
     ]
    },
    {
     "name": "stdout",
     "output_type": "stream",
     "text": [
      "=================================\n",
      "Initial portfolio value:100000\n",
      "Final portfolio value: 1201349.0\n",
      "Final accumulative portfolio value: 12.01349\n",
      "Maximum DrawDown: -0.7527521227984649\n",
      "Sharpe ratio: 0.908431795069366\n",
      "=================================\n"
     ]
    },
    {
     "name": "stderr",
     "output_type": "stream",
     "text": [
      " 72%|███████▎  | 29/40 [13:38<04:58, 27.16s/it]"
     ]
    },
    {
     "name": "stdout",
     "output_type": "stream",
     "text": [
      "=================================\n",
      "Initial portfolio value:100000\n",
      "Final portfolio value: 1206227.375\n",
      "Final accumulative portfolio value: 12.06227375\n",
      "Maximum DrawDown: -0.7527939817717181\n",
      "Sharpe ratio: 0.908804145231521\n",
      "=================================\n"
     ]
    },
    {
     "name": "stderr",
     "output_type": "stream",
     "text": [
      " 75%|███████▌  | 30/40 [14:06<04:32, 27.22s/it]"
     ]
    },
    {
     "name": "stdout",
     "output_type": "stream",
     "text": [
      "=================================\n",
      "Initial portfolio value:100000\n",
      "Final portfolio value: 1208200.125\n",
      "Final accumulative portfolio value: 12.08200125\n",
      "Maximum DrawDown: -0.7531660716798392\n",
      "Sharpe ratio: 0.9086046948438204\n",
      "=================================\n"
     ]
    },
    {
     "name": "stderr",
     "output_type": "stream",
     "text": [
      " 78%|███████▊  | 31/40 [14:33<04:05, 27.27s/it]"
     ]
    },
    {
     "name": "stdout",
     "output_type": "stream",
     "text": [
      "=================================\n",
      "Initial portfolio value:100000\n",
      "Final portfolio value: 1211298.5\n",
      "Final accumulative portfolio value: 12.112985\n",
      "Maximum DrawDown: -0.7530987130865671\n",
      "Sharpe ratio: 0.9090472447240185\n",
      "=================================\n"
     ]
    },
    {
     "name": "stderr",
     "output_type": "stream",
     "text": [
      " 80%|████████  | 32/40 [15:01<03:39, 27.49s/it]"
     ]
    },
    {
     "name": "stdout",
     "output_type": "stream",
     "text": [
      "=================================\n",
      "Initial portfolio value:100000\n",
      "Final portfolio value: 1214704.25\n",
      "Final accumulative portfolio value: 12.1470425\n",
      "Maximum DrawDown: -0.7530586631528217\n",
      "Sharpe ratio: 0.9095185385610511\n",
      "=================================\n"
     ]
    },
    {
     "name": "stderr",
     "output_type": "stream",
     "text": [
      " 82%|████████▎ | 33/40 [15:28<03:11, 27.41s/it]"
     ]
    },
    {
     "name": "stdout",
     "output_type": "stream",
     "text": [
      "=================================\n",
      "Initial portfolio value:100000\n",
      "Final portfolio value: 1216499.75\n",
      "Final accumulative portfolio value: 12.1649975\n",
      "Maximum DrawDown: -0.7529739769060333\n",
      "Sharpe ratio: 0.9097595221122645\n",
      "=================================\n"
     ]
    },
    {
     "name": "stderr",
     "output_type": "stream",
     "text": [
      " 85%|████████▌ | 34/40 [15:56<02:43, 27.32s/it]"
     ]
    },
    {
     "name": "stdout",
     "output_type": "stream",
     "text": [
      "=================================\n",
      "Initial portfolio value:100000\n",
      "Final portfolio value: 1219415.625\n",
      "Final accumulative portfolio value: 12.19415625\n",
      "Maximum DrawDown: -0.7531070976902232\n",
      "Sharpe ratio: 0.9098810386440793\n",
      "=================================\n"
     ]
    },
    {
     "name": "stderr",
     "output_type": "stream",
     "text": [
      " 88%|████████▊ | 35/40 [16:23<02:16, 27.30s/it]"
     ]
    },
    {
     "name": "stdout",
     "output_type": "stream",
     "text": [
      "=================================\n",
      "Initial portfolio value:100000\n",
      "Final portfolio value: 1221679.375\n",
      "Final accumulative portfolio value: 12.21679375\n",
      "Maximum DrawDown: -0.7530285908647812\n",
      "Sharpe ratio: 0.910269033221496\n",
      "=================================\n"
     ]
    },
    {
     "name": "stderr",
     "output_type": "stream",
     "text": [
      " 90%|█████████ | 36/40 [16:50<01:48, 27.15s/it]"
     ]
    },
    {
     "name": "stdout",
     "output_type": "stream",
     "text": [
      "=================================\n",
      "Initial portfolio value:100000\n",
      "Final portfolio value: 1228619.0\n",
      "Final accumulative portfolio value: 12.28619\n",
      "Maximum DrawDown: -0.7525941954833046\n",
      "Sharpe ratio: 0.9121230633430376\n",
      "=================================\n"
     ]
    },
    {
     "name": "stderr",
     "output_type": "stream",
     "text": [
      " 92%|█████████▎| 37/40 [17:17<01:21, 27.17s/it]"
     ]
    },
    {
     "name": "stdout",
     "output_type": "stream",
     "text": [
      "=================================\n",
      "Initial portfolio value:100000\n",
      "Final portfolio value: 1227293.125\n",
      "Final accumulative portfolio value: 12.27293125\n",
      "Maximum DrawDown: -0.7529463436672625\n",
      "Sharpe ratio: 0.9109145849317863\n",
      "=================================\n"
     ]
    },
    {
     "name": "stderr",
     "output_type": "stream",
     "text": [
      " 95%|█████████▌| 38/40 [17:45<00:55, 27.51s/it]"
     ]
    },
    {
     "name": "stdout",
     "output_type": "stream",
     "text": [
      "=================================\n",
      "Initial portfolio value:100000\n",
      "Final portfolio value: 1229230.75\n",
      "Final accumulative portfolio value: 12.2923075\n",
      "Maximum DrawDown: -0.7537112487007537\n",
      "Sharpe ratio: 0.9101495380841486\n",
      "=================================\n"
     ]
    },
    {
     "name": "stderr",
     "output_type": "stream",
     "text": [
      " 98%|█████████▊| 39/40 [18:13<00:27, 27.60s/it]"
     ]
    },
    {
     "name": "stdout",
     "output_type": "stream",
     "text": [
      "=================================\n",
      "Initial portfolio value:100000\n",
      "Final portfolio value: 1231206.75\n",
      "Final accumulative portfolio value: 12.3120675\n",
      "Maximum DrawDown: -0.7535400451722769\n",
      "Sharpe ratio: 0.910613141579163\n",
      "=================================\n"
     ]
    },
    {
     "name": "stderr",
     "output_type": "stream",
     "text": [
      "100%|██████████| 40/40 [18:40<00:00, 28.02s/it]\n"
     ]
    },
    {
     "data": {
      "text/plain": [
       "<finrl.agents.portfolio_optimization.algorithms.PolicyGradient at 0x241c2d5a500>"
      ]
     },
     "execution_count": 31,
     "metadata": {},
     "output_type": "execute_result"
    }
   ],
   "source": [
    "DRLAgent.train_model(model, episodes=40)"
   ]
  },
  {
   "cell_type": "code",
   "execution_count": 32,
   "metadata": {},
   "outputs": [],
   "source": [
    "torch.save(model.train_policy.state_dict(), \"policy_EIIE.pt\")"
   ]
  },
  {
   "cell_type": "code",
   "execution_count": 33,
   "metadata": {},
   "outputs": [],
   "source": [
    "environment_2020 = PortfolioOptimizationEnv(\n",
    "    df_portfolio_2020,\n",
    "    initial_amount=100000,\n",
    "    comission_fee_pct=0.0025,\n",
    "    time_window=50,\n",
    "    features=[\"close\", \"high\", \"low\"],\n",
    "    normalize_df=None\n",
    ")\n",
    "\n",
    "environment_2021 = PortfolioOptimizationEnv(\n",
    "    df_portfolio_2021,\n",
    "    initial_amount=100000,\n",
    "    comission_fee_pct=0.0025,\n",
    "    time_window=50,\n",
    "    features=[\"close\", \"high\", \"low\"],\n",
    "    normalize_df=None\n",
    ")\n",
    "\n",
    "environment_2022 = PortfolioOptimizationEnv(\n",
    "    df_portfolio_2022,\n",
    "    initial_amount=100000,\n",
    "    comission_fee_pct=0.0025,\n",
    "    time_window=50,\n",
    "    features=[\"close\", \"high\", \"low\"],\n",
    "    normalize_df=None\n",
    ")"
   ]
  },
  {
   "cell_type": "code",
   "execution_count": 34,
   "metadata": {},
   "outputs": [
    {
     "name": "stderr",
     "output_type": "stream",
     "text": [
      "C:\\Users\\bencj\\AppData\\Local\\Temp\\ipykernel_26844\\3413916171.py:11: FutureWarning: You are using `torch.load` with `weights_only=False` (the current default value), which uses the default pickle module implicitly. It is possible to construct malicious pickle data which will execute arbitrary code during unpickling (See https://github.com/pytorch/pytorch/blob/main/SECURITY.md#untrusted-models for more details). In a future release, the default value for `weights_only` will be flipped to `True`. This limits the functions that could be executed during unpickling. Arbitrary objects will no longer be allowed to be loaded via this mode unless they are explicitly allowlisted by the user via `torch.serialization.add_safe_globals`. We recommend you start setting `weights_only=True` for any use case where you don't have full control of the loaded file. Please open an issue on GitHub for any issues related to this experimental feature.\n",
      "  policy.load_state_dict(torch.load(\"policy_EIIE.pt\"))\n"
     ]
    },
    {
     "name": "stdout",
     "output_type": "stream",
     "text": [
      "=================================\n",
      "Initial portfolio value:100000\n",
      "Final portfolio value: 362540.90625\n",
      "Final accumulative portfolio value: 3.6254090625\n",
      "Maximum DrawDown: -0.39876539062500005\n",
      "Sharpe ratio: 2.236245149719711\n",
      "=================================\n",
      "=================================\n",
      "Initial portfolio value:100000\n",
      "Final portfolio value: 133314.25\n",
      "Final accumulative portfolio value: 1.3331425\n",
      "Maximum DrawDown: -0.12152047906280838\n",
      "Sharpe ratio: 1.321110024640369\n",
      "=================================\n",
      "=================================\n",
      "Initial portfolio value:100000\n",
      "Final portfolio value: 119378.4609375\n",
      "Final accumulative portfolio value: 1.193784609375\n",
      "Maximum DrawDown: -0.2510312425713144\n",
      "Sharpe ratio: 0.8965326292900603\n",
      "=================================\n"
     ]
    }
   ],
   "source": [
    "EIIE_results = {\n",
    "    \"training\": environment._asset_memory[\"final\"],\n",
    "    \"2020\": {},\n",
    "    \"2021\": {},\n",
    "    \"2022\": {}\n",
    "}\n",
    "\n",
    "# instantiate an architecture with the same arguments used in training\n",
    "# and load with load_state_dict.\n",
    "policy = EIIE(time_window=50, device=device)\n",
    "policy.load_state_dict(torch.load(\"policy_EIIE.pt\"))\n",
    "\n",
    "# 2020\n",
    "DRLAgent.DRL_validation(model, environment_2020, policy=policy)\n",
    "EIIE_results[\"2020\"][\"value\"] = environment_2020._asset_memory[\"final\"]\n",
    "\n",
    "# 2021\n",
    "DRLAgent.DRL_validation(model, environment_2021, policy=policy)\n",
    "EIIE_results[\"2021\"][\"value\"] = environment_2021._asset_memory[\"final\"]\n",
    "\n",
    "# 2022\n",
    "DRLAgent.DRL_validation(model, environment_2022, policy=policy)\n",
    "EIIE_results[\"2022\"][\"value\"] = environment_2022._asset_memory[\"final\"]"
   ]
  },
  {
   "cell_type": "code",
   "execution_count": 35,
   "metadata": {},
   "outputs": [
    {
     "name": "stdout",
     "output_type": "stream",
     "text": [
      "=================================\n",
      "Initial portfolio value:100000\n",
      "Final portfolio value: 400379.03125\n",
      "Final accumulative portfolio value: 4.0037903125\n",
      "Maximum DrawDown: -0.47863864154458413\n",
      "Sharpe ratio: 0.782357294432936\n",
      "=================================\n",
      "=================================\n",
      "Initial portfolio value:100000\n",
      "Final portfolio value: 170950.1875\n",
      "Final accumulative portfolio value: 1.709501875\n",
      "Maximum DrawDown: -0.25078929687499996\n",
      "Sharpe ratio: 1.7098033086185283\n",
      "=================================\n",
      "=================================\n",
      "Initial portfolio value:100000\n",
      "Final portfolio value: 95725.8203125\n",
      "Final accumulative portfolio value: 0.957258203125\n",
      "Maximum DrawDown: -0.17293167443139867\n",
      "Sharpe ratio: -0.15575060143799316\n",
      "=================================\n",
      "=================================\n",
      "Initial portfolio value:100000\n",
      "Final portfolio value: 113635.46875\n",
      "Final accumulative portfolio value: 1.1363546875\n",
      "Maximum DrawDown: -0.16770427887745898\n",
      "Sharpe ratio: 0.8183680449739806\n",
      "=================================\n"
     ]
    }
   ],
   "source": [
    "UBAH_results = {\n",
    "    \"train\": {},\n",
    "    \"2020\": {},\n",
    "    \"2021\": {},\n",
    "    \"2022\": {}\n",
    "}\n",
    "\n",
    "PORTFOLIO_SIZE = len(TOP_BRL)\n",
    "\n",
    "# train period\n",
    "terminated = False\n",
    "environment.reset()\n",
    "while not terminated:\n",
    "    action = [0] + [1/PORTFOLIO_SIZE] * PORTFOLIO_SIZE\n",
    "    _, _, terminated, _ = environment.step(action)\n",
    "UBAH_results[\"train\"][\"value\"] = environment._asset_memory[\"final\"]\n",
    "\n",
    "# 2020\n",
    "terminated = False\n",
    "environment_2020.reset()\n",
    "while not terminated:\n",
    "    action = [0] + [1/PORTFOLIO_SIZE] * PORTFOLIO_SIZE\n",
    "    _, _, terminated, _ = environment_2020.step(action)\n",
    "UBAH_results[\"2020\"][\"value\"] = environment_2020._asset_memory[\"final\"]\n",
    "\n",
    "# 2021\n",
    "terminated = False\n",
    "environment_2021.reset()\n",
    "while not terminated:\n",
    "    action = [0] + [1/PORTFOLIO_SIZE] * PORTFOLIO_SIZE\n",
    "    _, _, terminated, _ = environment_2021.step(action)\n",
    "UBAH_results[\"2021\"][\"value\"] = environment_2021._asset_memory[\"final\"]\n",
    "\n",
    "# 2022\n",
    "terminated = False\n",
    "environment_2022.reset()\n",
    "while not terminated:\n",
    "    action = [0] + [1/PORTFOLIO_SIZE] * PORTFOLIO_SIZE\n",
    "    _, _, terminated, _ = environment_2022.step(action)\n",
    "UBAH_results[\"2022\"][\"value\"] = environment_2022._asset_memory[\"final\"]"
   ]
  },
  {
   "cell_type": "code",
   "execution_count": 36,
   "metadata": {},
   "outputs": [
    {
     "data": {
      "image/png": "[encoded data removed]",
      "text/plain": [
       "<Figure size 1000x600 with 1 Axes>"
      ]
     },
     "metadata": {},
     "output_type": "display_data"
    },
    {
     "data": {
      "image/png": "[encoded data removed]",
      "text/plain": [
       "<Figure size 1000x600 with 1 Axes>"
      ]
     },
     "metadata": {},
     "output_type": "display_data"
    }
   ],
   "source": [
    "import matplotlib.pyplot as plt\n",
    "%matplotlib inline \n",
    "\n",
    "\n",
    "plt.plot(UBAH_results[\"2020\"][\"value\"], label=\"Buy and Hold\")\n",
    "plt.plot(EIIE_results[\"2020\"][\"value\"], label=\"EIIE\")\n",
    "\n",
    "plt.xlabel(\"Days\")\n",
    "plt.ylabel(\"Portfolio Value\")\n",
    "plt.title(\"Performance in 2020\")\n",
    "plt.legend()\n",
    "\n",
    "plt.show()\n",
    "\n",
    "\n",
    "\n",
    "plt.plot(UBAH_results[\"2021\"][\"value\"], label=\"Buy and Hold\")\n",
    "plt.plot(EIIE_results[\"2021\"][\"value\"], label=\"EIIE\")\n",
    "\n",
    "plt.xlabel(\"Days\")\n",
    "plt.ylabel(\"Portfolio Value\")\n",
    "plt.title(\"Performance in 2021\")\n",
    "plt.legend()\n",
    "\n",
    "plt.show()"
   ]
  },
  {
   "cell_type": "markdown",
   "metadata": {},
   "source": [
    "We can see that the agent is able to learn a good policy but its performance is worse the more the test period advances into the future. To get a better performance in 2022, for example, the agent should probably be trained again using more recent data."
   ]
  },
  {
   "cell_type": "markdown",
   "metadata": {},
   "source": [
    "TODO: https://github.com/AI4Finance-Foundation/FinRL/blob/master/examples/FinRL_Ensemble_StockTrading_ICAIF_2020.ipynb"
   ]
  }
 ],
 "metadata": {
  "kernelspec": {
   "display_name": ".venv",
   "language": "python",
   "name": "python3"
  },
  "language_info": {
   "codemirror_mode": {
    "name": "ipython",
    "version": 3
   },
   "file_extension": ".py",
   "mimetype": "text/x-python",
   "name": "python",
   "nbconvert_exporter": "python",
   "pygments_lexer": "ipython3",
   "version": "3.10.0"
  }
 },
 "nbformat": 4,
 "nbformat_minor": 2
}
