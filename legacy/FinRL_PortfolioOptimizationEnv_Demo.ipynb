{
 "cells": [
  {
   "cell_type": "markdown",
   "metadata": {
    "id": "3xt6fIDownZs"
   },
   "source": [
    "# A guide Portfolio Optimization Environment\n",
    "\n",
    "This notebook aims to provide an example of using PortfolioOptimizationEnv (or POE) to train a reinforcement learning model that learns to solve the portfolio optimization problem.\n",
    "\n",
    "In this document, we will reproduce a famous architecture called EIIE (ensemble of identical independent evaluators), introduced in the following paper:\n",
    "\n",
    "- Zhengyao Jiang, Dixing Xu, & Jinjun Liang. (2017). A Deep Reinforcement Learning Framework for the Financial Portfolio Management Problem. https://doi.org/10.48550/arXiv.1706.10059.\n",
    "\n",
    "It's advisable to read it to understand the algorithm implemented in this notebook.\n",
    "\n",
    "### Note\n",
    "If you're using this environment, consider citing the following paper (in adittion to FinRL references):\n",
    "\n",
    "- Caio Costa, & Anna Costa (2023). POE: A General Portfolio Optimization Environment for FinRL. In *Anais do II Brazilian Workshop on Artificial Intelligence in Finance* (pp. 132–143). SBC. https://doi.org/10.5753/bwaif.2023.231144.\n",
    "\n",
    "```\n",
    "@inproceedings{bwaif,\n",
    " author = {Caio Costa and Anna Costa},\n",
    " title = {POE: A General Portfolio Optimization Environment for FinRL},\n",
    " booktitle = {Anais do II Brazilian Workshop on Artificial Intelligence in Finance},\n",
    " location = {João Pessoa/PB},\n",
    " year = {2023},\n",
    " keywords = {},\n",
    " issn = {0000-0000},\n",
    " pages = {132--143},\n",
    " publisher = {SBC},\n",
    " address = {Porto Alegre, RS, Brasil},\n",
    " doi = {10.5753/bwaif.2023.231144},\n",
    " url = {https://sol.sbc.org.br/index.php/bwaif/article/view/24959}\n",
    "}\n",
    "\n",
    "```"
   ]
  },
  {
   "cell_type": "markdown",
   "metadata": {
    "id": "Q0L7FZeWMUHp"
   },
   "source": [
    "## Installation and imports\n",
    "\n",
    "To run this notebook in google colab, uncomment the cells below."
   ]
  },
  {
   "cell_type": "code",
   "execution_count": 13,
   "metadata": {
    "colab": {
     "base_uri": "https://localhost:8080/"
    },
    "id": "XGHfTt1HMVQw",
    "outputId": "e5226807-a740-4f22-a279-f466886518ba"
   },
   "outputs": [],
   "source": [
    "## install finrl library\n",
    "# !sudo apt install swig\n",
    "# !pip install git+https://github.com/AI4Finance-Foundation/FinRL.git"
   ]
  },
  {
   "cell_type": "code",
   "execution_count": 14,
   "metadata": {
    "colab": {
     "base_uri": "https://localhost:8080/"
    },
    "id": "-GLganWiMYZ1",
    "outputId": "b3a7f99c-55dd-4274-c1ce-ab3a8111929a"
   },
   "outputs": [],
   "source": [
    "## We also need to install quantstats, because the environment uses it to plot graphs\n",
    "# !pip install quantstats"
   ]
  },
  {
   "cell_type": "code",
   "execution_count": 15,
   "metadata": {
    "id": "6RqrzokqoanP"
   },
   "outputs": [],
   "source": [
    "## Hide matplotlib warnings\n",
    "# import warnings\n",
    "# warnings.filterwarnings('ignore')\n",
    "\n",
    "import logging\n",
    "logging.getLogger('matplotlib.font_manager').disabled = True"
   ]
  },
  {
   "cell_type": "markdown",
   "metadata": {
    "id": "Cz8DLleGz_TF"
   },
   "source": [
    "#### Import the necessary code libraries"
   ]
  },
  {
   "cell_type": "code",
   "execution_count": 16,
   "metadata": {
    "colab": {
     "base_uri": "https://localhost:8080/"
    },
    "id": "cP5t6U7-nYoc",
    "outputId": "fd138d3e-222a-4ec5-e008-03a28b89dae9"
   },
   "outputs": [],
   "source": [
    "import torch\n",
    "\n",
    "import numpy as np\n",
    "\n",
    "from sklearn.preprocessing import MaxAbsScaler\n",
    "\n",
    "from finrl.meta.preprocessor.yahoodownloader import YahooDownloader\n",
    "from finrl.meta.preprocessor.preprocessors import GroupByScaler\n",
    "from finrl.meta.env_portfolio_optimization.env_portfolio_optimization import PortfolioOptimizationEnv\n",
    "from finrl.agents.portfolio_optimization.models import DRLAgent\n",
    "from finrl.agents.portfolio_optimization.architectures import EIIE\n",
    "\n",
    "device = 'cuda:0' if torch.cuda.is_available() else 'cpu'"
   ]
  },
  {
   "cell_type": "markdown",
   "metadata": {
    "id": "TY2yhvpASEyo"
   },
   "source": [
    "## Fetch data\n",
    "\n",
    "In his paper, *Jiang et al* creates a portfolio composed by the top-11 cryptocurrencies based on 30-days volume. Since it's not specified when this classification was done, it's difficult to reproduce, so we will use a similar approach in the Brazillian stock market:\n",
    "\n",
    "- We select top-10 stocks from Brazillian stock market;\n",
    "- For simplicity, we disconsider stocks that have missing data for the days in period 2011-01-01 to 2019-12-31 (9 years);"
   ]
  },
  {
   "cell_type": "code",
   "execution_count": 17,
   "metadata": {
    "colab": {
     "base_uri": "https://localhost:8080/"
    },
    "id": "H11UjCstSFwm",
    "outputId": "3d27b983-d1e0-41af-b20a-421be40e469f"
   },
   "outputs": [],
   "source": [
    "TOP_BRL = [\n",
    "    \"VALE3.SA\", \"PETR4.SA\", \"ITUB4.SA\", \"BBDC4.SA\",\n",
    "    \"BBAS3.SA\", \"RENT3.SA\", \"LREN3.SA\", \"PRIO3.SA\",\n",
    "    \"WEGE3.SA\", \"ABEV3.SA\"\n",
    "]"
   ]
  },
  {
   "cell_type": "code",
   "execution_count": 18,
   "metadata": {
    "colab": {
     "base_uri": "https://localhost:8080/",
     "height": 623
    },
    "id": "Bkm96aNsSIji",
    "outputId": "e3a20095-841e-4c89-c08e-24b9575cfb02"
   },
   "outputs": [
    {
     "name": "stderr",
     "output_type": "stream",
     "text": [
      "[*********************100%***********************]  1 of 1 completed\n",
      "[*********************100%***********************]  1 of 1 completed\n",
      "[*********************100%***********************]  1 of 1 completed"
     ]
    },
    {
     "name": "stdout",
     "output_type": "stream",
     "text": [
      "10\n"
     ]
    },
    {
     "name": "stderr",
     "output_type": "stream",
     "text": [
      "\n",
      "[*********************100%***********************]  1 of 1 completed\n",
      "[*********************100%***********************]  1 of 1 completed\n",
      "[*********************100%***********************]  1 of 1 completed\n",
      "[*********************100%***********************]  1 of 1 completed\n",
      "[*********************100%***********************]  1 of 1 completed\n",
      "[*********************100%***********************]  1 of 1 completed\n",
      "[*********************100%***********************]  1 of 1 completed\n"
     ]
    },
    {
     "name": "stdout",
     "output_type": "stream",
     "text": [
      "Shape of DataFrame:  (29780, 8)\n"
     ]
    },
    {
     "data": {
      "text/html": [
       "<div>\n",
       "<style scoped>\n",
       "    .dataframe tbody tr th:only-of-type {\n",
       "        vertical-align: middle;\n",
       "    }\n",
       "\n",
       "    .dataframe tbody tr th {\n",
       "        vertical-align: top;\n",
       "    }\n",
       "\n",
       "    .dataframe thead th {\n",
       "        text-align: right;\n",
       "    }\n",
       "</style>\n",
       "<table border=\"1\" class=\"dataframe\">\n",
       "  <thead>\n",
       "    <tr style=\"text-align: right;\">\n",
       "      <th></th>\n",
       "      <th>date</th>\n",
       "      <th>open</th>\n",
       "      <th>high</th>\n",
       "      <th>low</th>\n",
       "      <th>close</th>\n",
       "      <th>volume</th>\n",
       "      <th>tic</th>\n",
       "      <th>day</th>\n",
       "    </tr>\n",
       "  </thead>\n",
       "  <tbody>\n",
       "    <tr>\n",
       "      <th>0</th>\n",
       "      <td>2011-01-03</td>\n",
       "      <td>8.632311</td>\n",
       "      <td>8.728203</td>\n",
       "      <td>8.630313</td>\n",
       "      <td>5.265025</td>\n",
       "      <td>576145</td>\n",
       "      <td>ABEV3.SA</td>\n",
       "      <td>0</td>\n",
       "    </tr>\n",
       "    <tr>\n",
       "      <th>1</th>\n",
       "      <td>2011-01-03</td>\n",
       "      <td>15.750000</td>\n",
       "      <td>15.900000</td>\n",
       "      <td>15.690000</td>\n",
       "      <td>6.314927</td>\n",
       "      <td>6626800</td>\n",
       "      <td>BBAS3.SA</td>\n",
       "      <td>0</td>\n",
       "    </tr>\n",
       "    <tr>\n",
       "      <th>2</th>\n",
       "      <td>2011-01-03</td>\n",
       "      <td>11.809763</td>\n",
       "      <td>11.927362</td>\n",
       "      <td>11.724237</td>\n",
       "      <td>6.245440</td>\n",
       "      <td>10862336</td>\n",
       "      <td>BBDC4.SA</td>\n",
       "      <td>0</td>\n",
       "    </tr>\n",
       "    <tr>\n",
       "      <th>3</th>\n",
       "      <td>2011-01-03</td>\n",
       "      <td>18.031555</td>\n",
       "      <td>18.250118</td>\n",
       "      <td>17.963253</td>\n",
       "      <td>10.571315</td>\n",
       "      <td>10014663</td>\n",
       "      <td>ITUB4.SA</td>\n",
       "      <td>0</td>\n",
       "    </tr>\n",
       "    <tr>\n",
       "      <th>4</th>\n",
       "      <td>2011-01-03</td>\n",
       "      <td>8.422694</td>\n",
       "      <td>8.629907</td>\n",
       "      <td>8.422694</td>\n",
       "      <td>6.107300</td>\n",
       "      <td>3652542</td>\n",
       "      <td>LREN3.SA</td>\n",
       "      <td>0</td>\n",
       "    </tr>\n",
       "    <tr>\n",
       "      <th>...</th>\n",
       "      <td>...</td>\n",
       "      <td>...</td>\n",
       "      <td>...</td>\n",
       "      <td>...</td>\n",
       "      <td>...</td>\n",
       "      <td>...</td>\n",
       "      <td>...</td>\n",
       "      <td>...</td>\n",
       "    </tr>\n",
       "    <tr>\n",
       "      <th>29775</th>\n",
       "      <td>2022-12-29</td>\n",
       "      <td>24.990000</td>\n",
       "      <td>25.049999</td>\n",
       "      <td>24.430000</td>\n",
       "      <td>16.668446</td>\n",
       "      <td>57901800</td>\n",
       "      <td>PETR4.SA</td>\n",
       "      <td>3</td>\n",
       "    </tr>\n",
       "    <tr>\n",
       "      <th>29776</th>\n",
       "      <td>2022-12-29</td>\n",
       "      <td>37.250000</td>\n",
       "      <td>37.480000</td>\n",
       "      <td>36.619999</td>\n",
       "      <td>37.150330</td>\n",
       "      <td>7890300</td>\n",
       "      <td>PRIO3.SA</td>\n",
       "      <td>3</td>\n",
       "    </tr>\n",
       "    <tr>\n",
       "      <th>29777</th>\n",
       "      <td>2022-12-29</td>\n",
       "      <td>54.300869</td>\n",
       "      <td>55.776001</td>\n",
       "      <td>52.626392</td>\n",
       "      <td>50.361671</td>\n",
       "      <td>8786791</td>\n",
       "      <td>RENT3.SA</td>\n",
       "      <td>3</td>\n",
       "    </tr>\n",
       "    <tr>\n",
       "      <th>29778</th>\n",
       "      <td>2022-12-29</td>\n",
       "      <td>89.000000</td>\n",
       "      <td>89.949997</td>\n",
       "      <td>88.830002</td>\n",
       "      <td>77.194092</td>\n",
       "      <td>40110800</td>\n",
       "      <td>VALE3.SA</td>\n",
       "      <td>3</td>\n",
       "    </tr>\n",
       "    <tr>\n",
       "      <th>29779</th>\n",
       "      <td>2022-12-29</td>\n",
       "      <td>38.840000</td>\n",
       "      <td>38.990002</td>\n",
       "      <td>38.250000</td>\n",
       "      <td>37.281891</td>\n",
       "      <td>6444500</td>\n",
       "      <td>WEGE3.SA</td>\n",
       "      <td>3</td>\n",
       "    </tr>\n",
       "  </tbody>\n",
       "</table>\n",
       "<p>29780 rows × 8 columns</p>\n",
       "</div>"
      ],
      "text/plain": [
       "             date       open       high        low      close    volume  \\\n",
       "0      2011-01-03   8.632311   8.728203   8.630313   5.265025    576145   \n",
       "1      2011-01-03  15.750000  15.900000  15.690000   6.314927   6626800   \n",
       "2      2011-01-03  11.809763  11.927362  11.724237   6.245440  10862336   \n",
       "3      2011-01-03  18.031555  18.250118  17.963253  10.571315  10014663   \n",
       "4      2011-01-03   8.422694   8.629907   8.422694   6.107300   3652542   \n",
       "...           ...        ...        ...        ...        ...       ...   \n",
       "29775  2022-12-29  24.990000  25.049999  24.430000  16.668446  57901800   \n",
       "29776  2022-12-29  37.250000  37.480000  36.619999  37.150330   7890300   \n",
       "29777  2022-12-29  54.300869  55.776001  52.626392  50.361671   8786791   \n",
       "29778  2022-12-29  89.000000  89.949997  88.830002  77.194092  40110800   \n",
       "29779  2022-12-29  38.840000  38.990002  38.250000  37.281891   6444500   \n",
       "\n",
       "            tic  day  \n",
       "0      ABEV3.SA    0  \n",
       "1      BBAS3.SA    0  \n",
       "2      BBDC4.SA    0  \n",
       "3      ITUB4.SA    0  \n",
       "4      LREN3.SA    0  \n",
       "...         ...  ...  \n",
       "29775  PETR4.SA    3  \n",
       "29776  PRIO3.SA    3  \n",
       "29777  RENT3.SA    3  \n",
       "29778  VALE3.SA    3  \n",
       "29779  WEGE3.SA    3  \n",
       "\n",
       "[29780 rows x 8 columns]"
      ]
     },
     "execution_count": 18,
     "metadata": {},
     "output_type": "execute_result"
    }
   ],
   "source": [
    "print(len(TOP_BRL))\n",
    "\n",
    "portfolio_raw_df = YahooDownloader(start_date = '2011-01-01',\n",
    "                                end_date = '2022-12-31',\n",
    "                                ticker_list = TOP_BRL).fetch_data()\n",
    "portfolio_raw_df"
   ]
  },
  {
   "cell_type": "code",
   "execution_count": 19,
   "metadata": {
    "colab": {
     "base_uri": "https://localhost:8080/",
     "height": 444
    },
    "id": "2UqpIXsuSKfO",
    "outputId": "436605d5-bc9e-4038-e3d7-7bdf140033d8"
   },
   "outputs": [
    {
     "data": {
      "text/html": [
       "<div>\n",
       "<style scoped>\n",
       "    .dataframe tbody tr th:only-of-type {\n",
       "        vertical-align: middle;\n",
       "    }\n",
       "\n",
       "    .dataframe tbody tr th {\n",
       "        vertical-align: top;\n",
       "    }\n",
       "\n",
       "    .dataframe thead th {\n",
       "        text-align: right;\n",
       "    }\n",
       "</style>\n",
       "<table border=\"1\" class=\"dataframe\">\n",
       "  <thead>\n",
       "    <tr style=\"text-align: right;\">\n",
       "      <th></th>\n",
       "      <th>date</th>\n",
       "      <th>open</th>\n",
       "      <th>high</th>\n",
       "      <th>low</th>\n",
       "      <th>close</th>\n",
       "      <th>volume</th>\n",
       "      <th>day</th>\n",
       "    </tr>\n",
       "    <tr>\n",
       "      <th>tic</th>\n",
       "      <th></th>\n",
       "      <th></th>\n",
       "      <th></th>\n",
       "      <th></th>\n",
       "      <th></th>\n",
       "      <th></th>\n",
       "      <th></th>\n",
       "    </tr>\n",
       "  </thead>\n",
       "  <tbody>\n",
       "    <tr>\n",
       "      <th>ABEV3.SA</th>\n",
       "      <td>2978</td>\n",
       "      <td>2978</td>\n",
       "      <td>2978</td>\n",
       "      <td>2978</td>\n",
       "      <td>2978</td>\n",
       "      <td>2978</td>\n",
       "      <td>2978</td>\n",
       "    </tr>\n",
       "    <tr>\n",
       "      <th>BBAS3.SA</th>\n",
       "      <td>2978</td>\n",
       "      <td>2978</td>\n",
       "      <td>2978</td>\n",
       "      <td>2978</td>\n",
       "      <td>2978</td>\n",
       "      <td>2978</td>\n",
       "      <td>2978</td>\n",
       "    </tr>\n",
       "    <tr>\n",
       "      <th>BBDC4.SA</th>\n",
       "      <td>2978</td>\n",
       "      <td>2978</td>\n",
       "      <td>2978</td>\n",
       "      <td>2978</td>\n",
       "      <td>2978</td>\n",
       "      <td>2978</td>\n",
       "      <td>2978</td>\n",
       "    </tr>\n",
       "    <tr>\n",
       "      <th>ITUB4.SA</th>\n",
       "      <td>2978</td>\n",
       "      <td>2978</td>\n",
       "      <td>2978</td>\n",
       "      <td>2978</td>\n",
       "      <td>2978</td>\n",
       "      <td>2978</td>\n",
       "      <td>2978</td>\n",
       "    </tr>\n",
       "    <tr>\n",
       "      <th>LREN3.SA</th>\n",
       "      <td>2978</td>\n",
       "      <td>2978</td>\n",
       "      <td>2978</td>\n",
       "      <td>2978</td>\n",
       "      <td>2978</td>\n",
       "      <td>2978</td>\n",
       "      <td>2978</td>\n",
       "    </tr>\n",
       "    <tr>\n",
       "      <th>PETR4.SA</th>\n",
       "      <td>2978</td>\n",
       "      <td>2978</td>\n",
       "      <td>2978</td>\n",
       "      <td>2978</td>\n",
       "      <td>2978</td>\n",
       "      <td>2978</td>\n",
       "      <td>2978</td>\n",
       "    </tr>\n",
       "    <tr>\n",
       "      <th>PRIO3.SA</th>\n",
       "      <td>2978</td>\n",
       "      <td>2978</td>\n",
       "      <td>2978</td>\n",
       "      <td>2978</td>\n",
       "      <td>2978</td>\n",
       "      <td>2978</td>\n",
       "      <td>2978</td>\n",
       "    </tr>\n",
       "    <tr>\n",
       "      <th>RENT3.SA</th>\n",
       "      <td>2978</td>\n",
       "      <td>2978</td>\n",
       "      <td>2978</td>\n",
       "      <td>2978</td>\n",
       "      <td>2978</td>\n",
       "      <td>2978</td>\n",
       "      <td>2978</td>\n",
       "    </tr>\n",
       "    <tr>\n",
       "      <th>VALE3.SA</th>\n",
       "      <td>2978</td>\n",
       "      <td>2978</td>\n",
       "      <td>2978</td>\n",
       "      <td>2978</td>\n",
       "      <td>2978</td>\n",
       "      <td>2978</td>\n",
       "      <td>2978</td>\n",
       "    </tr>\n",
       "    <tr>\n",
       "      <th>WEGE3.SA</th>\n",
       "      <td>2978</td>\n",
       "      <td>2978</td>\n",
       "      <td>2978</td>\n",
       "      <td>2978</td>\n",
       "      <td>2978</td>\n",
       "      <td>2978</td>\n",
       "      <td>2978</td>\n",
       "    </tr>\n",
       "  </tbody>\n",
       "</table>\n",
       "</div>"
      ],
      "text/plain": [
       "          date  open  high   low  close  volume   day\n",
       "tic                                                  \n",
       "ABEV3.SA  2978  2978  2978  2978   2978    2978  2978\n",
       "BBAS3.SA  2978  2978  2978  2978   2978    2978  2978\n",
       "BBDC4.SA  2978  2978  2978  2978   2978    2978  2978\n",
       "ITUB4.SA  2978  2978  2978  2978   2978    2978  2978\n",
       "LREN3.SA  2978  2978  2978  2978   2978    2978  2978\n",
       "PETR4.SA  2978  2978  2978  2978   2978    2978  2978\n",
       "PRIO3.SA  2978  2978  2978  2978   2978    2978  2978\n",
       "RENT3.SA  2978  2978  2978  2978   2978    2978  2978\n",
       "VALE3.SA  2978  2978  2978  2978   2978    2978  2978\n",
       "WEGE3.SA  2978  2978  2978  2978   2978    2978  2978"
      ]
     },
     "execution_count": 19,
     "metadata": {},
     "output_type": "execute_result"
    }
   ],
   "source": [
    "portfolio_raw_df.groupby(\"tic\").count()"
   ]
  },
  {
   "cell_type": "markdown",
   "metadata": {},
   "source": [
    "### Normalize Data"
   ]
  },
  {
   "cell_type": "markdown",
   "metadata": {},
   "source": [
    "We normalize the data dividing the time series of each stock by its maximum value, so that the dataframe contains values between 0 and 1."
   ]
  },
  {
   "cell_type": "code",
   "execution_count": 20,
   "metadata": {},
   "outputs": [
    {
     "name": "stderr",
     "output_type": "stream",
     "text": [
      "c:\\Users\\bencj\\Desktop\\Econ4\\Thesis\\.venv\\lib\\site-packages\\finrl\\meta\\preprocessor\\preprocessors.py:101: FutureWarning: Setting an item of incompatible dtype is deprecated and will raise an error in a future version of pandas. Value '[0.00200262 0.00114137 0.0010422  ... 0.04565734 0.05214546 0.07760399]' has dtype incompatible with int64, please explicitly cast to a compatible dtype first.\n",
      "  X.loc[select_mask, self.columns] = self.scalers[value].transform(\n",
      "c:\\Users\\bencj\\Desktop\\Econ4\\Thesis\\.venv\\lib\\site-packages\\finrl\\meta\\preprocessor\\preprocessors.py:101: FutureWarning: Setting an item of incompatible dtype is deprecated and will raise an error in a future version of pandas. Value '[0.   0.25 0.5  ... 0.25 0.5  0.75]' has dtype incompatible with int32, please explicitly cast to a compatible dtype first.\n",
      "  X.loc[select_mask, self.columns] = self.scalers[value].transform(\n"
     ]
    },
    {
     "data": {
      "text/html": [
       "<div>\n",
       "<style scoped>\n",
       "    .dataframe tbody tr th:only-of-type {\n",
       "        vertical-align: middle;\n",
       "    }\n",
       "\n",
       "    .dataframe tbody tr th {\n",
       "        vertical-align: top;\n",
       "    }\n",
       "\n",
       "    .dataframe thead th {\n",
       "        text-align: right;\n",
       "    }\n",
       "</style>\n",
       "<table border=\"1\" class=\"dataframe\">\n",
       "  <thead>\n",
       "    <tr style=\"text-align: right;\">\n",
       "      <th></th>\n",
       "      <th>date</th>\n",
       "      <th>open</th>\n",
       "      <th>high</th>\n",
       "      <th>low</th>\n",
       "      <th>close</th>\n",
       "      <th>volume</th>\n",
       "      <th>tic</th>\n",
       "      <th>day</th>\n",
       "    </tr>\n",
       "  </thead>\n",
       "  <tbody>\n",
       "    <tr>\n",
       "      <th>0</th>\n",
       "      <td>2011-01-03</td>\n",
       "      <td>0.353928</td>\n",
       "      <td>0.355383</td>\n",
       "      <td>0.359147</td>\n",
       "      <td>0.272027</td>\n",
       "      <td>0.002003</td>\n",
       "      <td>ABEV3.SA</td>\n",
       "      <td>0.00</td>\n",
       "    </tr>\n",
       "    <tr>\n",
       "      <th>1</th>\n",
       "      <td>2011-01-03</td>\n",
       "      <td>0.566547</td>\n",
       "      <td>0.568771</td>\n",
       "      <td>0.572419</td>\n",
       "      <td>0.320274</td>\n",
       "      <td>0.014581</td>\n",
       "      <td>BBAS3.SA</td>\n",
       "      <td>0.00</td>\n",
       "    </tr>\n",
       "    <tr>\n",
       "      <th>2</th>\n",
       "      <td>2011-01-03</td>\n",
       "      <td>0.396939</td>\n",
       "      <td>0.397479</td>\n",
       "      <td>0.399922</td>\n",
       "      <td>0.284189</td>\n",
       "      <td>0.021760</td>\n",
       "      <td>BBDC4.SA</td>\n",
       "      <td>0.00</td>\n",
       "    </tr>\n",
       "    <tr>\n",
       "      <th>3</th>\n",
       "      <td>2011-01-03</td>\n",
       "      <td>0.466293</td>\n",
       "      <td>0.458661</td>\n",
       "      <td>0.467793</td>\n",
       "      <td>0.341453</td>\n",
       "      <td>0.062331</td>\n",
       "      <td>ITUB4.SA</td>\n",
       "      <td>0.00</td>\n",
       "    </tr>\n",
       "    <tr>\n",
       "      <th>4</th>\n",
       "      <td>2011-01-03</td>\n",
       "      <td>0.153498</td>\n",
       "      <td>0.157120</td>\n",
       "      <td>0.155466</td>\n",
       "      <td>0.126038</td>\n",
       "      <td>0.072591</td>\n",
       "      <td>LREN3.SA</td>\n",
       "      <td>0.00</td>\n",
       "    </tr>\n",
       "    <tr>\n",
       "      <th>...</th>\n",
       "      <td>...</td>\n",
       "      <td>...</td>\n",
       "      <td>...</td>\n",
       "      <td>...</td>\n",
       "      <td>...</td>\n",
       "      <td>...</td>\n",
       "      <td>...</td>\n",
       "      <td>...</td>\n",
       "    </tr>\n",
       "    <tr>\n",
       "      <th>29775</th>\n",
       "      <td>2022-12-29</td>\n",
       "      <td>0.663745</td>\n",
       "      <td>0.652514</td>\n",
       "      <td>0.662958</td>\n",
       "      <td>0.694899</td>\n",
       "      <td>0.082841</td>\n",
       "      <td>PETR4.SA</td>\n",
       "      <td>0.75</td>\n",
       "    </tr>\n",
       "    <tr>\n",
       "      <th>29776</th>\n",
       "      <td>2022-12-29</td>\n",
       "      <td>0.858295</td>\n",
       "      <td>0.844144</td>\n",
       "      <td>0.878173</td>\n",
       "      <td>0.857373</td>\n",
       "      <td>0.048724</td>\n",
       "      <td>PRIO3.SA</td>\n",
       "      <td>0.75</td>\n",
       "    </tr>\n",
       "    <tr>\n",
       "      <th>29777</th>\n",
       "      <td>2022-12-29</td>\n",
       "      <td>0.737949</td>\n",
       "      <td>0.754746</td>\n",
       "      <td>0.727218</td>\n",
       "      <td>0.728877</td>\n",
       "      <td>0.097191</td>\n",
       "      <td>RENT3.SA</td>\n",
       "      <td>0.75</td>\n",
       "    </tr>\n",
       "    <tr>\n",
       "      <th>29778</th>\n",
       "      <td>2022-12-29</td>\n",
       "      <td>0.742905</td>\n",
       "      <td>0.746783</td>\n",
       "      <td>0.770759</td>\n",
       "      <td>0.916710</td>\n",
       "      <td>0.218546</td>\n",
       "      <td>VALE3.SA</td>\n",
       "      <td>0.75</td>\n",
       "    </tr>\n",
       "    <tr>\n",
       "      <th>29779</th>\n",
       "      <td>2022-12-29</td>\n",
       "      <td>0.835988</td>\n",
       "      <td>0.830812</td>\n",
       "      <td>0.853795</td>\n",
       "      <td>0.859932</td>\n",
       "      <td>0.047379</td>\n",
       "      <td>WEGE3.SA</td>\n",
       "      <td>0.75</td>\n",
       "    </tr>\n",
       "  </tbody>\n",
       "</table>\n",
       "<p>29780 rows × 8 columns</p>\n",
       "</div>"
      ],
      "text/plain": [
       "             date      open      high       low     close    volume       tic  \\\n",
       "0      2011-01-03  0.353928  0.355383  0.359147  0.272027  0.002003  ABEV3.SA   \n",
       "1      2011-01-03  0.566547  0.568771  0.572419  0.320274  0.014581  BBAS3.SA   \n",
       "2      2011-01-03  0.396939  0.397479  0.399922  0.284189  0.021760  BBDC4.SA   \n",
       "3      2011-01-03  0.466293  0.458661  0.467793  0.341453  0.062331  ITUB4.SA   \n",
       "4      2011-01-03  0.153498  0.157120  0.155466  0.126038  0.072591  LREN3.SA   \n",
       "...           ...       ...       ...       ...       ...       ...       ...   \n",
       "29775  2022-12-29  0.663745  0.652514  0.662958  0.694899  0.082841  PETR4.SA   \n",
       "29776  2022-12-29  0.858295  0.844144  0.878173  0.857373  0.048724  PRIO3.SA   \n",
       "29777  2022-12-29  0.737949  0.754746  0.727218  0.728877  0.097191  RENT3.SA   \n",
       "29778  2022-12-29  0.742905  0.746783  0.770759  0.916710  0.218546  VALE3.SA   \n",
       "29779  2022-12-29  0.835988  0.830812  0.853795  0.859932  0.047379  WEGE3.SA   \n",
       "\n",
       "        day  \n",
       "0      0.00  \n",
       "1      0.00  \n",
       "2      0.00  \n",
       "3      0.00  \n",
       "4      0.00  \n",
       "...     ...  \n",
       "29775  0.75  \n",
       "29776  0.75  \n",
       "29777  0.75  \n",
       "29778  0.75  \n",
       "29779  0.75  \n",
       "\n",
       "[29780 rows x 8 columns]"
      ]
     },
     "execution_count": 20,
     "metadata": {},
     "output_type": "execute_result"
    }
   ],
   "source": [
    "portfolio_norm_df = GroupByScaler(by=\"tic\", scaler=MaxAbsScaler).fit_transform(portfolio_raw_df)\n",
    "portfolio_norm_df"
   ]
  },
  {
   "cell_type": "code",
   "execution_count": 21,
   "metadata": {},
   "outputs": [],
   "source": [
    "df_portfolio = portfolio_norm_df[[\"date\", \"tic\", \"close\", \"high\", \"low\"]]\n",
    "\n",
    "df_portfolio_train = df_portfolio[(df_portfolio[\"date\"] >= \"2011-01-01\") & (df_portfolio[\"date\"] < \"2019-12-31\")]\n",
    "df_portfolio_2020 = df_portfolio[(df_portfolio[\"date\"] >= \"2020-01-01\") & (df_portfolio[\"date\"] < \"2020-12-31\")]\n",
    "df_portfolio_2021 = df_portfolio[(df_portfolio[\"date\"] >= \"2021-01-01\") & (df_portfolio[\"date\"] < \"2021-12-31\")]\n",
    "df_portfolio_2022 = df_portfolio[(df_portfolio[\"date\"] >= \"2022-01-01\") & (df_portfolio[\"date\"] < \"2022-12-31\")]"
   ]
  },
  {
   "cell_type": "markdown",
   "metadata": {
    "id": "pM829994GWo3"
   },
   "source": [
    "### Instantiate Environment\n",
    "\n",
    "Using the `PortfolioOptimizationEnv`, it's easy to instantiate a portfolio optimization environment for reinforcement learning agents. In the example below, we use the dataframe created before to start an environment."
   ]
  },
  {
   "cell_type": "code",
   "execution_count": 22,
   "metadata": {},
   "outputs": [],
   "source": [
    "environment = PortfolioOptimizationEnv(\n",
    "        df_portfolio_train,\n",
    "        initial_amount=100000,\n",
    "        comission_fee_pct=0.0025,\n",
    "        time_window=50,\n",
    "        features=[\"close\", \"high\", \"low\"],\n",
    "        normalize_df=None\n",
    "    )"
   ]
  },
  {
   "cell_type": "markdown",
   "metadata": {},
   "source": [
    "### Instantiate Model\n",
    "\n",
    "Now, we can instantiate the model using FinRL API. In this example, we are going to use the EIIE architecture introduced by Jiang et. al.\n",
    "\n",
    ":exclamation: **Note:** Remember to set the architecture's `time_window` parameter with the same value of the environment's `time_window`."
   ]
  },
  {
   "cell_type": "code",
   "execution_count": 23,
   "metadata": {
    "colab": {
     "base_uri": "https://localhost:8080/",
     "height": 1000,
     "referenced_widgets": [
      "750b2ea28d2a439db3fc5034927dbce2",
      "c172e120fc5e4f9ab13bf8599d868b5f",
      "4b2aa7128c5d4d15bb794eb76faccd6a",
      "317393fb13c0449abfff29a4949553a0",
      "8cb75a82e5374c51b1f47a6e15783177",
      "9cb3d937be5d4f7cac192b392218ef37",
      "b27b9cc333ac44a5bb2cec60d02f16c0",
      "6a1187acb99d44c68e27cd5aad879ff1",
      "6a5c9dbaddc441d390d4827c170cbe9c",
      "1f84695a1caf4c80b29eb5eea90bb29a",
      "a7a6884bfdb642b9b342f7cda49d7d67"
     ]
    },
    "id": "wr82W3E0uQSo",
    "outputId": "61dcf1f5-7cf0-40b2-85bd-3f7dd943ddc6",
    "scrolled": true
   },
   "outputs": [],
   "source": [
    "# set PolicyGradient parameters\n",
    "model_kwargs = {\n",
    "    \"lr\": 0.01,\n",
    "    \"policy\": EIIE,\n",
    "}\n",
    "\n",
    "# here, we can set EIIE's parameters\n",
    "policy_kwargs = {\n",
    "    \"k_size\": 3,\n",
    "    \"time_window\": 50,\n",
    "}\n",
    "\n",
    "model = DRLAgent(environment).get_model(\"pg\", device, model_kwargs, policy_kwargs)"
   ]
  },
  {
   "cell_type": "markdown",
   "metadata": {},
   "source": [
    "### Train Model"
   ]
  },
  {
   "cell_type": "code",
   "execution_count": 24,
   "metadata": {},
   "outputs": [
    {
     "name": "stderr",
     "output_type": "stream",
     "text": [
      "  0%|          | 0/40 [00:00<?, ?it/s]"
     ]
    },
    {
     "name": "stdout",
     "output_type": "stream",
     "text": [
      "=================================\n",
      "Initial portfolio value:100000\n",
      "Final portfolio value: 349978.59375\n",
      "Final accumulative portfolio value: 3.4997859375\n",
      "Maximum DrawDown: -0.4352402605019139\n",
      "Sharpe ratio: 0.7843811476016066\n",
      "=================================\n"
     ]
    },
    {
     "name": "stderr",
     "output_type": "stream",
     "text": [
      "  2%|▎         | 1/40 [00:28<18:38, 28.67s/it]"
     ]
    },
    {
     "name": "stdout",
     "output_type": "stream",
     "text": [
      "=================================\n",
      "Initial portfolio value:100000\n",
      "Final portfolio value: 465155.4375\n",
      "Final accumulative portfolio value: 4.651554375\n",
      "Maximum DrawDown: -0.46065935484174536\n",
      "Sharpe ratio: 0.9312217906766693\n",
      "=================================\n"
     ]
    },
    {
     "name": "stderr",
     "output_type": "stream",
     "text": [
      "  5%|▌         | 2/40 [00:56<18:00, 28.42s/it]"
     ]
    },
    {
     "name": "stdout",
     "output_type": "stream",
     "text": [
      "=================================\n",
      "Initial portfolio value:100000\n",
      "Final portfolio value: 597771.375\n",
      "Final accumulative portfolio value: 5.97771375\n",
      "Maximum DrawDown: -0.5406583049427491\n",
      "Sharpe ratio: 0.9857889624862904\n",
      "=================================\n"
     ]
    },
    {
     "name": "stderr",
     "output_type": "stream",
     "text": [
      "  8%|▊         | 3/40 [01:23<16:52, 27.37s/it]"
     ]
    },
    {
     "name": "stdout",
     "output_type": "stream",
     "text": [
      "=================================\n",
      "Initial portfolio value:100000\n",
      "Final portfolio value: 714834.75\n",
      "Final accumulative portfolio value: 7.1483475\n",
      "Maximum DrawDown: -0.5214058553503111\n",
      "Sharpe ratio: 1.0663150977033644\n",
      "=================================\n"
     ]
    },
    {
     "name": "stderr",
     "output_type": "stream",
     "text": [
      " 10%|█         | 4/40 [01:47<15:48, 26.36s/it]"
     ]
    },
    {
     "name": "stdout",
     "output_type": "stream",
     "text": [
      "=================================\n",
      "Initial portfolio value:100000\n",
      "Final portfolio value: 862521.25\n",
      "Final accumulative portfolio value: 8.6252125\n",
      "Maximum DrawDown: -0.5446905076620979\n",
      "Sharpe ratio: 1.0620290893588311\n",
      "=================================\n"
     ]
    },
    {
     "name": "stderr",
     "output_type": "stream",
     "text": [
      " 12%|█▎        | 5/40 [02:14<15:22, 26.35s/it]"
     ]
    },
    {
     "name": "stdout",
     "output_type": "stream",
     "text": [
      "=================================\n",
      "Initial portfolio value:100000\n",
      "Final portfolio value: 815291.0\n",
      "Final accumulative portfolio value: 8.15291\n",
      "Maximum DrawDown: -0.6777367614141845\n",
      "Sharpe ratio: 0.90431870891676\n",
      "=================================\n"
     ]
    },
    {
     "name": "stderr",
     "output_type": "stream",
     "text": [
      " 15%|█▌        | 6/40 [02:40<14:56, 26.36s/it]"
     ]
    },
    {
     "name": "stdout",
     "output_type": "stream",
     "text": [
      "=================================\n",
      "Initial portfolio value:100000\n",
      "Final portfolio value: 1003125.25\n",
      "Final accumulative portfolio value: 10.0312525\n",
      "Maximum DrawDown: -0.6257424553761448\n",
      "Sharpe ratio: 1.0178898286077311\n",
      "=================================\n"
     ]
    },
    {
     "name": "stderr",
     "output_type": "stream",
     "text": [
      " 18%|█▊        | 7/40 [03:06<14:26, 26.25s/it]"
     ]
    },
    {
     "name": "stdout",
     "output_type": "stream",
     "text": [
      "=================================\n",
      "Initial portfolio value:100000\n",
      "Final portfolio value: 1102527.625\n",
      "Final accumulative portfolio value: 11.02527625\n",
      "Maximum DrawDown: -0.6364022216457476\n",
      "Sharpe ratio: 1.0207633434806938\n",
      "=================================\n"
     ]
    },
    {
     "name": "stderr",
     "output_type": "stream",
     "text": [
      " 20%|██        | 8/40 [03:31<13:44, 25.77s/it]"
     ]
    },
    {
     "name": "stdout",
     "output_type": "stream",
     "text": [
      "=================================\n",
      "Initial portfolio value:100000\n",
      "Final portfolio value: 1271056.25\n",
      "Final accumulative portfolio value: 12.7105625\n",
      "Maximum DrawDown: -0.6277897706711147\n",
      "Sharpe ratio: 1.0464727315585085\n",
      "=================================\n"
     ]
    },
    {
     "name": "stderr",
     "output_type": "stream",
     "text": [
      " 22%|██▎       | 9/40 [03:55<13:05, 25.33s/it]"
     ]
    },
    {
     "name": "stdout",
     "output_type": "stream",
     "text": [
      "=================================\n",
      "Initial portfolio value:100000\n",
      "Final portfolio value: 1308119.5\n",
      "Final accumulative portfolio value: 13.081195\n",
      "Maximum DrawDown: -0.6594922846899753\n",
      "Sharpe ratio: 1.0177208890345466\n",
      "=================================\n"
     ]
    },
    {
     "name": "stderr",
     "output_type": "stream",
     "text": [
      " 25%|██▌       | 10/40 [04:20<12:31, 25.06s/it]"
     ]
    },
    {
     "name": "stdout",
     "output_type": "stream",
     "text": [
      "=================================\n",
      "Initial portfolio value:100000\n",
      "Final portfolio value: 1472087.5\n",
      "Final accumulative portfolio value: 14.720875\n",
      "Maximum DrawDown: -0.6410025058826376\n",
      "Sharpe ratio: 1.044978976333894\n",
      "=================================\n"
     ]
    },
    {
     "name": "stderr",
     "output_type": "stream",
     "text": [
      " 28%|██▊       | 11/40 [04:45<12:06, 25.04s/it]"
     ]
    },
    {
     "name": "stdout",
     "output_type": "stream",
     "text": [
      "=================================\n",
      "Initial portfolio value:100000\n",
      "Final portfolio value: 1493068.375\n",
      "Final accumulative portfolio value: 14.93068375\n",
      "Maximum DrawDown: -0.654508229495708\n",
      "Sharpe ratio: 1.0361995950982277\n",
      "=================================\n"
     ]
    },
    {
     "name": "stderr",
     "output_type": "stream",
     "text": [
      " 30%|███       | 12/40 [05:14<12:20, 26.46s/it]"
     ]
    },
    {
     "name": "stdout",
     "output_type": "stream",
     "text": [
      "=================================\n",
      "Initial portfolio value:100000\n",
      "Final portfolio value: 1601045.75\n",
      "Final accumulative portfolio value: 16.0104575\n",
      "Maximum DrawDown: -0.6474480981380515\n",
      "Sharpe ratio: 1.0420908726729732\n",
      "=================================\n"
     ]
    },
    {
     "name": "stderr",
     "output_type": "stream",
     "text": [
      " 32%|███▎      | 13/40 [05:43<12:15, 27.25s/it]"
     ]
    },
    {
     "name": "stdout",
     "output_type": "stream",
     "text": [
      "=================================\n",
      "Initial portfolio value:100000\n",
      "Final portfolio value: 1667770.125\n",
      "Final accumulative portfolio value: 16.67770125\n",
      "Maximum DrawDown: -0.6455532417237138\n",
      "Sharpe ratio: 1.0437387189469987\n",
      "=================================\n"
     ]
    },
    {
     "name": "stderr",
     "output_type": "stream",
     "text": [
      " 35%|███▌      | 14/40 [06:11<11:53, 27.45s/it]"
     ]
    },
    {
     "name": "stdout",
     "output_type": "stream",
     "text": [
      "=================================\n",
      "Initial portfolio value:100000\n",
      "Final portfolio value: 1716898.75\n",
      "Final accumulative portfolio value: 17.1689875\n",
      "Maximum DrawDown: -0.6468928110352837\n",
      "Sharpe ratio: 1.054968386284607\n",
      "=================================\n"
     ]
    },
    {
     "name": "stderr",
     "output_type": "stream",
     "text": [
      " 38%|███▊      | 15/40 [06:40<11:33, 27.73s/it]"
     ]
    },
    {
     "name": "stdout",
     "output_type": "stream",
     "text": [
      "=================================\n",
      "Initial portfolio value:100000\n",
      "Final portfolio value: 1786959.75\n",
      "Final accumulative portfolio value: 17.8695975\n",
      "Maximum DrawDown: -0.635897880904553\n",
      "Sharpe ratio: 1.0615193344396852\n",
      "=================================\n"
     ]
    },
    {
     "name": "stderr",
     "output_type": "stream",
     "text": [
      " 40%|████      | 16/40 [07:05<10:46, 26.94s/it]"
     ]
    },
    {
     "name": "stdout",
     "output_type": "stream",
     "text": [
      "=================================\n",
      "Initial portfolio value:100000\n",
      "Final portfolio value: 1731820.875\n",
      "Final accumulative portfolio value: 17.31820875\n",
      "Maximum DrawDown: -0.6613473848509013\n",
      "Sharpe ratio: 1.059154460869015\n",
      "=================================\n"
     ]
    },
    {
     "name": "stderr",
     "output_type": "stream",
     "text": [
      " 42%|████▎     | 17/40 [07:33<10:28, 27.32s/it]"
     ]
    },
    {
     "name": "stdout",
     "output_type": "stream",
     "text": [
      "=================================\n",
      "Initial portfolio value:100000\n",
      "Final portfolio value: 1845720.0\n",
      "Final accumulative portfolio value: 18.4572\n",
      "Maximum DrawDown: -0.6092820796700668\n",
      "Sharpe ratio: 1.0702424701606872\n",
      "=================================\n"
     ]
    },
    {
     "name": "stderr",
     "output_type": "stream",
     "text": [
      " 45%|████▌     | 18/40 [08:01<10:08, 27.67s/it]"
     ]
    },
    {
     "name": "stdout",
     "output_type": "stream",
     "text": [
      "=================================\n",
      "Initial portfolio value:100000\n",
      "Final portfolio value: 1871151.5\n",
      "Final accumulative portfolio value: 18.711515\n",
      "Maximum DrawDown: -0.6385415411657849\n",
      "Sharpe ratio: 1.0556768868998594\n",
      "=================================\n"
     ]
    },
    {
     "name": "stderr",
     "output_type": "stream",
     "text": [
      " 48%|████▊     | 19/40 [08:30<09:46, 27.95s/it]"
     ]
    },
    {
     "name": "stdout",
     "output_type": "stream",
     "text": [
      "=================================\n",
      "Initial portfolio value:100000\n",
      "Final portfolio value: 1816096.25\n",
      "Final accumulative portfolio value: 18.1609625\n",
      "Maximum DrawDown: -0.665796879832464\n",
      "Sharpe ratio: 1.0483064315981863\n",
      "=================================\n"
     ]
    },
    {
     "name": "stderr",
     "output_type": "stream",
     "text": [
      " 50%|█████     | 20/40 [08:57<09:12, 27.62s/it]"
     ]
    },
    {
     "name": "stdout",
     "output_type": "stream",
     "text": [
      "=================================\n",
      "Initial portfolio value:100000\n",
      "Final portfolio value: 1848458.125\n",
      "Final accumulative portfolio value: 18.48458125\n",
      "Maximum DrawDown: -0.6002597272984433\n",
      "Sharpe ratio: 1.0496104426659678\n",
      "=================================\n"
     ]
    },
    {
     "name": "stderr",
     "output_type": "stream",
     "text": [
      " 52%|█████▎    | 21/40 [09:24<08:41, 27.46s/it]"
     ]
    },
    {
     "name": "stdout",
     "output_type": "stream",
     "text": [
      "=================================\n",
      "Initial portfolio value:100000\n",
      "Final portfolio value: 1371323.75\n",
      "Final accumulative portfolio value: 13.7132375\n",
      "Maximum DrawDown: -0.8458700224858671\n",
      "Sharpe ratio: 0.7893997070010964\n",
      "=================================\n"
     ]
    },
    {
     "name": "stderr",
     "output_type": "stream",
     "text": [
      " 55%|█████▌    | 22/40 [09:51<08:11, 27.30s/it]"
     ]
    },
    {
     "name": "stdout",
     "output_type": "stream",
     "text": [
      "=================================\n",
      "Initial portfolio value:100000\n",
      "Final portfolio value: 1560950.5\n",
      "Final accumulative portfolio value: 15.609505\n",
      "Maximum DrawDown: -0.8126397530908205\n",
      "Sharpe ratio: 0.8431808454945504\n",
      "=================================\n"
     ]
    },
    {
     "name": "stderr",
     "output_type": "stream",
     "text": [
      " 57%|█████▊    | 23/40 [10:17<07:38, 26.95s/it]"
     ]
    },
    {
     "name": "stdout",
     "output_type": "stream",
     "text": [
      "=================================\n",
      "Initial portfolio value:100000\n",
      "Final portfolio value: 1334424.375\n",
      "Final accumulative portfolio value: 13.34424375\n",
      "Maximum DrawDown: -0.8408031970098075\n",
      "Sharpe ratio: 0.7790576902234737\n",
      "=================================\n"
     ]
    },
    {
     "name": "stderr",
     "output_type": "stream",
     "text": [
      " 60%|██████    | 24/40 [10:45<07:14, 27.16s/it]"
     ]
    },
    {
     "name": "stdout",
     "output_type": "stream",
     "text": [
      "=================================\n",
      "Initial portfolio value:100000\n",
      "Final portfolio value: 1680328.0\n",
      "Final accumulative portfolio value: 16.80328\n",
      "Maximum DrawDown: -0.8052766375588015\n",
      "Sharpe ratio: 0.871081968180035\n",
      "=================================\n"
     ]
    },
    {
     "name": "stderr",
     "output_type": "stream",
     "text": [
      " 62%|██████▎   | 25/40 [11:18<07:12, 28.86s/it]"
     ]
    },
    {
     "name": "stdout",
     "output_type": "stream",
     "text": [
      "=================================\n",
      "Initial portfolio value:100000\n",
      "Final portfolio value: 710570.875\n",
      "Final accumulative portfolio value: 7.10570875\n",
      "Maximum DrawDown: -0.862369320139756\n",
      "Sharpe ratio: 0.6570919624643332\n",
      "=================================\n"
     ]
    },
    {
     "name": "stderr",
     "output_type": "stream",
     "text": [
      " 65%|██████▌   | 26/40 [11:44<06:35, 28.27s/it]"
     ]
    },
    {
     "name": "stdout",
     "output_type": "stream",
     "text": [
      "=================================\n",
      "Initial portfolio value:100000\n",
      "Final portfolio value: 1362104.25\n",
      "Final accumulative portfolio value: 13.6210425\n",
      "Maximum DrawDown: -0.8328862122126632\n",
      "Sharpe ratio: 0.8185304545968548\n",
      "=================================\n"
     ]
    },
    {
     "name": "stderr",
     "output_type": "stream",
     "text": [
      " 68%|██████▊   | 27/40 [12:10<05:55, 27.31s/it]"
     ]
    },
    {
     "name": "stdout",
     "output_type": "stream",
     "text": [
      "=================================\n",
      "Initial portfolio value:100000\n",
      "Final portfolio value: 1359548.5\n",
      "Final accumulative portfolio value: 13.595485\n",
      "Maximum DrawDown: -0.8587723836150898\n",
      "Sharpe ratio: 0.7820035977707819\n",
      "=================================\n"
     ]
    },
    {
     "name": "stderr",
     "output_type": "stream",
     "text": [
      " 70%|███████   | 28/40 [12:41<05:40, 28.41s/it]"
     ]
    },
    {
     "name": "stdout",
     "output_type": "stream",
     "text": [
      "=================================\n",
      "Initial portfolio value:100000\n",
      "Final portfolio value: 1466354.5\n",
      "Final accumulative portfolio value: 14.663545\n",
      "Maximum DrawDown: -0.8113646666722291\n",
      "Sharpe ratio: 0.8405433861246943\n",
      "=================================\n"
     ]
    },
    {
     "name": "stderr",
     "output_type": "stream",
     "text": [
      " 72%|███████▎  | 29/40 [13:11<05:20, 29.11s/it]"
     ]
    },
    {
     "name": "stdout",
     "output_type": "stream",
     "text": [
      "=================================\n",
      "Initial portfolio value:100000\n",
      "Final portfolio value: 1837136.875\n",
      "Final accumulative portfolio value: 18.37136875\n",
      "Maximum DrawDown: -0.7867293865835328\n",
      "Sharpe ratio: 0.8992524533742934\n",
      "=================================\n"
     ]
    },
    {
     "name": "stderr",
     "output_type": "stream",
     "text": [
      " 75%|███████▌  | 30/40 [13:40<04:49, 29.00s/it]"
     ]
    },
    {
     "name": "stdout",
     "output_type": "stream",
     "text": [
      "=================================\n",
      "Initial portfolio value:100000\n",
      "Final portfolio value: 1099289.5\n",
      "Final accumulative portfolio value: 10.992895\n",
      "Maximum DrawDown: -0.7456086522240244\n",
      "Sharpe ratio: 0.8161836408254177\n",
      "=================================\n"
     ]
    },
    {
     "name": "stderr",
     "output_type": "stream",
     "text": [
      " 78%|███████▊  | 31/40 [14:06<04:13, 28.20s/it]"
     ]
    },
    {
     "name": "stdout",
     "output_type": "stream",
     "text": [
      "=================================\n",
      "Initial portfolio value:100000\n",
      "Final portfolio value: 1634201.625\n",
      "Final accumulative portfolio value: 16.34201625\n",
      "Maximum DrawDown: -0.7392856473154958\n",
      "Sharpe ratio: 0.9388781176615516\n",
      "=================================\n"
     ]
    },
    {
     "name": "stderr",
     "output_type": "stream",
     "text": [
      " 80%|████████  | 32/40 [14:34<03:43, 27.95s/it]"
     ]
    },
    {
     "name": "stdout",
     "output_type": "stream",
     "text": [
      "=================================\n",
      "Initial portfolio value:100000\n",
      "Final portfolio value: 1277294.0\n",
      "Final accumulative portfolio value: 12.77294\n",
      "Maximum DrawDown: -0.7672248735919304\n",
      "Sharpe ratio: 0.8698594521019101\n",
      "=================================\n"
     ]
    },
    {
     "name": "stderr",
     "output_type": "stream",
     "text": [
      " 82%|████████▎ | 33/40 [15:01<03:15, 27.86s/it]"
     ]
    },
    {
     "name": "stdout",
     "output_type": "stream",
     "text": [
      "=================================\n",
      "Initial portfolio value:100000\n",
      "Final portfolio value: 1443208.625\n",
      "Final accumulative portfolio value: 14.43208625\n",
      "Maximum DrawDown: -0.6275544786555923\n",
      "Sharpe ratio: 1.103388299889576\n",
      "=================================\n"
     ]
    },
    {
     "name": "stderr",
     "output_type": "stream",
     "text": [
      " 85%|████████▌ | 34/40 [15:29<02:46, 27.72s/it]"
     ]
    },
    {
     "name": "stdout",
     "output_type": "stream",
     "text": [
      "=================================\n",
      "Initial portfolio value:100000\n",
      "Final portfolio value: 1787513.875\n",
      "Final accumulative portfolio value: 17.87513875\n",
      "Maximum DrawDown: -0.6286311142457353\n",
      "Sharpe ratio: 1.0627629994610293\n",
      "=================================\n"
     ]
    },
    {
     "name": "stderr",
     "output_type": "stream",
     "text": [
      " 88%|████████▊ | 35/40 [15:55<02:16, 27.21s/it]"
     ]
    },
    {
     "name": "stdout",
     "output_type": "stream",
     "text": [
      "=================================\n",
      "Initial portfolio value:100000\n",
      "Final portfolio value: 1803951.375\n",
      "Final accumulative portfolio value: 18.03951375\n",
      "Maximum DrawDown: -0.6753816953458507\n",
      "Sharpe ratio: 1.0307822334029526\n",
      "=================================\n"
     ]
    },
    {
     "name": "stderr",
     "output_type": "stream",
     "text": [
      " 90%|█████████ | 36/40 [16:21<01:47, 26.91s/it]"
     ]
    },
    {
     "name": "stdout",
     "output_type": "stream",
     "text": [
      "=================================\n",
      "Initial portfolio value:100000\n",
      "Final portfolio value: 1777557.375\n",
      "Final accumulative portfolio value: 17.77557375\n",
      "Maximum DrawDown: -0.6322392670430433\n",
      "Sharpe ratio: 1.071827603661925\n",
      "=================================\n"
     ]
    },
    {
     "name": "stderr",
     "output_type": "stream",
     "text": [
      " 92%|█████████▎| 37/40 [16:49<01:21, 27.16s/it]"
     ]
    },
    {
     "name": "stdout",
     "output_type": "stream",
     "text": [
      "=================================\n",
      "Initial portfolio value:100000\n",
      "Final portfolio value: 2055215.25\n",
      "Final accumulative portfolio value: 20.5521525\n",
      "Maximum DrawDown: -0.6146235212797213\n",
      "Sharpe ratio: 1.0871483223979248\n",
      "=================================\n"
     ]
    },
    {
     "name": "stderr",
     "output_type": "stream",
     "text": [
      " 95%|█████████▌| 38/40 [17:16<00:54, 27.11s/it]"
     ]
    },
    {
     "name": "stdout",
     "output_type": "stream",
     "text": [
      "=================================\n",
      "Initial portfolio value:100000\n",
      "Final portfolio value: 2111016.5\n",
      "Final accumulative portfolio value: 21.110165\n",
      "Maximum DrawDown: -0.609832150144\n",
      "Sharpe ratio: 1.0937296847335\n",
      "=================================\n"
     ]
    },
    {
     "name": "stderr",
     "output_type": "stream",
     "text": [
      " 98%|█████████▊| 39/40 [17:44<00:27, 27.33s/it]"
     ]
    },
    {
     "name": "stdout",
     "output_type": "stream",
     "text": [
      "=================================\n",
      "Initial portfolio value:100000\n",
      "Final portfolio value: 2157218.0\n",
      "Final accumulative portfolio value: 21.57218\n",
      "Maximum DrawDown: -0.6073775058586603\n",
      "Sharpe ratio: 1.100250436618352\n",
      "=================================\n"
     ]
    },
    {
     "name": "stderr",
     "output_type": "stream",
     "text": [
      "100%|██████████| 40/40 [18:12<00:00, 27.32s/it]\n"
     ]
    },
    {
     "data": {
      "text/plain": [
       "<finrl.agents.portfolio_optimization.algorithms.PolicyGradient at 0x1dafd26d630>"
      ]
     },
     "execution_count": 24,
     "metadata": {},
     "output_type": "execute_result"
    }
   ],
   "source": [
    "DRLAgent.train_model(model, episodes=40)"
   ]
  },
  {
   "cell_type": "markdown",
   "metadata": {
    "id": "JE7X3qEeXOr4"
   },
   "source": [
    "### Save Model"
   ]
  },
  {
   "cell_type": "code",
   "execution_count": 25,
   "metadata": {
    "id": "YcWuPgPvXNpP"
   },
   "outputs": [],
   "source": [
    "torch.save(model.train_policy.state_dict(), \"policy_EIIE.pt\")"
   ]
  },
  {
   "cell_type": "markdown",
   "metadata": {
    "id": "7FRK9A98XVck"
   },
   "source": [
    "## Test Model"
   ]
  },
  {
   "cell_type": "markdown",
   "metadata": {
    "id": "IFYB9iGwAPSh"
   },
   "source": [
    "### Instantiate different environments\n",
    "\n",
    "Since we have three different periods of time, we need three different environments instantiated to simulate them."
   ]
  },
  {
   "cell_type": "code",
   "execution_count": 26,
   "metadata": {
    "id": "HhsL5Cxx9d5s"
   },
   "outputs": [],
   "source": [
    "environment_2020 = PortfolioOptimizationEnv(\n",
    "    df_portfolio_2020,\n",
    "    initial_amount=100000,\n",
    "    comission_fee_pct=0.0025,\n",
    "    time_window=50,\n",
    "    features=[\"close\", \"high\", \"low\"],\n",
    "    normalize_df=None\n",
    ")\n",
    "\n",
    "environment_2021 = PortfolioOptimizationEnv(\n",
    "    df_portfolio_2021,\n",
    "    initial_amount=100000,\n",
    "    comission_fee_pct=0.0025,\n",
    "    time_window=50,\n",
    "    features=[\"close\", \"high\", \"low\"],\n",
    "    normalize_df=None\n",
    ")\n",
    "\n",
    "environment_2022 = PortfolioOptimizationEnv(\n",
    "    df_portfolio_2022,\n",
    "    initial_amount=100000,\n",
    "    comission_fee_pct=0.0025,\n",
    "    time_window=50,\n",
    "    features=[\"close\", \"high\", \"low\"],\n",
    "    normalize_df=None\n",
    ")"
   ]
  },
  {
   "cell_type": "markdown",
   "metadata": {
    "id": "Y4RuS2pRAa4H"
   },
   "source": [
    "### Test EIIE architecture\n",
    "Now, we can test the EIIE architecture in the three different test periods. It's important no note that, in this code, we load the saved policy even though it's not necessary just to show how to save and load your model."
   ]
  },
  {
   "cell_type": "code",
   "execution_count": 27,
   "metadata": {
    "id": "JeRy__TI9CAs"
   },
   "outputs": [
    {
     "name": "stderr",
     "output_type": "stream",
     "text": [
      "C:\\Users\\bencj\\AppData\\Local\\Temp\\ipykernel_36144\\3413916171.py:11: FutureWarning: You are using `torch.load` with `weights_only=False` (the current default value), which uses the default pickle module implicitly. It is possible to construct malicious pickle data which will execute arbitrary code during unpickling (See https://github.com/pytorch/pytorch/blob/main/SECURITY.md#untrusted-models for more details). In a future release, the default value for `weights_only` will be flipped to `True`. This limits the functions that could be executed during unpickling. Arbitrary objects will no longer be allowed to be loaded via this mode unless they are explicitly allowlisted by the user via `torch.serialization.add_safe_globals`. We recommend you start setting `weights_only=True` for any use case where you don't have full control of the loaded file. Please open an issue on GitHub for any issues related to this experimental feature.\n",
      "  policy.load_state_dict(torch.load(\"policy_EIIE.pt\"))\n"
     ]
    },
    {
     "name": "stdout",
     "output_type": "stream",
     "text": [
      "=================================\n",
      "Initial portfolio value:100000\n",
      "Final portfolio value: 293901.75\n",
      "Final accumulative portfolio value: 2.9390175\n",
      "Maximum DrawDown: -0.43312804687499995\n",
      "Sharpe ratio: 1.899692770367159\n",
      "=================================\n",
      "=================================\n",
      "Initial portfolio value:100000\n",
      "Final portfolio value: 99995.015625\n",
      "Final accumulative portfolio value: 0.99995015625\n",
      "Maximum DrawDown: -0.00014039062500004196\n",
      "Sharpe ratio: -0.2945931926530416\n",
      "=================================\n",
      "=================================\n",
      "Initial portfolio value:100000\n",
      "Final portfolio value: 91590.515625\n",
      "Final accumulative portfolio value: 0.91590515625\n",
      "Maximum DrawDown: -0.15824041388692822\n",
      "Sharpe ratio: -0.623560457107519\n",
      "=================================\n"
     ]
    }
   ],
   "source": [
    "EIIE_results = {\n",
    "    \"training\": environment._asset_memory[\"final\"],\n",
    "    \"2020\": {},\n",
    "    \"2021\": {},\n",
    "    \"2022\": {}\n",
    "}\n",
    "\n",
    "# instantiate an architecture with the same arguments used in training\n",
    "# and load with load_state_dict.\n",
    "policy = EIIE(time_window=50, device=device)\n",
    "policy.load_state_dict(torch.load(\"policy_EIIE.pt\"))\n",
    "\n",
    "# 2020\n",
    "DRLAgent.DRL_validation(model, environment_2020, policy=policy)\n",
    "EIIE_results[\"2020\"][\"value\"] = environment_2020._asset_memory[\"final\"]\n",
    "\n",
    "# 2021\n",
    "DRLAgent.DRL_validation(model, environment_2021, policy=policy)\n",
    "EIIE_results[\"2021\"][\"value\"] = environment_2021._asset_memory[\"final\"]\n",
    "\n",
    "# 2022\n",
    "DRLAgent.DRL_validation(model, environment_2022, policy=policy)\n",
    "EIIE_results[\"2022\"][\"value\"] = environment_2022._asset_memory[\"final\"]"
   ]
  },
  {
   "cell_type": "markdown",
   "metadata": {
    "id": "LZc5PpbaBU-J"
   },
   "source": [
    "### Test Uniform Buy and Hold\n",
    "For comparison, we will also test the performance of a uniform buy and hold strategy. In this strategy, the portfolio has no remaining cash and the same percentage of money is allocated in each asset."
   ]
  },
  {
   "cell_type": "code",
   "execution_count": 28,
   "metadata": {
    "id": "ntHO_UIs-83T"
   },
   "outputs": [
    {
     "name": "stdout",
     "output_type": "stream",
     "text": [
      "=================================\n",
      "Initial portfolio value:100000\n",
      "Final portfolio value: 396639.90625\n",
      "Final accumulative portfolio value: 3.9663990625\n",
      "Maximum DrawDown: -0.4786383193828829\n",
      "Sharpe ratio: 0.7777371745873491\n",
      "=================================\n",
      "=================================\n",
      "Initial portfolio value:100000\n",
      "Final portfolio value: 170950.09375\n",
      "Final accumulative portfolio value: 1.7095009375\n",
      "Maximum DrawDown: -0.25078921875000004\n",
      "Sharpe ratio: 1.709803227857422\n",
      "=================================\n",
      "=================================\n",
      "Initial portfolio value:100000\n",
      "Final portfolio value: 95725.9609375\n",
      "Final accumulative portfolio value: 0.957259609375\n",
      "Maximum DrawDown: -0.17293103743226057\n",
      "Sharpe ratio: -0.15574125579324727\n",
      "=================================\n",
      "=================================\n",
      "Initial portfolio value:100000\n",
      "Final portfolio value: 113635.578125\n",
      "Final accumulative portfolio value: 1.13635578125\n",
      "Maximum DrawDown: -0.1677045312710156\n",
      "Sharpe ratio: 0.8183707286579\n",
      "=================================\n"
     ]
    }
   ],
   "source": [
    "UBAH_results = {\n",
    "    \"train\": {},\n",
    "    \"2020\": {},\n",
    "    \"2021\": {},\n",
    "    \"2022\": {}\n",
    "}\n",
    "\n",
    "PORTFOLIO_SIZE = len(TOP_BRL)\n",
    "\n",
    "# train period\n",
    "terminated = False\n",
    "environment.reset()\n",
    "while not terminated:\n",
    "    action = [0] + [1/PORTFOLIO_SIZE] * PORTFOLIO_SIZE\n",
    "    _, _, terminated, _ = environment.step(action)\n",
    "UBAH_results[\"train\"][\"value\"] = environment._asset_memory[\"final\"]\n",
    "\n",
    "# 2020\n",
    "terminated = False\n",
    "environment_2020.reset()\n",
    "while not terminated:\n",
    "    action = [0] + [1/PORTFOLIO_SIZE] * PORTFOLIO_SIZE\n",
    "    _, _, terminated, _ = environment_2020.step(action)\n",
    "UBAH_results[\"2020\"][\"value\"] = environment_2020._asset_memory[\"final\"]\n",
    "\n",
    "# 2021\n",
    "terminated = False\n",
    "environment_2021.reset()\n",
    "while not terminated:\n",
    "    action = [0] + [1/PORTFOLIO_SIZE] * PORTFOLIO_SIZE\n",
    "    _, _, terminated, _ = environment_2021.step(action)\n",
    "UBAH_results[\"2021\"][\"value\"] = environment_2021._asset_memory[\"final\"]\n",
    "\n",
    "# 2022\n",
    "terminated = False\n",
    "environment_2022.reset()\n",
    "while not terminated:\n",
    "    action = [0] + [1/PORTFOLIO_SIZE] * PORTFOLIO_SIZE\n",
    "    _, _, terminated, _ = environment_2022.step(action)\n",
    "UBAH_results[\"2022\"][\"value\"] = environment_2022._asset_memory[\"final\"]"
   ]
  },
  {
   "cell_type": "markdown",
   "metadata": {
    "id": "kBMM7hAHC6rq"
   },
   "source": [
    "### Plot graphics"
   ]
  },
  {
   "cell_type": "code",
   "execution_count": 29,
   "metadata": {
    "id": "n8YrDNpeC71w"
   },
   "outputs": [
    {
     "data": {
      "image/png": "[encoded data removed]",
      "text/plain": [
       "<Figure size 1000x600 with 1 Axes>"
      ]
     },
     "metadata": {},
     "output_type": "display_data"
    }
   ],
   "source": [
    "import matplotlib.pyplot as plt\n",
    "%matplotlib inline \n",
    "\n",
    "plt.plot(UBAH_results[\"train\"][\"value\"], label=\"Buy and Hold\")\n",
    "plt.plot(EIIE_results[\"training\"], label=\"EIIE\")\n",
    "\n",
    "plt.xlabel(\"Days\")\n",
    "plt.ylabel(\"Portfolio Value\")\n",
    "plt.title(\"Performance in training period\")\n",
    "plt.legend()\n",
    "\n",
    "plt.show()"
   ]
  },
  {
   "cell_type": "code",
   "execution_count": 30,
   "metadata": {
    "id": "dQniascoDIH2"
   },
   "outputs": [
    {
     "data": {
      "image/png": "[encoded data removed]",
      "text/plain": [
       "<Figure size 1000x600 with 1 Axes>"
      ]
     },
     "metadata": {},
     "output_type": "display_data"
    }
   ],
   "source": [
    "plt.plot(UBAH_results[\"2020\"][\"value\"], label=\"Buy and Hold\")\n",
    "plt.plot(EIIE_results[\"2020\"][\"value\"], label=\"EIIE\")\n",
    "\n",
    "plt.xlabel(\"Days\")\n",
    "plt.ylabel(\"Portfolio Value\")\n",
    "plt.title(\"Performance in 2020\")\n",
    "plt.legend()\n",
    "\n",
    "plt.show()"
   ]
  },
  {
   "cell_type": "code",
   "execution_count": 31,
   "metadata": {
    "id": "1hJtnW7QDIt2"
   },
   "outputs": [
    {
     "data": {
      "image/png": "[encoded data removed]",
      "text/plain": [
       "<Figure size 1000x600 with 1 Axes>"
      ]
     },
     "metadata": {},
     "output_type": "display_data"
    }
   ],
   "source": [
    "plt.plot(UBAH_results[\"2021\"][\"value\"], label=\"Buy and Hold\")\n",
    "plt.plot(EIIE_results[\"2021\"][\"value\"], label=\"EIIE\")\n",
    "\n",
    "plt.xlabel(\"Days\")\n",
    "plt.ylabel(\"Portfolio Value\")\n",
    "plt.title(\"Performance in 2021\")\n",
    "plt.legend()\n",
    "\n",
    "plt.show()"
   ]
  },
  {
   "cell_type": "code",
   "execution_count": 32,
   "metadata": {
    "id": "1hJD79w-DJXo"
   },
   "outputs": [
    {
     "data": {
      "image/png": "[encoded data removed]",
      "text/plain": [
       "<Figure size 1000x600 with 1 Axes>"
      ]
     },
     "metadata": {},
     "output_type": "display_data"
    }
   ],
   "source": [
    "plt.plot(UBAH_results[\"2022\"][\"value\"], label=\"Buy and Hold\")\n",
    "plt.plot(EIIE_results[\"2022\"][\"value\"], label=\"EIIE\")\n",
    "\n",
    "plt.xlabel(\"Days\")\n",
    "plt.ylabel(\"Portfolio Value\")\n",
    "plt.title(\"Performance in 2022\")\n",
    "plt.legend()\n",
    "\n",
    "plt.show()"
   ]
  },
  {
   "cell_type": "markdown",
   "metadata": {},
   "source": [
    "We can see that the agent is able to learn a good policy but its performance is worse the more the test period advances into the future. To get a better performance in 2022, for example, the agent should probably be trained again using more recent data."
   ]
  }
 ],
 "metadata": {
  "accelerator": "GPU",
  "colab": {
   "gpuType": "T4",
   "provenance": []
  },
  "kernelspec": {
   "display_name": ".venv",
   "language": "python",
   "name": "python3"
  },
  "language_info": {
   "codemirror_mode": {
    "name": "ipython",
    "version": 3
   },
   "file_extension": ".py",
   "mimetype": "text/x-python",
   "name": "python",
   "nbconvert_exporter": "python",
   "pygments_lexer": "ipython3",
   "version": "3.10.0"
  },
  "widgets": {
   "application/vnd.jupyter.widget-state+json": {
    "1f84695a1caf4c80b29eb5eea90bb29a": {
     "model_module": "@jupyter-widgets/base",
     "model_module_version": "1.2.0",
     "model_name": "LayoutModel",
     "state": {
      "_model_module": "@jupyter-widgets/base",
      "_model_module_version": "1.2.0",
      "_model_name": "LayoutModel",
      "_view_count": null,
      "_view_module": "@jupyter-widgets/base",
      "_view_module_version": "1.2.0",
      "_view_name": "LayoutView",
      "align_content": null,
      "align_items": null,
      "align_self": null,
      "border": null,
      "bottom": null,
      "display": null,
      "flex": null,
      "flex_flow": null,
      "grid_area": null,
      "grid_auto_columns": null,
      "grid_auto_flow": null,
      "grid_auto_rows": null,
      "grid_column": null,
      "grid_gap": null,
      "grid_row": null,
      "grid_template_areas": null,
      "grid_template_columns": null,
      "grid_template_rows": null,
      "height": null,
      "justify_content": null,
      "justify_items": null,
      "left": null,
      "margin": null,
      "max_height": null,
      "max_width": null,
      "min_height": null,
      "min_width": null,
      "object_fit": null,
      "object_position": null,
      "order": null,
      "overflow": null,
      "overflow_x": null,
      "overflow_y": null,
      "padding": null,
      "right": null,
      "top": null,
      "visibility": null,
      "width": null
     }
    },
    "317393fb13c0449abfff29a4949553a0": {
     "model_module": "@jupyter-widgets/controls",
     "model_module_version": "1.5.0",
     "model_name": "HTMLModel",
     "state": {
      "_dom_classes": [],
      "_model_module": "@jupyter-widgets/controls",
      "_model_module_version": "1.5.0",
      "_model_name": "HTMLModel",
      "_view_count": null,
      "_view_module": "@jupyter-widgets/controls",
      "_view_module_version": "1.5.0",
      "_view_name": "HTMLView",
      "description": "",
      "description_tooltip": null,
      "layout": "IPY_MODEL_1f84695a1caf4c80b29eb5eea90bb29a",
      "placeholder": "​",
      "style": "IPY_MODEL_a7a6884bfdb642b9b342f7cda49d7d67",
      "value": " 10/250 [05:53&lt;2:10:07, 32.53s/it]"
     }
    },
    "4b2aa7128c5d4d15bb794eb76faccd6a": {
     "model_module": "@jupyter-widgets/controls",
     "model_module_version": "1.5.0",
     "model_name": "FloatProgressModel",
     "state": {
      "_dom_classes": [],
      "_model_module": "@jupyter-widgets/controls",
      "_model_module_version": "1.5.0",
      "_model_name": "FloatProgressModel",
      "_view_count": null,
      "_view_module": "@jupyter-widgets/controls",
      "_view_module_version": "1.5.0",
      "_view_name": "ProgressView",
      "bar_style": "danger",
      "description": "",
      "description_tooltip": null,
      "layout": "IPY_MODEL_6a1187acb99d44c68e27cd5aad879ff1",
      "max": 250,
      "min": 0,
      "orientation": "horizontal",
      "style": "IPY_MODEL_6a5c9dbaddc441d390d4827c170cbe9c",
      "value": 10
     }
    },
    "6a1187acb99d44c68e27cd5aad879ff1": {
     "model_module": "@jupyter-widgets/base",
     "model_module_version": "1.2.0",
     "model_name": "LayoutModel",
     "state": {
      "_model_module": "@jupyter-widgets/base",
      "_model_module_version": "1.2.0",
      "_model_name": "LayoutModel",
      "_view_count": null,
      "_view_module": "@jupyter-widgets/base",
      "_view_module_version": "1.2.0",
      "_view_name": "LayoutView",
      "align_content": null,
      "align_items": null,
      "align_self": null,
      "border": null,
      "bottom": null,
      "display": null,
      "flex": null,
      "flex_flow": null,
      "grid_area": null,
      "grid_auto_columns": null,
      "grid_auto_flow": null,
      "grid_auto_rows": null,
      "grid_column": null,
      "grid_gap": null,
      "grid_row": null,
      "grid_template_areas": null,
      "grid_template_columns": null,
      "grid_template_rows": null,
      "height": null,
      "justify_content": null,
      "justify_items": null,
      "left": null,
      "margin": null,
      "max_height": null,
      "max_width": null,
      "min_height": null,
      "min_width": null,
      "object_fit": null,
      "object_position": null,
      "order": null,
      "overflow": null,
      "overflow_x": null,
      "overflow_y": null,
      "padding": null,
      "right": null,
      "top": null,
      "visibility": null,
      "width": null
     }
    },
    "6a5c9dbaddc441d390d4827c170cbe9c": {
     "model_module": "@jupyter-widgets/controls",
     "model_module_version": "1.5.0",
     "model_name": "ProgressStyleModel",
     "state": {
      "_model_module": "@jupyter-widgets/controls",
      "_model_module_version": "1.5.0",
      "_model_name": "ProgressStyleModel",
      "_view_count": null,
      "_view_module": "@jupyter-widgets/base",
      "_view_module_version": "1.2.0",
      "_view_name": "StyleView",
      "bar_color": null,
      "description_width": ""
     }
    },
    "750b2ea28d2a439db3fc5034927dbce2": {
     "model_module": "@jupyter-widgets/controls",
     "model_module_version": "1.5.0",
     "model_name": "HBoxModel",
     "state": {
      "_dom_classes": [],
      "_model_module": "@jupyter-widgets/controls",
      "_model_module_version": "1.5.0",
      "_model_name": "HBoxModel",
      "_view_count": null,
      "_view_module": "@jupyter-widgets/controls",
      "_view_module_version": "1.5.0",
      "_view_name": "HBoxView",
      "box_style": "",
      "children": [
       "IPY_MODEL_c172e120fc5e4f9ab13bf8599d868b5f",
       "IPY_MODEL_4b2aa7128c5d4d15bb794eb76faccd6a",
       "IPY_MODEL_317393fb13c0449abfff29a4949553a0"
      ],
      "layout": "IPY_MODEL_8cb75a82e5374c51b1f47a6e15783177"
     }
    },
    "8cb75a82e5374c51b1f47a6e15783177": {
     "model_module": "@jupyter-widgets/base",
     "model_module_version": "1.2.0",
     "model_name": "LayoutModel",
     "state": {
      "_model_module": "@jupyter-widgets/base",
      "_model_module_version": "1.2.0",
      "_model_name": "LayoutModel",
      "_view_count": null,
      "_view_module": "@jupyter-widgets/base",
      "_view_module_version": "1.2.0",
      "_view_name": "LayoutView",
      "align_content": null,
      "align_items": null,
      "align_self": null,
      "border": null,
      "bottom": null,
      "display": null,
      "flex": null,
      "flex_flow": null,
      "grid_area": null,
      "grid_auto_columns": null,
      "grid_auto_flow": null,
      "grid_auto_rows": null,
      "grid_column": null,
      "grid_gap": null,
      "grid_row": null,
      "grid_template_areas": null,
      "grid_template_columns": null,
      "grid_template_rows": null,
      "height": null,
      "justify_content": null,
      "justify_items": null,
      "left": null,
      "margin": null,
      "max_height": null,
      "max_width": null,
      "min_height": null,
      "min_width": null,
      "object_fit": null,
      "object_position": null,
      "order": null,
      "overflow": null,
      "overflow_x": null,
      "overflow_y": null,
      "padding": null,
      "right": null,
      "top": null,
      "visibility": null,
      "width": null
     }
    },
    "9cb3d937be5d4f7cac192b392218ef37": {
     "model_module": "@jupyter-widgets/base",
     "model_module_version": "1.2.0",
     "model_name": "LayoutModel",
     "state": {
      "_model_module": "@jupyter-widgets/base",
      "_model_module_version": "1.2.0",
      "_model_name": "LayoutModel",
      "_view_count": null,
      "_view_module": "@jupyter-widgets/base",
      "_view_module_version": "1.2.0",
      "_view_name": "LayoutView",
      "align_content": null,
      "align_items": null,
      "align_self": null,
      "border": null,
      "bottom": null,
      "display": null,
      "flex": null,
      "flex_flow": null,
      "grid_area": null,
      "grid_auto_columns": null,
      "grid_auto_flow": null,
      "grid_auto_rows": null,
      "grid_column": null,
      "grid_gap": null,
      "grid_row": null,
      "grid_template_areas": null,
      "grid_template_columns": null,
      "grid_template_rows": null,
      "height": null,
      "justify_content": null,
      "justify_items": null,
      "left": null,
      "margin": null,
      "max_height": null,
      "max_width": null,
      "min_height": null,
      "min_width": null,
      "object_fit": null,
      "object_position": null,
      "order": null,
      "overflow": null,
      "overflow_x": null,
      "overflow_y": null,
      "padding": null,
      "right": null,
      "top": null,
      "visibility": null,
      "width": null
     }
    },
    "a7a6884bfdb642b9b342f7cda49d7d67": {
     "model_module": "@jupyter-widgets/controls",
     "model_module_version": "1.5.0",
     "model_name": "DescriptionStyleModel",
     "state": {
      "_model_module": "@jupyter-widgets/controls",
      "_model_module_version": "1.5.0",
      "_model_name": "DescriptionStyleModel",
      "_view_count": null,
      "_view_module": "@jupyter-widgets/base",
      "_view_module_version": "1.2.0",
      "_view_name": "StyleView",
      "description_width": ""
     }
    },
    "b27b9cc333ac44a5bb2cec60d02f16c0": {
     "model_module": "@jupyter-widgets/controls",
     "model_module_version": "1.5.0",
     "model_name": "DescriptionStyleModel",
     "state": {
      "_model_module": "@jupyter-widgets/controls",
      "_model_module_version": "1.5.0",
      "_model_name": "DescriptionStyleModel",
      "_view_count": null,
      "_view_module": "@jupyter-widgets/base",
      "_view_module_version": "1.2.0",
      "_view_name": "StyleView",
      "description_width": ""
     }
    },
    "c172e120fc5e4f9ab13bf8599d868b5f": {
     "model_module": "@jupyter-widgets/controls",
     "model_module_version": "1.5.0",
     "model_name": "HTMLModel",
     "state": {
      "_dom_classes": [],
      "_model_module": "@jupyter-widgets/controls",
      "_model_module_version": "1.5.0",
      "_model_name": "HTMLModel",
      "_view_count": null,
      "_view_module": "@jupyter-widgets/controls",
      "_view_module_version": "1.5.0",
      "_view_name": "HTMLView",
      "description": "",
      "description_tooltip": null,
      "layout": "IPY_MODEL_9cb3d937be5d4f7cac192b392218ef37",
      "placeholder": "​",
      "style": "IPY_MODEL_b27b9cc333ac44a5bb2cec60d02f16c0",
      "value": "  4%"
     }
    }
   }
  }
 },
 "nbformat": 4,
 "nbformat_minor": 1
}
