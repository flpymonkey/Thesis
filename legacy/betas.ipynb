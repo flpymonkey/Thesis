{
 "cells": [
  {
   "cell_type": "code",
   "execution_count": 2,
   "metadata": {},
   "outputs": [],
   "source": [
    "import yfinance as yf\n",
    "import pandas as pd\n",
    "import numpy as np\n",
    "\n",
    "# Define the ticker symbol\n",
    "ticker_symbol = 'AAPL'  # Example: Apple Inc.\n",
    "\n",
    "TEST_START_DATE = '2011-01-01'\n",
    "TEST_END_DATE = '2022-10-01'\n",
    "\n",
    "\n"
   ]
  },
  {
   "cell_type": "code",
   "execution_count": null,
   "metadata": {},
   "outputs": [
    {
     "name": "stdout",
     "output_type": "stream",
     "text": [
      "     ticker permno       month         beta_monthly       date   tic\n",
      "0      MSFT  10107  1990-03-01   1.3940595837724659 1990-03-01  MSFT\n",
      "1      MSFT  10107  1990-04-01    1.381873027955774 1990-04-01  MSFT\n",
      "2      MSFT  10107  1990-05-01    1.431461915013959 1990-05-01  MSFT\n",
      "3      MSFT  10107  1990-06-01    1.430795646350484 1990-06-01  MSFT\n",
      "4      MSFT  10107  1990-07-01   1.4548354982380056 1990-07-01  MSFT\n",
      "...     ...    ...         ...                  ...        ...   ...\n",
      "1049    IBM  12490  2013-08-01   0.6762984733496086 2013-08-01   IBM\n",
      "1050    IBM  12490  2013-09-01   0.6844924160720623 2013-09-01   IBM\n",
      "1051    IBM  12490  2013-10-01   0.5463170573827856 2013-10-01   IBM\n",
      "1052    IBM  12490  2013-11-01   0.4853235103051581 2013-11-01   IBM\n",
      "1053    IBM  12490  2013-12-01  0.48726470248083065 2013-12-01   IBM\n",
      "\n",
      "[1054 rows x 6 columns]\n"
     ]
    }
   ],
   "source": [
    "permnos = {\n",
    "    # \"AMGN\": \"10321\",\n",
    "    \"AAPL\": \"10001\",\n",
    "    # \"HON\": \"10245\", # TODO HAs NAN for at so I am leaving it out\n",
    "    \"MSFT\": \"10107\",\n",
    "    # \"NKE\": \"10387\",\n",
    "    # \"V\": \"10412\",\n",
    "    \"IBM\": \"12490\",\n",
    "    # \"INTC\": \"12585\",\n",
    "    # \"WMT\": \"12576\",\n",
    "    \"BA\": \"12572\",\n",
    "    \"PG\": \"12590\"\n",
    "}\n",
    "\n",
    "\n",
    "# Read the CSV file into a DataFrame\n",
    "beta_data = pd.read_csv(\"../beta_data.csv\", dtype=str)\n",
    "\n",
    "\n",
    "beta_data['date'] = pd.to_datetime(beta_data['date'])\n",
    "# Display the DataFrame\n",
    "\n",
    "# Convert the dictionary to a DataFrame \n",
    "df = pd.DataFrame(list(permnos.items()), columns=['ticker', 'permno'])\n",
    "\n",
    "\n",
    "\n",
    "merged_df_beta = pd.merge(df, beta_data, on='permno', how='inner')\n",
    "\n",
    "merged_df_beta['tic'] = merged_df_beta['ticker']\n",
    "\n",
    "print(merged_df_beta)"
   ]
  },
  {
   "cell_type": "code",
   "execution_count": 93,
   "metadata": {},
   "outputs": [
    {
     "name": "stdout",
     "output_type": "stream",
     "text": [
      "    tic  counts\n",
      "0   IBM     648\n",
      "1  MSFT     406\n"
     ]
    }
   ],
   "source": [
    "# Count the number of occurrences of each value in the 'category' column\n",
    "value_counts = merged_df_beta.groupby('tic').size().reset_index(name='counts')\n",
    "\n",
    "# Display the resulting DataFrame\n",
    "print(value_counts)"
   ]
  },
  {
   "cell_type": "code",
   "execution_count": 94,
   "metadata": {},
   "outputs": [
    {
     "name": "stdout",
     "output_type": "stream",
     "text": [
      "    tic        min        max\n",
      "0   IBM 1964-01-01 2021-11-01\n",
      "1  MSFT 1990-03-01 2023-12-01\n"
     ]
    }
   ],
   "source": [
    "grouped = merged_df_beta.groupby('tic')['date'].agg(['min', 'max']).reset_index()\n",
    "print(grouped)"
   ]
  },
  {
   "cell_type": "markdown",
   "metadata": {},
   "source": [
    "# Now set up RL training"
   ]
  },
  {
   "cell_type": "code",
   "execution_count": 95,
   "metadata": {},
   "outputs": [],
   "source": [
    "import warnings\n",
    "warnings.filterwarnings(\"ignore\")\n",
    "\n",
    "import pandas as pd\n",
    "import numpy as np\n",
    "import matplotlib\n",
    "import matplotlib.pyplot as plt\n",
    "# matplotlib.use('Agg')\n",
    "import datetime\n",
    "\n",
    "%matplotlib inline\n",
    "\n",
    "# from finrl.agents.portfolio_optimization.architectures import EIIE\n",
    "\n",
    "from finrl.plot import backtest_stats, backtest_plot, get_daily_return, get_baseline\n",
    "\n",
    "from pprint import pprint\n",
    "\n",
    "# import sys\n",
    "# sys.path.append(\"../FinRL-Library\")\n",
    "\n",
    "import itertools"
   ]
  },
  {
   "cell_type": "code",
   "execution_count": 96,
   "metadata": {},
   "outputs": [],
   "source": [
    "import os\n",
    "from finrl.main import check_and_make_directories\n",
    "from finrl.config import (\n",
    "    DATA_SAVE_DIR,\n",
    "    TRAINED_MODEL_DIR,\n",
    "    TENSORBOARD_LOG_DIR,\n",
    "    RESULTS_DIR,\n",
    "    INDICATORS,\n",
    "    TRAIN_START_DATE,\n",
    "    TRAIN_END_DATE,\n",
    "    TEST_START_DATE,\n",
    "    TEST_END_DATE,\n",
    "    TRADE_START_DATE,\n",
    "    TRADE_END_DATE,\n",
    ")\n",
    "\n",
    "check_and_make_directories([DATA_SAVE_DIR, TRAINED_MODEL_DIR, TENSORBOARD_LOG_DIR, RESULTS_DIR])"
   ]
  },
  {
   "cell_type": "code",
   "execution_count": 97,
   "metadata": {},
   "outputs": [
    {
     "name": "stderr",
     "output_type": "stream",
     "text": [
      "[*********************100%***********************]  1 of 1 completed\n",
      "[*********************100%***********************]  1 of 1 completed\n",
      "[*********************100%***********************]  1 of 1 completed\n",
      "[*********************100%***********************]  1 of 1 completed\n",
      "[*********************100%***********************]  1 of 1 completed\n",
      "[*********************100%***********************]  1 of 1 completed\n",
      "[*********************100%***********************]  1 of 1 completed\n",
      "[*********************100%***********************]  1 of 1 completed\n",
      "[*********************100%***********************]  1 of 1 completed\n",
      "[*********************100%***********************]  1 of 1 completed\n",
      "[*********************100%***********************]  1 of 1 completed\n",
      "[*********************100%***********************]  1 of 1 completed\n",
      "[*********************100%***********************]  1 of 1 completed\n",
      "[*********************100%***********************]  1 of 1 completed\n",
      "[*********************100%***********************]  1 of 1 completed\n",
      "[*********************100%***********************]  1 of 1 completed\n",
      "[*********************100%***********************]  1 of 1 completed\n",
      "[*********************100%***********************]  1 of 1 completed\n",
      "[*********************100%***********************]  1 of 1 completed\n",
      "[*********************100%***********************]  1 of 1 completed\n",
      "[*********************100%***********************]  1 of 1 completed\n",
      "[*********************100%***********************]  1 of 1 completed\n",
      "[*********************100%***********************]  1 of 1 completed\n",
      "[*********************100%***********************]  1 of 1 completed\n",
      "[*********************100%***********************]  1 of 1 completed\n",
      "[*********************100%***********************]  1 of 1 completed\n",
      "[*********************100%***********************]  1 of 1 completed\n",
      "[*********************100%***********************]  1 of 1 completed\n",
      "[*********************100%***********************]  1 of 1 completed\n",
      "[*********************100%***********************]  1 of 1 completed\n",
      "\n",
      "1 Failed download:\n",
      "['DOW']: YFPricesMissingError('$%ticker%: possibly delisted; no price data found  (1d 2001-01-01 -> 2017-07-01) (Yahoo error = \"Data doesn\\'t exist for startDate = 978325200, endDate = 1498881600\")')\n"
     ]
    },
    {
     "name": "stdout",
     "output_type": "stream",
     "text": [
      "Shape of DataFrame:  (117669, 8)\n"
     ]
    }
   ],
   "source": [
    "TRAIN_START_DATE = '2001-01-01'\n",
    "TRAIN_END_DATE = '2015-12-31'\n",
    "TEST_START_DATE = '2016-01-01'\n",
    "TEST_END_DATE = '2017-07-01'\n",
    "\n",
    "\n",
    "from finrl.meta.preprocessor.yahoodownloader import YahooDownloader\n",
    "from finrl.config_tickers import DOW_30_TICKER\n",
    "\n",
    "\n",
    "# No time window needed for PPO\n",
    "# TIME_WINDOW = 25\n",
    "COMMISSION_FEE_PERCENT = 0.001\n",
    "INITIAL_CASH = 1000000\n",
    "\n",
    "raw_df = YahooDownloader(start_date = TRAIN_START_DATE,\n",
    "                     end_date = TEST_END_DATE,\n",
    "                     ticker_list = DOW_30_TICKER).fetch_data()"
   ]
  },
  {
   "cell_type": "code",
   "execution_count": 98,
   "metadata": {},
   "outputs": [
    {
     "name": "stdout",
     "output_type": "stream",
     "text": [
      "              date        open        high         low       close     volume  \\\n",
      "0       2001-01-02    0.265625    0.272321    0.260045    0.224067  452312000   \n",
      "1       2001-01-02   65.875000   66.500000   62.375000   44.570110    6449200   \n",
      "2       2001-01-02   47.703850   47.867970   45.132656   32.608456    4394265   \n",
      "3       2001-01-02   65.312500   65.312500   60.562500   40.507774    3762500   \n",
      "4       2001-01-02   23.625000   23.625000   22.812500   12.591929    3285000   \n",
      "...            ...         ...         ...         ...         ...        ...   \n",
      "117664  2017-06-30  185.149994  186.190002  184.929993  166.607086    2392000   \n",
      "117665  2017-06-30   94.379997   94.620003   93.779999   89.051460    9036600   \n",
      "117666  2017-06-30   44.619999   44.750000   44.360001   30.279640   13368900   \n",
      "117667  2017-06-30   79.500000   79.589996   77.139999   57.461819    7097300   \n",
      "117668  2017-06-30   25.360001   25.423332   25.223333   22.200115   20889900   \n",
      "\n",
      "         tic  day  \n",
      "0       AAPL    1  \n",
      "1       AMGN    1  \n",
      "2        AXP    1  \n",
      "3         BA    1  \n",
      "4        CAT    1  \n",
      "...      ...  ...  \n",
      "117664   UNH    4  \n",
      "117665     V    4  \n",
      "117666    VZ    4  \n",
      "117667   WBA    4  \n",
      "117668   WMT    4  \n",
      "\n",
      "[117669 rows x 8 columns]\n"
     ]
    }
   ],
   "source": [
    "print(raw_df)"
   ]
  },
  {
   "cell_type": "code",
   "execution_count": 99,
   "metadata": {},
   "outputs": [
    {
     "name": "stdout",
     "output_type": "stream",
     "text": [
      "           date       open       high        low      close     volume   tic  \\\n",
      "0    2001-01-02  80.783936  83.652008  80.425430  43.262703    8375531   IBM   \n",
      "1    2001-01-02  22.062500  22.500000  21.437500  13.372381   82413200  MSFT   \n",
      "2    2001-01-03  80.066925  90.822182  80.066925  48.268028   13357315   IBM   \n",
      "3    2001-01-03  21.593750  24.437500  21.562500  14.778985  135962200  MSFT   \n",
      "4    2001-01-04  90.583176  95.363289  88.611374  47.534782   16129843   IBM   \n",
      "...         ...        ...        ...        ...        ...        ...   ...   \n",
      "7414 2017-06-26  71.400002  71.709999  70.440002  64.805046   19607000  MSFT   \n",
      "7415 2017-06-27  70.110001  70.180000  69.180000  63.592216   25215100  MSFT   \n",
      "7416 2017-06-28  69.209999  69.839996  68.790001  64.134323   25806200  MSFT   \n",
      "7417 2017-06-29  69.379997  69.489998  68.089996  62.930656   28918700  MSFT   \n",
      "7418 2017-06-30  68.779999  69.379997  68.739998  63.334953   24161100  MSFT   \n",
      "\n",
      "            beta_monthly  \n",
      "0     1.1070322900994822  \n",
      "1       1.72549210885349  \n",
      "2     1.1070322900994822  \n",
      "3       1.72549210885349  \n",
      "4     1.1070322900994822  \n",
      "...                  ...  \n",
      "7414  0.8529972496758229  \n",
      "7415  0.8529972496758229  \n",
      "7416  0.8529972496758229  \n",
      "7417  0.8529972496758229  \n",
      "7418  0.8529972496758229  \n",
      "\n",
      "[7419 rows x 8 columns]\n",
      "date            datetime64[ns]\n",
      "open                   float64\n",
      "high                   float64\n",
      "low                    float64\n",
      "close                  float64\n",
      "volume                   int64\n",
      "tic                     object\n",
      "beta_monthly           float64\n",
      "dtype: object\n"
     ]
    }
   ],
   "source": [
    "# Floor the months\n",
    "raw_df['date'] = pd.to_datetime(raw_df['date'])\n",
    "\n",
    "# Create new columns 'year_month' with just the year and month \n",
    "raw_df['year_month'] = raw_df['date'].dt.to_period('M').dt.to_timestamp() \n",
    "merged_df_beta['year_month'] = merged_df_beta['date'].dt.to_period('M').dt.to_timestamp() \n",
    "# Perform an inner join on the 'year_month' \n",
    "joined_at_raw = pd.merge(raw_df, merged_df_beta, on=['tic', 'year_month'], how='inner')\n",
    "\n",
    "joined_at_raw = joined_at_raw[['date_x', 'open', 'high', 'low', 'close', 'volume', 'tic', 'beta_monthly']]\n",
    "joined_at_raw.rename(columns={'date_x': 'date'}, inplace=True)\n",
    "print(joined_at_raw)\n",
    "\n",
    "joined_at_raw['beta_monthly'] = joined_at_raw['beta_monthly'].astype(float)\n",
    "print(joined_at_raw.dtypes)"
   ]
  },
  {
   "cell_type": "code",
   "execution_count": 100,
   "metadata": {},
   "outputs": [
    {
     "name": "stdout",
     "output_type": "stream",
     "text": [
      "Number of rows with NaN values: 0\n"
     ]
    }
   ],
   "source": [
    "nan_rows_count = joined_at_raw.isna().any(axis=1).sum()\n",
    "print(f'Number of rows with NaN values: {nan_rows_count}')\n",
    "assert nan_rows_count == 0"
   ]
  },
  {
   "cell_type": "code",
   "execution_count": 101,
   "metadata": {},
   "outputs": [
    {
     "name": "stdout",
     "output_type": "stream",
     "text": [
      "    tic  counts\n",
      "0   IBM    3269\n",
      "1  MSFT    4150\n"
     ]
    }
   ],
   "source": [
    "import pandas as pd\n",
    "\n",
    "# Count the number of occurrences of each value in the 'category' column\n",
    "value_counts = joined_at_raw.groupby('tic').size().reset_index(name='counts')\n",
    "\n",
    "# Display the resulting DataFrame\n",
    "print(value_counts)\n"
   ]
  },
  {
   "cell_type": "code",
   "execution_count": 102,
   "metadata": {},
   "outputs": [
    {
     "name": "stdout",
     "output_type": "stream",
     "text": [
      "Range of 'beta_monthly' values: min=0.4853235103051581, max=1.72549210885349\n",
      "\n",
      "Outliers in 'beta_monthly' column:\n",
      "Empty DataFrame\n",
      "Columns: [date, open, high, low, close, volume, tic, beta_monthly]\n",
      "Index: []\n"
     ]
    }
   ],
   "source": [
    "import pandas as pd\n",
    "\n",
    "\n",
    "import pandas as pd\n",
    "\n",
    "\n",
    "# Specify the column of interest\n",
    "column = 'beta_monthly'\n",
    "\n",
    "# Calculate the range of column values\n",
    "column_min = joined_at_raw[column].min()\n",
    "column_max = joined_at_raw[column].max()\n",
    "\n",
    "# Display the range of column values\n",
    "print(f\"Range of '{column}' values: min={column_min}, max={column_max}\")\n",
    "\n",
    "# Identify outliers using the IQR method\n",
    "Q1 = joined_at_raw[column].quantile(0.25)\n",
    "Q3 = joined_at_raw[column].quantile(0.75)\n",
    "IQR = Q3 - Q1\n",
    "\n",
    "# Define outliers as values below Q1 - 1.5*IQR or above Q3 + 1.5*IQR\n",
    "outliers = joined_at_raw[(joined_at_raw[column] < (Q1 - 1.5 * IQR)) | (joined_at_raw[column] > (Q3 + 1.5 * IQR))]\n",
    "\n",
    "# Display the outliers\n",
    "print(f\"\\nOutliers in '{column}' column:\")\n",
    "print(outliers)\n",
    "\n"
   ]
  },
  {
   "cell_type": "code",
   "execution_count": null,
   "metadata": {},
   "outputs": [],
   "source": []
  }
 ],
 "metadata": {
  "kernelspec": {
   "display_name": ".venv",
   "language": "python",
   "name": "python3"
  },
  "language_info": {
   "codemirror_mode": {
    "name": "ipython",
    "version": 3
   },
   "file_extension": ".py",
   "mimetype": "text/x-python",
   "name": "python",
   "nbconvert_exporter": "python",
   "pygments_lexer": "ipython3",
   "version": "3.10.0"
  }
 },
 "nbformat": 4,
 "nbformat_minor": 2
}
