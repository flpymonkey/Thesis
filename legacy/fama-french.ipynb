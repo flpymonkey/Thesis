{
 "cells": [
  {
   "cell_type": "code",
   "execution_count": 4,
   "metadata": {},
   "outputs": [
    {
     "name": "stdout",
     "output_type": "stream",
     "text": [
      "Index(['date', 'Mkt-RF', 'SMB', 'HML', 'RF'], dtype='object')\n",
      "       date  Mkt-RF   SMB   HML     RF\n",
      "0  19260701    0.10 -0.25 -0.27  0.009\n",
      "1  19260702    0.45 -0.33 -0.06  0.009\n",
      "2  19260706    0.17  0.30 -0.39  0.009\n",
      "3  19260707    0.09 -0.58  0.02  0.009\n",
      "4  19260708    0.21 -0.38  0.19  0.009\n",
      "Number of rows with NaT in 'date' column: 1\n",
      "        date       rf     rme\n",
      "0 1926-07-01  0.00009  0.0010\n",
      "1 1926-07-02  0.00009  0.0045\n",
      "2 1926-07-06  0.00009  0.0017\n",
      "3 1926-07-07  0.00009  0.0009\n",
      "4 1926-07-08  0.00009  0.0021\n"
     ]
    }
   ],
   "source": [
    "import pandas as pd\n",
    "import yfinance as yf\n",
    "from datetime import datetime\n",
    "\n",
    "# Function to download Fama/French 3 Factors data\n",
    "def download_french_data():\n",
    "    url = \"https://mba.tuck.dartmouth.edu/pages/faculty/ken.french/ftp/F-F_Research_Data_Factors_daily_CSV.zip\"\n",
    "    ff3 = pd.read_csv(url, skiprows=3)\n",
    "    ff3.columns = ff3.columns.str.strip()\n",
    "    return ff3\n",
    "\n",
    "# Download the data\n",
    "ff3 = download_french_data()\n",
    "\n",
    "ff3.rename(columns={'Unnamed: 0': 'date'}, inplace=True)\n",
    "\n",
    "print(ff3.columns)\n",
    "print(ff3.head())\n",
    "\n",
    "# Convert the date column to datetime and format it\n",
    "ff3['date'] = pd.to_datetime(ff3['date'], format='%Y%m%d', errors='coerce')\n",
    "\n",
    "# TODO Seems fine\n",
    "num_nat_rows = ff3['date'].isna().sum()\n",
    "print(f\"Number of rows with NaT in 'date' column: {num_nat_rows}\")\n",
    "\n",
    "# Drop rows where 'date' is NaT\n",
    "ff3 = ff3.dropna(subset=['date'])\n",
    "\n",
    "# Convert the relevant columns to numeric and scale them\n",
    "ff3[['RF', 'Mkt-RF', 'SMB', 'HML']] = ff3[['RF', 'Mkt-RF', 'SMB', 'HML']].apply(lambda x: pd.to_numeric(x, errors='coerce') / 100)\n",
    "\n",
    "# Rename columns to lowercase and rename 'Mkt-RF' to 'rme'\n",
    "ff3 = ff3.rename(columns=str.lower).rename(columns={'mkt-rf': 'rme'})\n",
    "\n",
    "# Select the relevant columns and filter by date\n",
    "ff3 = ff3[['date', 'rf', 'rme']].query('date <= \"2024-12-31\"')\n",
    "\n",
    "print(ff3.head())\n"
   ]
  }
 ],
 "metadata": {
  "kernelspec": {
   "display_name": ".venv",
   "language": "python",
   "name": "python3"
  },
  "language_info": {
   "codemirror_mode": {
    "name": "ipython",
    "version": 3
   },
   "file_extension": ".py",
   "mimetype": "text/x-python",
   "name": "python",
   "nbconvert_exporter": "python",
   "pygments_lexer": "ipython3",
   "version": "3.10.0"
  }
 },
 "nbformat": 4,
 "nbformat_minor": 2
}
