{
 "cells": [
  {
   "cell_type": "markdown",
   "metadata": {},
   "source": [
    "# Reading notes: POE: A General Portfolio Optimization Environment forFinRL\n",
    "\n",
    "https://sol.sbc.org.br/index.php/bwaif/article/view/24959/24780"
   ]
  },
  {
   "cell_type": "markdown",
   "metadata": {},
   "source": [
    "Another assumption made is that the problem can be modeled as a Markov de-\n",
    "cision process (MDP) [Sutton and Barto 2018] and therefore has the Markov property,\n",
    "which states that every information necessary by the agent to achieve the optimal policy\n",
    "is observable by the agent in the state space. In the real world, considering the complexity\n",
    "of the trading market, the Markov property might not be the best assumption, which would\n",
    "force the modeling of a partially observable Markov decision process (POMDP)"
   ]
  }
 ],
 "metadata": {
  "language_info": {
   "name": "python"
  }
 },
 "nbformat": 4,
 "nbformat_minor": 2
}
